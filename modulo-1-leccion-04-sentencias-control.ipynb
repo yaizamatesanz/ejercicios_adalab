{
 "cells": [
  {
   "cell_type": "markdown",
   "metadata": {
    "toc": true
   },
   "source": [
    "<h1>Table of Contents<span class=\"tocSkip\"></span></h1>\n",
    "<div class=\"toc\"><ul class=\"toc-item\"><li><span><a href=\"#Comparaciones\" data-toc-modified-id=\"Comparaciones-1\"><span class=\"toc-item-num\">1&nbsp;&nbsp;</span>Comparaciones</a></span></li><li><span><a href=\"#¿Qué-es-el-control-flow-o-control-de-flujo?\" data-toc-modified-id=\"¿Qué-es-el-control-flow-o-control-de-flujo?-2\"><span class=\"toc-item-num\">2&nbsp;&nbsp;</span>¿Qué es el control flow o control de flujo?</a></span></li><li><span><a href=\"#Estructuras-de-selcción:\" data-toc-modified-id=\"Estructuras-de-selcción:-3\"><span class=\"toc-item-num\">3&nbsp;&nbsp;</span>Estructuras de selcción:</a></span><ul class=\"toc-item\"><li><span><a href=\"#La-función-if\" data-toc-modified-id=\"La-función-if-3.1\"><span class=\"toc-item-num\">3.1&nbsp;&nbsp;</span>La función <code>if</code></a></span></li><li><span><a href=\"#If-...-else-...\" data-toc-modified-id=\"If-...-else-...-3.2\"><span class=\"toc-item-num\">3.2&nbsp;&nbsp;</span>If ... else ...</a></span></li><li><span><a href=\"#If-...-elif-...-else\" data-toc-modified-id=\"If-...-elif-...-else-3.3\"><span class=\"toc-item-num\">3.3&nbsp;&nbsp;</span>If ... elif ... else</a></span></li><li><span><a href=\"#If-anidados\" data-toc-modified-id=\"If-anidados-3.4\"><span class=\"toc-item-num\">3.4&nbsp;&nbsp;</span>If anidados</a></span></li><li><span><a href=\"#Condiciones-múltiples\" data-toc-modified-id=\"Condiciones-múltiples-3.5\"><span class=\"toc-item-num\">3.5&nbsp;&nbsp;</span>Condiciones múltiples</a></span></li><li><span><a href=\"#Repaso:-Condicionales-if-...-elif-...-else\" data-toc-modified-id=\"Repaso:-Condicionales-if-...-elif-...-else-3.6\"><span class=\"toc-item-num\">3.6&nbsp;&nbsp;</span>Repaso: Condicionales if ... elif ... else</a></span></li></ul></li><li><span><a href=\"#Estructuras-de-iteración\" data-toc-modified-id=\"Estructuras-de-iteración-4\"><span class=\"toc-item-num\">4&nbsp;&nbsp;</span>Estructuras de iteración</a></span><ul class=\"toc-item\"><li><span><a href=\"#while\" data-toc-modified-id=\"while-4.1\"><span class=\"toc-item-num\">4.1&nbsp;&nbsp;</span>while</a></span></li></ul></li><li><span><a href=\"#Ejercicios\" data-toc-modified-id=\"Ejercicios-5\"><span class=\"toc-item-num\">5&nbsp;&nbsp;</span>Ejercicios</a></span></li></ul></div>"
   ]
  },
  {
   "cell_type": "markdown",
   "metadata": {
    "id": "xZVXaB5OEb-J"
   },
   "source": [
    "# Comparaciones\n",
    "\n",
    "Nuestra primera clase aprendimos que eran los operadores condicionales, los cuáles incluían `==`,  `!=`, `<=`, `>=`, etc. Estos operadores son importantes en los bucles `if` de Python porque permiten que el programa tome decisiones basadas en una condición. En otras palabras, los operadores condicionales permiten que el programa ejecute diferentes secciones de código según se cumpla o no una condición dada.\n",
    "\n",
    "En Python, el operador condicional más comúnmente utilizado en los bucles `if` es el operador de comparación \"==\", que se utiliza para comparar dos valores. Por ejemplo, si queremos comprobar si una variable \"x\" es igual a 10. Recordemos algunos de ellos:"
   ]
  },
  {
   "cell_type": "code",
   "execution_count": 59,
   "metadata": {},
   "outputs": [],
   "source": [
    "# lo primero que hacemos es definir unas variables\n",
    "\n",
    "a1 = 0\n",
    "a2 = 1\n",
    "a3 = 2"
   ]
  },
  {
   "cell_type": "code",
   "execution_count": 60,
   "metadata": {},
   "outputs": [
    {
     "name": "stdout",
     "output_type": "stream",
     "text": [
      "Es 'a1' menor que 'a2'?: True\n",
      "Es 'a3' mayor o igual que 'a1'?: True\n",
      "Es 'a3' mayor que 'a1' y menor que 'a2'?: False\n",
      "Es 'a1' igual que 'a2': False\n"
     ]
    }
   ],
   "source": [
    "# es a1 menor que a2?\n",
    "print(\"Es 'a1' menor que 'a2'?:\",  a1 < a2)\n",
    "print(\"Es 'a3' mayor o igual que 'a1'?:\",  a3 >= a1)\n",
    "print(\"Es 'a3' mayor que 'a1' y menor que 'a2'?:\",  a1 < a3 < a2)\n",
    "print(\"Es 'a1' igual que 'a2':\", a1 == a2)"
   ]
  },
  {
   "cell_type": "markdown",
   "metadata": {
    "id": "HemRVbI4Eb-K"
   },
   "source": [
    "En resumen, para estas comparaciones (condiciones) teníamos los siguientes operadores:\n",
    "- `A > B`, `True` si `A` es mayor que `B`\n",
    "- `A < B`, `True` si `A` es menor que `B`\n",
    "- `A == B`, `True` si `A` es igual a `B`\n",
    "- `A >= B`, `True` si `A` es mayor que `B` o igual a `B`\n",
    "- `A <= B`, `True` si `A` es menor que `B` o igual a `B`\n",
    "- `A != B`, `True` si `A` es distinto a `B`\n"
   ]
  },
  {
   "cell_type": "markdown",
   "metadata": {},
   "source": [
    "# ¿Qué es el control flow o control de flujo?\n",
    "\n",
    "En Python, el \"control flow\" o control de flujo se refiere al orden en que se ejecutan las instrucciones en un programa o código. El control flow determina qué instrucciones se ejecutan y en qué orden, y esto es controlado por estructuras como los bucles, las condiciones y las funciones.\n",
    "\n",
    "Existen tres tipos principales de estructuras de *control flow* en Python:\n",
    "\n",
    "- **Estructuras de selección**: permiten al programa tomar decisiones y ejecutar diferentes secciones de código en función de una condición. La estructura de selección más común en Python es el bucle `if`, que ejecuta una sección de código si se cumple una condición y otra sección de código si no se cumple la condición.\n",
    "\n",
    "  ```python\n",
    "  - if \n",
    "    - if ... else ...\n",
    "    - if ... elif ... else\n",
    "  ```\n",
    "\n",
    "- **Estructuras de iteración**: permiten al programa repetir una sección de código varias veces. El bucle \"for\" es una estructura de iteración común en Python, que ejecuta una sección de código una vez para cada elemento de una lista o un rango de valores.\n",
    "\n",
    "  ```python\n",
    "  - for\n",
    "  - while\n",
    "  ```\n",
    "\n",
    "- **Estructuras de control de funciones**: permiten al programa llamar a una función y controlar el flujo de ejecución del programa dentro y fuera de la función. Por ejemplo, la estructura \"try/except\" permite al programa manejar errores dentro de una función y continuar ejecutando el código.\n",
    "\n",
    "  ```python\n",
    "  - break\n",
    "  - continue\n",
    "  - pass\n",
    "  ```\n",
    "\n",
    "En resumen, el control flow en Python se refiere al orden en que se ejecutan las instrucciones en un programa y está controlado por estructuras como los bucles, las condiciones y las funciones. Estas estructuras permiten al programa tomar decisiones, repetir secciones de código y controlar el flujo de ejecución.\n",
    "\n",
    "En las próximas lecciones iremos viendo cada una de estas estructuras. Pero antes de ponernos manos a la obra, pongamos un ejemplo sencillo, digamos que queremos medir la temperatura del aire en el exterior. ¿Qué haríamos como \"humanas\" para ejecutar esta acción?\n",
    "\n",
    "1️⃣ Cogemos el termómetro,    \n",
    "2️⃣ Abrimos la puerta,  \n",
    "3️⃣ Salimos al exterior,  \n",
    "4️⃣ Cerramos la puerta,  \n",
    "5️⃣ Buscamos un lugar a la sombra,  \n",
    "6️⃣ Medimos la temperatura y  \n",
    "7️⃣ La anotamos.  \n"
   ]
  },
  {
   "cell_type": "markdown",
   "metadata": {
    "id": "FikwiIv_Eb-L"
   },
   "source": [
    "# Estructuras de selcción: \n",
    "\n",
    "## La función `if`\n",
    "\n",
    "La función `if` en Python es una estructura de control de flujo que se utiliza para tomar decisiones basadas en una condición. La sintaxis básica de la función `if` es la siguiente:\n",
    "```python\n",
    "if condición:\n",
    "    # Sección de código que se ejecuta si la condición es verdadera\n",
    "```\n",
    "\n",
    "- Si la condición `if` se evalúa como True, entonces se ejecuta el código indentado que sigue a la sentencia.\n",
    "\n",
    "- Si la expresión se evalúa como Falso, entonces el código indentado que sigue a la sentencia `if` se salta y el programa ejecuta la siguiente línea de código que está indentada al mismo nivel que la sentencia `if`.\n",
    "\n",
    "Veamos algunos ejemplos: "
   ]
  },
  {
   "cell_type": "code",
   "execution_count": 61,
   "metadata": {},
   "outputs": [
    {
     "name": "stdout",
     "output_type": "stream",
     "text": [
      "El número de peras que tenemos es: 6\n"
     ]
    }
   ],
   "source": [
    "# definimos una variable usando la función input donde os preguntaremos cuántas peras tenemos. Sobre esta variable estableceremos unas condiciones en nuestro if\n",
    "## 📌 Nota: si ejecutais este celda, poned un número que sea igual a 6. \n",
    "\n",
    "numero_peras = int(input(\"¿Cuántas peras tienes en la nevera?\"))\n",
    "print(\"El número de peras que tenemos es:\", numero_peras)"
   ]
  },
  {
   "cell_type": "code",
   "execution_count": 62,
   "metadata": {
    "id": "XnqC3l73Eb-M",
    "outputId": "fccb6fe8-6b40-4681-cba4-51aebe9daeae"
   },
   "outputs": [
    {
     "name": "stdout",
     "output_type": "stream",
     "text": [
      "Tenemos muchas peras, ¿no te apetece comerte una?\n"
     ]
    }
   ],
   "source": [
    "# vamos a empezar a hacer algunas operaciones básicas, empezaremos por chequear si tenemos más de 4 peras en la nevera\n",
    "if numero_peras > 4: # si el número de peras es mayor que 4\n",
    "    # en caso de que se cumpla la condición queremos sacar un mensaje, para lo que usaremos un print\n",
    "    print('Tenemos muchas peras, ¿no te apetece comerte una?')"
   ]
  },
  {
   "cell_type": "code",
   "execution_count": 63,
   "metadata": {},
   "outputs": [],
   "source": [
    "# Pero... ¿Qué pasaría si no se cumple la condición que especificamos en el `if`? Es decir, nuestra condición a chequear en este caso sería número_peras > 10. \n",
    "# vamos a chequear si tenemos más de 10 peras en la nevera. Es decir, en este caso esa condición es Falsa\n",
    "if numero_peras > 10: \n",
    "    print('Tenemos muchas peras, ¿no te apetece comerte una?')"
   ]
  },
  {
   "cell_type": "markdown",
   "metadata": {},
   "source": [
    "Upss... no ha pasado nada!!! Y es que si nos fijamos en nuestro código especificamos lo que queríamos que pasara si la condicón se cumple, pero no dijimos que debía ocurrir si la condición no se cumple. Pero no nos preocupemos, un poco más adelante en esta lección aprenderemos como hacerlo! \n",
    "\n",
    "Vamos a repetir el ejemplo, pero con más consecuencias. Queremos que si hay muchas peras en la nevera el ordenador me lo diga no una sino dos veces. En cambio, si no son tantas, no quiero que me alerte. Ejecuta las celdas de abajo. ¿Hace lo que te esperabas?"
   ]
  },
  {
   "cell_type": "code",
   "execution_count": 64,
   "metadata": {
    "id": "Uagi_8j_Eb-N",
    "outputId": "bacf3625-e724-4a95-a739-b40aaa2b205f"
   },
   "outputs": [
    {
     "name": "stdout",
     "output_type": "stream",
     "text": [
      "El número de peras que tenemos es: 6\n",
      "------------------\n",
      "Tenemos muchas peras, ¿no te apetece comerte una?\n",
      "Repito: Tenemos muchas peras, ¿no te apetece comerte una?\n"
     ]
    }
   ],
   "source": [
    "print(\"El número de peras que tenemos es:\", numero_peras)\n",
    "print(\"------------------\")\n",
    "# si el número de peras en la nevera es mayor que 4 queremos que: \n",
    "if numero_peras > 4:\n",
    "    # nos printees primero que hay muchas peras\n",
    "    print('Tenemos muchas peras, ¿no te apetece comerte una?')\n",
    "    # nos printees despyes un mesaje repitiendo que tenemos muchas peras\n",
    "    print('Repito: Tenemos muchas peras, ¿no te apetece comerte una?')"
   ]
  },
  {
   "cell_type": "markdown",
   "metadata": {},
   "source": [
    "No necesariamente podemos poner **prints**. Podemos hacer operaciones dentro del `if`. Imaginemos que queremos hacer la lista de la compra. Nuestro criterio para añadir elementos a la lista de la compra es que si tenemos menos de 2 peras, queremos comprar más. Es decir, si tenemos dos o menos de dos peras en la nevera lo queremos añadir a la lista de la compra. \n",
    "\n",
    "**¿Cómo haríamos esto con código? 🤔**\n",
    "\n",
    "Para esto tendremos que usar métodos que hemos ido aprendiendo en lecciones anteriores: "
   ]
  },
  {
   "cell_type": "code",
   "execution_count": 65,
   "metadata": {},
   "outputs": [
    {
     "name": "stdout",
     "output_type": "stream",
     "text": [
      "La lista de la compra contiene: []\n",
      "------------------\n",
      "El número de peras que tenemos en la nevera es: 6\n",
      "------------------\n",
      "El número de peras que tenemos en la nevera es: 1\n",
      "------------------\n",
      "La lista de la compra contiene: ['peras']\n"
     ]
    }
   ],
   "source": [
    "# lo primero que hacemos es crearnos una lista, que será nuestra lista de la compra\n",
    "\n",
    "lista_compra = []\n",
    "print(\"La lista de la compra contiene:\", lista_compra)\n",
    "print(\"------------------\")\n",
    "\n",
    "print(\"El número de peras que tenemos en la nevera es:\", numero_peras)\n",
    "print(\"------------------\")\n",
    "\n",
    "# imaginemos que nos hemos comido 5 peras. Tendremos que restar 5 a nuestra variable numero_peras\n",
    "\n",
    "numero_peras -= 5 # esto es lo mismo que poner numero_peras = numero_peras - 5\n",
    "print(\"El número de peras que tenemos en la nevera es:\", numero_peras)\n",
    "print(\"------------------\")\n",
    "\n",
    "# por último definimos nuestro if. Lo que chequearemos es si tenemos menos de dos peras\n",
    "\n",
    "if numero_peras < 2: \n",
    "    # si esta condición se cumple queremos añadir peras a nuestra lista. Para eso podremos usar el método append que aprendimos en la lección de listas! \n",
    "    lista_compra.append(\"peras\")\n",
    "print(\"La lista de la compra contiene:\", lista_compra )"
   ]
  },
  {
   "cell_type": "markdown",
   "metadata": {},
   "source": [
    "Y voilá!!! ya tenemos las peras en nuestra lista 🥳. Otras operaciones que podremos hacer dentro de un `if` son sumas, restas, multiplicaciones, etc. Veamos un ejemplo. Imaginemos ahora que queremos actualizar el número de peras si he ido a la compra. "
   ]
  },
  {
   "cell_type": "code",
   "execution_count": 66,
   "metadata": {},
   "outputs": [
    {
     "name": "stdout",
     "output_type": "stream",
     "text": [
      "El número de peras que tenemos en la nevera es: 1\n",
      "------------------\n",
      "Hemos comprado: 10 peras\n",
      "------------------\n",
      "El número de peras que tenemos en la nevera es: 11\n",
      "------------------\n"
     ]
    }
   ],
   "source": [
    "print(\"El número de peras que tenemos en la nevera es:\", numero_peras)\n",
    "print(\"------------------\")\n",
    "\n",
    "# imaginemos que fuimos a la compra y hemos vuelto a casa y queremos actualizar nuestro número de peras. Primero definimos el número de peras que hemos comprado\n",
    "peras_compradas = 10\n",
    "print(\"Hemos comprado:\", peras_compradas, \"peras\")\n",
    "print(\"------------------\")\n",
    "\n",
    "# ahora tendremos que chequear si en nuestra lista de la compra teníamos peras. Para eso podremos usar el método \"in\" que aprendimos en lecciones anteriores\n",
    "# chequeamos si peras está en nuestra lista\n",
    "if \"peras\" in lista_compra: \n",
    "\n",
    "    # si está en nuestra lista, lo que haremos será sumar al número de peras que tenemos las peras compradas. \n",
    "    numero_peras += peras_compradas\n",
    "print(\"El número de peras que tenemos en la nevera es:\", numero_peras)\n",
    "print(\"------------------\")\n"
   ]
  },
  {
   "cell_type": "markdown",
   "metadata": {},
   "source": [
    "Si os fijais, dentro del `if` hemos usando una sintaxis que nos puede resultar nueva. Es la forma abreviada de: \n",
    "\n",
    "```python\n",
    "numero_peras = numero_peras + peras_compradas\n",
    "```\n",
    "\n",
    "Es decir: \n",
    "\n",
    "```python\n",
    "# esta línea de código \n",
    "numero_peras = numero_peras + peras_compradas\n",
    "\n",
    "# es exactamente lo mismo que esta\n",
    "numero_peras += peras_compradas\n",
    "\n",
    "```"
   ]
  },
  {
   "cell_type": "markdown",
   "metadata": {
    "id": "9Pvm4CDTWqIF"
   },
   "source": [
    "\n",
    "\n",
    "---\n",
    "\n"
   ]
  },
  {
   "cell_type": "markdown",
   "metadata": {
    "id": "uJCaOC6_Eb-P"
   },
   "source": [
    "## If ... else ...\n",
    "\n",
    "Hemos visto que pasaba si la condición que le pasabamos al `if` se cumplía, pero hasta ahora no hemos visto que pasaba si la condición no se cumplía. En Python, el `if`...`else` es una estructura condicional que se utiliza para ejecutar un bloque de código si se cumple una condición y otro bloque de código si no se cumple.\n",
    "\n",
    "La sintaxis básica del `if`...`else` en Python es la siguiente:\n",
    "\n",
    "```python\n",
    "if condicion_1:\n",
    "    # código a ejecutar si se cumple la condición 1\n",
    "else:\n",
    "    # código a ejecutar si no se cumple ninguna de las condiciones anteriores\n",
    "```\n",
    "\n",
    "En el mismo contexto de la lista de compra, ahora querremos saber si tenemos peras suficientes o si nos tiene que avisar para añadirla a la lista de la compra. Veamos un ejemplo: "
   ]
  },
  {
   "cell_type": "code",
   "execution_count": 67,
   "metadata": {},
   "outputs": [
    {
     "name": "stdout",
     "output_type": "stream",
     "text": [
      "El número de peras que tenemos en la nevera es: 11\n",
      "------------------\n",
      "Tenemos muchas peras, deberíamos comernoslas...\n"
     ]
    }
   ],
   "source": [
    "# lo primero que haremos será recordad cuántas peras tenemos en la nevera\n",
    "\n",
    "print(\"El número de peras que tenemos en la nevera es:\", numero_peras)\n",
    "print(\"------------------\")\n",
    "\n",
    "# primero chequearemos si tenemos menos de 2 peras. Recordamos era nuestra condión para meter las peras en nuestra lista de la compra\n",
    "if numero_peras < 2:  \n",
    "    print('Tenemos pocas peras, hay que meterlas en la lista de la compra')\n",
    "    lista_compra.append(\"peras\")\n",
    "# si esta condición no se cumple, usaremos el else para especificar que queremos que pase. En este caso, que nos muestre un mensaje de que tenemos muchas peras. Debemos comernóslas! \n",
    "else: \n",
    "    print('Tenemos muchas peras, deberíamos comernoslas...')"
   ]
  },
  {
   "cell_type": "markdown",
   "metadata": {},
   "source": [
    "**Si nos fijamos en este ejemplo,  ¿Qué es lo que esta pasando?**\n",
    "\n",
    "- Python empezará leyendo el código del `if` y chequeará si esa condición es verdadera o Falsa. \n",
    "\n",
    "- En este caso, la condición es Falsa, por lo que no se ejecutará el código que está en el interior del `if` \n",
    "\n",
    "- Después seguirá leyendo código. El `else` lo que indica es lo que queremos que ocurra si no se cumple la condición del `if`. \n",
    "\n",
    "- En este caso, al ser False la condición del `if` se ejecutarán las líneas de código que están dentro del `else`, es decir, tenemos que comer peras. \n",
    "\n",
    "📌 **Nota** : \n",
    "\n",
    "-  Fijaos como la indentación de la `else` es igual que la de la `if`. \n",
    "\n",
    "- En el `else` no hay que pasar ninguna condición, ya que el `else` va a englobar todas las condiciones que no se cumplan en el `if`. "
   ]
  },
  {
   "cell_type": "markdown",
   "metadata": {},
   "source": [
    "**¿Qué pasaría si la condición del `if` se cumple?**"
   ]
  },
  {
   "cell_type": "code",
   "execution_count": 68,
   "metadata": {},
   "outputs": [
    {
     "name": "stdout",
     "output_type": "stream",
     "text": [
      "El número de peras que tenemos en la nevera es: 1\n",
      "------------------\n",
      "Tenemos pocas peras, hay que meterlas en la lista de la compra\n",
      "La lista de la compra contiene: ['peras', 'peras']\n",
      "------------------\n"
     ]
    }
   ],
   "source": [
    "# creemos otra variable de numero de peras distinta\n",
    "numero_peras2 = 1\n",
    "print(\"El número de peras que tenemos en la nevera es:\", numero_peras2)\n",
    "print(\"------------------\")\n",
    "\n",
    "# primero chequearemos si tenemos menos de 2 peras. Recordamos era nuestra condión para meter las peras en nuestra lista de la compra\n",
    "if numero_peras2 < 2:  \n",
    "    print('Tenemos pocas peras, hay que meterlas en la lista de la compra')\n",
    "    lista_compra.append(\"peras\")\n",
    "# si esta condición no se cumple, usaremos el else para especificar que queremos que pase. En este caso, que nos muestre un mensaje de que tenemos muchas peras. Debemos comernóslas! \n",
    "else: \n",
    "    print('Tenemos muchas peras, deberíamos comernoslas...')\n",
    "\n",
    "print(\"La lista de la compra contiene:\", lista_compra)\n",
    "print(\"------------------\")"
   ]
  },
  {
   "cell_type": "markdown",
   "metadata": {},
   "source": [
    "Fijaos que tenemos dos veces peras porque ya la añadimos en el apartado anterior cuando estabamos aprendiendo la condición `if`. "
   ]
  },
  {
   "cell_type": "markdown",
   "metadata": {
    "id": "uuApXUSyEb-Q"
   },
   "source": [
    "**Repaso**:\n",
    "- Con la palabra `else` ampliamos la función `if` para el caso que la condición sea falsa.\n",
    "\n",
    "- `Else` tiene la misma indentación que la `if` al cual pertenece, y su consecuencia la misma indentación que la consecuencia de la `if`."
   ]
  },
  {
   "cell_type": "markdown",
   "metadata": {
    "id": "ntgVqLZhcIBJ"
   },
   "source": [
    "\n",
    "\n",
    "---\n",
    "\n"
   ]
  },
  {
   "cell_type": "markdown",
   "metadata": {
    "id": "gdM3IYIBEb-Q"
   },
   "source": [
    "## If ... elif ... else\n",
    "Muchas veces, nos interesa chequear más de una condición. Como vimos, la condición que ponemos en la línea de la `if` tiene un `True` o un `False` como resultado, y con el `else` incluimos todas las situaciones que no se cumplen en el `if`.  La sentencia `elif` de Python permite realizar comprobaciones continuas después de una sentencia `if` inicial. Una sentencia `elif` se diferencia de la sentencia `else` porque se proporciona otra expresión/condición para ser comprobada, al igual que con la sentencia `if` inicial.\n",
    "\n",
    "Ya hemos visto el `if` ... \"`else`, que como hemos dicho  es una estructura condicional que se utiliza para ejecutar un bloque de código si se cumple una condición y otro bloque de código si no se cumple, que seguía la siguiente sintaxis: \n",
    "\n",
    "```python\n",
    "if condicion:\n",
    "    # código a ejecutar si se cumple la condición\n",
    "else:\n",
    "    # código a ejecutar si no se cumple la condición\n",
    "\n",
    "```\n",
    "\n",
    "En este ejemplo, \"condicion\" es una expresión booleana que se evalúa como verdadera o falsa. Si \"condicion\" es verdadera, se ejecutará el código dentro del primer bloque `if`, y si es falsa, se ejecutará el código dentro del bloque \"`else`.\n",
    "\n",
    "Además, también se puede utilizar la estructura `if` `else` anidada para evaluar múltiples condiciones. En este caso, la sintaxis sería la siguiente:\n",
    "\n",
    "```python\n",
    "if condicion_1:\n",
    "    # código a ejecutar si se cumple la condición 1\n",
    "elif condicion_2:\n",
    "    # código a ejecutar si no se cumple la condición 1 pero se cumple la condición 2\n",
    "else:\n",
    "    # código a ejecutar si no se cumple ninguna de las condiciones anteriores\n",
    "```"
   ]
  },
  {
   "cell_type": "markdown",
   "metadata": {},
   "source": [
    "Imaginemos ahora que queremos incluir varias condiciones, estas serían: \n",
    "\n",
    "- Si tenemos más de 50 peras, devolveremos un mensaje de que tenemos demasiadas peras y deberíamos donarlas. \n",
    "\n",
    "- Si tenemos más de 4 peras, devolveremos un mensaje diciendo que si no te apetece comer peras\n",
    "\n",
    "- Si tenemos más de 0 peras y menos de 4, las apuntaremos en la lista de compra\n",
    "\n",
    "- Si no se cumple ninguna de las condiciones, devolveremos un mensaje de que nos hemos quedado sin peras. "
   ]
  },
  {
   "cell_type": "code",
   "execution_count": 69,
   "metadata": {},
   "outputs": [
    {
     "name": "stdout",
     "output_type": "stream",
     "text": [
      "El número de peras que tenemos en la nevera es: 11\n",
      "------------------\n",
      "Tenemos muchas peras, ¿no te apetece comerte una?\n"
     ]
    }
   ],
   "source": [
    "# recordemos cuántas peras teníamos\n",
    "print(\"El número de peras que tenemos en la nevera es:\", numero_peras)\n",
    "print(\"------------------\")\n",
    "\n",
    "# indicamos nuestra primera condición. Es decir, tener mas de 50 peras\n",
    "if numero_peras > 50: \n",
    "    print('Tenemos demasiadas peras, dónalas al banco de alimentos.')\n",
    "\n",
    "# en el elif pondremos las nuevas condiciones que queremos chequear. En este casi si hay más de 4 peras. \n",
    "elif numero_peras > 4: \n",
    "    print('Tenemos muchas peras, ¿no te apetece comerte una?')\n",
    "\n",
    "# podemos añadir todas las condiciones que queramos, es decir, podemos añadir todos los elif que queramos. En este caso, si es mayor que 0\n",
    "elif numero_peras > 0: \n",
    "    print(\"Añadiendo elemento a la lista de la compra\")\n",
    "    lista_compra.append(\"peras\")\n",
    "\n",
    "# por último añadimos el else especificamos lo que queremos que ocurra si no se cumplen ninguna de las condiciones anteriores. \n",
    "else:\n",
    "    print('No tenemos peras.')"
   ]
  },
  {
   "cell_type": "markdown",
   "metadata": {},
   "source": [
    "Fijaos que el orden de las condiciones importa, ya que va a ir chequeando condición a condición y en el momento en el que la condición sea cierta el programa se parará y no se ejecutará el resto del código: \n",
    "\n",
    "Imaginemos que ponemos primero la condición de mayor que 0 que la de mayor que 4. ¿Qué creeis que pasará? "
   ]
  },
  {
   "cell_type": "code",
   "execution_count": 70,
   "metadata": {},
   "outputs": [
    {
     "name": "stdout",
     "output_type": "stream",
     "text": [
      "El número de peras que tenemos en la nevera es: 11\n",
      "------------------\n",
      "Añadiendo elemento a la lista de la compra\n"
     ]
    }
   ],
   "source": [
    "# recordemos cuántas peras teníamos\n",
    "print(\"El número de peras que tenemos en la nevera es:\", numero_peras)\n",
    "print(\"------------------\")\n",
    "\n",
    "# indicamos nuestra primera condición. Es decir, tener mas de 50 peras\n",
    "if numero_peras > 50: \n",
    "    print('Tenemos demasiadas peras, dónalas al banco de alimentos.')\n",
    "\n",
    "elif numero_peras > 0: \n",
    "    print(\"Añadiendo elemento a la lista de la compra\")\n",
    "    lista_compra.append(\"peras\")\n",
    "\n",
    "elif numero_peras > 4: \n",
    "    print('Tenemos muchas peras, ¿no te apetece comerte una?')\n",
    "\n",
    "else:\n",
    "    print('No tenemos peras.')"
   ]
  },
  {
   "cell_type": "markdown",
   "metadata": {},
   "source": [
    "**¿Qué ha pasado aquí?** \n",
    "\n",
    "Python a empezado a leer nuestro programa: \n",
    "\n",
    "- ¿Es el `numero_peras` mayor que 50? `False`, por lo tanto no se ejecuta la líena que tenemos \"dentro\" del `if`, así que sigue leyendo código. \n",
    "\n",
    "- ¿Es el `numero_peras` mayor que 0? `True`, por lo tanto se ejecuta la línea de código que tenemos dentro del primer `elif`, es decir, nos añade \"peras\" a la lista de la compra y nos devuelve el mensaje de que la está añadiendo. \n",
    "\n",
    "- Como la condición se ha cumplido, el programa se para y no sigue leyendo código. Por esto no nos sale el *print* del siguiente `elif` aunque se cumpla la condición. "
   ]
  },
  {
   "cell_type": "markdown",
   "metadata": {},
   "source": [
    "Lo mismo pasaría si el número de peras fuera 60. Veamoslo con un ejemplo: \n"
   ]
  },
  {
   "cell_type": "code",
   "execution_count": 71,
   "metadata": {},
   "outputs": [
    {
     "name": "stdout",
     "output_type": "stream",
     "text": [
      "El número de peras que tenemos en la nevera es: 60\n",
      "------------------\n",
      "Añadiendo elemento a la lista de la compra\n"
     ]
    }
   ],
   "source": [
    "# definimos una nueva variable donde el número de peras sea 60\n",
    "numero_peras3 = 60\n",
    "print(\"El número de peras que tenemos en la nevera es:\", numero_peras3)\n",
    "print(\"------------------\")\n",
    "\n",
    "# si ejecutamos el código que creamos al inicio del apartado \n",
    "if numero_peras3 > 0: \n",
    "    print(\"Añadiendo elemento a la lista de la compra\")\n",
    "    lista_compra.append(\"peras\")\n",
    "\n",
    "elif numero_peras3 > 50: \n",
    "    print('Tenemos demasiadas peras, dónalas al banco de alimentos.')\n",
    "\n",
    "elif numero_peras3 > 4: \n",
    "    print('Tenemos muchas peras, ¿no te apetece comerte una?')\n",
    "\n",
    "\n",
    "else:\n",
    "    print('No tenemos peras.')"
   ]
  },
  {
   "cell_type": "markdown",
   "metadata": {},
   "source": [
    "A pesar de que todas las condiciones, tanto del `if` como las de los `elif` son ciertas, lo que va a ocurrir es que el programa se parará en el momento en el que Python encuentre una condición verdadera. En este caso, la primera. \n",
    "\n",
    "Algunas cosas importantes cuando hacemos este tipo de condicionales incluyendo `if` ... `elif` ...`else` : \n",
    "\n",
    "- Hay múltiples `elif`, pero un solo `if` y `else`.\n",
    "\n",
    "- El programa se parará cuando encuentre una condición que sea `True`. Ignorando el código que viene a continuación. "
   ]
  },
  {
   "cell_type": "markdown",
   "metadata": {},
   "source": [
    "## If anidados\n",
    "\n",
    "Básicamente es una sentencia `if` dentro de otra sentencia `if`. Los `if` anidados pueden anidarse tanto como sea necesario, lo que permite construir programas muy complejos que responden a múltiples condiciones. Sin embargo, es importante tener en cuenta que el uso excesivo de `if` anidados puede hacer que el código sea difícil de leer y mantener. Por lo tanto, es recomendable utilizarlos con moderación y, en su lugar, utilizar técnicas de programación más avanzadas, como las estructuras de datos y los algoritmos.\n",
    "\n",
    "En este caso vamos a dividir nuestro código en varios bloques: \n",
    "\n",
    "- 1️⃣ Chequearemos si tenemos más de 4 peras. En caso de que tengamos más de 4 peras, definiremos nuevas condiciones: \n",
    "\n",
    "    - 1️⃣.1️⃣ La primera condición que chequearemos dentro de este primer bloque será si tenemos más de 50 peras. En este caso devolveremos un mensaje sugiriendo donarlas. \n",
    "\n",
    "    - 1️⃣.2️⃣ Si esta condición no se cumple devolveremos un mensaje ofreciendo comer una pera.\n",
    "\n",
    "- 2️⃣ Estableceremos el resto de las posibilidades, es decir, que tengamos 4 o menos peras\n",
    "\n",
    "    - 2️⃣.1️⃣ En caso de que tengamos menos de 4 peras, si el número de peras es mayor que 0, añadiremos peras a nuestra lista de la compra\n",
    "\n",
    "    - 2️⃣.2️⃣ En caso de que no se cumpla la condición anterior devolveremos un mensaje de que estamos sin peras. "
   ]
  },
  {
   "cell_type": "code",
   "execution_count": 72,
   "metadata": {
    "cellView": "form",
    "id": "Yc3jhvIJEb-R"
   },
   "outputs": [
    {
     "name": "stdout",
     "output_type": "stream",
     "text": [
      "El número de peras que tenemos en la nevera es: 11\n",
      "------------------\n",
      "Tenemos muchas peras, ¿no te apetece comerte una?\n"
     ]
    }
   ],
   "source": [
    "print(\"El número de peras que tenemos en la nevera es:\", numero_peras)\n",
    "print(\"------------------\")\n",
    "\n",
    "# 1️⃣ primera condición. Es el número de peras mayor que 4?\n",
    "if numero_peras > 4: \n",
    "\n",
    "    # 1️⃣.1️⃣ en caso de que sea si, ¿Es el número de peras mayor que 50? \n",
    "    if numero_peras > 50 :\n",
    "        print('Tenemos demasiadas peras, dónalas al banco de alimentos.')\n",
    "        \n",
    "    # si se cumple la condición 1️⃣ pero no la 1️⃣.1️⃣ se ejecutará esta línea de código\n",
    "    else:\n",
    "        print('Tenemos muchas peras, ¿no te apetece comerte una?')\n",
    "\n",
    "# si no se cumple la condición 1️⃣, pasaremos a esta parte del código, es decir, nuestro número de peras es menor que 4\n",
    "else: \n",
    "    # 2️⃣.1️⃣ Si el número de peras es menor que 4, pero mayor que 0 se añadirá peras a la lista de la compra\n",
    "    if numero_peras > 0 :\n",
    "        lista_compra.append(\"peras\")\n",
    "        print(\"añadiendo peras a la lista de la compra\")\n",
    "\n",
    "    # 2️⃣.2️⃣ en caso de que no cumplan ninguna de las condiciones se ejecutará esta línea de código\n",
    "    else:\n",
    "        print('No tenemos peras.')"
   ]
  },
  {
   "cell_type": "markdown",
   "metadata": {},
   "source": [
    "En este caso teníamos 11 peras, por la tanto se cumple la condición 1️⃣ y la condición 1️⃣.2️⃣, por lo tanto nos devuelve el mensaje de sugerencia de comernos una pera. Puede que esto nos resulte algo confuso, pero lo podemos entender como un camino en el que nos vamos encontrando bifurcaciones que nos van a ir definiendo nuestro camino en función de que vayan cumpliendo las condiciones pasadas. "
   ]
  },
  {
   "cell_type": "code",
   "execution_count": 73,
   "metadata": {},
   "outputs": [
    {
     "name": "stdout",
     "output_type": "stream",
     "text": [
      "El número de peras que tenemos en la nevera es: 60\n",
      "------------------\n",
      "Tenemos demasiadas peras, dónalas al banco de alimentos.\n"
     ]
    }
   ],
   "source": [
    "# creemonos otra variable con un número diferente de peras\n",
    "numero_peras4 = 60\n",
    "\n",
    "print(\"El número de peras que tenemos en la nevera es:\", numero_peras4)\n",
    "print(\"------------------\")\n",
    "\n",
    "# 1️⃣ primera condición. Es el número de peras mayor que 4?\n",
    "if numero_peras4 > 4: \n",
    "\n",
    "    # 1️⃣.1️⃣ en caso de que sea si, ¿Es el número de peras mayor que 50? \n",
    "    if numero_peras4 > 50 :\n",
    "        print('Tenemos demasiadas peras, dónalas al banco de alimentos.')\n",
    "        \n",
    "    # si se cumple la condición 1️⃣ pero no la 1️⃣.1️⃣ se ejecutará esta línea de código\n",
    "    else:\n",
    "        print('Tenemos muchas peras, ¿no te apetece comerte una?')\n",
    "\n",
    "# si no se cumple la condición 1️⃣, pasaremos a esta parte del código, es decir, nuestro número de peras es menor que 4\n",
    "else: \n",
    "    # 2️⃣.1️⃣ Si el número de peras es menor que 4, pero mayor que 0 se añadirá peras a la lista de la compra\n",
    "    if numero_peras4 > 0 :\n",
    "        lista_compra.append(\"peras\")\n",
    "        print(\"añadiendo peras a la lista de la compra\")\n",
    "\n",
    "    # 2️⃣.2️⃣ en caso de que no cumplan ninguna de las condiciones se ejecutará esta línea de código\n",
    "    else:\n",
    "        print('No tenemos peras.')"
   ]
  },
  {
   "cell_type": "markdown",
   "metadata": {},
   "source": [
    "En este caso se cumplen las condiciones 1️⃣ y  1️⃣.1️⃣, por lo tanto nos devuelve el mensaje de donar. "
   ]
  },
  {
   "cell_type": "markdown",
   "metadata": {
    "id": "O3XWRvv1WwQn"
   },
   "source": [
    "\n",
    "\n",
    "---\n",
    "\n"
   ]
  },
  {
   "cell_type": "markdown",
   "metadata": {
    "id": "Ly5JY6hHpjbs"
   },
   "source": [
    "## Condiciones múltiples\n",
    "Usando `if` especificamos hasta ahora una sola condición. Si no se cumple la condición, seguimos con `elif` y `else`. Incluso hemos visto ejemplos incluyendo una función `if` ... `elif` .... `else` dentro de otra función `if`.\n",
    "\n",
    "Si nos fijamos en la imagen de abajo, los números en blanco pueden ser agrupados de distintas maneras. Nota como los tres círculos turquesas no se solapan entre sí, mientras cada uno de los grises envuelve dos círculos turquesas. Si solo nos interesa la situación en que hay menos que 50 peras, es decir el valor de la variable `peras` cumple la condición `< 50`, podríamos especificar tanto `peras < 50` o bien `peras >= 50` seguido por un `else`. "
   ]
  },
  {
   "cell_type": "markdown",
   "metadata": {
    "id": "t1RxEeLgiB8Y"
   },
   "source": [
    "![subsets1.png](data:image/png;base64,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)"
   ]
  },
  {
   "cell_type": "code",
   "execution_count": 74,
   "metadata": {
    "colab": {
     "base_uri": "https://localhost:8080/"
    },
    "executionInfo": {
     "elapsed": 224,
     "status": "ok",
     "timestamp": 1639485300704,
     "user": {
      "displayName": "Anne Krus",
      "photoUrl": "https://lh3.googleusercontent.com/a-/AOh14GjbqsQGGv_WqtIcVrkmdaggg-avHI_hm9wkTTxk=s64",
      "userId": "08074981739476979686"
     },
     "user_tz": -60
    },
    "id": "W0AFzrZL14sT",
    "outputId": "e28da208-e04c-4bb2-b0b0-6a149a89b6d8"
   },
   "outputs": [
    {
     "name": "stdout",
     "output_type": "stream",
     "text": [
      "El número de peras que tenemos en la nevera es: 11\n",
      "-------------------\n",
      "Tenemos muchas peras, ¿no te apetece comerte una?\n"
     ]
    }
   ],
   "source": [
    "print(\"El número de peras que tenemos en la nevera es:\", numero_peras)\n",
    "print(\"-------------------\")\n",
    "# recordemos también el código que habíamos creado un poco más arriba incluyemdo if ... elif ... else. \n",
    "# Recordad, siempre es importante leer el código con detenimiento\n",
    "if numero_peras > 50: \n",
    "    print('Tenemos demasiadas peras, dónalas al banco de alimentos.')\n",
    "\n",
    "elif numero_peras > 4: \n",
    "    print('Tenemos muchas peras, ¿no te apetece comerte una?')\n",
    "\n",
    "elif numero_peras > 0: \n",
    "    print(\"Añadiendo elemento a la lista de la compra\")\n",
    "    lista_compra.append(\"peras\")\n",
    "    \n",
    "else:\n",
    "    print('No tenemos peras.')"
   ]
  },
  {
   "cell_type": "markdown",
   "metadata": {},
   "source": [
    "En este apartado de la lección estamos aprendiendo condiciones múltiples, es decir, dentro de un `if` o `elif` podemos incluir varias condiciones. Vamos a intentar reducir el código anterior a un menor número de líneas. Para esto tendremos que usar operadores como `and` u `or` que aprendimos en lecciones anteriores. "
   ]
  },
  {
   "cell_type": "code",
   "execution_count": 75,
   "metadata": {},
   "outputs": [
    {
     "name": "stdout",
     "output_type": "stream",
     "text": [
      "El número de peras que tenemos en la nevera es: 11\n",
      "-------------------\n",
      "Tenemos demasiadas peras, dónalas al banco de alimentos.\n"
     ]
    }
   ],
   "source": [
    "print(\"El número de peras que tenemos en la nevera es:\", numero_peras)\n",
    "print(\"-------------------\")\n",
    "\n",
    "if numero_peras > 4 and numero_peras < 50:  \n",
    "    print('Tenemos demasiadas peras, dónalas al banco de alimentos.')\n",
    "\n",
    "elif 4 < numero_peras and numero_peras > 0: \n",
    "    print('Añadiendo elemento a la lista de la compra')"
   ]
  },
  {
   "cell_type": "markdown",
   "metadata": {},
   "source": []
  },
  {
   "cell_type": "markdown",
   "metadata": {
    "id": "giLt4L_B6lME"
   },
   "source": [
    "Mucho más corto, ¿verdad? De este ejemplo podemos sacar varias conclusiones:\n",
    "\n",
    "-  Se pueden especificar rangos de valores para una variable en una sola línea. Para ello recuerda que tenemos `<`, `<=`, `>=`, y `>`.\n",
    "  \n",
    "-  Podemos usar los operadores `or` y `and` para establecer varias condiciones.\n",
    "  \n",
    "-  El `else` es opcional.\n",
    "\n",
    "\n",
    "Hasta ahora, todas las condiciones que evaluamos eran valores de la misma variable. Vamos a añadir otra variable, de tipo bool: `nevera_en_marcha`. En este caso estableceremos las siguentes condiciones: \n",
    "\n",
    "- 1️⃣ Si la nevera está en marcha\n",
    "  \n",
    "  - 1️⃣.1️⃣ Y el número de peras está ente 0 y 4 añadiremos las peras a nuestra lista de la compra\n",
    "  \n",
    "  - 1️⃣.2️⃣ Y el numero de peras está entre 4 y 50 printearemos un mensaje de sugerencia para comer peras\n",
    "  \n",
    "- 2️⃣ En caso de que la nevera esté apagada printearemos un mensaje diciendo que la nevera está rota. \n"
   ]
  },
  {
   "cell_type": "code",
   "execution_count": 76,
   "metadata": {},
   "outputs": [
    {
     "name": "stdout",
     "output_type": "stream",
     "text": [
      "¿La nevera esta encendida? True\n",
      "-------------------\n",
      "El número de peras que tenemos en la nevera es: 11\n",
      "-------------------\n",
      "Tenemos muchas peras, ¿no te apetece comerte una?\n"
     ]
    }
   ],
   "source": [
    "# establecemos que la nevera está en marcha\n",
    "nevera_en_marcha = True\n",
    "print(\"¿La nevera esta encendida?\", nevera_en_marcha)\n",
    "print(\"-------------------\")\n",
    "\n",
    "print(\"El número de peras que tenemos en la nevera es:\", numero_peras)\n",
    "print(\"-------------------\")\n",
    "\n",
    "# chequeamos el valor de la nevera. En caso de que esté encendida\n",
    "if nevera_en_marcha: # esto es lo mismo que poner if nevera == True\n",
    "\n",
    "  # en caso de que este encendida y el número de peras este entre 0 y 4\n",
    "  if 0 < numero_peras < 4:\n",
    "    print('Añadimos peras a la lista')\n",
    "    lista_compra.append(\"peras\")\n",
    "\n",
    "  # en caso de que el número de peras este entre 4 y 50 sugerimos comer peras\n",
    "  elif 4 < numero_peras < 50:\n",
    "    print('Tenemos muchas peras, ¿no te apetece comerte una?')\n",
    "\n",
    "# en caso de que la nevera esté apagada, es decir que el valor de nevera_en_marcha == False\n",
    "else:  \n",
    "  # sacaremos por pantalla el mensaje de que la nevera esta rota\n",
    "  print('La nevera está rota.')"
   ]
  },
  {
   "cell_type": "markdown",
   "metadata": {},
   "source": [
    "En este caso:\n",
    "\n",
    "- Se cumple la primera condición, es decir, la variable `nevera_en_marcha == True`. \n",
    "\n",
    "- Dentro de esta condición tenemos otras dos condiciones:\n",
    "  -  Que el número de peras este entre 0 - 4, el `if` dentro del primer `if`.\n",
    "  -  Que el número de peras este entre 4 - 50, el `else` dentro del primer `if`. \n",
    "\n",
    "    En este caso se cumple la segunda condición, por lo tanto, el programa nos devolverá el mensaje de que tenemos muchas peras. "
   ]
  },
  {
   "cell_type": "code",
   "execution_count": 77,
   "metadata": {},
   "outputs": [
    {
     "name": "stdout",
     "output_type": "stream",
     "text": [
      "¿La nevera esta encendida? False\n",
      "-------------------\n",
      "El número de peras que tenemos en la nevera es: 11\n",
      "-------------------\n",
      "La nevera está rota.\n"
     ]
    }
   ],
   "source": [
    "# volvemos a ejecutar el código de antes, pero en este caso para la variable nevera_en_marcha2\n",
    "nevera_en_marcha2 = False\n",
    "\n",
    "print(\"¿La nevera esta encendida?\", nevera_en_marcha2)\n",
    "print(\"-------------------\")\n",
    "\n",
    "print(\"El número de peras que tenemos en la nevera es:\", numero_peras)\n",
    "print(\"-------------------\")\n",
    "\n",
    "# chequeamos el valor de la nevera. En caso de que esté encendida\n",
    "if nevera_en_marcha2: # esto es lo mismo que poner if nevera == True\n",
    "\n",
    "  # en caso de que este encendida y el número de peras este entre 0 y 4\n",
    "  if 0 < numero_peras < 4:\n",
    "    print('Añadimos peras a la lista')\n",
    "    lista_compra.append(\"peras\")\n",
    "\n",
    "  # en caso de que el número de peras este entre 4 y 50 sugerimos comer peras\n",
    "  elif 4 < numero_peras < 50:\n",
    "    print('Tenemos muchas peras, ¿no te apetece comerte una?')\n",
    "\n",
    "# en caso de que la nevera esté apagada, es decir que el valor de nevera_en_marcha == False\n",
    "else:  \n",
    "  # sacaremos por pantalla el mensaje de que la nevera esta rota\n",
    "  print('La nevera está rota.')"
   ]
  },
  {
   "cell_type": "markdown",
   "metadata": {},
   "source": [
    "En este caso, como el valor de **nevera_en_marcha2** es igual a False, el primer `if` no se cumplirá por lo que el programa pasará automaticamente al primer `else` y se nos printeará el mensaje de que la nevera esta rota. "
   ]
  },
  {
   "cell_type": "markdown",
   "metadata": {
    "id": "vHvvKitkHOle"
   },
   "source": [
    "📌 Notad como el orden de las condiciones es importante! Y como antes de ponernos a definir nuestras condiciones debemos pensar en que orden queremos ejecutarlas. De nuevo chicas, siempre es recomendable si tenemos dudas escribir en un papel lo que queremos y luego \"traducirlo\" a Python. \n",
    "\n",
    "Veamos un último ejemplo: todos los viernes nos comemos un helado. Si mi congelador está roto, salgo a la heladería para cumplir con nuestro ritual. Cuando es viernes, mi *primera opción* obviamente será buscar los helados en mi propio congelador. \n",
    "\n",
    "```python\n",
    "\n",
    "# definimos nuestra primera condición, que sea viernes o no\n",
    "if hoy_es_viernes:\n",
    "    if congelador_en_marcha:\n",
    "        print('Coge un helado, ¡te lo mereces!')\n",
    "    else:\n",
    "        print('Sal a la heladería, ¡te lo mereces!')\n",
    "\n",
    "\n",
    "# definimos nuestra segunda condición, que el congelador funcione o no\n",
    "if congelador_en_marcha:\n",
    "    if hoy_es_viernes:\n",
    "        print('Coge un helado, ¡te lo mereces!')\n",
    "else:\n",
    "    if hoy_es_viernes:\n",
    "        print('Sal a la heladería, ¡te lo mereces!')\n",
    "```\n",
    "\n"
   ]
  },
  {
   "cell_type": "markdown",
   "metadata": {
    "id": "4qrKdW8lFIjY"
   },
   "source": [
    "Pero este código de arriba puede resultar algo redundante, ya que estamos aprendiendo que podemos definir múltiples condiciones en un `if` o un `elif` usando operadores del tipo `and` u `or`. Y este ejemplo que tenemos ahora es un buen ejemplo! Veamos como lo podemos simplificar: "
   ]
  },
  {
   "cell_type": "code",
   "execution_count": 78,
   "metadata": {},
   "outputs": [
    {
     "name": "stdout",
     "output_type": "stream",
     "text": [
      "¿Es hoy viernes? True\n",
      "-------------------\n",
      "¿Está en congelador en marcha? False\n",
      "-------------------\n",
      "Sal a la heladería, ¡te lo mereces!\n"
     ]
    }
   ],
   "source": [
    "# como siempre, definimos nuestras variables\n",
    "\n",
    "hoy_es_viernes = True\n",
    "print(\"¿Es hoy viernes?\", hoy_es_viernes)\n",
    "print(\"-------------------\")\n",
    "\n",
    "congelador_en_marcha = False\n",
    "print(\"¿Está en congelador en marcha?\", congelador_en_marcha)\n",
    "print(\"-------------------\")\n",
    "\n",
    "# es el momento de definir todas nuestras condiciones\n",
    "\n",
    "# si es viernes (hoy_es_viernes == True) Y el congelador funciona (congelador_en_marcha == True), nos merecemos un helado! \n",
    "if hoy_es_viernes and congelador_en_marcha:\n",
    "    print('Coge un helado, ¡te lo mereces!')\n",
    "\n",
    "# en caso de que sea viernes (hoy_es_viernes == True), Y el congelador no funcione ( not congelador en marcha o congelador_en_marcha == False) sal y comprate un helado\n",
    "elif hoy_es_viernes and not congelador_en_marcha:\n",
    "    print('Sal a la heladería, ¡te lo mereces!')\n",
    "\n",
    "else:\n",
    "    print(\"Todavía no toca helado, pero ya queda menos!\")"
   ]
  },
  {
   "cell_type": "code",
   "execution_count": 79,
   "metadata": {},
   "outputs": [
    {
     "name": "stdout",
     "output_type": "stream",
     "text": [
      "¿Es hoy viernes? False\n",
      "-------------------\n",
      "¿Está en congelador en marcha? False\n",
      "-------------------\n",
      "Todavía no toca helado, pero ya queda menos!\n"
     ]
    }
   ],
   "source": [
    "# ¿qué pasaría si no fuera viernes?\n",
    "\n",
    "\n",
    "hoy_es_viernes2 = False\n",
    "print(\"¿Es hoy viernes?\", hoy_es_viernes2)\n",
    "print(\"-------------------\")\n",
    "\n",
    "congelador_en_marcha2 = False\n",
    "print(\"¿Está en congelador en marcha?\", congelador_en_marcha2)\n",
    "print(\"-------------------\")\n",
    "\n",
    "\n",
    "if hoy_es_viernes2 and congelador_en_marcha2:\n",
    "    print('Coge un helado, ¡te lo mereces!')\n",
    "\n",
    "elif hoy_es_viernes2 and not congelador_en_marcha2:\n",
    "    print('Sal a la heladería, ¡te lo mereces!')\n",
    "else:\n",
    "    print(\"Todavía no toca helado, pero ya queda menos!\")"
   ]
  },
  {
   "cell_type": "markdown",
   "metadata": {},
   "source": [
    "Pero... nos podríamos preguntar que diferencia hay entre el `and` y el `or` \n",
    "\n",
    "- El `and` lo usaremos cuando queramos que se cumplan **TODAS** las condiciones que especificamos\n",
    "\n",
    "- El `or` lo usaremos cuando queramos que se cumplan **ALGUNA** de las condiciones que especifiquemos\n",
    "\n",
    "En los ejemplos que hemos visto hasta ahora estamos usando el `and`, pero veamos que pasaría si usaramos el `or` "
   ]
  },
  {
   "cell_type": "code",
   "execution_count": 80,
   "metadata": {},
   "outputs": [
    {
     "name": "stdout",
     "output_type": "stream",
     "text": [
      "¿Es hoy viernes? True\n",
      "-------------------\n",
      "¿Está en congelador en marcha? False\n",
      "-------------------\n",
      "Coge un helado, ¡te lo mereces!\n"
     ]
    }
   ],
   "source": [
    "print(\"¿Es hoy viernes?\", hoy_es_viernes)\n",
    "print(\"-------------------\")\n",
    "\n",
    "print(\"¿Está en congelador en marcha?\", congelador_en_marcha)\n",
    "print(\"-------------------\")\n",
    "\n",
    "# en este caso chequearemos si es viernes O el congelador está en marcha\n",
    "if hoy_es_viernes or congelador_en_marcha:\n",
    "        print('Coge un helado, ¡te lo mereces!')\n",
    "\n",
    "# en esta condición chequearemos si es viernes O si el congelador no funciona\n",
    "elif hoy_es_viernes or not congelador_en_marcha:\n",
    "        print('Sal a la heladería, ¡te lo mereces!')\n",
    "\n",
    "else:\n",
    "        print(\"Todavía no toca helado, pero ya queda menos!\")"
   ]
  },
  {
   "cell_type": "markdown",
   "metadata": {},
   "source": [
    "En este ejemplo,  **¿Qué es lo que está pasando?**\n",
    "\n",
    "Python va a empezar a leer el programa y seguirá los siguientes pasos: \n",
    "\n",
    "- El `if`: \n",
    "  - Es la variable `hoy_es_viernes == True` **O** la variable `congelador_en_marcha == True`. En caso de que se cumpla alguna de las condiciones el programa se parará y nos devolverá el mensaje de `Coge un helado`. Este es nuestro caso ya que aunque el congelador este apagado, es viernes! como esta primera condición se cumple, el programa se para y no sigue ejecutando las siguientes líneas de código. \n",
    "\n",
    "- En el `elif`: \n",
    "  - Es la variable `hoy_es_viernes == True` **O** la variable `congelador_en_marcha == False`\n",
    "\n",
    "- En el `else`:\n",
    "  - En caso de que no se cumplan ninguna de las condiciones anteriores, se ejecutará la línea de código que está dentro.\n",
    "\n",
    "\n",
    "Llegados a este punto, os animamos a que vayais cambiando los valores de las variables `hoy_es_viernes` y `congelador_en_marcha` para ver como van cambiando los resultados. "
   ]
  },
  {
   "cell_type": "markdown",
   "metadata": {
    "id": "9fM850rTKHzw"
   },
   "source": [
    "\n",
    "\n",
    "---\n",
    "\n"
   ]
  },
  {
   "cell_type": "markdown",
   "metadata": {
    "id": "ZRDIDpATEb-S"
   },
   "source": [
    "## Repaso: Condicionales if ... elif ... else\n",
    "\n",
    "- La sintaxis básica de estos condicionales es: \n",
    "\n",
    "    ```python\n",
    "    if condicion1: \n",
    "        pasan cosas # puede ser un print, operaciones aritmétricas, operaciones con listas, diccionarios, etc. \n",
    "\n",
    "    elif condición2: # si queremos incluir más de una condición. 📌 Podremos poner tantos elif como queramos\n",
    "        pasas cosas\n",
    "\n",
    "    else: # no tendremos que poner condiciones nunca. En el else se incluyen todas las condiciones que no se cumplan en los pasos anteriores\n",
    "        pasan cosas \n",
    "\n",
    "\n",
    "    # 🚨 todas las acciones después de los if, elif, else deben ir indentadas hacia la derecha\n",
    "\n",
    "    ```\n",
    "\n",
    "\n",
    "- Una condición es una comparación que da como resultado un `True` o un `False`. Si la comparación sólo menciona una variable, sin operador, se entiende como `== True`. De la misma manera `not` más una variable se entiende como que la variable `== False`.\n",
    "\n",
    "- Las condiciones son evaluadas de arriba hacia abajo. \n",
    "\n",
    "- En el momento que una condición se cumple el programa de para y no evalúa el resto de las condiciones.  Por lo tanto, el orden en el que establezcamos nuestras condiciones es importante!!\n",
    "\n",
    "   Para establecer las comparaciones podemos usar los operadores `>`, `<`, `==`, `!=` o las palabras `in` o `not in`. \n",
    "\n",
    "- Podemos incluir varias condiciones en una línea usando las palabras `and` y/u `or`. \n",
    "  - Con el `and` se tienen que cumplir **TODAS** las condiciones se tienen que cumplir\n",
    "  \n",
    "  - Con el operador `or` se tiene que cumplir **ALGUNA** de las condiciones. "
   ]
  },
  {
   "cell_type": "markdown",
   "metadata": {},
   "source": [
    "# Estructuras de iteración\n",
    "\n",
    "## while\n",
    "\n",
    "En Python, los bucles `while` son una estructura de control que permite ejecutar un bloque de código varias veces mientras se cumpla una determinada condición. El bucle `while` se repite continuamente mientras la condición especificada sea verdadera. Si la condición es falsa, el bucle `while` termina y la ejecución continúa con el código que sigue al bucle.\n",
    "\n",
    "La sintaxis básica del bucle `while` en Python es la siguiente:\n",
    "\n",
    "```python\n",
    "while condición:\n",
    "    # bloque de código a ejecutar mientras se cumpla la condición\n",
    "```\n",
    "La condición en el bucle \"while\" puede ser cualquier expresión booleana, es decir, cualquier expresión que se evalúe como verdadera o falsa. Por ejemplo, podemos utilizar una variable, una comparación, o cualquier otro operador o función que devuelva un valor booleano.\n",
    "\n",
    "> NORMALMENTE USAMOS UN `while` cuando no sabemos cuántas veces vamos a tener que ejecutar el bucle.\n",
    "\n",
    "\n",
    "Es importante tener en cuenta que, si la condición del bucle \"while\" nunca se vuelve falsa, el bucle se ejecutará infinitamente, lo que puede llevar a errores y problemas en el programa. Por lo tanto, es importante asegurarse de que la condición se vuelve falsa en algún momento."
   ]
  },
  {
   "cell_type": "markdown",
   "metadata": {},
   "source": [
    "Sigamos con el ejemplo de las peras que hemos ido usando en este jupyter. Hasta ahora teníamos una variable donde teníamos el número de peras que teníamos en la nevera. Pero seamos sinceras, eso no era del todo real. Lo ideal sería que cada vez que nos comieramos una pera, restaramos esa pera a la cantidad que teníamos. Y que cuando me quedarán menos de dos peras nos lo añadiera a la lista de la compra. \n",
    "\n",
    "Veamos como podríamos hacerlo con código de Python: "
   ]
  },
  {
   "cell_type": "code",
   "execution_count": 81,
   "metadata": {},
   "outputs": [
    {
     "name": "stdout",
     "output_type": "stream",
     "text": [
      "El límite de peras para ir al supermercado es: 2\n",
      "---------------------------\n",
      "El número de peras que tenemos en la nevera es: 11\n",
      "---------------------------\n",
      "El número de peras que tenemos en la nevera es 11\n",
      "El número de peras que tenemos en la nevera es 10\n",
      "El número de peras que tenemos en la nevera es 9\n",
      "El número de peras que tenemos en la nevera es 8\n",
      "El número de peras que tenemos en la nevera es 7\n",
      "El número de peras que tenemos en la nevera es 6\n",
      "El número de peras que tenemos en la nevera es 5\n",
      "El número de peras que tenemos en la nevera es 4\n",
      "El número de peras que tenemos en la nevera es 3\n"
     ]
    }
   ],
   "source": [
    "# los primero que vamos a hacer es definir una variable, que será nuestro límite de peras en la nevera. Cuando llegue a ese valor querremos añadirlo a la lista de la compra. \n",
    "\n",
    "limite_peras = 2\n",
    "\n",
    "print(\"El límite de peras para ir al supermercado es:\", limite_peras)\n",
    "print(\"---------------------------\")\n",
    "\n",
    "print(\"El número de peras que tenemos en la nevera es:\", numero_peras)\n",
    "print(\"---------------------------\")\n",
    "\n",
    "# lo que estamos haciendo aquí es establecer la condición usando el while, donde decimos que siempre que el número de peras sea mayor que el límite, seguiremos comiendo peras\n",
    "# este código parará cuando el número de peras sea igual o menor a el límite de peras que indicamos con nuestra variable limite_peras.\n",
    "while numero_peras > limite_peras:\n",
    "  print(f'El número de peras que tenemos en la nevera es {numero_peras}')\n",
    "\n",
    "  # cada vez que me como una pera la quito de la cantidad de peras que tenemos en la nevera\n",
    "  numero_peras -= 1    # recordemos que sinónimo de i = i + 1\n"
   ]
  },
  {
   "cell_type": "markdown",
   "metadata": {},
   "source": [
    "**¿Qué es lo que está pasando?** \n",
    "\n",
    "- Empezamos el bucle `while` y se va a evaluar si el `numero_peras` es mayor que el `limite_peras`, es decir, ¿es el numero_peras (11) mayor que limite_peras(2)?\n",
    "\n",
    "  -  En caso de que si, imprimimos el número de peras que tenemos y restamos una pera a la cantidad total. Es decir, después de este primer while y la resta, el número de peras será 10. \n",
    "  \n",
    "  \n",
    "-  Cómo la condición se ha cumplido se sique ejecutando el código. Volvemes a hacer la pregunta ¿es el numero_peras (en este caso 10, por que en el paso anterior ya restamos una) mayor que limite_peras(2)?\n",
    "\n",
    "    -  En caso de que si, imprimimos el número de peras que tenemos y restamos una pera a la cantidad total. Es decir, después de este primer while y la resta, el número de peras será 9.\n",
    "  \n",
    "-  Esto va a ocurrir hasta que la pregunta  ¿es el numero_peras mayor que limite_peras? sea False. En ese caso el bucle `while` se parará y terminará el programa. "
   ]
  },
  {
   "cell_type": "markdown",
   "metadata": {},
   "source": [
    "Veamos otro ejemplo, pero vamos a complicarlo un poquito. En el ejemplo anterior solo hemos visto un `while` sin incluir condiciones dentro. Pero lo podemos hacer! Dentro de un `while` podremos incluir `if`... `elif` ... `else`... \n",
    "\n",
    "En este caso vamos a crear un programa que mientras que nuestra condición sea True, le preguntaremos al usuario que seleccione una opción de las que le pasemos. En caso de que el usuario pase una opción no válida, cambiaremos el valor a False y el programa se parará. "
   ]
  },
  {
   "cell_type": "code",
   "execution_count": 86,
   "metadata": {},
   "outputs": [
    {
     "name": "stdout",
     "output_type": "stream",
     "text": [
      "El valor de la variable 'opcion' es: True\n",
      "-----------------\n",
      "Has seleccionado 'a'!\n",
      "Has seleccionado 'b'!\n",
      "Has seleccionado 'c'!\n",
      "Has seleccionado t ! la cual no es una opción inválida 😔\n",
      "\n"
     ]
    }
   ],
   "source": [
    "# definimos una variable con el valor de True. \n",
    "opcion = True\n",
    "\n",
    "print(\"El valor de la variable 'opcion' es:\", opcion)\n",
    "print(\"-----------------\")\n",
    "# especificamos que si la variable opcion es True, entonces seguiremos ejecutando el código\n",
    "while opcion == True:\n",
    "\n",
    "    # pedimos al usuario que introduzca una de las opciones que tenemos\n",
    "    selecciona_opcion = input(\"Por favor selecciona una letra de las siguientes: 'a', 'b', or 'c'\")\n",
    "\n",
    "    # empezamos poniendo condicionales if. Si la opción del usuario es \"a\", printeamos un mensaje indicando cuál fue la selección de usuario\n",
    "    if selecciona_opcion == \"a\":\n",
    "        print(\"Has seleccionado 'a'!\")\n",
    "\n",
    "    # hacemos lo mismo para el resto de las opciones que le pasamos al usuario\n",
    "    elif selecciona_opcion == \"b\":\n",
    "        print(\"Has seleccionado 'b'!\")\n",
    "    elif selecciona_opcion == \"c\":\n",
    "        print(\"Has seleccionado 'c'!\")\n",
    "    \n",
    "    # en caso de que el usuario no haya seleccionado ninguna de las opciones que le hemos pasado, entonces cambiaremos el valor de la variable opcion a False\n",
    "    else:\n",
    "        print(\"Has seleccionado\", selecciona_opcion, \"! la cual no es una opción inválida 😔\")\n",
    "\n",
    "        # en caso de que ocurra esta condición, nuestra variable opcion cambiará a False y el bucle while se parará, ya que para que funcione la variable opcion debe ser True\n",
    "        print()\n",
    "        opcion =  False"
   ]
  },
  {
   "cell_type": "markdown",
   "metadata": {},
   "source": [
    "Os animamos a que ejecuteis esta celda y probéis vosotras para terminar de interiorizar este ejercicio. "
   ]
  },
  {
   "cell_type": "markdown",
   "metadata": {},
   "source": [
    "-----------\n",
    "\n",
    "# Ejercicios  \n",
    "\n",
    "1. Crea las siguientes variables:\n",
    "\n",
    "  - `var1` sea un número con el valor `8`.\n",
    "\n",
    "  - `var2` sea un número con el valor `2`.\n",
    "\n",
    "  - `var3` sea un número con el valor `8`.\n",
    "\n",
    "2. Comprueba si `var1` es mayor que 6, y si es así imprime `¡Es enorme!`.\n",
    "\n",
    "3. Comprueba si `var2` es mayor que 6, y si es así imprime `¡Es enorme también!`.\n",
    "\n",
    "4. Comprueba si `var3` es mayor que 6, y si es así imprime `¡Es enorme!` seguido por `¡Pero de verdad!` en otra línea (deberéis tener dos *print*).\n",
    "\n",
    "5. Comprueba si `var1` es igual que `var3`, y si es así imprime `Son iguales.`.\n",
    "\n",
    "6. Comprueba si `var1` es igual que `var2`, y si es así imprime `Son iguales.`\n",
    "\n",
    "7. Comprueba si `var1` es mayor o igual que `var2`, y si es así calcula la diferencia entre `var1` y `var2`, guardala en la variable `dif`, e imprime `'La diferencia es',dif`. \n",
    "\n",
    "8. Comprueba si `var1` es mayor que 6, y si es así imprime `¡Es enorme!`. Si no es así imprime `Es chiquitín.`.\n",
    "\n",
    "9. Comprueba si `var2` es mayor que 6, y si es así imprime `¡Es enorme también!`. Si no es así imprime `Es chiquitín también.`.\n",
    "\n",
    "10. Comprueba si `var1` es igual a `var3`, y si es así imprime `Son iguales.` Si no es así imprime `Son distintos.`\n",
    "\n",
    "11. Escribe un programa para una empresa que tiene salas de juegos para todas las edades y quiere calcular de forma automática el precio que debe cobrar a sus clientes por entrar. El programa debe preguntar al usuario:\n",
    "\n",
    "    - La edad del cliente. \n",
    "    - Las condiciones que tendremos que chequear: \n",
    "\n",
    "      - Si el cliente es menor de 4 años puede entrar gratis, \n",
    "\n",
    "      - Si tiene entre 4 y 18 años debe pagar 5€ y \n",
    "\n",
    "      - Si es mayor de 18 años, 10€.\n",
    "\n",
    "\n",
    "12. Inicia la varible `ahorros` con un valor de `5`. Crea un bucle while que mientras los ahorros sean igual o menor que `20` imprima por pantalla la cantidad de ahorros que tenemos, y añádele `5` más. Cuando la variable ahorros supere el valor de 20 el bucle deberá parar. \n",
    "\n",
    "13. Escribe un programa que convierta grados Celsius a grados Fahrenheit o viceversa, según la elección del usuario. Para eso tendrás que preguntar: \n",
    "\n",
    "  - Desde que unidades va a convertir la temperatura, Celsius o Fahrenheit. \n",
    "\n",
    "  - Cuál es valor de la temperatura que quiere convertir. \n",
    "\n",
    "14.  Crea un programa que calcule el impuesto sobre la renta de una persona basado en su ingreso anual y su estado civil (soltero o casado). Para eso deberás: \n",
    "\n",
    "  - Solicitar al usuario su ingreso anual.\n",
    "\n",
    "  - Preguntar al usuario su estado civil, permitiendo dos opciones: \"soltero\" (S) o \"casado\" (C).\n",
    "\n",
    "  - Calcular el impuesto sobre la renta utilizando las siguientes reglas:\n",
    "\n",
    "    - Si el estado civil es \"soltero\" (S):\n",
    "\n",
    "      - Si el ingreso anual es menor o igual a $9,875, el impuesto es el 10% del ingreso anual.\n",
    "\n",
    "      - Si el ingreso anual está entre $9,876 y $40,125, el impuesto es el 10% de los primeros $9,875 más el 12% de la cantidad que excede los $9,875.\n",
    "     \n",
    "\n",
    "    - Si el estado civil es \"casado\" (C):\n",
    "    \n",
    "      - Si el ingreso anual es menor o igual a $19,850, el impuesto es el 10% del ingreso anual.\n",
    "\n",
    "      - Si el ingreso anual está entre $19,851 y $80,250, el impuesto es el 10% de los primeros $19,850 más el 12% de la cantidad que excede los $19,850.\n",
    "\n",
    "15. Crea un programa que evalúe el nivel de contaminación del aire en función de la concentración de partículas en suspensión (PM2.5) en microgramos por metro cúbico (µg/m³). Para eso deberás: \n",
    "\n",
    "  - Solicita al usuario que ingrese la concentración de PM2.5 en el aire en µg/m³. El usuario debe ingresar un valor numérico.\n",
    "\n",
    "  - Evalua el nivel de contaminación del aire según la siguiente escala:\n",
    "\n",
    "    - Si la concentración de PM2.5 es menor o igual a 12 µg/m³, el aire se considera \"Excelente\".\n",
    "\n",
    "    - Si la concentración de PM2.5 está entre 13 µg/m³ y 35 µg/m³, el aire se considera \"Bueno\".\n",
    "\n",
    "    - Si la concentración de PM2.5 está entre 36 µg/m³ y 55 µg/m³, el aire se considera \"Aceptable\".\n",
    "\n",
    "    - Si la concentración de PM2.5 está entre 56 µg/m³ y 150 µg/m³, el aire se considera \"No Saludable para Grupos Sensibles\".\n",
    "\n",
    "    - Si la concentración de PM2.5 es mayor a 150 µg/m³, el aire se considera \"No Saludable\".\n",
    "\n",
    "  - Muestra un mensaje indicando el estado de la calidad del aire. Por ejemplo, si la concentración de PM2.5 es 25 µg/m³, el programa debe mostrar: \"La calidad del aire es Buena\".\n",
    "\n",
    "  -  Además, si la concentración de PM2.5 está en la categoría \"No Saludable para Grupos Sensibles\" o \"No Saludable\", el programa debe advertir al usuario sobre los posibles efectos en la salud.\n",
    "\n",
    "  - Si la concentración ingresada por el usuario es negativa o no es un número válido, el programa debe mostrar un mensaje de error."
   ]
  },
  {
   "cell_type": "markdown",
   "metadata": {},
   "source": [
    "1. Crea las siguientes variables:\n",
    "\n",
    "  - `var1` sea un número con el valor `8`.\n",
    "\n",
    "  - `var2` sea un número con el valor `2`.\n",
    "\n",
    "  - `var3` sea un número con el valor `8`."
   ]
  },
  {
   "cell_type": "code",
   "execution_count": 1,
   "metadata": {},
   "outputs": [],
   "source": [
    "var1 = 8\n",
    "var2 = 2\n",
    "var3 = 8"
   ]
  },
  {
   "cell_type": "markdown",
   "metadata": {},
   "source": [
    "2. Comprueba si `var1` es mayor que 6, y si es así imprime `¡Es enorme!`."
   ]
  },
  {
   "cell_type": "code",
   "execution_count": 2,
   "metadata": {},
   "outputs": [
    {
     "name": "stdout",
     "output_type": "stream",
     "text": [
      "¡Es enorme!\n"
     ]
    }
   ],
   "source": [
    "if var1 > 6: \n",
    "    print('¡Es enorme!')"
   ]
  },
  {
   "cell_type": "markdown",
   "metadata": {},
   "source": [
    "3. Comprueba si `var2` es mayor que 6, y si es así imprime `¡Es enorme también!`."
   ]
  },
  {
   "cell_type": "code",
   "execution_count": 3,
   "metadata": {},
   "outputs": [],
   "source": [
    "if var2 > 6:\n",
    "    print('Es enorme también!')"
   ]
  },
  {
   "cell_type": "markdown",
   "metadata": {},
   "source": [
    "4. Comprueba si `var3` es mayor que 6, y si es así imprime `¡Es enorme!` seguido por `¡Pero de verdad!` en otra línea (deberéis tener dos *print*)."
   ]
  },
  {
   "cell_type": "code",
   "execution_count": 4,
   "metadata": {},
   "outputs": [
    {
     "name": "stdout",
     "output_type": "stream",
     "text": [
      "¡Es enorme!\n",
      "¡Pero de verdad!\n"
     ]
    }
   ],
   "source": [
    "if var3 > 6:\n",
    "    print('¡Es enorme!')\n",
    "    print('¡Pero de verdad!')"
   ]
  },
  {
   "cell_type": "markdown",
   "metadata": {},
   "source": [
    "5. Comprueba si `var1` es igual que `var3`, y si es así imprime `Son iguales.`."
   ]
  },
  {
   "cell_type": "code",
   "execution_count": 5,
   "metadata": {},
   "outputs": [
    {
     "name": "stdout",
     "output_type": "stream",
     "text": [
      "Son iguales.\n"
     ]
    }
   ],
   "source": [
    "if var1 == var3:\n",
    "    print ('Son iguales.')"
   ]
  },
  {
   "cell_type": "markdown",
   "metadata": {},
   "source": [
    "6. Comprueba si `var1` es igual que `var2`, y si es así imprime `Son iguales.`"
   ]
  },
  {
   "cell_type": "code",
   "execution_count": 6,
   "metadata": {},
   "outputs": [],
   "source": [
    "if var1 == var2:\n",
    "    print('Son iguales.')"
   ]
  },
  {
   "cell_type": "markdown",
   "metadata": {},
   "source": [
    "7. Comprueba si `var1` es mayor o igual que `var2`, y si es así calcula la diferencia entre `var1` y `var2`, guardala en la variable `dif`, e imprime `'La diferencia es',dif`. "
   ]
  },
  {
   "cell_type": "code",
   "execution_count": 7,
   "metadata": {},
   "outputs": [
    {
     "name": "stdout",
     "output_type": "stream",
     "text": [
      "La diferencia es 6\n"
     ]
    }
   ],
   "source": [
    "dif = var1 - var2\n",
    "if var1 >= var2:\n",
    "    print('La diferencia es', dif)"
   ]
  },
  {
   "cell_type": "markdown",
   "metadata": {},
   "source": [
    "8. Comprueba si `var1` es mayor que 6, y si es así imprime `¡Es enorme!`. Si no es así imprime `Es chiquitín.`."
   ]
  },
  {
   "cell_type": "code",
   "execution_count": 8,
   "metadata": {},
   "outputs": [
    {
     "name": "stdout",
     "output_type": "stream",
     "text": [
      "¡Es enorme!\n"
     ]
    }
   ],
   "source": [
    "if var1 > 6: \n",
    "    print('¡Es enorme!')\n",
    "else:\n",
    "    print('Es chiquitín.')"
   ]
  },
  {
   "cell_type": "markdown",
   "metadata": {},
   "source": [
    "9. Comprueba si `var2` es mayor que 6, y si es así imprime `¡Es enorme también!`. Si no es así imprime `Es chiquitín también.`"
   ]
  },
  {
   "cell_type": "code",
   "execution_count": 9,
   "metadata": {},
   "outputs": [
    {
     "name": "stdout",
     "output_type": "stream",
     "text": [
      "Es chiquitín también.\n"
     ]
    }
   ],
   "source": [
    "if var2 > 6: \n",
    "    print('¡Es enorme también!')\n",
    "else:\n",
    "    print('Es chiquitín también.')"
   ]
  },
  {
   "cell_type": "markdown",
   "metadata": {},
   "source": [
    "10. Comprueba si `var1` es igual a `var3`, y si es así imprime `Son iguales.` Si no es así imprime `Son distintos.`"
   ]
  },
  {
   "cell_type": "code",
   "execution_count": 10,
   "metadata": {},
   "outputs": [
    {
     "name": "stdout",
     "output_type": "stream",
     "text": [
      "Son iguales\n"
     ]
    }
   ],
   "source": [
    "if var1 == var3: \n",
    "    print('Son iguales')\n",
    "else:\n",
    "    print('Son distintos')"
   ]
  },
  {
   "cell_type": "markdown",
   "metadata": {},
   "source": [
    "11. Escribe un programa para una empresa que tiene salas de juegos para todas las edades y quiere calcular de forma automática el precio que debe cobrar a sus clientes por entrar. El programa debe preguntar al usuario:\n",
    "\n",
    "    - La edad del cliente. \n",
    "    - Las condiciones que tendremos que chequear: \n",
    "\n",
    "      - Si el cliente es menor de 4 años puede entrar gratis, \n",
    "\n",
    "      - Si tiene entre 4 y 18 años debe pagar 5€ y \n",
    "\n",
    "      - Si es mayor de 18 años, 10€."
   ]
  },
  {
   "cell_type": "code",
   "execution_count": 11,
   "metadata": {},
   "outputs": [
    {
     "name": "stdout",
     "output_type": "stream",
     "text": [
      "Pagarás 10 euros\n"
     ]
    }
   ],
   "source": [
    "edad = int(input('¿Cuántos años tienes?'))\n",
    "if edad < 4:\n",
    "    print('¡Puedes entrar gratis!')\n",
    "elif 4 <= edad <= 17:\n",
    "    print('¡Sólo pagarás 5 euros!')\n",
    "else:\n",
    "    print('Pagarás 10 euros')"
   ]
  },
  {
   "cell_type": "markdown",
   "metadata": {},
   "source": [
    "12. Inicia la varible `ahorros` con un valor de `5`. Crea un bucle while que mientras los ahorros sean igual o menor que `20` imprima por pantalla la cantidad de ahorros que tenemos, y añádele `5` más. Cuando la variable ahorros supere el valor de 20 el bucle deberá parar. "
   ]
  },
  {
   "cell_type": "code",
   "execution_count": 12,
   "metadata": {},
   "outputs": [
    {
     "name": "stdout",
     "output_type": "stream",
     "text": [
      "Tienes 5 euros\n",
      "Tienes 10 euros\n",
      "Tienes 15 euros\n",
      "Tienes 20 euros\n"
     ]
    }
   ],
   "source": [
    "ahorros = 5\n",
    "while ahorros <= 20:\n",
    "    print(f\"Tienes {ahorros} euros\")\n",
    "    ahorros += 5"
   ]
  },
  {
   "cell_type": "markdown",
   "metadata": {},
   "source": [
    "13. Escribe un programa que convierta grados Celsius a grados Fahrenheit o viceversa, según la elección del usuario. Para eso tendrás que preguntar: \n",
    "\n",
    "  - Desde que unidades va a convertir la temperatura, Celsius o Fahrenheit. \n",
    "\n",
    "  - Cuál es valor de la temperatura que quiere convertir. "
   ]
  },
  {
   "cell_type": "code",
   "execution_count": 27,
   "metadata": {},
   "outputs": [
    {
     "name": "stdout",
     "output_type": "stream",
     "text": [
      "La temperatura es -6.666666666666667 celsius.\n"
     ]
    }
   ],
   "source": [
    "unidad = input(\"¿Desde qué unidad vas a convertir? ¿Celsius o Fahrenheit?\").lower()\n",
    "\n",
    "temperatura = float(input(\"Introduce la temperatura que quieres convertir\"))\n",
    "\n",
    "fahrenheit = (temperatura * 9/5) + 32\n",
    "celsius = (temperatura - 32) * 5/9\n",
    "\n",
    "if unidad == \"celsius\":\n",
    "    print(\"La temperatura es \" + str(celsius) + \" celsius.\")\n",
    "elif unidad == \"fahrenheit\":\n",
    "    print(\"La temperatura es \" + str(fahrenheit) + \" grados fahrenheit.\")\n",
    "else:\n",
    "    print(\"Unidad no válida.\")\n",
    "\n"
   ]
  },
  {
   "cell_type": "markdown",
   "metadata": {},
   "source": [
    "14.  Crea un programa que calcule el impuesto sobre la renta de una persona basado en su ingreso anual y su estado civil (soltero o casado). Para eso deberás: \n",
    "\n",
    "  - Solicitar al usuario su ingreso anual.\n",
    "\n",
    "  - Preguntar al usuario su estado civil, permitiendo dos opciones: \"soltero\" (S) o \"casado\" (C).\n",
    "\n",
    "  - Calcular el impuesto sobre la renta utilizando las siguientes reglas:\n",
    "\n",
    "    - Si el estado civil es \"soltero\" (S):\n",
    "\n",
    "      - Si el ingreso anual es menor o igual a $9,875, el impuesto es el 10% del ingreso anual.\n",
    "\n",
    "      - Si el ingreso anual está entre $9,876 y $40,125, el impuesto es el 10% de los primeros $9,875 más el 12% de la cantidad que excede los $9,875.\n",
    "     \n",
    "\n",
    "    - Si el estado civil es \"casado\" (C):\n",
    "    \n",
    "      - Si el ingreso anual es menor o igual a $19,850, el impuesto es el 10% del ingreso anual.\n",
    "\n",
    "      - Si el ingreso anual está entre $19,851 y $80,250, el impuesto es el 10% de los primeros $19,850 más el 12% de la cantidad que excede los $19,850."
   ]
  },
  {
   "cell_type": "code",
   "execution_count": 28,
   "metadata": {},
   "outputs": [
    {
     "name": "stdout",
     "output_type": "stream",
     "text": [
      "El impuesto a pagar es: 4602.5\n"
     ]
    }
   ],
   "source": [
    "ingreso_anual = float(input(\"Introduce tu ingreso anual: \"))\n",
    "estado_civil = input(\"Introduce tu estado civil ('S' si estás soltero y 'C' si estás casado): \").upper()\n",
    "\n",
    "\n",
    "if estado_civil == 'S':\n",
    "    if ingreso_anual <= 9875:\n",
    "        impuesto = 0.10 * ingreso_anual\n",
    "    elif 9876 <= ingreso_anual <= 40125:\n",
    "        impuesto = 0.10 * 9875 + 0.12 * (ingreso_anual - 9875)\n",
    "    else:\n",
    "        impuesto = \"Valor fuera del rango especificado\"\n",
    "elif estado_civil == 'C':\n",
    "    if ingreso_anual <= 19850:\n",
    "        impuesto = 0.10 * ingreso_anual\n",
    "    elif 19851 <= ingreso_anual <= 80250:\n",
    "        impuesto = 0.10 * 19850 + 0.12 * (ingreso_anual - 19850)\n",
    "    else:\n",
    "        impuesto = \"Valor fuera del rango especificado\"\n",
    "else:\n",
    "    impuesto = \"Estado civil no reconocido\"\n",
    "\n",
    "print(f\"El impuesto a pagar es: {impuesto}\")\n"
   ]
  },
  {
   "cell_type": "markdown",
   "metadata": {},
   "source": [
    "15. Crea un programa que evalúe el nivel de contaminación del aire en función de la concentración de partículas en suspensión (PM2.5) en microgramos por metro cúbico (µg/m³). Para eso deberás: \n",
    "\n",
    "  - Solicita al usuario que ingrese la concentración de PM2.5 en el aire en µg/m³. El usuario debe ingresar un valor numérico.\n",
    "\n",
    "  - Evalua el nivel de contaminación del aire según la siguiente escala:\n",
    "\n",
    "    - Si la concentración de PM2.5 es menor o igual a 12 µg/m³, el aire se considera \"Excelente\".\n",
    "\n",
    "    - Si la concentración de PM2.5 está entre 13 µg/m³ y 35 µg/m³, el aire se considera \"Bueno\".\n",
    "\n",
    "    - Si la concentración de PM2.5 está entre 36 µg/m³ y 55 µg/m³, el aire se considera \"Aceptable\".\n",
    "\n",
    "    - Si la concentración de PM2.5 está entre 56 µg/m³ y 150 µg/m³, el aire se considera \"No Saludable para Grupos Sensibles\".\n",
    "\n",
    "    - Si la concentración de PM2.5 es mayor a 150 µg/m³, el aire se considera \"No Saludable\".\n",
    "\n",
    "  - Muestra un mensaje indicando el estado de la calidad del aire. Por ejemplo, si la concentración de PM2.5 es 25 µg/m³, el programa debe mostrar: \"La calidad del aire es Buena\".\n",
    "\n",
    "  -  Además, si la concentración de PM2.5 está en la categoría \"No Saludable para Grupos Sensibles\" o \"No Saludable\", el programa debe advertir al usuario sobre los posibles efectos en la salud.\n",
    "\n",
    "  - Si la concentración ingresada por el usuario es negativa o no es un número válido, el programa debe mostrar un mensaje de error."
   ]
  },
  {
   "cell_type": "code",
   "execution_count": 29,
   "metadata": {},
   "outputs": [
    {
     "name": "stdout",
     "output_type": "stream",
     "text": [
      "La calidad del aire es: Excelente\n"
     ]
    }
   ],
   "source": [
    "try:\n",
    "    pm25 = float(input(\"Introduce la concentración de PM2.5 en el aire en µg/m³: \"))\n",
    "\n",
    "    if pm25 < 0:\n",
    "        print(\"Error: La concentración no puede ser un valor negativo.\")\n",
    "    elif pm25 <= 12:\n",
    "        print(\"La calidad del aire es: Excelente\")\n",
    "    elif 13 <= pm25 <= 35:\n",
    "        print(\"La calidad del aire es: Buena\")\n",
    "    elif 36 <= pm25 <= 55:\n",
    "        print(\"La calidad del aire es: Aceptable\")\n",
    "    elif 56 <= pm25 <= 150:\n",
    "        print(\"La calidad del aire es: No Saludable para Grupos Sensibles\")\n",
    "    elif pm25 > 150:\n",
    "        print(\"La calidad del aire es: No Saludable\")\n",
    "    else:\n",
    "        print(\"Error: Valor de concentración no válido.\")\n",
    "    \n",
    "    if pm25 >= 56:\n",
    "        print(\"Advertencia: El aire podría tener efectos adversos en la salud.\")\n",
    "except ValueError:\n",
    "    print(\"Error: Por favor, introduce un valor numérico válido.\")\n"
   ]
  }
 ],
 "metadata": {
  "colab": {
   "collapsed_sections": [],
   "name": "02-boolean-statements.ipynb",
   "provenance": [
    {
     "file_id": "1lHGdy-osjs1puGjGpU1iU_FN0RFd80om",
     "timestamp": 1639470758251
    }
   ]
  },
  "kernelspec": {
   "display_name": "Python 3 (ipykernel)",
   "language": "python",
   "name": "python3"
  },
  "language_info": {
   "codemirror_mode": {
    "name": "ipython",
    "version": 3
   },
   "file_extension": ".py",
   "mimetype": "text/x-python",
   "name": "python",
   "nbconvert_exporter": "python",
   "pygments_lexer": "ipython3",
   "version": "3.11.7"
  },
  "toc": {
   "base_numbering": 1,
   "nav_menu": {},
   "number_sections": true,
   "sideBar": true,
   "skip_h1_title": false,
   "title_cell": "Table of Contents",
   "title_sidebar": "Contents",
   "toc_cell": true,
   "toc_position": {
    "height": "calc(100% - 180px)",
    "left": "10px",
    "top": "150px",
    "width": "307.2px"
   },
   "toc_section_display": true,
   "toc_window_display": true
  },
  "vscode": {
   "interpreter": {
    "hash": "31f2aee4e71d21fbe5cf8b01ff0e069b9275f58929596ceb00d14d90e3e16cd6"
   }
  }
 },
 "nbformat": 4,
 "nbformat_minor": 1
}
