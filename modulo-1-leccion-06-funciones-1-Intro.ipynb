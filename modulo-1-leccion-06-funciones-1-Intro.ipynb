{
 "cells": [
  {
   "cell_type": "markdown",
   "metadata": {
    "toc": true
   },
   "source": [
    "<h1>Table of Contents<span class=\"tocSkip\"></span></h1>\n",
    "<div class=\"toc\"><ul class=\"toc-item\"><li><span><a href=\"#¿Qué-son-las-funciones?\" data-toc-modified-id=\"¿Qué-son-las-funciones?-1\"><span class=\"toc-item-num\">1&nbsp;&nbsp;</span>¿Qué son las funciones?</a></span></li><li><span><a href=\"#Motivación-de-las-funciones\" data-toc-modified-id=\"Motivación-de-las-funciones-2\"><span class=\"toc-item-num\">2&nbsp;&nbsp;</span>Motivación de las funciones</a></span></li><li><span><a href=\"#Algunos-conceptos-útiles-que-nos-ayudaran-a-lo-largo-de-la-lección\" data-toc-modified-id=\"Algunos-conceptos-útiles-que-nos-ayudaran-a-lo-largo-de-la-lección-3\"><span class=\"toc-item-num\">3&nbsp;&nbsp;</span>Algunos conceptos útiles que nos ayudaran a lo largo de la lección</a></span><ul class=\"toc-item\"><li><span><a href=\"#Variables-locales-vs-globales\" data-toc-modified-id=\"Variables-locales-vs-globales-3.1\"><span class=\"toc-item-num\">3.1&nbsp;&nbsp;</span>Variables locales <em>vs</em> globales</a></span><ul class=\"toc-item\"><li><span><a href=\"#Variables-locales\" data-toc-modified-id=\"Variables-locales-3.1.1\"><span class=\"toc-item-num\">3.1.1&nbsp;&nbsp;</span>Variables locales</a></span></li><li><span><a href=\"#Variables-globales\" data-toc-modified-id=\"Variables-globales-3.1.2\"><span class=\"toc-item-num\">3.1.2&nbsp;&nbsp;</span>Variables globales</a></span></li></ul></li><li><span><a href=\"#Argumentos-vs-parámetros\" data-toc-modified-id=\"Argumentos-vs-parámetros-3.2\"><span class=\"toc-item-num\">3.2&nbsp;&nbsp;</span>Argumentos <em>vs</em> parámetros</a></span></li></ul></li><li><span><a href=\"#Funciones-sin-parámetros\" data-toc-modified-id=\"Funciones-sin-parámetros-4\"><span class=\"toc-item-num\">4&nbsp;&nbsp;</span>Funciones sin parámetros</a></span></li><li><span><a href=\"#Funciones-con-parámetros\" data-toc-modified-id=\"Funciones-con-parámetros-5\"><span class=\"toc-item-num\">5&nbsp;&nbsp;</span>Funciones con parámetros</a></span></li><li><span><a href=\"#Lambdas\" data-toc-modified-id=\"Lambdas-6\"><span class=\"toc-item-num\">6&nbsp;&nbsp;</span>Lambdas</a></span><ul class=\"toc-item\"><li><span><a href=\"#Lambdas-con-un-parámetro\" data-toc-modified-id=\"Lambdas-con-un-parámetro-6.1\"><span class=\"toc-item-num\">6.1&nbsp;&nbsp;</span>Lambdas con un parámetro</a></span></li><li><span><a href=\"#Lambdas-con-dos-parámetros-y-lambdas-parámetros-por-defecto\" data-toc-modified-id=\"Lambdas-con-dos-parámetros-y-lambdas-parámetros-por-defecto-6.2\"><span class=\"toc-item-num\">6.2&nbsp;&nbsp;</span>Lambdas con dos parámetros y lambdas parámetros por defecto</a></span></li></ul></li><li><span><a href=\"#Ejercicios\" data-toc-modified-id=\"Ejercicios-7\"><span class=\"toc-item-num\">7&nbsp;&nbsp;</span>Ejercicios</a></span></li></ul></div>"
   ]
  },
  {
   "cell_type": "markdown",
   "metadata": {},
   "source": [
    "# ¿Qué son las funciones? \n",
    "En Python, una función es un bloque de código que se puede llamar para realizar una tarea específica. Las funciones se utilizan para organizar el código en piezas más pequeñas y manejables, lo que puede hacer que el código sea más fácil de leer, entender y mantener. Realmente ya sabes usar funciones una vez que estén definidas, pero repasamos algunas propiedades. El código dentro de una función sólo se ejecuta al *llamarla*. Puedes ir definiendo funciones sin repercusión ninguna hasta que la llames, y ahí te darás cuenta si lo que has programado cumple con tus intenciones. Una función siempre tiene paréntesis. El resultado de una función puede ser una variable nueva, el haber cambiado una variable, o cualquier otra cosa como abrir un archivo u mandar un correo o lo que sea.\n",
    "\n",
    "# Motivación de las funciones\n",
    "\n",
    "- `Reutilización`: supongamos que escribimos un código que es muy útil para nuestro objetivo, y según avanzamos en nuestro trabajo vemos que lo vamos a necesitar en varias ocasiones. En este caso podemos copiar y pegar una y otra vez el código, pero esto puede resultar algo tedioso si lo tenemos que hacer muchas veces.\n",
    "\n",
    "    Imaginemos ahora que hemos encontrado un error en nuestro código, tendríamos que ir uno a uno cambiándolo, lo que podría llevar a que se nos olvidará en alguna de las copias o nos equivoquemos.\n",
    "\n",
    "    La solución para esto, crear una función que realice la tarea que queremos repetir.\n",
    "\n",
    "- `Modularidad`: las funciones permiten dividir procesos en pasos más pequeños.\n",
    "\n",
    "    Imaginemos que tenemos un código que lee un archivo, procesa el contenido y escribe un archivo de salida. Nosotros nos podremos crear tres funciones, una para cada tarea que sea universal para este archivo pero también para cualquier otro.\n",
    "\n",
    "**Las funciones en Python tienen los siguientes componentes principales:**\n",
    "\n",
    "- Estamento `def`: es la palabra clave que tendremos que usar para empezar a definir una función, es obligatorio.\n",
    "\n",
    "- El `nombre de la función`: podremos llamar a las funciones como nosotras queramos. Como recomendación, usad nombres que sean intuitivos y autodescriptivos. Leyendolos tenemos que saber que hace la función. Es obligatorio.\n",
    "\n",
    "- Los `parámetros`: son los parámetros que recibiran las funciones, siempre tienen que ir entre paréntesis. Es opcional, aunque los paréntesis siempre tienen que estar, es decir, siempre habrá paréntesis pero estos pueden ir vacíos. \n",
    "\n",
    "- Estamento `return`: indica que \"se ha terminado\" de procesar el código de la función. Es opcional. Ya aprenderemos que pasa si no ponemos un `return` en nuestras funciones. \n",
    "\n",
    "\n",
    "![funcion](https://github.com/Adalab/data_imagenes/blob/main/Modulo-1/python/funciones.png?raw=true)\n",
    "\n",
    "En este ejemplo, definimos una función llamada `far_to_celsius` que acepta un argumento \"temp\". Dentro de la función, realizamos una serie de operaciones para convertir una temperatura de grados centigrados a grados farenheit que incluye la temperatura que hemos pasado como argumento."
   ]
  },
  {
   "cell_type": "markdown",
   "metadata": {},
   "source": [
    "# Algunos conceptos útiles que nos ayudaran a lo largo de la lección"
   ]
  },
  {
   "cell_type": "markdown",
   "metadata": {},
   "source": [
    "## Variables locales *vs* globales\n",
    "\n",
    "Las **variables globales** son aquellas que **no** están definidas dentro de ninguna función y tienen un alcance global, mientras que las **variables locales** son aquellas que están definidas dentro de una función y su alcance está limitado sólo a esa función.\n",
    "\n",
    "> En otras palabras, podemos decir que las variables locales son accesibles sólo dentro de la función en la que se inicializó mientras que las variables globales son accesibles en todo el programa y dentro de cada función."
   ]
  },
  {
   "cell_type": "markdown",
   "metadata": {},
   "source": [
    "### Variables locales\n",
    "\n",
    "Una **variable local** es una variable definida dentro de una función y que solo está disponible dentro del ámbito de esa función. Es decir, una variable local solo puede ser utilizada dentro de la función donde se ha definido.\n",
    "\n",
    "Cuando se define una variable dentro de una función, se crea una variable local con el mismo nombre que la variable definida. Esta variable local solo existe dentro de la función y no se puede acceder desde fuera de ella. Además, cuando se define una variable local con el mismo nombre que una variable global, la variable local oculta la variable global dentro de la función."
   ]
  },
  {
   "cell_type": "code",
   "execution_count": 1,
   "metadata": {},
   "outputs": [],
   "source": [
    "# creemos una función. No es necesario que entendáis todavía el código, solo el concepto de variable local\n",
    "def mi_funcion():\n",
    "    #variable local\n",
    "    verdad = \"Me gusta Python\"\n",
    "    return verdad"
   ]
  },
  {
   "cell_type": "code",
   "execution_count": 2,
   "metadata": {},
   "outputs": [
    {
     "ename": "NameError",
     "evalue": "name 'verdad' is not defined",
     "output_type": "error",
     "traceback": [
      "\u001b[0;31m---------------------------------------------------------------------------\u001b[0m",
      "\u001b[0;31mNameError\u001b[0m                                 Traceback (most recent call last)",
      "Cell \u001b[0;32mIn[2], line 3\u001b[0m\n\u001b[1;32m      1\u001b[0m \u001b[39m# Si ahora queremos el valor de la variable \"verdad\" usando un print, no va a dar un error. \u001b[39;00m\n\u001b[1;32m      2\u001b[0m \u001b[39m# y es que como hemos dicho, la variable \"verdad\" solo existe cuando usamos la función \"mi_funcion\", fuera de ella Python nunca la reconocerá. \u001b[39;00m\n\u001b[0;32m----> 3\u001b[0m verdad\n",
      "\u001b[0;31mNameError\u001b[0m: name 'verdad' is not defined"
     ]
    }
   ],
   "source": [
    "# Si ahora queremos el valor de la variable \"verdad\" usando un print, no va a dar un error. \n",
    "# y es que como hemos dicho, la variable \"verdad\" solo existe cuando usamos la función \"mi_funcion\", fuera de ella Python nunca la reconocerá. \n",
    "verdad"
   ]
  },
  {
   "cell_type": "markdown",
   "metadata": {},
   "source": [
    "### Variables globales\n",
    "\n",
    "Una **variable global** es una variable definida fuera de una función y que está disponible en todo el programa, es decir, en cualquier lugar donde se haga referencia a ella. Una variable global se puede acceder desde cualquier función o parte del código que esté en el mismo archivo de Python o Jupyter.\n",
    "\n",
    "Cuando se define una variable global, esta se puede utilizar y modificar en cualquier parte del programa.\n"
   ]
  },
  {
   "cell_type": "code",
   "execution_count": 3,
   "metadata": {},
   "outputs": [
    {
     "name": "stdout",
     "output_type": "stream",
     "text": [
      " Dentro de la funcion:  Python es el mejor lenguaje de programación\n"
     ]
    }
   ],
   "source": [
    "# imaginemos ahora que definimos una variable que llamaremos \"la_verdad\" fuera de una función\n",
    "la_verdad = 'Python es el mejor lenguaje de programación'\n",
    "\n",
    "# volvemos a definir una función, en cuyo interior vamos a llamar a la variable que hemos definido previamente llamada \"la verdad\"\n",
    "def mi_funcion2():\n",
    "    print(f' Dentro de la funcion:  {la_verdad}')\n",
    "    \n",
    "# después de definir la función vamos a llamarla, escribiendo el nombre de la función seguido de dos paréntesis\n",
    "mi_funcion2()"
   ]
  },
  {
   "cell_type": "code",
   "execution_count": 4,
   "metadata": {},
   "outputs": [
    {
     "name": "stdout",
     "output_type": "stream",
     "text": [
      "Fuera de la función: Python es el mejor lenguaje de programación\n"
     ]
    }
   ],
   "source": [
    "# que pasaría si ahora llamo a la variable de la misma forma que hicimos en el ejemplo anterior, que recordemos, nos daba error. \n",
    "print(f'Fuera de la función: {la_verdad}')"
   ]
  },
  {
   "cell_type": "markdown",
   "metadata": {},
   "source": [
    "Ahora no nos da error!!! Esto es debido a que es una variable global, y la podremos usar en cualquier momento en nuestro código, independientemente de que esté dentro o fuera de una función. "
   ]
  },
  {
   "cell_type": "markdown",
   "metadata": {},
   "source": [
    "## Argumentos *vs* parámetros\n",
    "\n",
    "En Python, el término \"parámetros\" y \"argumentos\" se usan a menudo de manera intercambiable, pero en realidad son dos cosas diferentes.\n",
    "\n",
    "Los `parámetros` son las variables que se definen en la definición de la función, y que reciben los valores que se pasan como argumentos al llamar a la función. Los parámetros se definen en la declaración de la función y actúan como variables locales dentro del cuerpo de la función.\n",
    "\n",
    "Los `argumentos` son los valores que se pasan a una función cuando se llama a la misma. Estos argumentos pueden ser cualquier objeto de Python, como números, cadenas, listas, tuplas, diccionarios, entre otros.\n",
    "\n",
    "La principal diferencia entre los `parámetros` y los `argumentos` es que los parámetros son una parte de la definición de la función, mientras que los argumentos son los valores que se pasan a la función cuando se llama a la misma.\n",
    "\n",
    "Veamos un ejemplo:\n",
    "\n",
    "```python\n",
    "def multiplicar(num1, num2):\n",
    "    return num1 * num2\n",
    "\n",
    "resultado = multiplicar(2, 3)\n",
    "```\n",
    "\n",
    "En este ejemplo, \"num1\" y \"num2\" son los parámetros de la función \"multiplicar\". Cuando llamamos a la función y le pasamos los valores 2 y 3 como argumentos, Python asigna estos valores a los parámetros \"num1\" y \"num2\". Por último, el resultado de la función se almacena en la variable \"resultado\"."
   ]
  },
  {
   "cell_type": "markdown",
   "metadata": {},
   "source": [
    "# Funciones sin parámetros\n",
    "\n",
    "Son aquellas funciones que no van a recibir ningún parámetro, es decir, no pondremos nada entre los paréntesis.  Como hemos visto, en Python, la definición de funciones se realiza mediante la instrucción `def` más un nombre de función descriptivo - para el cuál, aplican las mismas reglas que para el nombre de las variables - seguido de paréntesis de apertura y cierre. Como toda estructura de control en Python, la definición de la función finaliza con dos puntos (:) y el código que la compone, irá identado con 4 espacios. \n",
    "\n",
    "Una función, no es ejecutada hasta que no sea invocada. Para invocar una función, simplemente se la llama por su nombre, seguido de dos paréntesis, en el caso de las funciones sin parámetros como las que estamos viendo. Veamos un ejemplo: \n"
   ]
  },
  {
   "cell_type": "code",
   "execution_count": 5,
   "metadata": {},
   "outputs": [
    {
     "name": "stdout",
     "output_type": "stream",
     "text": [
      "El valor de 'x' dentro de la función es: 10\n"
     ]
    }
   ],
   "source": [
    "# emepezamos creando la función a la que le pondremos el nombre de \"ejemplo_funcion\", la cuál no va recibir ningún parámetro. \n",
    "def ejemplo_funcion():\n",
    "    \n",
    "    # dentro de la función creamos una variable \"x\" la cuál va tendrá el valor de 10\n",
    "    x = 10\n",
    "    # por último podemos un print para que nos salga un mensaje por pantalla donde podamos ver el valor de la variable \"x\" definida previamente\n",
    "    print(\"El valor de 'x' dentro de la función es:\", x)\n",
    "\n",
    "# llamamos o invocamos a la función a la que hemos creado previamente \n",
    "ejemplo_funcion()"
   ]
  },
  {
   "cell_type": "markdown",
   "metadata": {},
   "source": [
    "Y voilá! Ya hemos creado nuestra primera función 💪🏽. \n",
    "\n",
    "Ahora nos puede surgir la siguiente duda 🤔. ¿Podríamos almacenar ese saludo que nos devuelve la función `ejemplo_funcion` en una variable? Y la respuesta es que SI!!"
   ]
  },
  {
   "cell_type": "code",
   "execution_count": 6,
   "metadata": {},
   "outputs": [
    {
     "name": "stdout",
     "output_type": "stream",
     "text": [
      "El valor de 'x' dentro de la función es: 10\n",
      "el print que tenemos dentro de la función es: None\n"
     ]
    }
   ],
   "source": [
    "# para almacenar el resultado en una variable lo único que tendremos que hacer será igualar la función a una variable. De la misma forma que lo hacemos cuando definimos una lista, un diccionario, etc. \n",
    "mensaje =  ejemplo_funcion()\n",
    "\n",
    "# Vemos que en pantalla nos ha salido el saludo, pero.. ¿Qué contienen la variable saludo? Veámoslo!\n",
    "print(\"el print que tenemos dentro de la función es:\", mensaje)\n"
   ]
  },
  {
   "cell_type": "markdown",
   "metadata": {},
   "source": [
    "Ups... nos esta devolviendo un None!!!! 🤯 ¿Esto por qué es? Por que nuestra función no tiene `return`. **Y es que una función sin return no nos devuelve nada, en concreto nos devuelve un `None`**. Entonces... ¿Por qué nos apareció en pantalla \"El valor de x dentro de la función es: 10\"? En Python, `print` y `return` son dos palabras clave diferentes que se utilizan en funciones para mostrar o devolver resultados. Sin embargo, su funcionamiento es diferente y cada una se utiliza para un propósito diferente.\n",
    "\n",
    "La palabra clave `print` se utiliza para mostrar información en pantalla. Al utilizar `print`, se imprime el valor de una variable o una cadena de texto en la consola. Por ejemplo:\n"
   ]
  },
  {
   "cell_type": "code",
   "execution_count": 7,
   "metadata": {},
   "outputs": [
    {
     "name": "stdout",
     "output_type": "stream",
     "text": [
      "Hola, mundo!\n"
     ]
    }
   ],
   "source": [
    "def imprimir_mensaje():\n",
    "    mensaje = \"Hola, mundo!\"\n",
    "    print(mensaje)\n",
    "\n",
    "imprimir_mensaje()"
   ]
  },
  {
   "cell_type": "markdown",
   "metadata": {},
   "source": [
    "En este ejemplo, se define una función llamada \"imprimir_mensaje\" que asigna un mensaje a una variable llamada \"mensaje\" y luego lo imprime en la consola utilizando la palabra clave \"print\".\n",
    "\n",
    "Por otro lado, la palabra clave `return` se utiliza para devolver un valor desde una función. Al utilizar `return`, se devuelve el valor de una variable o una expresión para que se pueda utilizar en otra parte del programa. Por ejemplo:"
   ]
  },
  {
   "cell_type": "code",
   "execution_count": 8,
   "metadata": {},
   "outputs": [
    {
     "name": "stdout",
     "output_type": "stream",
     "text": [
      "12\n"
     ]
    }
   ],
   "source": [
    "def sumar_numeros(a, b):\n",
    "    resultado = a + b\n",
    "    return resultado\n",
    "\n",
    "total = sumar_numeros(5, 7)\n",
    "print(total)\n"
   ]
  },
  {
   "cell_type": "markdown",
   "metadata": {},
   "source": [
    "En este ejemplo, se define una función llamada \"sumar_numeros\" que recibe dos parámetros \"a\" y \"b\" y devuelve el resultado de la suma utilizando la palabra clave \"return\". Luego, se llama a la función con los valores 5 y 7, y se asigna el resultado a una variable llamada \"total\". Finalmente, se imprime el valor de \"total\" en la consola.\n",
    "\n",
    "En resumen, la palabra clave `print` se utiliza para mostrar información en la consola, mientras que la palabra clave `return` se utiliza para devolver un valor desde una función para su uso posterior en otra parte del programa. Pongamos otro ejemplo de función **con `return`** y **sin `return`**. En este caso caso vamos a definir una función que va ser capaz de identificar los número que son pares de una lista. Al final la función devolverá una lista con los números pares. "
   ]
  },
  {
   "cell_type": "code",
   "execution_count": 9,
   "metadata": {},
   "outputs": [
    {
     "name": "stdout",
     "output_type": "stream",
     "text": [
      "los números pares de la lista que tenemos dentro de la función son:  [2, 4, 6, 8]\n"
     ]
    }
   ],
   "source": [
    "# definimos la función con la palabra clave \"def\" y el nombre de la función seguido de los paréntesis \n",
    "def es_par():\n",
    "\n",
    "    # definimos una lista de números\n",
    "    numeros = [1,2,3,4,5,6,7,8,9]\n",
    "\n",
    "    # definimos una lista vacía donde iremos almancenado los resultados que  nos interesan.\n",
    "    pares = []\n",
    "\n",
    "    # iteramos por la lista de números\n",
    "    for num in numeros: \n",
    "\n",
    "        # establecemos la condición para seleccionar solo los números pares\n",
    "        if num % 2 == 0:\n",
    "\n",
    "            # en caso de que se cumpla la condición, añadimos el número a la lista vacía\n",
    "            pares.append(num) \n",
    "        \n",
    "        # en caso de que no se cumpla la condición\n",
    "        else:\n",
    "            # no queremos que pase nada, usamos la palabra clave pass que aprendimos en lecciones anteriores\n",
    "            pass\n",
    "\n",
    "    # cuando termine de iterar por toda la lista, queremos que la función nos devuelva la lista con los números pares. \n",
    "    return pares\n",
    "\n",
    "# llamamos a la función y almacenamos los resultados en una variable que se llame \"pares\". \n",
    "pares = es_par()\n",
    "print(\"los números pares de la lista que tenemos dentro de la función son: \", pares)\n"
   ]
  },
  {
   "cell_type": "code",
   "execution_count": 10,
   "metadata": {},
   "outputs": [
    {
     "name": "stdout",
     "output_type": "stream",
     "text": [
      "los números pares de la lista que tenemos dentro de la función son:  None\n"
     ]
    }
   ],
   "source": [
    "# definamos la misma función, pero en este caso sin return \n",
    "# definimos la función con la palabra clave \"def\" y el nombre de la función seguido de los paréntesis \n",
    "def es_par2():\n",
    "\n",
    "    # definimos una lista de números\n",
    "    numeros = [1,2,3,4,5,6,7,8,9]\n",
    "\n",
    "    # definimos una lista vacía donde iremos almancenado los resultados que  nos interesan.\n",
    "    pares = []\n",
    "\n",
    "    # iteramos por la lista de números\n",
    "    for num in numeros: \n",
    "\n",
    "        # establecemos la condición para seleccionar solo los números pares\n",
    "        if num % 2 == 0:\n",
    "\n",
    "            # en caso de que se cumpla la condición, añadimos el número a la lista vacía\n",
    "            pares.append(num) \n",
    "        \n",
    "        # en caso de que no se cumpla la condición\n",
    "        else:\n",
    "            # no queremos que pase nada, usamos la palabra clave pass que aprendimos en lecciones anteriores\n",
    "            pass\n",
    "\n",
    "# llamamos a la función y almacenamos los resultados en una variable que se llame \"pares\". \n",
    "pares2 = es_par2()\n",
    "print(\"los números pares de la lista que tenemos dentro de la función son: \", pares2)\n"
   ]
  },
  {
   "cell_type": "markdown",
   "metadata": {},
   "source": [
    "Vemos como en el caso de la primera función si nos devuelve la lista de números pares y como en la segunda funcion, donde no teníamos `return`, la función nos devuelve None. \n",
    "📌 **NOTA importante sobre el return en las funciones** Es importante tener en cuenta que en las funciones, en el momento en el que se encuentre un `return` se parará el código. Veamos que pasa si lo ponemos dentro del for: "
   ]
  },
  {
   "cell_type": "code",
   "execution_count": 11,
   "metadata": {},
   "outputs": [
    {
     "name": "stdout",
     "output_type": "stream",
     "text": [
      "los números pares de la lista que tenemos dentro de la función son:  [2]\n"
     ]
    }
   ],
   "source": [
    "# definimos la función es_par pero con algunos cambios\n",
    "def es_par3():\n",
    "\n",
    "    numeros = [1,2,3,4,5,6,7,8,9]\n",
    "\n",
    "    pares = []\n",
    "\n",
    "    for num in numeros: \n",
    "\n",
    "        if num % 2 == 0:\n",
    "\n",
    "            pares.append(num) \n",
    "\n",
    "            # si ponemos el return dentro del if\n",
    "            return pares\n",
    "        \n",
    "        else:\n",
    "            pass\n",
    "\n",
    "pares3 = es_par3()\n",
    "print(\"los números pares de la lista que tenemos dentro de la función son: \", pares3)\n"
   ]
  },
  {
   "cell_type": "markdown",
   "metadata": {},
   "source": [
    "Ups... Solo nos devolvió un número. Esto ocurrió porque pusimos el `return` dentro del `if`. Y es que, en el momento en el que se cumplió la condición, el número se apendeó a la lista, y luego se ejecutó el `return`, parándose todo el código de nuestra función. \n",
    "\n",
    "Por lo tanto, cosas importantes que hemos aprendido hasta ahora: \n",
    "\n",
    "- Una función **sin return** nos devuelve None\n",
    "\n",
    "- Para definir una función necesitaremos usar el estamento `def` seguido del nombre que queramos\n",
    "\n",
    "- En una función, una vez que se encuentra con un `return` se parará todo el código. \n",
    "\n",
    "- `print()` sirve para mostrar un mensaje en la pantalla, mientras que `return` se utiliza para establecer el resultado (o valor de retorno) de la función"
   ]
  },
  {
   "cell_type": "markdown",
   "metadata": {},
   "source": [
    "# Funciones con parámetros\n",
    "\n",
    "\n",
    "Hasta ahora solo hemos visto funciones sin parámetros, sin embargo, las funciones pueden tener uno o varios parámetros, que son variables que se utilizan para recibir valores externos en la función. Los parámetros son una forma de personalizar la función y hacerla más flexible, permitiendo que se utilice con diferentes valores de entrada.\n",
    "\n",
    "Para definir una función con parámetros en Python, se utiliza la siguiente sintaxis:\n",
    "\n",
    "```python\n",
    "def nombre_de_la_funcion(parametro1, parametro2, ...):\n",
    "    # Código de la función aquí\n",
    "```\n",
    "\n",
    "En este ejemplo, \"nombre_de_la_funcion\" es el nombre que le damos a la función, y \"parametro1\", \"parametro2\", etc. son los nombres que le damos a los parámetros que recibirá la función. Los parámetros se separan por comas y se pueden definir tantos como sea necesario.\n",
    "\n",
    "Una vez que se han definido los parámetros, se pueden utilizar dentro de la función como si fueran variables normales. Por ejemplo, considera la siguiente función que suma dos números:\n",
    "\n",
    "```python\n",
    "def sumar(a, b):\n",
    "    resultado = a + b\n",
    "    print(\"La suma de\", a, \"y\", b, \"es:\", resultado)\n",
    "\n",
    "\n",
    "# llamamos a la función\n",
    "sumar(5, 7)\n",
    "```\n",
    "\n",
    "En este ejemplo, definimos una función llamada \"sumar\" que recibe dos parámetros, \"a\" y \"b\". Dentro de la función, sumamos los dos valores y guardamos el resultado en la variable \"resultado\". Luego, imprimimos un mensaje que indica cuál es la suma de los dos números.\n",
    "\n",
    "Finalmente, llamamos a la función \"sumar\" con los valores 5 y 7. Al llamar a la función de esta manera, Python pasará los valores 5 y 7 como argumentos para los parámetros \"a\" y \"b\" de la función. Como resultado, la función imprimirá el mensaje \"La suma de 5 y 7 es: 12\".\n",
    "\n",
    "Las funciones con parámetros tienen varias ventajas, entre ellas:\n",
    "\n",
    "\n",
    "- **Reutilización de código**: las funciones con parámetros permiten definir un conjunto de instrucciones que pueden ser ejecutadas varias veces con diferentes valores de entrada. De esta forma, se evita tener que repetir el mismo código una y otra vez en diferentes partes del programa.\n",
    "\n",
    "- **Flexibilidad**: los parámetros de una función permiten personalizar la forma en que se ejecuta la función para diferentes valores de entrada. Esto hace que la función sea más flexible y pueda adaptarse a diferentes situaciones.\n",
    "\n",
    "- **Legibilidad del código**: las funciones con parámetros pueden hacer que el código sea más fácil de leer y entender. Al tener los parámetros definidos claramente en la definición de la función, se hace más evidente qué valores se están utilizando en cada parte del código.\n",
    "\n",
    "- **Modularidad**: las funciones con parámetros hacen que el código sea más modular, lo que significa que se puede dividir en piezas más pequeñas y manejables. Cada función con parámetros puede realizar una tarea específica, lo que facilita el mantenimiento y la actualización del código.\n",
    "\n",
    "Sigamos con el ejemplo de la función de \"es_par\". En este caso, nosotras teníamos en el interior de la función una lista de números, pero... ¿qué pasaría si quisieramos evaluar otra lista de números? Tendríamos que modificar la función cambiando la lista. Esto puede resultar poco práctico, por lo que no sería una buena función. La solución, hacer que esta función reciba un parámetro que sea una lista, que nosotras podremos ir modificando. **NOTA** los parámetros de una función puede ser de cualquier tipo, *strings*, listas, tuplas, diccionarios, *integers*, *floats*. "
   ]
  },
  {
   "cell_type": "code",
   "execution_count": 12,
   "metadata": {},
   "outputs": [],
   "source": [
    "# lo primero que hacemos es recordar como era nuestra función. \n",
    "def es_par():\n",
    "\n",
    "    numeros = [1,2,3,4,5,6,7,8,9]\n",
    "\n",
    "    pares = []\n",
    "\n",
    "    for num in numeros: \n",
    "\n",
    "        if num % 2 == 0:\n",
    "\n",
    "            pares.append(num) \n",
    "        \n",
    "        else:\n",
    "            pass\n",
    "\n",
    "    return pares"
   ]
  },
  {
   "cell_type": "code",
   "execution_count": 13,
   "metadata": {},
   "outputs": [
    {
     "name": "stdout",
     "output_type": "stream",
     "text": [
      "los números pares de la lista que tenemos dentro de la función son:  [44, 56, 22, 98]\n",
      "--------------------------\n",
      "los números pares de la lista que tenemos dentro de la función son:  [12, 14, 16, 18, 20]\n"
     ]
    }
   ],
   "source": [
    "# modifiquemos al función para que reciba cualquier lista\n",
    "\n",
    "# definimos la función, pero en este caso entre paréntesis le pasaremos un parámetro. El nombre de ese parámetro puede ser el que queramos! En este caso lo hemos llamado \"nuestra_lista\", pero lo podríamos llamar por ejemplo \"brocoli\"\n",
    "def es_par_4(nuestra_lista):\n",
    "\n",
    "    # igual que antes iniciamos nuestra lista vacía. \n",
    "    pares = []\n",
    "\n",
    "    # iteramos por la lista de números, pero en este caso ya no se llama numeros. ¿Cómo se llama ahora? En este caso, \"nuestra_lista\", es decir, el nombre del parámetro que pusimos cuando definimos la función. En caso de que lo hubieramos llamado \"brocoli\" sería \"brocoli\"\n",
    "    for num in nuestra_lista: \n",
    "\n",
    "        # el resto del código se mantendrá exactamente igual\n",
    "        if num % 2 == 0:\n",
    "\n",
    "            pares.append(num) \n",
    "        \n",
    "        else:\n",
    "            pass\n",
    "\n",
    "    return pares\n",
    "\n",
    "\n",
    "# definimos una lista nueva \n",
    "lista_numeros1  = [23,44,56,22,98, 67]\n",
    "\n",
    "# llamamos a la función. Fijaos que en este caso, si que le pasamos un argumento a la función entre los paréntesis, son los valores de los parámetros. \n",
    "pares4 = es_par_4(lista_numeros1)\n",
    "print(\"los números pares de la lista que tenemos dentro de la función son: \", pares4)\n",
    "print(\"--------------------------\")\n",
    "\n",
    "# ahora podremos definir otra lista de números, y sin necesidad de modificar la función conseguiremos los resultados deseados\n",
    "lista_numeros2 = [12,13,14,15,16,17,18,19,20]\n",
    "\n",
    "pares5 = es_par_4(lista_numeros2)\n",
    "print(\"los números pares de la lista que tenemos dentro de la función son: \", pares5)\n"
   ]
  },
  {
   "cell_type": "markdown",
   "metadata": {},
   "source": [
    "¿Qué pasaría si no le pasamos el argumento a una función que hemos definido con parámetros? Veamos un ejemplo:"
   ]
  },
  {
   "cell_type": "code",
   "execution_count": 14,
   "metadata": {},
   "outputs": [
    {
     "ename": "TypeError",
     "evalue": "es_par_4() missing 1 required positional argument: 'nuestra_lista'",
     "output_type": "error",
     "traceback": [
      "\u001b[0;31m---------------------------------------------------------------------------\u001b[0m",
      "\u001b[0;31mTypeError\u001b[0m                                 Traceback (most recent call last)",
      "Cell \u001b[0;32mIn[14], line 2\u001b[0m\n\u001b[1;32m      1\u001b[0m \u001b[39m# fijaos que en este caso no estamos poniendo nada entre paréntesis. Es decir, no le estamos pasando nada a nuestra función!\u001b[39;00m\n\u001b[0;32m----> 2\u001b[0m pares5 \u001b[39m=\u001b[39m es_par_4()\n",
      "\u001b[0;31mTypeError\u001b[0m: es_par_4() missing 1 required positional argument: 'nuestra_lista'"
     ]
    }
   ],
   "source": [
    "# fijaos que en este caso no estamos poniendo nada entre paréntesis. Es decir, no le estamos pasando nada a nuestra función!\n",
    "pares5 = es_par_4()"
   ]
  },
  {
   "cell_type": "markdown",
   "metadata": {},
   "source": [
    "Si nos fijamos, esto nos esta devolviendo un error. Este error nos dice `TypeError: es_par_3() missing 1 required positional argument: 'nuestra_lista'`, es decir, nuestra función recibe un parámetro que no hemos pasado al llamar a nuestra función. \n",
    "Las funciones pueden recibir tantos parámetros como queramos. Definamos ahora una que reciba dos parámetros. En este caso, vamos a crear una función que nos sume dos números cualesquiera. "
   ]
  },
  {
   "cell_type": "code",
   "execution_count": 15,
   "metadata": {},
   "outputs": [
    {
     "name": "stdout",
     "output_type": "stream",
     "text": [
      "el resultado de la suma es: 92\n"
     ]
    }
   ],
   "source": [
    "# definimos la función que recibirá dos parámetros, a y b. Recordemos que pueden llamarse como queramos, podríamos llamarlo también \"numero1\" y \"numero2\"\n",
    "def sumar(a,b):\n",
    "\n",
    "    # introducimos el código que queramos. En este caso, nuestra función va a sumar dos números. \n",
    "    suma = a + b\n",
    "\n",
    "    # le indicamos el return. Que en este caso será el resultado de la suma de los dos argumentos que le pasemos a la función\n",
    "    return suma\n",
    "\n",
    "# llamamos a la función, pasándole entre paréntesis los argumentos que recibe y almancenamos los resultados en una variable que se llama \"resultado_suma\"\n",
    "resultado_suma = sumar(3,89)\n",
    "print(\"el resultado de la suma es:\", resultado_suma)"
   ]
  },
  {
   "cell_type": "code",
   "execution_count": 16,
   "metadata": {},
   "outputs": [
    {
     "name": "stdout",
     "output_type": "stream",
     "text": [
      "el primer número elegido por el usuario es: 8\n",
      "-------------------------\n",
      "el primer número elegido por el usuario es: 1\n",
      "-------------------------\n",
      "el resultado de la suma es:  9\n"
     ]
    }
   ],
   "source": [
    "# le podemos pasar los números directamente como hemos en el ejemplo anterior o una variable donde tengamos un número, como vemos en este ejemplo con un input\n",
    "\n",
    "# le pedimos al usuario que eliga un número para sumar\n",
    "numero_1 = int(input(\"Elige el primer numero a sumar\"))\n",
    "print(\"el primer número elegido por el usuario es:\", numero_1)\n",
    "print(\"-------------------------\")\n",
    "\n",
    "# le pedimos al usuario que eliga otro número para sumar\n",
    "numero_2 = int(input(\"Elige el primer numero a sumar\"))\n",
    "print(\"el primer número elegido por el usuario es:\", numero_2)\n",
    "print(\"-------------------------\")\n",
    "\n",
    "\n",
    "# llamamos a la función \"sumar\" y almancemos los resultados en una variable llamada \"resultado_suma2\"\n",
    "resultado_suma2 = sumar(numero_1, numero_2)\n",
    "print(\"el resultado de la suma es: \", resultado_suma2)"
   ]
  },
  {
   "cell_type": "markdown",
   "metadata": {},
   "source": [
    "# Lambdas"
   ]
  },
  {
   "cell_type": "markdown",
   "metadata": {},
   "source": [
    "Las `lambdas` (también conocidas como `funciones lambda` o `expresiones lambda`) son una forma de definir funciones pequeñas y anónimas que pueden ser utilizadas en cualquier lugar donde se requiera una función. A diferencia de las funciones normales, las lambdas no se definen con la palabra clave `def`, sino que se crean utilizando la palabra clave `lambda`.\n",
    "\n",
    "La sintaxis básica para crear una lambda es la siguiente:\n",
    "\n",
    "```python\n",
    "lambda argumentos: expresión\n",
    "```\n",
    "\n",
    "En esta sintaxis, \"argumentos\" son los argumentos que se pasan a la lambda (separados por comas), y \"expresión\" es la operación que se realiza en la lambda. La expresión debe ser una única instrucción que se ejecuta al llamar a la lambda.\n",
    "\n",
    "Por ejemplo, considera la siguiente lambda que devuelve el cuadrado de un número:\n",
    "\n",
    "```python\n",
    "cuadrado = lambda x: x**2\n",
    "```\n",
    "- Son útiles cuando necesitamos crear una función que sólo tendrá que usarse una vez y puede escribirse en una sola línea. Las funciones lambda pueden tener cualquier número de parámetros pero sólo pueden tener una expresión.\n",
    "```python\n",
    "lambda parámetro_1, parámetro_2: mi_funcion(parámetro_1, parámetro_2)\n",
    "\n",
    "# también puede tener parámetros por defecto\n",
    "lambda parámetro_1, parámetro_2='valor_por_defecto': mi_funcion(parámetro_1, parámetro_2)\n",
    "```\n",
    "\n",
    "- Una de las utilidades principales de las funciones lambda es la optimización de memoria, no guardando la función una vez utilizada\n"
   ]
  },
  {
   "cell_type": "markdown",
   "metadata": {},
   "source": [
    "## Lambdas con un parámetro\n",
    "Imaginemos que queremos crear una funcion que nos calcule el cuadrado de un número que le pasemos"
   ]
  },
  {
   "cell_type": "code",
   "execution_count": 17,
   "metadata": {},
   "outputs": [
    {
     "name": "stdout",
     "output_type": "stream",
     "text": [
      "el resultado de la función es: 4\n"
     ]
    }
   ],
   "source": [
    "# definimos la función como hemos aprendido antes\n",
    "def cuadrados(numero):\n",
    "    return numero ** 2\n",
    "\n",
    "# llamamos a la función\n",
    "print(\"el resultado de la función es:\", cuadrados(2))\n"
   ]
  },
  {
   "cell_type": "code",
   "execution_count": 18,
   "metadata": {},
   "outputs": [
    {
     "name": "stdout",
     "output_type": "stream",
     "text": [
      "el resultado de la función es: 4\n"
     ]
    }
   ],
   "source": [
    "# ¿Cómo lo haríamos con una lambda?\n",
    "# almacenamos la lambda en una variable \"cuadrados2\"\n",
    "# construimos la lambda con un parámetro (numero) y una expresión que es ese parametro elevado al cuadrado\n",
    "cuadrados2 = lambda numero : numero ** 2\n",
    "\n",
    "# llamamos a la lambda usando el nombre de la variable \"cuadrados2\" pasándole entre paréntesis el argumento del parámetro definido previamente\n",
    "print(\"el resultado de la función es:\", cuadrados2(2))"
   ]
  },
  {
   "cell_type": "markdown",
   "metadata": {},
   "source": [
    "En este código se estamos:\n",
    "\n",
    "- Definiendo una función lambda llamada \"cuadrados2\". \n",
    "\n",
    "- La función toma un parámetro llamado \"numero\" y \n",
    "\n",
    "- Devuelve el resultado de elevar el número al cuadrado, utilizando el operador de exponente (**)."
   ]
  },
  {
   "cell_type": "markdown",
   "metadata": {},
   "source": [
    "## Lambdas con dos parámetros y lambdas parámetros por defecto\n",
    "\n",
    "En este caso vamos a crear una función que nos multiplique dos números cualesquiera. "
   ]
  },
  {
   "cell_type": "code",
   "execution_count": 19,
   "metadata": {},
   "outputs": [
    {
     "name": "stdout",
     "output_type": "stream",
     "text": [
      "el resultado de la función es: 6\n"
     ]
    }
   ],
   "source": [
    "# ¿Cómo definiríamos esta función como hemos aprendido hasta ahora?\n",
    "\n",
    "# iniciamos la función usando la palabra clave def \n",
    "# la función recibe dos parámetros\n",
    "def multiplicacion (a,b):\n",
    "    # realizamos la operación que queremos\n",
    "    return a *b\n",
    "\n",
    "# llamamos a la función\n",
    "print(\"el resultado de la función es:\", multiplicacion(2,3))\n"
   ]
  },
  {
   "cell_type": "code",
   "execution_count": 21,
   "metadata": {},
   "outputs": [
    {
     "data": {
      "text/plain": [
       "6"
      ]
     },
     "execution_count": 21,
     "metadata": {},
     "output_type": "execute_result"
    }
   ],
   "source": [
    "# ¿Cómo haríamos esto con una lambda?\n",
    "# almacenamos la lambda en una variable \"multiplicacion\"\n",
    "# construimos la lambda con dos parámetros (a,b) y una expresión que es la multiplicación de ambos parámetros\n",
    "multiplicacion = lambda a,b : a *b\n",
    "multiplicacion(2,3)"
   ]
  },
  {
   "cell_type": "markdown",
   "metadata": {},
   "source": [
    "\n",
    "Vamos a complicarlo un poco, metamos alguna condición en la función.\n",
    "\n",
    "Imaginemos que ahora queremos definir una función que reciba una lista de números y queremos que nos devuelva una nueva lista solo con los números impares. Veamos como construirla con una función normal y con una lambda. Para eso vamos a aprender una nueva librería llamada `random` la cual proporciona varias funciones para generar números aleatorios y realizar operaciones aleatorias. En concreto la usaremos para generar una muestra aleatoria sin reemplazo de \"k\" elementos de una secuencia de números. La sintaxis del método `random.sample()` es la siguiente:\n",
    "\n",
    "```python\n",
    "random.sample(population, k)\n",
    "```\n",
    "donde:\n",
    "- `population`: la población de donde se seleccionará la muestra. Puede ser una lista, tupla, conjunto o cualquier otra secuencia iterable.\n",
    "- `k`: el tamaño de la muestra a seleccionar, es decir, la cantidad de elementos que se desean seleccionar de la población.\n",
    "\n",
    "Para usar esta librería deberemos importar la librería random primero. "
   ]
  },
  {
   "cell_type": "code",
   "execution_count": 34,
   "metadata": {},
   "outputs": [
    {
     "name": "stdout",
     "output_type": "stream",
     "text": [
      "la lista de números aleatorios es: [2, 7, 39, 27, 8, 29, 44, 43, 1, 22, 24, 12, 15, 11, 48, 37, 14, 32, 3, 21]\n",
      "----------------------\n",
      "la lista de números impares es: [7, 39, 27, 29, 43, 1, 15, 11, 37, 3, 21]\n"
     ]
    }
   ],
   "source": [
    "# importamos la librería random\n",
    "import random\n",
    "\n",
    "# creamos una lista de 20 números aleatorios entre el 1 y el 50\n",
    "lista = random.sample(range(1,50), 20)\n",
    "print(\"la lista de números aleatorios es:\", lista)\n",
    "\n",
    "# definimos una funcion que nos devuelva una lista con los números impares de la lista creada en el paso anterior. \n",
    "def impares(lst):\n",
    "    \n",
    "    # creamos una lista donde almacenaremos los números impares\n",
    "    impares = []\n",
    "\n",
    "    # iteramos por la lista de números que le pasasmos a la función\n",
    "    for i in lst:\n",
    "        \n",
    "        # evaluamos si es el resto de la división entre dos es distinto de 0. En ese caso será un número impar\n",
    "        if i % 2 != 0:\n",
    "            \n",
    "            #en caso de que cumpla la condición lo apendeamos a la lista creada al inicio de la función\n",
    "            impares.append(i)\n",
    "    \n",
    "    # nuestra función devuelve la lista con los números impares\n",
    "    return impares\n",
    "\n",
    "\n",
    "# llamamos a la función y almacenamos los resultados en una variable\n",
    "print(\"----------------------\")\n",
    "num_impares = impares(lista)\n",
    "print(\"la lista de números impares es:\", num_impares)"
   ]
  },
  {
   "cell_type": "code",
   "execution_count": 35,
   "metadata": {},
   "outputs": [
    {
     "name": "stdout",
     "output_type": "stream",
     "text": [
      "la lista de números impares es: [7, 39, 27, 29, 43, 1, 15, 11, 37, 3, 21]\n"
     ]
    }
   ],
   "source": [
    "# contruyamos la lambda. La contruiremos igual solo que en este caso después de los dos puntos podremos el código de la operación que queremos hacer. \n",
    "# en este caso fijaos que es un for loop sencillo, por lo que lo haremos en una list comprehension como aprendimos estos dias\n",
    "funcion_impares = lambda lista_a: [i for i in lista_a if i % 2 != 0 ]\n",
    "\n",
    "# llamamos a nuestra lambda\n",
    "num_impares2 = funcion_impares(lista)\n",
    "print(\"la lista de números impares es:\", num_impares2)"
   ]
  },
  {
   "cell_type": "markdown",
   "metadata": {},
   "source": [
    "# Ejercicios\n",
    "\n",
    "1. Escribe una función que reciba una cadena de texto como parámetro y devuelva un diccionario con las frecuencias de cada letra en la cadena. Los espacios no deben ser considerados. \n",
    "\n",
    "2. Escribe una función que reciba una cadena de texto como parámetro y devuelva una lista con todas las palabras que tienen más de 5 letras.\n",
    "\n",
    "3. Crea una función que tome una lista de palabras como entrada y devuelva una lista de palabras que contengan más de una vocal.\n",
    "\n",
    "4. Crea una función que tome una lista de números y calcule la suma de todos los números pares en la lista.\n",
    "\n",
    "5. Escribe una función que tome una lista de números como entrada y calcule el promedio de esos números.\n",
    "\n",
    "6. Crea una función que determine el próximo año en el que las cifras del año de tu cumpleaños no se repitan. La función toma un año de tu cumpleaños como entrada y calcula el próximo año en el que las cifras no se repitan, es decir, todas las cifras en el año son diferentes entre sí.\n",
    "\n",
    "7. Crea una función que determine cuántos pasteles puedes hornear según una receta y los ingredientes disponibles. La función toma dos diccionarios como entrada: receta, que contiene los ingredientes necesarios para un pastel, y disponible, que contiene la cantidad disponible de cada ingrediente. Sus parámetros de entrada son: \n",
    "\n",
    "    - receta: Un diccionario que representa los ingredientes necesarios para un pastel, donde las claves son los nombres de los ingredientes y los valores son las cantidades necesarias de cada ingrediente.\n",
    "\n",
    "    - disponible: Un diccionario que representa la cantidad disponible de cada ingrediente, donde las claves son los nombres de los ingredientes y los valores son las cantidades disponibles.\n",
    "\n",
    "    ```python\n",
    "    receta1 = {'flour': 500, 'sugar': 200, 'eggs': 1}\n",
    "    ingredientes1 = {'flour': 1200, 'sugar': 1200, 'eggs': 5, 'milk': 200}\n",
    "\n",
    "    pasteles(receta1, ingredientes1)    \n",
    "    # output: con estos ingredientes solo puedo hacer 2 bizcochos\n",
    "    ```\n",
    "BONUS: \n",
    "8. Crea una función llamada fibonacci que tome un número n como argumento y devuelva una lista con los primeros n números de la serie Fibonacci.\n",
    "\n",
    "\n",
    "\n"
   ]
  },
  {
   "cell_type": "markdown",
   "metadata": {},
   "source": [
    "---"
   ]
  },
  {
   "cell_type": "markdown",
   "metadata": {},
   "source": [
    "1. Escribe una función que reciba una cadena de texto como parámetro y devuelva un diccionario con las frecuencias de cada letra en la cadena. Los espacios no deben ser considerados. "
   ]
  },
  {
   "cell_type": "code",
   "execution_count": 1,
   "metadata": {},
   "outputs": [
    {
     "name": "stdout",
     "output_type": "stream",
     "text": [
      "{'a': 2, 'l': 1, 'p': 1, 'c': 1, 'i': 1, 'n': 1, 'o': 1}\n"
     ]
    }
   ],
   "source": [
    "def calcular_frecuencias(cadena_texto):\n",
    "    \n",
    "    cadena_sin_espacios = cadena_texto.replace(\" \", \"\")\n",
    "    \n",
    "    frecuencias_letras = {}\n",
    "    \n",
    "    for letra in cadena_sin_espacios:\n",
    "        if letra in frecuencias_letras:\n",
    "            frecuencias_letras[letra] += 1\n",
    "        else:\n",
    "            frecuencias_letras[letra] = 1\n",
    "        \n",
    "    return frecuencias_letras\n",
    "\n",
    "cadena2= \"al pacino\"\n",
    "resultado_cadena = calcular_frecuencias(cadena2)\n",
    "\n",
    "print(resultado_cadena)"
   ]
  },
  {
   "cell_type": "markdown",
   "metadata": {},
   "source": [
    "2. Escribe una función que reciba una cadena de texto como parámetro y devuelva una lista con todas las palabras que tienen más de 5 letras."
   ]
  },
  {
   "cell_type": "code",
   "execution_count": 2,
   "metadata": {},
   "outputs": [
    {
     "name": "stdout",
     "output_type": "stream",
     "text": [
      "['Lección', 'número', 'subestimes', 'codicia']\n"
     ]
    }
   ],
   "source": [
    "def palabras_largas(cadena):\n",
    "    lista_palabras = cadena.split()\n",
    "    palabras_largas = [palabra for palabra in lista_palabras if len(palabra) > 5]\n",
    "    return palabras_largas\n",
    "\n",
    "cadena = \"Lección número uno: Nunca subestimes la codicia de los demás\"\n",
    "resultado = palabras_largas(cadena)\n",
    "print(resultado)"
   ]
  },
  {
   "cell_type": "markdown",
   "metadata": {},
   "source": [
    "3. Crea una función que tome una lista de palabras como entrada y devuelva una lista de palabras que contengan más de una vocal."
   ]
  },
  {
   "cell_type": "code",
   "execution_count": 3,
   "metadata": {},
   "outputs": [
    {
     "name": "stdout",
     "output_type": "stream",
     "text": [
      "['nueve', 'David Lynch']\n"
     ]
    }
   ],
   "source": [
    "def contar_vocales(palabra):\n",
    "    palabra = palabra.lower()\n",
    "    vocales = 'aeiou'\n",
    "    contador = 0\n",
    "    \n",
    "    for letra in palabra:\n",
    "        if letra in vocales: contador += 1\n",
    "    return contador\n",
    "\n",
    "def filtrar_palabras_con_vocales(lista_palabras):\n",
    "    palabras_con_vocales = []\n",
    "    \n",
    "    for palabra in lista_palabras:\n",
    "        if contar_vocales(palabra) > 1: palabras_con_vocales.append(palabra)\n",
    "    return palabras_con_vocales\n",
    "    \n",
    "lista_palabras = [\"dos\", \"nueve\", \"un\", \"David Lynch\", \"tres\"]\n",
    "resultado_vocales = filtrar_palabras_con_vocales(lista_palabras)\n",
    "print(resultado_vocales)"
   ]
  },
  {
   "cell_type": "markdown",
   "metadata": {},
   "source": [
    "4. Crea una función que tome una lista de números y calcule la suma de todos los números pares en la lista."
   ]
  },
  {
   "cell_type": "code",
   "execution_count": 4,
   "metadata": {},
   "outputs": [
    {
     "name": "stdout",
     "output_type": "stream",
     "text": [
      "12\n"
     ]
    }
   ],
   "source": [
    "def calcular_suma_pares(lista_numeros):\n",
    "    suma_pares = sum(numero for numero in lista_numeros if numero % 2 == 0)\n",
    "    return suma_pares\n",
    "\n",
    "lista_numeros = [1, 2, 3, 4, 5, 6]\n",
    "resultado_pares = calcular_suma_pares(lista_numeros)\n",
    "\n",
    "print(resultado_pares)"
   ]
  },
  {
   "cell_type": "markdown",
   "metadata": {},
   "source": [
    "5. Escribe una función que tome una lista de números como entrada y calcule el promedio de esos números."
   ]
  },
  {
   "cell_type": "code",
   "execution_count": 5,
   "metadata": {},
   "outputs": [
    {
     "name": "stdout",
     "output_type": "stream",
     "text": [
      "3.0\n"
     ]
    }
   ],
   "source": [
    "def calcular_promedio(lista_numeros):\n",
    "    if not lista_numeros:\n",
    "        return 0\n",
    "    suma_numeros = sum(lista_numeros)\n",
    "    cantidad_numeros = len(lista_numeros)\n",
    "    promedio_numeros = suma_numeros / cantidad_numeros\n",
    "    return promedio_numeros\n",
    "\n",
    "lista_numeros = [1, 2, 3, 4, 5]\n",
    "resultado_promedio = calcular_promedio(lista_numeros)\n",
    "print(resultado_promedio)"
   ]
  },
  {
   "cell_type": "markdown",
   "metadata": {},
   "source": [
    "6. Crea una función que determine el próximo año en el que las cifras del año de tu cumpleaños no se repitan. La función toma un año de tu cumpleaños como entrada y calcula el próximo año en el que las cifras no se repitan, es decir, todas las cifras en el año son diferentes entre sí."
   ]
  },
  {
   "cell_type": "code",
   "execution_count": 6,
   "metadata": {},
   "outputs": [
    {
     "name": "stdout",
     "output_type": "stream",
     "text": [
      "1987\n"
     ]
    }
   ],
   "source": [
    "def siguiente_año(año_inicial):\n",
    "    def año_digitos_unicos(año):\n",
    "        return len(set(str(año))) == len(str(año))\n",
    "\n",
    "    año_actual = año_inicial + 1\n",
    "    while not año_digitos_unicos(año_actual):\n",
    "        año_actual += 1\n",
    "    return año_actual\n",
    "\n",
    "año_nacimiento = 1986\n",
    "resultado_año = siguiente_año(año_nacimiento)\n",
    "print(resultado_año)"
   ]
  },
  {
   "cell_type": "markdown",
   "metadata": {},
   "source": [
    "7. Crea una función que determine cuántos pasteles puedes hornear según una receta y los ingredientes disponibles. La función toma dos diccionarios como entrada: receta, que contiene los ingredientes necesarios para un pastel, y disponible, que contiene la cantidad disponible de cada ingrediente. Sus parámetros de entrada son: \n",
    "\n",
    "    - receta: Un diccionario que representa los ingredientes necesarios para un pastel, donde las claves son los nombres de los ingredientes y los valores son las cantidades necesarias de cada ingrediente.\n",
    "\n",
    "    - disponible: Un diccionario que representa la cantidad disponible de cada ingrediente, donde las claves son los nombres de los ingredientes y los valores son las cantidades disponibles.\n",
    "\n",
    "    ```python\n",
    "    receta1 = {'flour': 500, 'sugar': 200, 'eggs': 1}\n",
    "    ingredientes1 = {'flour': 1200, 'sugar': 1200, 'eggs': 5, 'milk': 200}\n",
    "\n",
    "    pasteles(receta1, ingredientes1)    "
   ]
  },
  {
   "cell_type": "code",
   "execution_count": 7,
   "metadata": {},
   "outputs": [
    {
     "name": "stdout",
     "output_type": "stream",
     "text": [
      "Con estos ingredientes solo puedo hacer 2 pasteles\n"
     ]
    }
   ],
   "source": [
    "def pasteles_posibles(receta_ingredientes, ingredientes_disponibles):\n",
    "    cantidades_posibles = []\n",
    "    for ingrediente, cantidad_necesaria in receta_ingredientes.items():\n",
    "        if ingrediente in ingredientes_disponibles:\n",
    "            cantidad_disponible = ingredientes_disponibles[ingrediente]\n",
    "            cantidades_posibles.append(cantidad_disponible // cantidad_necesaria)\n",
    "        else:\n",
    "            return 0\n",
    "    return min(cantidades_posibles)\n",
    "\n",
    "receta_pastel = {'flour': 500, 'sugar': 200, 'eggs': 1}\n",
    "ingredientes_pastel = {'flour': 1200, 'sugar': 1200, 'eggs': 5, 'milk': 200}\n",
    "\n",
    "resultado_pastel = pasteles_posibles(receta_pastel, ingredientes_pastel)\n",
    "print(f\"Con estos ingredientes solo puedo hacer {resultado_pastel} pasteles\")"
   ]
  },
  {
   "cell_type": "markdown",
   "metadata": {},
   "source": [
    "8. Crea una función llamada fibonacci que tome un número n como argumento y devuelva una lista con los primeros n números de la serie Fibonacci."
   ]
  },
  {
   "cell_type": "code",
   "execution_count": 8,
   "metadata": {},
   "outputs": [
    {
     "name": "stdout",
     "output_type": "stream",
     "text": [
      "[0, 1, 1, 2, 3, 5, 8, 13, 21, 34]\n"
     ]
    }
   ],
   "source": [
    "def generar_fibonacci(n):\n",
    "    lista_fibonacci = [0, 1]\n",
    "    while len(lista_fibonacci) < n:\n",
    "        lista_fibonacci.append(lista_fibonacci[-1] + lista_fibonacci[-2])\n",
    "    return lista_fibonacci[:n]\n",
    "\n",
    "cantidad_numeros = 10\n",
    "resultado = generar_fibonacci(cantidad_numeros)\n",
    "\n",
    "print(resultado)"
   ]
  }
 ],
 "metadata": {
  "kernelspec": {
   "display_name": "Python 3 (ipykernel)",
   "language": "python",
   "name": "python3"
  },
  "language_info": {
   "codemirror_mode": {
    "name": "ipython",
    "version": 3
   },
   "file_extension": ".py",
   "mimetype": "text/x-python",
   "name": "python",
   "nbconvert_exporter": "python",
   "pygments_lexer": "ipython3",
   "version": "3.11.7"
  },
  "toc": {
   "base_numbering": 1,
   "nav_menu": {},
   "number_sections": true,
   "sideBar": true,
   "skip_h1_title": false,
   "title_cell": "Table of Contents",
   "title_sidebar": "Contents",
   "toc_cell": true,
   "toc_position": {},
   "toc_section_display": true,
   "toc_window_display": true
  },
  "vscode": {
   "interpreter": {
    "hash": "31f2aee4e71d21fbe5cf8b01ff0e069b9275f58929596ceb00d14d90e3e16cd6"
   }
  }
 },
 "nbformat": 4,
 "nbformat_minor": 2
}
