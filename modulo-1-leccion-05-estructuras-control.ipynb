{
 "cells": [
  {
   "cell_type": "markdown",
   "metadata": {
    "toc": true
   },
   "source": [
    "<h1>Table of Contents<span class=\"tocSkip\"></span></h1>\n",
    "<div class=\"toc\"><ul class=\"toc-item\"><li><span><a href=\"#Estructuras-control-de-bucles\" data-toc-modified-id=\"Estructuras-control-de-bucles-1\"><span class=\"toc-item-num\">1&nbsp;&nbsp;</span>Estructuras control de bucles</a></span><ul class=\"toc-item\"><li><span><a href=\"#break\" data-toc-modified-id=\"break-1.1\"><span class=\"toc-item-num\">1.1&nbsp;&nbsp;</span><code>break</code></a></span></li><li><span><a href=\"#continue\" data-toc-modified-id=\"continue-1.2\"><span class=\"toc-item-num\">1.2&nbsp;&nbsp;</span><code>continue</code></a></span></li><li><span><a href=\"#pass\" data-toc-modified-id=\"pass-1.3\"><span class=\"toc-item-num\">1.3&nbsp;&nbsp;</span><code>pass</code></a></span></li></ul></li><li><span><a href=\"#Control-de-errores\" data-toc-modified-id=\"Control-de-errores-2\"><span class=\"toc-item-num\">2&nbsp;&nbsp;</span>Control de errores</a></span><ul class=\"toc-item\"><li><span><a href=\"#try-...-except:\" data-toc-modified-id=\"try-...-except:-2.1\"><span class=\"toc-item-num\">2.1&nbsp;&nbsp;</span><code>try ... except</code>:</a></span></li><li><span><a href=\"#try-...-except-...-except-...\" data-toc-modified-id=\"try-...-except-...-except-...-2.2\"><span class=\"toc-item-num\">2.2&nbsp;&nbsp;</span><code>try ... except ... except ...</code></a></span></li><li><span><a href=\"#try-...-except-...-else-...\" data-toc-modified-id=\"try-...-except-...-else-...-2.3\"><span class=\"toc-item-num\">2.3&nbsp;&nbsp;</span><code>try ... except ... else ...</code></a></span></li><li><span><a href=\"#try-...-except-...-else-...-finally-...\" data-toc-modified-id=\"try-...-except-...-else-...-finally-...-2.4\"><span class=\"toc-item-num\">2.4&nbsp;&nbsp;</span><code>try ... except ... else ... finally ...</code></a></span></li></ul></li><li><span><a href=\"#Ejercicios\" data-toc-modified-id=\"Ejercicios-3\"><span class=\"toc-item-num\">3&nbsp;&nbsp;</span>Ejercicios</a></span></li></ul></div>"
   ]
  },
  {
   "cell_type": "markdown",
   "metadata": {},
   "source": [
    "# Estructuras control de bucles\n",
    "\n",
    "En programación, es común encontrarse con situaciones donde es necesario controlar el flujo de ejecución del programa, es decir, decidir qué parte del código debe ejecutarse y cuál no, según una determinada condición. En el caso específico de los bucles, las palabras clave `break`, `continue` y `pass` se utilizan para alterar el comportamiento del bucle y tomar decisiones sobre qué código ejecutar.\n",
    "\n",
    "- `break`:Cuando se utiliza dentro de un bucle `for` o `while`, `break` detiene inmediatamente la ejecución del bucle y salta a la siguiente línea de código después del bucle. Por lo tanto, `break` se utiliza para interrumpir un bucle en función de una condición determinada.\n",
    "\n",
    "- `continue`: Cuando se utiliza dentro de un bucle `for` o `while`, `continue` salta inmediatamente a la siguiente iteración del bucle, ignorando cualquier código que siga a la palabra clave `continue` dentro del cuerpo del bucle en la iteración actual. Por lo tanto, `continue` se utiliza para saltar iteraciones que no cumplen una determinada condición.\n",
    "\n",
    "- `pass`: `pass` es una palabra clave que no hace nada. Se utiliza como marcador de posición para indicar que el bloque de código en el que se encuentra aún no se ha implementado. En otras palabras, `pass` se utiliza para crear una estructura de control vacía sin generar un error de sintaxis.\n",
    " \n",
    "🚨 Ambas pueden utilizarse tanto en los bucles `for` como en los `while`\n",
    "\n",
    "En resumen, break, continue y pass son palabras clave que permiten controlar el flujo de ejecución del programa en bucles y condicionales, lo que proporciona una mayor flexibilidad y capacidad de toma de decisiones en el diseño de programas. Veamos cada uno de ellos en detalle. "
   ]
  },
  {
   "cell_type": "markdown",
   "metadata": {},
   "source": [
    "## `break`\n",
    "\n",
    "Si se tiene un bucle que debe ejecutarse mientras se cumple una condición, pero en algún punto esa condición deja de ser cierta, se puede utilizar break para salir del bucle y continuar la ejecución del programa en otra parte. La palabra clave `break` se utiliza para salir de un bucle `for` o `while` de manera prematura. Cuando se encuentra la palabra `break` dentro del cuerpo de un bucle, la ejecución del bucle se detiene inmediatamente y el programa sale del bucle, continuando la ejecución desde la línea siguiente al bucle.\n",
    "\n",
    "Veamos algunos ejemplos, porque sobre esta teoría nos puede resultar un poco ambiguo. En el primer ejemplo vamos a trabajar con una lista de nombres de clientes que nos ha pasado nuestra jefa. En concreto quiere saber si toda la información que tenemos es válida, por ejemplo, que no haya números en esta lista. En concreto, nos ha pedido que en caso de que haya un valor que sea un dígito paremos el código y que nos salga por pantalla que tenemos un error en la introducción de los datos. "
   ]
  },
  {
   "cell_type": "code",
   "execution_count": 2,
   "metadata": {},
   "outputs": [
    {
     "name": "stdout",
     "output_type": "stream",
     "text": [
      "Los nombres de los clientes de la compañia son: ['Lola', 'Marta', 'Lourdes', 'Laura', '1234', 'Carmen', 'Rocio', 'Aura']\n",
      "-----------------------------------\n",
      "Lo que ocurre si NO ponemos el break en nuestro código:\n",
      "El nombre Lola es correcto 😄\n",
      "El nombre Marta es correcto 😄\n",
      "El nombre Lourdes es correcto 😄\n",
      "El nombre Laura es correcto 😄\n",
      "El nombre 1234 no es correcto ya que contiene un dígito🚨\n",
      "El nombre Carmen es correcto 😄\n",
      "El nombre Rocio es correcto 😄\n",
      "El nombre Aura es correcto 😄\n"
     ]
    }
   ],
   "source": [
    "# definimos la lista con los nombres de los clientes\n",
    "nombres_clientes = ['Lola', 'Marta', 'Lourdes', 'Laura', \"1234\", \"Carmen\", \"Rocio\", \"Aura\"]\n",
    "print(\"Los nombres de los clientes de la compañia son:\", nombres_clientes)\n",
    "print(\"-----------------------------------\")\n",
    "\n",
    "print(\"Lo que ocurre si NO ponemos el break en nuestro código:\")\n",
    "# si no incluyeramos un `break` en nuestro código \n",
    "for nombre in nombres_clientes:\n",
    "    # el método .isdigit() lo que va a hacer es chequear si los valores que tenemos en el string son números o no. \n",
    "    if nombre.isdigit():\n",
    "        print(f\"El nombre {nombre} no es correcto ya que contiene un dígito🚨\")\n",
    "    else:\n",
    "        print(f\"El nombre {nombre} es correcto 😄\")"
   ]
  },
  {
   "cell_type": "markdown",
   "metadata": {},
   "source": [
    "Si revisamos el código vemos que todo a salido bien, pero en realidad no hemos cumplido con el objetivo que nos pedían, que era que el bucle `for` no se siguiera ejecutando en caso de que hubiera algún nombre que no fuera correcto, ya que nos pedían que pararamos el código."
   ]
  },
  {
   "cell_type": "code",
   "execution_count": 6,
   "metadata": {},
   "outputs": [
    {
     "name": "stdout",
     "output_type": "stream",
     "text": [
      "Los nombres de los clientes de la compañia son: ['Lola', 'Marta', 'Lourdes', 'Laura', '1234', 'Carmen', 'Rocio', 'Aura']\n",
      "-----------------------------------\n",
      "Lo que ocurre si no ponemos el break en nuestro código:\n",
      "El nombre Lola es correcto 😄\n",
      "El nombre Marta es correcto 😄\n",
      "El nombre Lourdes es correcto 😄\n",
      "El nombre Laura es correcto 😄\n"
     ]
    }
   ],
   "source": [
    "# veamos en que cambia cuando le ponemos un break a nuestro código anterior\n",
    "\n",
    "print(\"Los nombres de los clientes de la compañia son:\", nombres_clientes)\n",
    "print(\"-----------------------------------\")\n",
    "\n",
    "print(\"Lo que ocurre si no ponemos el break en nuestro código:\")\n",
    "# si no incluyeramos un `break` en nuestro código \n",
    "for nombre in nombres_clientes:\n",
    "    # el método .isdigit() lo que va a hacer es chequear si los valores que tenemos en el string son números o no. \n",
    "    # en este caso lo que haremos será parar el código cuando haya un nombre de cliente que no sea el correcto, evitando continuar con el bucle for. \n",
    "    if nombre.isdigit():\n",
    "        break\n",
    "        print(f\"El nombre {nombre} no es correcto ya que contiene un dígito🚨\")\n",
    "        \n",
    "    else:\n",
    "        print(f\"El nombre {nombre} es correcto 😄\")"
   ]
  },
  {
   "cell_type": "markdown",
   "metadata": {},
   "source": [
    "¿Qué es lo que ha pasado? \n",
    "\n",
    "- Se ha iniciado el *for loop* iterando por nuestra lista de palabras\n",
    "\n",
    "- Chequeamos la condicion de si el nombre esta compuesto por dígitos o no. \n",
    "\n",
    "- En caso de que la condición anterior no se cumpla, nos saldrá un mensaje en pantalla diciendo que el nombre es válido. Es lo que encontramos en el `else`. \n",
    "\n",
    "- A continuación está el estamento `break` que no lo que hará será parar el código si se cumple la condición de que el nombre contiene dígitos. Al pararse el código no se sigue ejecutando y no veremos más nombres de clientes. Es decir, si nos fijamos en el primer ejemplo después del nombre incorrecto nos ha salido el mensaje de que el nombre de Carmen, Rocio y Aura son correctos, mientras que en el segundo ejemplo estos nombres no se evaluaron."
   ]
  },
  {
   "cell_type": "markdown",
   "metadata": {},
   "source": [
    "## `continue`\n",
    "\n",
    "El comando `continue` es una palabra clave en Python que se utiliza dentro de bucles `for` y `while` para omitir la iteración actual y continuar con la siguiente iteración. Cuando se encuentra un comando `continue` dentro de un bucle, la ejecución salta a la siguiente iteración del bucle, sin ejecutar el código restante en el cuerpo del bucle para esa iteración en particular.\n",
    "\n",
    "Pero entonces... 🤔 ¿Qué diferencia existe entre el `break` y el `continue`? \n",
    "\n",
    "La principal diferencia entre `break` y `continue` es que break se utiliza para salir completamente del bucle, mientras que continue se utiliza para omitir la iteración actual del bucle y continuar con la siguiente iteración. Cuando se encuentra un comando `break` dentro de un bucle `for` o `while`, la ejecución sale inmediatamente del bucle, sin ejecutar el código restante en el cuerpo del bucle. Por otro lado, cuando se encuentra un comando `continue` dentro de un bucle, la ejecución salta a la siguiente iteración del bucle, sin ejecutar el código restante en el cuerpo del bucle para esa iteración en particular.\n",
    "\n",
    "Sigamos con el ejemplo anterior de los nombres de clientes. En este caso en vez de poner un `break` pongamos un `continue` y comparemos los resultados: "
   ]
  },
  {
   "cell_type": "code",
   "execution_count": 5,
   "metadata": {},
   "outputs": [
    {
     "name": "stdout",
     "output_type": "stream",
     "text": [
      "Los nombres de los clientes de la compañia son: ['Lola', 'Marta', 'Lourdes', 'Laura', '1234', 'Carmen', 'Rocio', 'Aura']\n",
      "-----------------------------------\n",
      "Lo que ocurre si no ponemos el break en nuestro código:\n",
      "El nombre Lola es correcto 😄\n",
      "El nombre Marta es correcto 😄\n",
      "El nombre Lourdes es correcto 😄\n",
      "El nombre Laura es correcto 😄\n",
      "El nombre Carmen es correcto 😄\n",
      "El nombre Rocio es correcto 😄\n",
      "El nombre Aura es correcto 😄\n"
     ]
    }
   ],
   "source": [
    "print(\"Los nombres de los clientes de la compañia son:\", nombres_clientes)\n",
    "print(\"-----------------------------------\")\n",
    "\n",
    "print(\"Lo que ocurre si no ponemos el break en nuestro código:\")\n",
    "# si no incluyeramos un `break` en nuestro código \n",
    "for nombre in nombres_clientes:\n",
    "    # el método .isdigit() lo que va a hacer es chequear si los valores que tenemos en el string son números o no. \n",
    "    # en este caso lo que haremos será parar el código cuando haya un nombre de cliente que no sea el correcto, evitando continuar con el bucle for. \n",
    "    if nombre.isdigit():\n",
    "      continue\n",
    "      print(f\"El nombre {nombre} no es correcto ya que contiene un dígito🚨\")\n",
    "        \n",
    "    else:\n",
    "        print(f\"El nombre {nombre} es correcto 😄\")"
   ]
  },
  {
   "cell_type": "markdown",
   "metadata": {},
   "source": [
    "Comparemos ahora el resultado del `continue`:\n",
    "\n",
    "- En este caso si que nos has salido que Carmen, Rocio y Aura son nombres correctos, al contrario que en el `break` que no nos salió nada. \n",
    "\n",
    "- Fijaos como en el caso del `break` se ha parado por completo el bucle `for`, mientras que en el caso del `continue` lo único que paso es que simplemente se salto ese elemento de la iteración, pero siguió iterando por la lista de clientes. "
   ]
  },
  {
   "cell_type": "markdown",
   "metadata": {},
   "source": [
    "## `pass`\n",
    "\n",
    "En Python, `pass` es una palabra clave que se utiliza como marcador de posición para una instrucción o bloque de código que aún no se ha implementado. Cuando se utiliza `pass`, se indica que somos conscientes de que se requiere una instrucción o bloque de código en ese punto, pero que todavía no se ha decidido cómo implementarlo.\n",
    "\n",
    "En otras palabras, `pass` no hace nada, simplemente actúa como un marcador de posición y evita que se produzcan errores de sintaxis. Por ejemplo, si estamos escribiendo una función en Python y aún no hemos decidido qué hacer con una sección específica del código, podemos usar `pass` como marcador de posición temporal, para evitar errores de sintaxis.\n",
    "\n",
    "En resumen, `pass` es una palabra clave en Python que se utiliza como marcador de posición para una instrucción o bloque de código que aún no se ha implementado o que no hace nada. Es útil para evitar errores de sintaxis y mantener una estructura de código coherente.\n",
    "\n",
    "\n",
    "Y ahora... 🤔 ¿En qué se diferencia del `continue`? \n",
    "\n",
    "La principal diferencia entre `pass` y `continue` en Python es que pass no tiene ningún efecto en el flujo del programa, mientras que continue altera el flujo del programa dentro de un bucle. Cuando se utiliza `pass`, simplemente se indica que no hay nada que hacer en ese momento, pero la ejecución del programa continúa normalmente. `pass` se utiliza generalmente como marcador de posición para el código que aún no se ha implementado. Por otro lado, `continue` se utiliza para saltar la iteración actual de un bucle `for` o `while`, y pasar a la siguiente iteración. En otras palabras, `continue` se utiliza para ignorar el código que sigue a la instrucción `continue` en la iteración actual del bucle, y continuar con la siguiente iteración.\n",
    "\n",
    "En resumen, `pass` es una instrucción que no hace nada y se utiliza generalmente como marcador de posición, mientras que `continue` se utiliza para saltar la iteración actual de un bucle y continuar con la siguiente iteración.\n",
    "\n",
    "Sigamos con el ejemplo de nuestro clientes!"
   ]
  },
  {
   "cell_type": "code",
   "execution_count": 7,
   "metadata": {},
   "outputs": [
    {
     "name": "stdout",
     "output_type": "stream",
     "text": [
      "Los nombres de los clientes de la compañia son: ['Lola', 'Marta', 'Lourdes', 'Laura', '1234', 'Carmen', 'Rocio', 'Aura']\n",
      "-----------------------------------\n",
      "Lo que ocurre si no ponemos el break en nuestro código:\n",
      "El nombre Lola es correcto 😄\n",
      "El nombre Marta es correcto 😄\n",
      "El nombre Lourdes es correcto 😄\n",
      "El nombre Laura es correcto 😄\n",
      "El nombre 1234 no es correcto ya que contiene un dígito🚨\n",
      "El nombre Carmen es correcto 😄\n",
      "El nombre Rocio es correcto 😄\n",
      "El nombre Aura es correcto 😄\n"
     ]
    }
   ],
   "source": [
    "print(\"Los nombres de los clientes de la compañia son:\", nombres_clientes)\n",
    "print(\"-----------------------------------\")\n",
    "\n",
    "print(\"Lo que ocurre si no ponemos el break en nuestro código:\")\n",
    "# si no incluyeramos un `break` en nuestro código \n",
    "for nombre in nombres_clientes:\n",
    "    # el método .isdigit() lo que va a hacer es chequear si los valores que tenemos en el string son números o no. \n",
    "    # en este caso lo que haremos será parar el código cuando haya un nombre de cliente que no sea el correcto, evitando continuar con el bucle for. \n",
    "    if nombre.isdigit():\n",
    "      pass\n",
    "      print(f\"El nombre {nombre} no es correcto ya que contiene un dígito🚨\")\n",
    "        \n",
    "    else:\n",
    "        print(f\"El nombre {nombre} es correcto 😄\")"
   ]
  },
  {
   "cell_type": "markdown",
   "metadata": {},
   "source": [
    "Comparemos el resultado del `continue`:\n",
    "\n",
    "- En este caso ssiguen saliendo los nombres de Carmen, Rocio y Aura, al contrario que en el `break` que no nos salió nada, pero si igual que en el `continue`. \n",
    "\n",
    "- Fijaos como en el caso del `pass` el *print* si que nos lo ejecutó!!!! Por lo tanto, el `pass`en si no para la ejecución del código en ningún caso. "
   ]
  },
  {
   "cell_type": "markdown",
   "metadata": {},
   "source": [
    "# Control de errores\n",
    "\n",
    "Es lo que llamamamos **programación defensiva**. La programación defensiva en Python se refiere a un enfoque de programación en el que se escriben programas que anticipan y manejan posibles errores o problemas que pueden surgir durante la ejecución. El objetivo de la programación defensiva es crear programas robustos y estables que puedan funcionar en una amplia variedad de situaciones, y que sean capaces de manejar los errores de manera elegante y segura.\n",
    "\n",
    "En Python tenemos distintas formas de controlar los errores de nuestro código, algunos de los más importantes:\n",
    "\n",
    "- `try` ... `except`\n",
    "\n",
    "- `try` ... `except` ... `except`\n",
    "\n",
    "- `try` ... `except` ... `else`\n",
    "\n",
    "- `try` ... `except` ... `finally`"
   ]
  },
  {
   "cell_type": "markdown",
   "metadata": {},
   "source": [
    "## `try ... except`:\n",
    "\n",
    "El manejo de errores con `try` y `except` es una técnica común en Python para controlar los errores que pueden ocurrir durante la ejecución del programa. La idea básica detrás de esta técnica es que el programador envuelve una sección de código potencialmente peligrosa en un bloque try, y luego define una o más cláusulas except que manejan los errores que pueden ocurrir en ese bloque.\n",
    "\n",
    "\n",
    "\n",
    "Su sintaxis es: \n",
    "\n",
    "```python\n",
    "try:\n",
    "    # código que puede generar un error\n",
    "except ExceptionType:\n",
    "    # código para manejar el error\n",
    "\n",
    "``` \n",
    "\n",
    "En este código vemos que tenemos `ExceptionType`, pero ... ¿qué es esto? \n",
    "\n",
    "El término `ExceptionType` se refiere a la clase de excepción que se utiliza para manejar un error específico en un código. Cada tipo de excepción tiene su propia clase de excepción correspondiente que se utiliza para capturar y manejar errores específicos en el código. Por ejemplo, si queremos manejar una excepción de tipo `ValueError`, podemos usar la clase de excepción correspondiente \"ValueError\". Entonces, si se produce un error de este tipo en nuestro código, podemos capturarlo usando una declaración `try-except` y especificando \"ValueError\" como el tipo de excepción que queremos manejar. Los más usuales son: \n",
    "\n",
    "- `TypeError`: se produce cuando una función o operación se aplica a un objeto de tipo inapropiado.\n",
    "\n",
    "- `ValueError`: se produce cuando una función o método recibe un argumento de tipo correcto pero con un valor inapropiado.\n",
    "\n",
    "- `IndexError`: se produce cuando se intenta acceder a un índice que está fuera del rango de una lista o secuencia.\n",
    "\n",
    "- `KeyError`: se produce cuando se intenta acceder a una clave que no existe en un diccionario.\n",
    "\n",
    "- `AttributeError`: se produce cuando se intenta acceder a un atributo que no existe en un objeto.\n",
    "\n",
    "- `IOError`: se produce cuando se intenta acceder a un archivo que no existe o no se puede abrir.\n",
    "\n",
    "- `ZeroDivisionError`: se produce cuando se intenta dividir un número por cero.\n",
    "\n",
    "- `ImportError`: se produce cuando no se puede importar un módulo.\n",
    "\n",
    "- `KeyboardInterrupt`: se produce cuando el usuario interrumpe la ejecución del programa.\n"
   ]
  },
  {
   "cell_type": "code",
   "execution_count": 1,
   "metadata": {},
   "outputs": [
    {
     "ename": "ZeroDivisionError",
     "evalue": "division by zero",
     "output_type": "error",
     "traceback": [
      "\u001b[0;31m---------------------------------------------------------------------------\u001b[0m",
      "\u001b[0;31mZeroDivisionError\u001b[0m                         Traceback (most recent call last)",
      "Cell \u001b[0;32mIn[1], line 8\u001b[0m\n\u001b[1;32m      5\u001b[0m \u001b[39m# empezamos nuestro for loop usando un range, que recordemos nos crea una secuencia de números, en este caso entre el -3 y el 5(no incluido)\u001b[39;00m\n\u001b[1;32m      6\u001b[0m \u001b[39mfor\u001b[39;00m i \u001b[39min\u001b[39;00m \u001b[39mrange\u001b[39m(\u001b[39m-\u001b[39m\u001b[39m3\u001b[39m, \u001b[39m5\u001b[39m):\n\u001b[1;32m      7\u001b[0m     \u001b[39m# añadimos los resultado de la división  en la lista vacía\u001b[39;00m\n\u001b[0;32m----> 8\u001b[0m     divisiones2\u001b[39m.\u001b[39mappend(\u001b[39m2\u001b[39m \u001b[39m/\u001b[39m i)\n",
      "\u001b[0;31mZeroDivisionError\u001b[0m: division by zero"
     ]
    }
   ],
   "source": [
    "# imaginemos que queremos hacer una lista con los resultados de la division de 2 entre una serie de numeros, entre ellos el 0, que pasará? Recordemos que un número nunca podrá dividirse entre 0. \n",
    "# creamos la lista vacía para ir añadiendo los resultados de la división\n",
    "divisiones2 = []\n",
    "\n",
    "# empezamos nuestro for loop usando un range, que recordemos nos crea una secuencia de números, en este caso entre el -3 y el 5(no incluido)\n",
    "for i in range(-3, 5):\n",
    "    # añadimos los resultado de la división  en la lista vacía\n",
    "    divisiones2.append(2 / i)"
   ]
  },
  {
   "cell_type": "markdown",
   "metadata": {},
   "source": [
    "Vaya... nos devuelve un error, y es que, como hemos dicho, no podemos dividir entre 0. Lo malo de esto es que no se ha podido ejecutar todo el código, ya que en el momento en el que se produjo el error el código se paró y no pudo continuar con el código. Para estas situaciones son útiles los `try: ... except:`. Lo que haremos será decirle a nuestro código, intenta hacer esto, que no puedes... no pasa nada! Veamos un ejemplo: "
   ]
  },
  {
   "cell_type": "code",
   "execution_count": 7,
   "metadata": {},
   "outputs": [
    {
     "name": "stdout",
     "output_type": "stream",
     "text": [
      "La lista de 'divisiones3' antes del for loop contiene: [] \n",
      "\n",
      "🚨 no se puede dividir entre 0\n",
      "\n",
      "La lista de 'divisiones3' después del for loop contiene: [-0.6666666666666666, -1.0, -2.0, 'no data', 2.0, 1.0, 0.6666666666666666, 0.5]\n"
     ]
    }
   ],
   "source": [
    "# esta parte de código es igual que en la celda anterior\n",
    "divisiones3 = []\n",
    "print(f\"La lista de 'divisiones3' antes del for loop contiene: {divisiones3} \\n\")\n",
    "\n",
    "for i in range(-3, 5):\n",
    "\n",
    "    # con el try le decimos que intente hacer una parte del código\n",
    "    try:\n",
    "        divisiones3.append(2 / i)\n",
    "    \n",
    "    # en caso de que el código anterior de error y no se pueda hacer...\n",
    "    except:\n",
    "        # nos printea un error diciendo sobre que número no nos pudo ejecutar la línea de error\n",
    "        print(f'🚨 no se puede dividir entre {i}')\n",
    "\n",
    "        # y apendeamos a la lista \"no data\"\n",
    "        divisiones3.append(\"no data\")\n",
    "        \n",
    "print(f\"\\nLa lista de 'divisiones3' después del for loop contiene: {divisiones3}\")"
   ]
  },
  {
   "cell_type": "markdown",
   "metadata": {},
   "source": [
    "Si nos fijamos ahora nuestro programa no se paró, nos salió un mensaje de que no se pudo dividir entre 0 y en la lista de los resultados deberíamos tener todos los resultados de las divisiones y un valor debería ser \"no data\". Veamoslo! "
   ]
  },
  {
   "cell_type": "markdown",
   "metadata": {},
   "source": [
    "## `try ... except ... except ...`\n",
    "\n",
    "Como hemos visto la idea básica detrás del `try-except` es que se intenta ejecutar un bloque de código (el bloque \"try\"), y si se produce una excepción durante la ejecución del bloque de código, en lugar de que el programa se detenga, se captura la excepción y se maneja en un bloque \"except\" separado. Sin embargo, podemos repetir el `except` para distintos tipos de errores para verificar múltiples excepciones. Esto es útil si sospechamos que podemos tener varios errores en nuestro código pero no estamos seguros donde lo vamos a encontrar.\n",
    "\n",
    "La sintaxis general del `try-except-except` es la siguiente:\n",
    "\n",
    "```python\n",
    "try:\n",
    "    # Código que se desea intentar ejecutar\n",
    "except ExceptionType1:\n",
    "    # Código que se ejecutará si se produce una excepción de tipo ExceptionType1\n",
    "except ExceptionType2:\n",
    "    # Código que se ejecutará si se produce una excepción de tipo ExceptionType2\n",
    "...\n",
    "except ExceptionTypeN:\n",
    "    # Código que se ejecutará si se produce una excepción de tipo ExceptionTypeN\n",
    "```\n",
    "\n",
    "Siguiendo con el mismo ejemplo de la división entre 0, en este caso vamos a incluir alguna condición más: \n",
    "\n",
    "- Le preguntaremos al usuario que nos de un número que utilizaremos como divisor. Dividiremos 100 entre el valor que nos pasa el usuario. \n",
    "\n",
    "- Puede que usuario nos pase un 0, por lo que no podremos realizar esta operación, por lo que tendremos que incluir un `try`\n",
    "\n",
    "- También puede ser que el usuario no nos pase una opción válida, por ejemplo una letras, por lo que tendremos que tener en cuenta que no podremos dividir 100 entre una letra. \n"
   ]
  },
  {
   "cell_type": "code",
   "execution_count": 3,
   "metadata": {},
   "outputs": [
    {
     "name": "stdout",
     "output_type": "stream",
     "text": [
      "el número elegido por el usuario ha sido:  7\n",
      "el resultado de la división es: 14.29\n"
     ]
    }
   ],
   "source": [
    "# lo primero que vamos a hacer es indicar a nuestro código que intente:\n",
    "try:\n",
    "    # preguntar al usuario por un número y que lo convierta a integer\n",
    "    num = int(input(\"Ingrese un número: \"))\n",
    "    \n",
    "    # que nos muestre por pantalla el número elegido\n",
    "    print(\"el número elegido por el usuario ha sido: \", num)\n",
    "    \n",
    "    # que divida 100 entre el número elegido por el usuario\n",
    "    resultado = 100 / num\n",
    "    \n",
    "    # nos muestre por pantalla el resultado de la división\n",
    "    print(f\"el resultado de la división es: {round(resultado, 2)}\")\n",
    "    \n",
    "# como hemos dicho antes, puede que el usuario nos pase una letra, por lo que no podremos convertirlo a integer. Ponemos el primer except con un ValueError indicando que no nos ha pasado un valor correcto\n",
    "except ValueError:\n",
    "    print(\"debe ingresar un número válido\")\n",
    "    \n",
    "# pero además otro error que nos podemos encontrar es que el usuario nos pase un 0, el cual si podrá convertir a integer, pero no podremos usarlo para dividir, por lo que generamos otro except para este posible error. \n",
    "except ZeroDivisionError:\n",
    "    print(\"no se puede dividir entre cero\")\n",
    "\n",
    "# os animamos a que ejecutéis este código varias veces pasando distintas opciones para ver como se va ejecutando el código. "
   ]
  },
  {
   "cell_type": "markdown",
   "metadata": {},
   "source": [
    "## `try ... except ... else ...`\n",
    "La idea detrás de esta estructura es intentar ejecutar un bloque de código que podría lanzar una excepción. Si la excepción se produce, se captura con un bloque `except` que maneja la excepción. Si hay varias excepciones posibles, cada una puede tener su propio bloque except.\n",
    "\n",
    "En el bloque `else`, se coloca el código que se ejecutará si no se produce ninguna excepción en el bloque `try`. Por lo tanto, el bloque `else` se ejecutará solo si no se producen excepciones, es decir, solo se ejecutará si no ejecuta ningún except antes.\n",
    "\n",
    "```python\n",
    "try:\n",
    "    # Código que se puede lanzar una excepción\n",
    "\n",
    "except ExceptionTipo1:\n",
    "    # Manejo de la excepción Tipo 1\n",
    "\n",
    "except ExceptionTipo2:\n",
    "    # Manejo de la excepción Tipo 2\n",
    "\n",
    "else:\n",
    "    # Código a ejecutar si no se produce ninguna excepción\n",
    "```\n",
    "Sigamos con el ejemplo de la división de un número elegido por el usuario. En este caso vamos a hacer una pequeña modificación del código, en concreto: \n",
    "\n",
    "- Incluiremos el `else` al final del código\n",
    "\n",
    "- Moveremos el `print` del resultado de la división al `else`, para que en el caso de que se ejecute el `try` nos muestre por pantalla el resultado de la división. "
   ]
  },
  {
   "cell_type": "code",
   "execution_count": 2,
   "metadata": {},
   "outputs": [
    {
     "name": "stdout",
     "output_type": "stream",
     "text": [
      "el número elegido por el usuario ha sido:  5\n",
      "El resultado de la división es: 20.0\n"
     ]
    }
   ],
   "source": [
    "try:\n",
    "    # preguntar al usuario por un número y que lo convierta a integer\n",
    "    num = int(input(\"Ingrese un número: \"))\n",
    "    \n",
    "    # que nos muestre por pantalla el número elegido\n",
    "    print(\"el número elegido por el usuario ha sido: \", num)\n",
    "    \n",
    "    # que divida 100 entre el número elegido por el usuario\n",
    "    resultado = 100 / num\n",
    "\n",
    "# como hemos dicho antes, puede que el usuario nos pase una letra, por lo que no podremos convertirlo a integer. Ponemos el primer except con un ValueError indicando que no nos ha pasado un valor correcto\n",
    "except ValueError:\n",
    "    print(\"debe ingresar un número válido\")\n",
    "    \n",
    "# pero además otro error que nos podemos encontrar es que el usuario nos pase un 0, el cual si podrá convertir a integer, pero no podremos usarlo para dividir, por lo que generamos otro except para este posible error. \n",
    "except ZeroDivisionError:\n",
    "    print(\"no se puede dividir entre cero\")\n",
    "    \n",
    "else:\n",
    "    # fijaos como en este caso, hemos quitado el print con el resultado de la división que haciamos en el try y lo hemos movido al else.\n",
    "    # este bloque de código se ejecutará si y solo si se ejecuta el try\n",
    "    print(\"El resultado de la división es:\", round(resultado, 2))\n",
    "\n"
   ]
  },
  {
   "cell_type": "markdown",
   "metadata": {},
   "source": [
    "## `try ... except ... else ... finally ...`\n",
    "\n",
    "De nuevo es una estructura de control en Python que se utiliza para manejar excepciones (errores) que pueden ocurrir durante la ejecución de un programa. En concreto, el bloque `finally` se utiliza para incluir código que se ejecutará siempre, independientemente de si se produce una excepción o no. Esto puede ser útil para realizar operaciones de limpieza o liberar recursos, independientemente de si el código del bloque `try` produce una excepción o no.\n",
    "\n",
    "\n",
    "La principal diferencia entre el bloque `finally` y el bloque  `else` es que el bloque `finally` se ejecuta siempre, independientemente de si se producen o no excepciones en el bloque `try`, mientras que el bloque `else` solo se ejecuta si no se produce ninguna excepción en el bloque  `try`.\n",
    "\n",
    "\n",
    "```python\n",
    "try:\n",
    "    # Código que puede causar una excepción\n",
    "except ExceptionTipo1:\n",
    "    # Código que maneja la excepción de tipo ExceptionTipo1\n",
    "except ExceptionTipo2:\n",
    "    # Código que maneja la excepción de tipo ExceptionTipo2\n",
    "...\n",
    "except:\n",
    "    # Código que maneja cualquier otra excepción\n",
    "finally:\n",
    "    # Código que se ejecuta siempre, independientemente de si se produce una excepción o no\n",
    "```"
   ]
  },
  {
   "cell_type": "code",
   "execution_count": 5,
   "metadata": {},
   "outputs": [
    {
     "name": "stdout",
     "output_type": "stream",
     "text": [
      "el número elegido por el usuario ha sido:  9\n",
      "el resultado de la división es: 11.11\n",
      "el bloque de código ha terminado\n"
     ]
    }
   ],
   "source": [
    "try:\n",
    "    # preguntar al usuario por un número y que lo convierta a integer\n",
    "    num = int(input(\"Ingrese un número: \"))\n",
    "    \n",
    "    # que nos muestre por pantalla el número elegido\n",
    "    print(\"el número elegido por el usuario ha sido: \", num)\n",
    "    \n",
    "    # que divida 100 entre el número elegido por el usuario\n",
    "    resultado = 100 / num\n",
    "\n",
    "# como hemos dicho antes, puede que el usuario nos pase una letra, por lo que no podremos convertirlo a integer. Ponemos el primer except con un ValueError indicando que no nos ha pasado un valor correcto\n",
    "except ValueError:\n",
    "    print(\"debe ingresar un número válido\")\n",
    "    \n",
    "# pero además otro error que nos podemos encontrar es que el usuario nos pase un 0, el cual si podrá convertir a integer, pero no podremos usarlo para dividir, por lo que generamos otro except para este posible error. \n",
    "except ZeroDivisionError:\n",
    "    print(\"no se puede dividir entre cero\")\n",
    "    \n",
    "else:\n",
    "    # fijaos como en este caso, hemos quitado el print con el resultado de la división que haciamos en el try y lo hemos movido al else.\n",
    "    # este bloque de código se ejecutará si y solo si se ejecuta el try\n",
    "    print(\"el resultado de la división es:\", round(resultado, 2))\n",
    "\n",
    "finally: \n",
    "    # fijaos como en este caso, independientemente de lo que pase en las lineas anteriores este código siempre se ejecutará \n",
    "    print(\"el bloque de código ha terminado\")"
   ]
  },
  {
   "cell_type": "markdown",
   "metadata": {},
   "source": [
    "----------------\n",
    "\n",
    "# Ejercicios\n",
    "\n",
    "1. Crea una variable que sea igual a \"Python\" y genera un código que nos printee todas las letras menos la \"P\" usando la sentencia `continue`.\n",
    "\n",
    "2. De la frase `'Hello'` imprime todas las letras que no sean una `'l'` usando `if`.\n",
    "\n",
    "3. Haz lo mismo que en 2 usando `continue`.\n",
    "\n",
    "4. De la frase `'Hello'` imprime todas las letras parando el bucle si encuentras una `'o'`.\n",
    "\n",
    "\n",
    "5. Define  la variable `doce = '12'` y `seis = 6`. Intenta sumarlos. En el caso de que te salga un error imprime `'¡Un error!'`. Para eso usa un `try` ... `except`\n",
    "\n",
    "6. Basándonos en el ejercicio anterior, sin usar un `try` ... `except`, ¿cómo podríamos solucionar el problema? \n",
    "\n",
    "7. Solicita al usuario ingresar números enteros positivos hasta que ingrese un número negativo. Luego, muestra la suma de todos los números pares ingresados.\n",
    "\n",
    "8. Solicita al usuario ingresar dos números y muestra el resultado de dividir el primero por el segundo. Asegúrate de manejar la excepción si el segundo número es cero.\n",
    "\n",
    "9. Solicita al usuario ingresar un número y muestra su raíz cuadrada. Maneja la excepción si el número es negativo.\n",
    "\n",
    "10. Crea una lista de números y solicita al usuario ingresar un índice para acceder a un elemento de la lista. Maneja la excepción si el índice está fuera de rango."
   ]
  },
  {
   "cell_type": "markdown",
   "metadata": {},
   "source": [
    "1. Crea una variable que sea igual a \"Python\" y genera un código que nos printee todas las letras menos la \"P\" usando la sentencia `continue`."
   ]
  },
  {
   "cell_type": "code",
   "execution_count": 1,
   "metadata": {},
   "outputs": [
    {
     "name": "stdout",
     "output_type": "stream",
     "text": [
      "y\n",
      "t\n",
      "h\n",
      "o\n",
      "n\n"
     ]
    }
   ],
   "source": [
    "palabra = \"Python\"\n",
    "\n",
    "for letra in palabra:\n",
    "    if letra == \"P\":\n",
    "        continue\n",
    "    print(letra)"
   ]
  },
  {
   "cell_type": "markdown",
   "metadata": {},
   "source": [
    "2. De la frase `'Hello'` imprime todas las letras que no sean una `'l'` usando `if`."
   ]
  },
  {
   "cell_type": "code",
   "execution_count": 5,
   "metadata": {},
   "outputs": [
    {
     "name": "stdout",
     "output_type": "stream",
     "text": [
      "H\n",
      "e\n",
      "o\n"
     ]
    }
   ],
   "source": [
    "frase = \"Hello\"\n",
    "\n",
    "for letra in frase:\n",
    "    if letra != 'l':\n",
    "        print(letra)"
   ]
  },
  {
   "cell_type": "markdown",
   "metadata": {},
   "source": [
    "3. Haz lo mismo que en 2 usando `continue`.\n"
   ]
  },
  {
   "cell_type": "code",
   "execution_count": 6,
   "metadata": {},
   "outputs": [
    {
     "name": "stdout",
     "output_type": "stream",
     "text": [
      "H\n",
      "e\n",
      "o\n"
     ]
    }
   ],
   "source": [
    "for letra in frase:\n",
    "    if letra == 'l':\n",
    "        continue\n",
    "    print(letra)"
   ]
  },
  {
   "cell_type": "markdown",
   "metadata": {},
   "source": [
    "4. De la frase `'Hello'` imprime todas las letras parando el bucle si encuentras una `'o'`."
   ]
  },
  {
   "cell_type": "code",
   "execution_count": 7,
   "metadata": {},
   "outputs": [
    {
     "name": "stdout",
     "output_type": "stream",
     "text": [
      "H\n",
      "e\n",
      "l\n",
      "l\n"
     ]
    }
   ],
   "source": [
    "for letra in frase:\n",
    "    if letra == 'o':\n",
    "        break\n",
    "    print(letra)"
   ]
  },
  {
   "cell_type": "markdown",
   "metadata": {},
   "source": [
    "5. Define  la variable `doce = '12'` y `seis = 6`. Intenta sumarlos. En el caso de que te salga un error imprime `'¡Un error!'`. Para eso usa un `try` ... `except`"
   ]
  },
  {
   "cell_type": "code",
   "execution_count": 8,
   "metadata": {},
   "outputs": [
    {
     "name": "stdout",
     "output_type": "stream",
     "text": [
      "¡Un error!\n"
     ]
    }
   ],
   "source": [
    "doce = '12'\n",
    "seis = 6\n",
    "\n",
    "try:\n",
    "    resultado = doce + seis\n",
    "    print(resultado)\n",
    "except TypeError:\n",
    "    print(\"¡Un error!\")"
   ]
  },
  {
   "cell_type": "markdown",
   "metadata": {},
   "source": [
    "6. Basándonos en el ejercicio anterior, sin usar un `try` ... `except`, ¿cómo podríamos solucionar el problema? "
   ]
  },
  {
   "cell_type": "code",
   "execution_count": 9,
   "metadata": {},
   "outputs": [
    {
     "name": "stdout",
     "output_type": "stream",
     "text": [
      "18\n"
     ]
    }
   ],
   "source": [
    "doce = int('12')\n",
    "seis = 6\n",
    "\n",
    "resultado = doce + seis\n",
    "print(resultado)"
   ]
  },
  {
   "cell_type": "markdown",
   "metadata": {},
   "source": [
    "7. Solicita al usuario ingresar números enteros positivos hasta que ingrese un número negativo. Luego, muestra la suma de todos los números pares ingresados."
   ]
  },
  {
   "cell_type": "code",
   "execution_count": 5,
   "metadata": {},
   "outputs": [
    {
     "name": "stdout",
     "output_type": "stream",
     "text": [
      "El resultado de la división es: 0.5\n"
     ]
    }
   ],
   "source": [
    "numero1 = float(input(\"Ingresa el primer número: \"))\n",
    "numero2 = float(input(\"Ingresa el segundo número: \"))\n",
    "\n",
    "if numero2 != 0:\n",
    "    resultado = numero1 / numero2\n",
    "    print(\"El resultado de la división es:\", resultado)\n",
    "else:\n",
    "    print(\"¡Error! No se puede dividir por cero.\")"
   ]
  },
  {
   "cell_type": "markdown",
   "metadata": {},
   "source": [
    "8. Solicita al usuario ingresar dos números y muestra el resultado de dividir el primero por el segundo. Asegúrate de manejar la excepción si el segundo número es cero."
   ]
  },
  {
   "cell_type": "code",
   "execution_count": 6,
   "metadata": {},
   "outputs": [
    {
     "name": "stdout",
     "output_type": "stream",
     "text": [
      "El resultado de la división es: 0.6666666666666666\n"
     ]
    }
   ],
   "source": [
    "try:\n",
    "    numero1 = float(input(\"Ingresa el primer número: \"))\n",
    "    numero2 = float(input(\"Ingresa el segundo número: \"))\n",
    "    resultado = numero1 / numero2\n",
    "    \n",
    "    print(\"El resultado de la división es:\", resultado)\n",
    "except ZeroDivisionError:\n",
    "    print(\"¡Error! No se puede dividir por cero.\")"
   ]
  },
  {
   "cell_type": "markdown",
   "metadata": {},
   "source": [
    "9. Solicita al usuario ingresar un número y muestra su raíz cuadrada. Maneja la excepción si el número es negativo."
   ]
  },
  {
   "cell_type": "code",
   "execution_count": 7,
   "metadata": {},
   "outputs": [
    {
     "name": "stdout",
     "output_type": "stream",
     "text": [
      "La raíz cuadrada de 3.0 es: 1.7320508075688772\n"
     ]
    }
   ],
   "source": [
    "numero = float(input(\"Ingresa un número: \"))\n",
    "\n",
    "if numero >= 0:\n",
    "    raiz_cuadrada = numero ** 0.5\n",
    "    print(\"La raíz cuadrada de\", numero, \"es:\", raiz_cuadrada)\n",
    "else:\n",
    "    print(\"¡Error! No se puede calcular la raíz cuadrada de un número negativo.\")"
   ]
  },
  {
   "cell_type": "markdown",
   "metadata": {},
   "source": [
    "10. Crea una lista de números y solicita al usuario ingresar un índice para acceder a un elemento de la lista. Maneja la excepción si el índice está fuera de rango."
   ]
  },
  {
   "cell_type": "code",
   "execution_count": 4,
   "metadata": {},
   "outputs": [
    {
     "name": "stdout",
     "output_type": "stream",
     "text": [
      "El elemento en el índice 2 es: 30\n"
     ]
    }
   ],
   "source": [
    "lista_numeros = [10, 20, 30, 40, 50]\n",
    "\n",
    "try:\n",
    "    indice = int(input(\"Ingresa un índice para acceder a un elemento de la lista: \"))\n",
    "    elemento = lista_numeros[indice]\n",
    "    print(\"El elemento en el índice\", indice, \"es:\", elemento)\n",
    "except IndexError:\n",
    "    print(\"¡Error! El índice está fuera de rango.\")"
   ]
  }
 ],
 "metadata": {
  "kernelspec": {
   "display_name": "Python 3 (ipykernel)",
   "language": "python",
   "name": "python3"
  },
  "language_info": {
   "codemirror_mode": {
    "name": "ipython",
    "version": 3
   },
   "file_extension": ".py",
   "mimetype": "text/x-python",
   "name": "python",
   "nbconvert_exporter": "python",
   "pygments_lexer": "ipython3",
   "version": "3.11.7"
  },
  "toc": {
   "base_numbering": 1,
   "nav_menu": {},
   "number_sections": true,
   "sideBar": true,
   "skip_h1_title": false,
   "title_cell": "Table of Contents",
   "title_sidebar": "Contents",
   "toc_cell": true,
   "toc_position": {},
   "toc_section_display": true,
   "toc_window_display": true
  },
  "vscode": {
   "interpreter": {
    "hash": "31f2aee4e71d21fbe5cf8b01ff0e069b9275f58929596ceb00d14d90e3e16cd6"
   }
  }
 },
 "nbformat": 4,
 "nbformat_minor": 2
}
