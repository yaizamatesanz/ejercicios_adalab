{
 "cells": [
  {
   "cell_type": "markdown",
   "metadata": {
    "toc": true
   },
   "source": [
    "<h1>Table of Contents<span class=\"tocSkip\"></span></h1>\n",
    "<div class=\"toc\"><ul class=\"toc-item\"><li><span><a href=\"#¿Qué-son-las-tuplas-y-como-se-definen?\" data-toc-modified-id=\"¿Qué-son-las-tuplas-y-como-se-definen?-1\"><span class=\"toc-item-num\">1&nbsp;&nbsp;</span>¿Qué son las tuplas y como se definen?</a></span></li><li><span><a href=\"#Indexación-en-tuplas\" data-toc-modified-id=\"Indexación-en-tuplas-2\"><span class=\"toc-item-num\">2&nbsp;&nbsp;</span>Indexación en tuplas</a></span></li><li><span><a href=\"#Propiedades-de-las-tuplas\" data-toc-modified-id=\"Propiedades-de-las-tuplas-3\"><span class=\"toc-item-num\">3&nbsp;&nbsp;</span>Propiedades de las tuplas</a></span></li><li><span><a href=\"#Métodos-de-las-tuplas\" data-toc-modified-id=\"Métodos-de-las-tuplas-4\"><span class=\"toc-item-num\">4&nbsp;&nbsp;</span>Métodos de las tuplas</a></span><ul class=\"toc-item\"><li><span><a href=\"#Modificación-de-las-tuplas\" data-toc-modified-id=\"Modificación-de-las-tuplas-4.1\"><span class=\"toc-item-num\">4.1&nbsp;&nbsp;</span>Modificación de las tuplas</a></span></li></ul></li><li><span><a href=\"#La-función-zip()\" data-toc-modified-id=\"La-función-zip()-5\"><span class=\"toc-item-num\">5&nbsp;&nbsp;</span>La función <code>zip()</code></a></span></li><li><span><a href=\"#Ejercicios:\" data-toc-modified-id=\"Ejercicios:-6\"><span class=\"toc-item-num\">6&nbsp;&nbsp;</span>Ejercicios:</a></span></li></ul></div>"
   ]
  },
  {
   "cell_type": "markdown",
   "metadata": {},
   "source": [
    "# ¿Qué son las tuplas y como se definen?\n",
    "\n",
    "En Python, una tupla es una colección de **valores ordenados e inmutables**. Es similar a una lista, pero a diferencia de las listas, las tuplas **no se pueden modificar después de su creación**. Es decir, no es posible agregar, eliminar o modificar elementos en una tupla una vez que se ha creado. Se crean utilizando `()`, separando los elementos con comas. También podremos crear tuplas usando el método `tuple()`. \n",
    "\n",
    "Las tuplas se utilizan para representar datos que no deben cambiarse, como los días de la semana, los meses del año, las coordenadas geográficas de un lugar, etc. Además, las tuplas se pueden utilizar en situaciones en las que se desea garantizar que los datos no cambien accidentalmente.\n",
    "\n",
    "Aunque las tuplas son inmutables, se puede acceder a sus elementos individualmente utilizando índices, tal como se hace con las listas.\n",
    "\n",
    "\n",
    "Resumiendo, algunas de las características principales de las son: \n",
    "\n",
    "- `Inmutabilidad`: Una vez que se crea una tupla, sus elementos no pueden ser modificados. Esto significa que no se pueden agregar, eliminar o modificar elementos.\n",
    "\n",
    "- `Indexación`: Cada elemento de una tupla se puede acceder mediante un índice numérico único, de la misma forma que las listas.\n",
    "\n",
    "- `Heterogeneidad`: Los elementos de una tupla pueden ser de diferentes tipos de datos, al igual que las listas.\n",
    "\n",
    "- `Eficiencia`: Las tuplas son más eficientes que las listas para operaciones de lectura de elementos, ya que no necesitan ser modificadas.\n"
   ]
  },
  {
   "cell_type": "markdown",
   "metadata": {},
   "source": [
    "Hay varias formas de definir una tupla. Si recordamos cómo definiamos una variable, lo hacíamos de la siguiente forma `nombre = contenido`. Para que sea una tupla, ¡sólo hay que añadir unos paréntesis! Veamos un ejemplo:\n",
    "\n",
    "```python\n",
    "# podemos crear una tupla que contenga varios elementos usando paréntesis\n",
    "tupla_nombres = (\"Lola\", \"Laura\", \"Marta\")\n",
    "\n",
    "```\n",
    "\n",
    "Sin embargo, la creación de tuplas tiene algunas peculiaridades: \n",
    "\n",
    "- Si definimos una variable con paréntesis, pero esa tupla solo tiene un elemento, contra todo pronostico **no será una tupla**\n",
    "\n",
    "- Si definimos una variable sin paréntesis, pero con una coma, contra todo pronostico **será una tupla**\n",
    "\n",
    "- Si definimos una varible sin paréntesis con muchos elementos separados por comas **será una tupla**\n",
    "\n",
    "Veámoslas en detalle:"
   ]
  },
  {
   "cell_type": "code",
   "execution_count": 8,
   "metadata": {},
   "outputs": [
    {
     "name": "stdout",
     "output_type": "stream",
     "text": [
      "(3, 4, 5) es del tipo <class 'tuple'>\n"
     ]
    }
   ],
   "source": [
    "# definimos nuestra primera tupla \n",
    "tupla1 = (3,4,5)\n",
    "print(tupla1, \"es del tipo\", type(tupla1))"
   ]
  },
  {
   "cell_type": "code",
   "execution_count": 9,
   "metadata": {},
   "outputs": [
    {
     "name": "stdout",
     "output_type": "stream",
     "text": [
      "3 es del tipo <class 'int'>\n"
     ]
    }
   ],
   "source": [
    "# definimos una variable con un único elemento entre paréntesis, sin comas. EN ESTE CASO SERÁ DE TIPO INT!!!!\n",
    "numero = (3)\n",
    "print(numero, \"es del tipo\", type(numero))"
   ]
  },
  {
   "cell_type": "code",
   "execution_count": 6,
   "metadata": {},
   "outputs": [
    {
     "name": "stdout",
     "output_type": "stream",
     "text": [
      "(3,) es del tipo <class 'tuple'>\n"
     ]
    }
   ],
   "source": [
    "# si queremos que nuestra tupla tenga solo un elemento, lo podemos definir incluso sin paréntesis!!! \n",
    "tupla2 = 3,\n",
    "print(tupla2, \"es del tipo\", type(tupla2))"
   ]
  },
  {
   "cell_type": "code",
   "execution_count": 7,
   "metadata": {},
   "outputs": [
    {
     "name": "stdout",
     "output_type": "stream",
     "text": [
      "(2, 3, 4) es del tipo <class 'tuple'>\n"
     ]
    }
   ],
   "source": [
    "tupla3 = 2,3,4\n",
    "print(tupla3, \"es del tipo\", type(tupla3))"
   ]
  },
  {
   "cell_type": "code",
   "execution_count": 12,
   "metadata": {},
   "outputs": [
    {
     "name": "stdout",
     "output_type": "stream",
     "text": [
      "La lista nota contiene:  [8, 9, 10, 'A', 'B']\n",
      "\n",
      "La tupla de notas contiene:  (8, 9, 10, 'A', 'B')\n"
     ]
    }
   ],
   "source": [
    "# Imaginemos que tenemos una lista con números y letras, la podremos convertir a tupla usando el método tuple(), ya que al igual que las listas, las tuplas pueden almancenar datos de distintos tipos\n",
    "\n",
    "# definimos la lista\n",
    "notas = [8, 9, 10, \"A\", \"B\"]\n",
    "print(\"La lista nota contiene: \", notas)\n",
    "\n",
    "# creamos una variable nueva, donde almancenaremos el resultado de convertir la lista anterior a tupla usando el método tuple(). \n",
    "\n",
    "tupla_notas = tuple(notas)\n",
    "print(\"\\nLa tupla de notas contiene: \", tupla_notas)"
   ]
  },
  {
   "cell_type": "markdown",
   "metadata": {},
   "source": [
    "# Indexación en tuplas\n",
    "\n",
    "\n",
    "Como hemos comentado al inicio de esta lección las tuplas tienen orden y por lo tanto los podremos indexar para acceder a sus distintos elementos, como hacíamos en listas. Para hacerlo, utilizaremos la misma lógica que en las listas: `[0]` es el primer contenido, `[:-1]` el último, etc. \n",
    "\n",
    "Veamos algunos ejemplos para terminar de afianzar los conceptos de indexación en tuplas: "
   ]
  },
  {
   "cell_type": "code",
   "execution_count": 1,
   "metadata": {},
   "outputs": [
    {
     "data": {
      "text/plain": [
       "('A', 'B', 'C', 'D', 'E', 'F', 'G', 'H', 'I')"
      ]
     },
     "execution_count": 1,
     "metadata": {},
     "output_type": "execute_result"
    }
   ],
   "source": [
    "# Vamos a definir una tupla que sea igual a la lista de letras que teníamos en el jupyter de listas\n",
    "letras = ('A', 'B', 'C', 'D', \"E\", \"F\", \"G\", \"H\", \"I\")\n",
    "letras"
   ]
  },
  {
   "cell_type": "code",
   "execution_count": 14,
   "metadata": {},
   "outputs": [
    {
     "name": "stdout",
     "output_type": "stream",
     "text": [
      "Sacamos los dos primeros elementos: [0: 2] = ('A', 'B')\n",
      "Que es exactamente lo mismo que: [: 2] = ('A', 'B')\n",
      "Usando índice negativos sería: [:-7] = ('A', 'B')\n",
      "Sacamos el segundo y tercer elemento: [1: 3] = ('B', 'C')\n",
      "Sacamos todos los elementos de la lista menos el primero: [1: ] = ('B', 'C', 'D', 'E', 'F', 'G', 'H', 'I')\n",
      "Sacamos los dos últimos elementos: [-2:] = ('H', 'I')\n"
     ]
    }
   ],
   "source": [
    "print('Sacamos los dos primeros elementos: [0: 2] =',letras[0:2])\n",
    "print('Que es exactamente lo mismo que: [: 2] =',letras[:2])\n",
    "print('Usando índice negativos sería: [:-7] =',letras[:-7])\n",
    "print('Sacamos el segundo y tercer elemento: [1: 3] =',letras[1:3])\n",
    "print('Sacamos todos los elementos de la lista menos el primero: [1: ] =',letras[1:])\n",
    "print('Sacamos los dos últimos elementos: [-2:] =',letras[-2:])"
   ]
  },
  {
   "cell_type": "markdown",
   "metadata": {},
   "source": [
    "# Propiedades de las tuplas\n",
    "\n",
    "En la lección de listas vimos algunos métodos para ver las propiedades de las tuplas, estos métodos incluían: \n",
    "\n",
    "- `len()`: devuelve el número de elementos en la tupla.\n",
    "\n",
    "- `max()`: devuelve el elemento de mayor valor en la tupla.\n",
    "\n",
    "- `min()`: devuelve el elemento de menor valor en la tupla.\n",
    "\n",
    "\n"
   ]
  },
  {
   "cell_type": "code",
   "execution_count": 16,
   "metadata": {},
   "outputs": [
    {
     "name": "stdout",
     "output_type": "stream",
     "text": [
      "La longitud de la tupla es:  9\n",
      "El valor máximo de la tupla es:  9.6\n",
      "El valor mínimo de la tupla es:  4\n"
     ]
    }
   ],
   "source": [
    "# definamos una tupla de notas de alumnas\n",
    "\n",
    "tuplas_notas2 = (8, 9, 4, 6, 9, 9.6, 4.9, 6.7, 8.4)\n",
    "\n",
    "print(\"La longitud de la tupla es: \", len(tuplas_notas2))\n",
    "print(\"El valor máximo de la tupla es: \", max(tuplas_notas2))\n",
    "print(\"El valor mínimo de la tupla es: \", min(tuplas_notas2))"
   ]
  },
  {
   "cell_type": "markdown",
   "metadata": {},
   "source": [
    "# Métodos de las tuplas\n",
    "\n",
    "En Python, las tuplas son objetos y, como tales, tienen una serie de métodos que pueden ser utilizados para realizar diversas operaciones con ellas. Pero recordemos que, al contrario que las listas, las tuplas son inmutables. Por lo tanto, métodos como `.append()`. `.pop()`, `.extend()` no existirán para este tipo de objetos. Algunos de los métodos de tuplas más comunes son:\n",
    "\n",
    "- `index()`: Devuelve el índice de la primera ocurrencia de un elemento en la tupla.\n",
    "\n",
    "- `count()`: Devuelve el número de veces que un elemento aparece en la tupla.\n",
    "\n",
    "- `len()`: Devuelve el número de elementos en la tupla.\n",
    "\n",
    "Veámoslos brevemente ya que estos métodos funcionarán igual que en listas"
   ]
  },
  {
   "cell_type": "code",
   "execution_count": 21,
   "metadata": {},
   "outputs": [
    {
     "name": "stdout",
     "output_type": "stream",
     "text": [
      "El contenido de la tupla es:  (8, 9, 4, 6, 9, 9.6, 4.9, 6.7, 8.4)\n",
      "La nota 4.9 está en la posición:  6\n",
      "La nota 9 aparece: 2 veces en la tupla\n",
      "La nota 9 aparece: 0 veces en la tupla\n"
     ]
    }
   ],
   "source": [
    "# recordamos que tenemos en la variable tuplas_notas2\n",
    "\n",
    "print(\"El contenido de la tupla es: \", tuplas_notas2)\n",
    "\n",
    "# saquemos ahora en que posición está la nota 4.9 usando el método INDEX()\n",
    "print(\"La nota 4.9 está en la posición: \", tuplas_notas2.index(4.9))\n",
    "\n",
    "# saquemos ahora cuántas veces aparece la nota 9 en nuestra tupla usando el método COUNT()\n",
    "print(\"La nota 9 aparece:\", tuplas_notas2.count(9), \"veces en la tupla\")\n",
    "\n",
    "# ¿OS HABÉIS PLANTEADO QUE PASARÍA SI INTENTAMOS CONTAR UN VALOR QUE NO ESTÁ EN NUESTRA TUPLA O LISTA? Probemoslo con la nota 2 que no aparece en la tupla. BASICAMENTE NOS DEVOVL\n",
    "print(\"La nota 9 aparece:\", tuplas_notas2.count(2), \"veces en la tupla\")\n"
   ]
  },
  {
   "cell_type": "markdown",
   "metadata": {},
   "source": [
    "## Modificación de las tuplas\n",
    "\n",
    "Como ya hemos comentado, las tuplas en Python son inmutables, lo que significa que no se pueden modificar una vez que se han creado, es decir, no podremos usar métodos como el `pop`, `append`, etc que vimos en listas. Sin embargo, hay algunas técnicas que se pueden utilizar para simular la modificación de una tupla. Aquí hay algunas opciones:\n",
    "\n",
    "- Convertir la tupla a una lista, modificar la lista y luego convertirla de nuevo a una tupla.\n",
    "- Utilizar la concatenación de tuplas para crear una nueva tupla con los valores modificados.\n",
    "- Utilizar la descomposición de tuplas para crear variables separadas para cada valor de la tupla, y luego crear una nueva tupla con los valores modificados. \n",
    "\n",
    "Veámoslo con ejemplos:"
   ]
  },
  {
   "cell_type": "markdown",
   "metadata": {},
   "source": [
    "**Convertir la tupla a una lista, modificar la lista y luego convertirla de nuevo a una tupla.**"
   ]
  },
  {
   "cell_type": "code",
   "execution_count": 2,
   "metadata": {},
   "outputs": [
    {
     "name": "stdout",
     "output_type": "stream",
     "text": [
      "La tupla original es: ('Lola', 'Paula', 'Lorena')\n",
      "\n",
      "La tupla modificada es: ('Marta', 'Paula', 'Lorena')\n"
     ]
    }
   ],
   "source": [
    "# definimos una tupla con nombres de alumnas, \n",
    "tupla_nombres = (\"Lola\", \"Paula\", \"Lorena\")\n",
    "print(\"La tupla original es:\", tupla_nombres)\n",
    "\n",
    "# convertimos la tupla a lista usando el método list()\n",
    "lista_nombres = list(tupla_nombres)\n",
    "\n",
    "# cambiamos el nombre de \"Lola\" por el de otra alumna\n",
    "lista_nombres[0] = \"Marta\"\n",
    "\n",
    "# convertimos la lista a tupla usando el método tuple()\n",
    "tupla_nombres = tuple(lista_nombres)\n",
    "\n",
    " \n",
    "print(\"\\nLa tupla modificada es:\", tupla_nombres)\n"
   ]
  },
  {
   "cell_type": "markdown",
   "metadata": {},
   "source": [
    "**Utilizar la concatenación de tuplas para crear una nueva tupla con los valores modificados.**"
   ]
  },
  {
   "cell_type": "code",
   "execution_count": 4,
   "metadata": {},
   "outputs": [
    {
     "name": "stdout",
     "output_type": "stream",
     "text": [
      "La tupla 1 original es: ('Lola', 'Paula', 'Lorena')\n",
      "La tupla 2 original es: ('Marta', 'Lidia', 'Ana')\n",
      "La tupla resultado de la concatenación es: ('Lola', 'Paula', 'Lorena', 'Marta', 'Lidia', 'Ana')\n"
     ]
    }
   ],
   "source": [
    "# definimos una tupla con nombres de alumnas, \n",
    "tupla_nombres1 = (\"Lola\", \"Paula\", \"Lorena\")\n",
    "print(\"La tupla 1 original es:\", tupla_nombres1)\n",
    "\n",
    "# definimos una nueva tupla con más nombres\n",
    "tupla_nombres2 = (\"Marta\", \"Lidia\", \"Ana\")\n",
    "print(\"La tupla 2 original es:\", tupla_nombres2)\n",
    "\n",
    "\n",
    "nueva_tupla_nombres = tupla_nombres1 + tupla_nombres2\n",
    "print(\"La tupla resultado de la concatenación es:\", nueva_tupla_nombres)\n",
    "\n"
   ]
  },
  {
   "cell_type": "markdown",
   "metadata": {},
   "source": [
    "**Utilizar la descomposición de tuplas para crear variables separadas para cada valor de la tupla, y luego crear una nueva tupla con los valores modificados.**"
   ]
  },
  {
   "cell_type": "code",
   "execution_count": 5,
   "metadata": {},
   "outputs": [
    {
     "name": "stdout",
     "output_type": "stream",
     "text": [
      "La tupla 1 original es: ('Lola', 'Paula', 'Lorena')\n",
      "La nueva tupla es: ('Maria', 'Paula', 'Lorena')\n"
     ]
    }
   ],
   "source": [
    "# definimos una tupla con nombres de alumnas, \n",
    "tupla_nombres = (\"Lola\", \"Paula\", \"Lorena\")\n",
    "print(\"La tupla 1 original es:\", tupla_nombres1)\n",
    "\n",
    "# descomponemos los valores de las tupla, es decir, generamos 3 variables donde cada variable corresponderá a cada uno de los elementos de la tupla\n",
    "a, b, c = tupla_nombres\n",
    "\n",
    "# creamos una nueva tupla usando las variables que hemos creado previamente\n",
    "tupla_nombres3 = (\"Maria\", b, c)\n",
    "print(\"La nueva tupla es:\", tupla_nombres3)\n"
   ]
  },
  {
   "cell_type": "markdown",
   "metadata": {},
   "source": [
    "# La función `zip()`\n",
    "\n",
    "En Python, `zip()` es una función que toma dos o más objetos iterables (como listas, tuplas, diccionarios, etc.) y los combina en una sola estructura de datos. Cada elemento de la estructura resultante es una tupla que contiene los elementos correspondientes de los objetos iterables originales. La función `zip()` lo que va hacer es crearnos parejas, donde iremos combinando elemento a elemento de cada una de nuestras listas. De esta forma, nos combinará el primer elemento de la primera lista, con el primer elemento de la segunda lista. Luego, el segundo elemento de la primera lista con el segundo elemento de la segunda lista y así sucesivamente. \n",
    "\n",
    "Veamos un ejemplo:"
   ]
  },
  {
   "cell_type": "code",
   "execution_count": 1,
   "metadata": {},
   "outputs": [
    {
     "name": "stdout",
     "output_type": "stream",
     "text": [
      "El resultado del zip de estas listas es: <zip object at 0x7f25344174c0>\n"
     ]
    }
   ],
   "source": [
    "# imaginemos que tenemos dos listas, una de letras y otra de números\n",
    "\n",
    "letras = ['b', 'a', 'd', 'c']\n",
    "numeros = [ 2,   4,   3,   1]\n",
    "\n",
    "# sobre las cuáles vamos a aplicar un zip\n",
    "zip1 = zip(letras, numeros)\n",
    "print(\"El resultado del zip de estas listas es:\", zip1 )\n"
   ]
  },
  {
   "cell_type": "markdown",
   "metadata": {},
   "source": [
    "Vaya... nos devuelve algo raro que no sabemos que es muy bien... ¿Cómo podríamos hacer que esto fuera legible? **Convirtiéndolo a lista**"
   ]
  },
  {
   "cell_type": "code",
   "execution_count": 2,
   "metadata": {},
   "outputs": [
    {
     "name": "stdout",
     "output_type": "stream",
     "text": [
      "El resultado del zip de estas listas es: <zip object at 0x7f253443d800>\n",
      "El resultado del zip de estas listas  después de convertirlo a lista es: [('b', 2), ('a', 4), ('d', 3), ('c', 1)]\n"
     ]
    }
   ],
   "source": [
    "# imaginemos que tenemos dos listas, una de letras y otra de números\n",
    "\n",
    "letras = ['b', 'a', 'd', 'c']\n",
    "numeros = [ 2,   4,   3,   1]\n",
    "\n",
    "# sobre las cuáles vamos a aplicar un zip\n",
    "zip1 = zip(letras, numeros)\n",
    "print(\"El resultado del zip de estas listas es:\", zip1 )\n",
    "\n",
    "print(\"El resultado del zip de estas listas  después de convertirlo a lista es:\", list(zip1) )"
   ]
  },
  {
   "cell_type": "code",
   "execution_count": 3,
   "metadata": {},
   "outputs": [
    {
     "data": {
      "text/plain": [
       "[]"
      ]
     },
     "execution_count": 3,
     "metadata": {},
     "output_type": "execute_result"
    }
   ],
   "source": [
    "# pero chicas... que pasaría si ahora volvemos el zip1? \n",
    "list(zip1)"
   ]
  },
  {
   "cell_type": "markdown",
   "metadata": {},
   "source": [
    "Ups... nos da una lista vacía! ¡Cómo es esto posible! Zip es una función de Python de un solo uso, es decir, una vez que la hemos usado una vez, no la podemos volver a usar. Sigamos entendiendo los `zip()`. Como veréis, el resultado es una lista llena de tuplas. Así los contenidos de letras y números están conectados, y se puede usar el uno para ordenar el orden del otro. De momento, cada elemento de `zip1` empieza con una letra. ¿Cómo podríamos ordenar el resultado del `zip` por orden alfabético?"
   ]
  },
  {
   "cell_type": "code",
   "execution_count": 6,
   "metadata": {},
   "outputs": [
    {
     "name": "stdout",
     "output_type": "stream",
     "text": [
      "El resultado del zip de estas listas es: [('b', 2), ('a', 4), ('d', 3), ('c', 1)]\n",
      "La lista ordenada es: [('a', 4), ('b', 2), ('c', 1), ('d', 3)]\n"
     ]
    }
   ],
   "source": [
    "# como hemos visto el zip es un objeto de un solo uso, por lo que tendremos que volver a definirlo de nuevo\n",
    "\n",
    "# en este caso vamos a unir el zip y el list \n",
    "zip1 = list(zip(letras, numeros))\n",
    "print(\"El resultado del zip de estas listas es:\", zip1 )\n",
    "\n",
    "# imaginemos que ahora queremos ordenar el resultado del zip, como es una lista podremos usar el método \".sort()\", que recordemos nos sobreescribía la lista\n",
    "# es una lista, y por lo tanto, podremos usar el método sort de las listas\n",
    "zip1.sort()\n",
    "print(\"La lista ordenada es:\", zip1)"
   ]
  },
  {
   "cell_type": "markdown",
   "metadata": {},
   "source": [
    "Ahora nos podemos preguntar si el orden en el que le pasemos las listas al `.zip()` importa. La respuesta es que si. Si lo definimos al revés, las tuplas en este caso empiezarían con los números. El método `.sort()` entonces los ordena así:"
   ]
  },
  {
   "cell_type": "code",
   "execution_count": 7,
   "metadata": {},
   "outputs": [
    {
     "name": "stdout",
     "output_type": "stream",
     "text": [
      "El resultado del zip de estas listas es: [(2, 'b'), (4, 'a'), (3, 'd'), (1, 'c')]\n",
      "La lista ordenada es: [(1, 'c'), (2, 'b'), (3, 'd'), (4, 'a')]\n"
     ]
    }
   ],
   "source": [
    "# en este caso vamos a unir el zip y el list y poner primero los numeros y luego las letras\n",
    "zip2 = list(zip(numeros, letras))\n",
    "print(\"El resultado del zip de estas listas es:\", zip2 )\n",
    "\n",
    "# ordenamos los resultados\n",
    "zip2.sort()\n",
    "print(\"La lista ordenada es:\", zip2)"
   ]
  },
  {
   "cell_type": "code",
   "execution_count": 10,
   "metadata": {},
   "outputs": [
    {
     "name": "stdout",
     "output_type": "stream",
     "text": [
      "El resultado del zip de estas listas es: [('b', 2, 'hola'), ('a', 4, 'adios'), ('d', 3, 'que tal')]\n"
     ]
    }
   ],
   "source": [
    "# nos podemos preguntar... lo podemos hacer con tres listas? \n",
    "## creemos otra lista, pero en este caso crearemos una lista con menos elementos\n",
    "\n",
    "otros = [\"hola\", \"adios\", \"que tal\"]\n",
    "\n",
    "# creamos otra variable, con un zip que incluye tres listas\n",
    "zip3 = list(zip(letras, numeros, otros))\n",
    "print(\"El resultado del zip de estas listas es:\", zip3 )"
   ]
  },
  {
   "cell_type": "markdown",
   "metadata": {},
   "source": [
    "No hace falta que los contenedores tengan la misma longitud. El `zip` se corta automaticamente a la última fila que puede rellenar por completo, es decir al tamaño de la lista más corta:"
   ]
  },
  {
   "cell_type": "markdown",
   "metadata": {
    "id": "5PcBreuKcX1-"
   },
   "source": [
    "\n",
    "\n",
    "---\n",
    "\n",
    "# Ejercicios:\n",
    "\n",
    "- Definir tuplas\n",
    "\n",
    "  1. Crea una tupla `persona1` para juntar los siguientes datos: 61 kg, 1.54 m altura, pelo marrón, sin usar paréntesis. (Serán del tipo `int`, `float` y `str`.)\n",
    "\n",
    "  2. Crea una tupla para la `persona2` de 68 kg, 1.65 m y pelo rubio, usando paréntesis.\n",
    "\n",
    "  3. Crea una lista `talla` que recompila 'M', 42, y 39. \n",
    "\n",
    "- Convertir y juntar\n",
    "\n",
    "  4. Convierte la lista `talla` a una tupla.\n",
    "  \n",
    "  5. Une a la tupla de `persona1` los datos en `talla`, para tener una única tupla.\n",
    "\n",
    " - Indexar tuplas\n",
    "\n",
    "  6. Saca de `persona2` el contenido del tercer elemento y llámalo `color`.\n",
    "\n",
    "  7. ¿Cuántos elementos hay ahora en `persona1`? (Es decir, ¿cuál es su longitud?)\n",
    "\n",
    "\n",
    "- Desempaquetar\n",
    "\n",
    "  8. Crea las variables `peso`, `altura`, `color_pelo` y llénalas con el contenido de `persona1`. Imprime `color_pelo` para comprobar el resultado. \n",
    "\n",
    "- Zipear\n",
    "\n",
    "  9. Crea el zip `personas` con `persona1` y `persona2`.\n",
    "\n",
    "  10. ¿Cuántas \"elementos\" tiene `personas`? ¿Por qué?\n",
    "\n",
    "  11. Crea una tupla `etiquetas` con `'peso'`, `'altura'`, y `'color_pelo'`.\n",
    "\n",
    "  12. Crea al zip de `etiquetas`, `persona1`, y `persona2`, llamado \"todo\".\n",
    "\n",
    "- Manipular zips\n",
    "\n",
    "  13. Ordena las propiedades de la variable `personas` alfabéticamente. ¿Puedes? ¿Por qué?\n",
    "\n",
    "---\n",
    "\n"
   ]
  },
  {
   "cell_type": "markdown",
   "metadata": {},
   "source": [
    "- Definir tuplas\n",
    "\n",
    "  1. Crea una tupla `persona1` para juntar los siguientes datos: 61 kg, 1.54 m altura, pelo marrón, sin usar paréntesis. (Serán del tipo `int`, `float` y `str`.)\n",
    "\n",
    "  2. Crea una tupla para la `persona2` de 68 kg, 1.65 m y pelo rubio, usando paréntesis.\n",
    "\n",
    "  3. Crea una lista `talla` que recompila 'M', 42, y 39. "
   ]
  },
  {
   "cell_type": "code",
   "execution_count": 5,
   "metadata": {},
   "outputs": [
    {
     "name": "stdout",
     "output_type": "stream",
     "text": [
      "('61kg', '1.54 m altura', 'pelo marrón') es del tipo <class 'tuple'>\n"
     ]
    }
   ],
   "source": [
    "persona1 = \"61kg\", \"1.54 m altura\", \"pelo marrón\"\n",
    "print(persona1, \"es del tipo\", type(persona1))"
   ]
  },
  {
   "cell_type": "code",
   "execution_count": 8,
   "metadata": {},
   "outputs": [
    {
     "name": "stdout",
     "output_type": "stream",
     "text": [
      "('68 kg', '1.65 m', 'pelo rubio') es del tipo <class 'tuple'>\n"
     ]
    }
   ],
   "source": [
    "persona2 = (\"68 kg\", \"1.65 m\", \"pelo rubio\")\n",
    "print(persona2, \"es del tipo\", type(persona2))"
   ]
  },
  {
   "cell_type": "code",
   "execution_count": 1,
   "metadata": {},
   "outputs": [],
   "source": [
    "talla = [\"M\", 42, 39]"
   ]
  },
  {
   "cell_type": "markdown",
   "metadata": {},
   "source": [
    "- Convertir y juntar\n",
    "\n",
    "  4. Convierte la lista `talla` a una tupla.\n",
    "  \n",
    "  5. Une a la tupla de `persona1` los datos en `talla`, para tener una única tupla."
   ]
  },
  {
   "cell_type": "code",
   "execution_count": 2,
   "metadata": {},
   "outputs": [],
   "source": [
    "talla_tupla = tuple(talla)"
   ]
  },
  {
   "cell_type": "code",
   "execution_count": 6,
   "metadata": {},
   "outputs": [
    {
     "name": "stdout",
     "output_type": "stream",
     "text": [
      "('61kg', '1.54 m altura', 'pelo marrón', 'M', 42, 39)\n"
     ]
    }
   ],
   "source": [
    "persona1_talla = persona1 + talla_tupla\n",
    "print(persona1_talla)"
   ]
  },
  {
   "cell_type": "markdown",
   "metadata": {},
   "source": [
    " - Indexar tuplas\n",
    "\n",
    "  6. Saca de `persona2` el contenido del tercer elemento y llámalo `color`.\n",
    "\n",
    "  7. ¿Cuántos elementos hay ahora en `persona1`? (Es decir, ¿cuál es su longitud?)"
   ]
  },
  {
   "cell_type": "code",
   "execution_count": 9,
   "metadata": {},
   "outputs": [
    {
     "name": "stdout",
     "output_type": "stream",
     "text": [
      "pelo rubio\n"
     ]
    }
   ],
   "source": [
    "color = persona2[2]\n",
    "print(color)"
   ]
  },
  {
   "cell_type": "code",
   "execution_count": 19,
   "metadata": {},
   "outputs": [
    {
     "name": "stdout",
     "output_type": "stream",
     "text": [
      "6\n"
     ]
    }
   ],
   "source": [
    "print(len(persona1_talla)) #no es esto"
   ]
  },
  {
   "cell_type": "markdown",
   "metadata": {},
   "source": [
    "- Desempaquetar\n",
    "\n",
    "  8. Crea las variables `peso`, `altura`, `color_pelo` y llénalas con el contenido de `persona1`. Imprime `color_pelo` para comprobar el resultado. "
   ]
  },
  {
   "cell_type": "code",
   "execution_count": 12,
   "metadata": {},
   "outputs": [
    {
     "name": "stdout",
     "output_type": "stream",
     "text": [
      "pelo marrón\n"
     ]
    }
   ],
   "source": [
    "persona1 = (\"61kg\", \"1.54 m altura\", \"pelo marrón\")\n",
    "\n",
    "peso, altura, color_pelo = persona1\n",
    "\n",
    "print(color_pelo)"
   ]
  },
  {
   "cell_type": "markdown",
   "metadata": {},
   "source": [
    "- Zipear\n",
    "\n",
    "  9. Crea el zip `personas` con `persona1` y `persona2`.\n",
    "\n",
    "  10. ¿Cuántas \"elementos\" tiene `personas`? ¿Por qué?\n",
    "\n",
    "  11. Crea una tupla `etiquetas` con `'peso'`, `'altura'`, y `'color_pelo'`.\n",
    "\n",
    "  12. Crea al zip de `etiquetas`, `persona1`, y `persona2`, llamado \"todo\"."
   ]
  },
  {
   "cell_type": "code",
   "execution_count": 13,
   "metadata": {},
   "outputs": [
    {
     "name": "stdout",
     "output_type": "stream",
     "text": [
      "[('61kg', '68 kg'), ('1.54 m altura', '1.65 m'), ('pelo marrón', 'pelo rubio')]\n"
     ]
    }
   ],
   "source": [
    "personal1 = (\"61kg\", \"1.54 m altura\", \"pelo marrón\")\n",
    "personal2 = (\"68 kg\", \"1.65 m\", \"pelo rubio\")\n",
    "\n",
    "personas = zip(personal1, personal2)\n",
    "\n",
    "print(list(personas))"
   ]
  },
  {
   "cell_type": "code",
   "execution_count": 14,
   "metadata": {},
   "outputs": [
    {
     "name": "stdout",
     "output_type": "stream",
     "text": [
      "3\n"
     ]
    }
   ],
   "source": [
    "personas = list(zip(personal1, personal2))\n",
    "\n",
    "print(len(personas))"
   ]
  },
  {
   "cell_type": "code",
   "execution_count": 15,
   "metadata": {},
   "outputs": [
    {
     "name": "stdout",
     "output_type": "stream",
     "text": [
      "('peso', 'altura', 'color_pelo')\n"
     ]
    }
   ],
   "source": [
    "etiquetas = (\"peso\", \"altura\", \"color_pelo\")\n",
    "\n",
    "print(etiquetas)"
   ]
  },
  {
   "cell_type": "code",
   "execution_count": 16,
   "metadata": {},
   "outputs": [
    {
     "name": "stdout",
     "output_type": "stream",
     "text": [
      "[('peso', '61kg', '68 kg'), ('altura', '1.54 m altura', '1.65 m'), ('color_pelo', 'pelo marrón', 'pelo rubio')]\n"
     ]
    }
   ],
   "source": [
    "toda_info_persona = zip(etiquetas, personal1, personal2)\n",
    "\n",
    "print(list(toda_info_persona))"
   ]
  },
  {
   "cell_type": "markdown",
   "metadata": {},
   "source": [
    "- Manipular zips\n",
    "\n",
    "  13. Ordena las propiedades de la variable `personas` alfabéticamente. ¿Puedes? ¿Por qué?"
   ]
  },
  {
   "cell_type": "markdown",
   "metadata": {},
   "source": []
  }
 ],
 "metadata": {
  "kernelspec": {
   "display_name": "Python 3 (ipykernel)",
   "language": "python",
   "name": "python3"
  },
  "language_info": {
   "codemirror_mode": {
    "name": "ipython",
    "version": 3
   },
   "file_extension": ".py",
   "mimetype": "text/x-python",
   "name": "python",
   "nbconvert_exporter": "python",
   "pygments_lexer": "ipython3",
   "version": "3.11.7"
  },
  "toc": {
   "base_numbering": 1,
   "nav_menu": {},
   "number_sections": true,
   "sideBar": true,
   "skip_h1_title": false,
   "title_cell": "Table of Contents",
   "title_sidebar": "Contents",
   "toc_cell": true,
   "toc_position": {},
   "toc_section_display": true,
   "toc_window_display": true
  },
  "vscode": {
   "interpreter": {
    "hash": "8560ba40f25f8debc3b21cfdc72602d7855270eb253b25380125fbd9b6cd3418"
   }
  }
 },
 "nbformat": 4,
 "nbformat_minor": 2
}
