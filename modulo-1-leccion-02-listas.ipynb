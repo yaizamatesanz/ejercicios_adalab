{
 "cells": [
  {
   "cell_type": "markdown",
   "metadata": {
    "toc": true
   },
   "source": [
    "<h1>Table of Contents<span class=\"tocSkip\"></span></h1>\n",
    "<div class=\"toc\"><ul class=\"toc-item\"><li><span><a href=\"#¿Qué-son-las-listas-y-como-se-definen?\" data-toc-modified-id=\"¿Qué-son-las-listas-y-como-se-definen?-1\"><span class=\"toc-item-num\">1&nbsp;&nbsp;</span>¿Qué son las listas y como se definen?</a></span></li><li><span><a href=\"#Propiedades-de-una-lista\" data-toc-modified-id=\"Propiedades-de-una-lista-2\"><span class=\"toc-item-num\">2&nbsp;&nbsp;</span>Propiedades de una lista</a></span><ul class=\"toc-item\"><li><span><a href=\"#Ejercicios:-propiedades-de-listas\" data-toc-modified-id=\"Ejercicios:-propiedades-de-listas-2.1\"><span class=\"toc-item-num\">2.1&nbsp;&nbsp;</span>Ejercicios: propiedades de listas</a></span></li></ul></li><li><span><a href=\"#Indexación-en-listas\" data-toc-modified-id=\"Indexación-en-listas-3\"><span class=\"toc-item-num\">3&nbsp;&nbsp;</span>Indexación en listas</a></span></li><li><span><a href=\"#Métodos-para-listas\" data-toc-modified-id=\"Métodos-para-listas-4\"><span class=\"toc-item-num\">4&nbsp;&nbsp;</span>Métodos para listas</a></span><ul class=\"toc-item\"><li><span><a href=\"#.copy()\" data-toc-modified-id=\".copy()-4.1\"><span class=\"toc-item-num\">4.1&nbsp;&nbsp;</span><code>.copy()</code></a></span></li><li><span><a href=\"#.clear()\" data-toc-modified-id=\".clear()-4.2\"><span class=\"toc-item-num\">4.2&nbsp;&nbsp;</span><code>.clear()</code></a></span></li><li><span><a href=\"#.remove()\" data-toc-modified-id=\".remove()-4.3\"><span class=\"toc-item-num\">4.3&nbsp;&nbsp;</span><code>.remove()</code></a></span></li><li><span><a href=\"#.pop()\" data-toc-modified-id=\".pop()-4.4\"><span class=\"toc-item-num\">4.4&nbsp;&nbsp;</span><code>.pop()</code></a></span></li><li><span><a href=\"#.count()\" data-toc-modified-id=\".count()-4.5\"><span class=\"toc-item-num\">4.5&nbsp;&nbsp;</span><code>.count()</code></a></span></li><li><span><a href=\"#.reverse()\" data-toc-modified-id=\".reverse()-4.6\"><span class=\"toc-item-num\">4.6&nbsp;&nbsp;</span><code>.reverse()</code></a></span></li><li><span><a href=\"#.sort()\" data-toc-modified-id=\".sort()-4.7\"><span class=\"toc-item-num\">4.7&nbsp;&nbsp;</span><code>.sort()</code></a></span><ul class=\"toc-item\"><li><span><a href=\"#sorted()\" data-toc-modified-id=\"sorted()-4.7.1\"><span class=\"toc-item-num\">4.7.1&nbsp;&nbsp;</span><code>sorted()</code></a></span></li></ul></li><li><span><a href=\"#.append()\" data-toc-modified-id=\".append()-4.8\"><span class=\"toc-item-num\">4.8&nbsp;&nbsp;</span><code>.append()</code></a></span></li><li><span><a href=\"#.extend()\" data-toc-modified-id=\".extend()-4.9\"><span class=\"toc-item-num\">4.9&nbsp;&nbsp;</span><code>.extend()</code></a></span></li><li><span><a href=\"#.insert()\" data-toc-modified-id=\".insert()-4.10\"><span class=\"toc-item-num\">4.10&nbsp;&nbsp;</span><code>.insert()</code></a></span></li></ul></li><li><span><a href=\"#Ejercicios:\" data-toc-modified-id=\"Ejercicios:-5\"><span class=\"toc-item-num\">5&nbsp;&nbsp;</span>Ejercicios:</a></span></li></ul></div>"
   ]
  },
  {
   "cell_type": "markdown",
   "metadata": {},
   "source": [
    "# ¿Qué son las listas y como se definen? \n",
    "\n",
    "\n",
    "Una lista en Python es una estructura de datos que se utiliza para almacenar una colección ordenada de elementos. Cada elemento en la lista se identifica por un índice que comienza en cero. Las listas son una de las estructuras de datos más utilizadas en Python debido a su versatilidad y flexibilidad.\n",
    "\n",
    "Las listas en Python son mutables, lo que significa que se pueden modificar después de haber sido creadas. Se pueden agregar o eliminar elementos de la lista, y se pueden modificar los elementos existentes. Las listas también pueden contener diferentes tipos de elementos, como *integers*, *floats*, *strings* , otras listas, etc.\n",
    "\n",
    "Para crear una lista en Python, utilizaremos los corchetes `[]`, separando cada elemento con comas. \n",
    "\n",
    "Principalmente hay dos formas de definir una lista. Si recordamos cómo definiamos una variable, lo hacíamos de la siguiente forma `nombre = contenido`. Para que sea una lista, ¡sólo hay que añadir unos corchetes! Una lista puede, pero no exige, tener más que un valor, veamos un ejemplo:\n",
    "\n",
    "```python\n",
    "# podemos crear una lista que contenga varios elementos\n",
    "lista_nombres = [\"Lola\", \"Laura\", \"Marta\"]\n",
    "\n",
    "# o también podemos crear una lista vacía a la que le iremos añadiendo elementos\n",
    "lista_apellidos = []\n",
    "```\n",
    "\n",
    "Las listas en Python tienen varios métodos integrados que se utilizan para agregar, eliminar y modificar elementos. Algunos de los métodos más comunes y que veremos a lo largo de la lección son:\n",
    "\n",
    "- `append()`: agrega un elemento al final de la lista.\n",
    "\n",
    "- `insert()`: agrega un elemento en una posición específica de la lista.\n",
    "\n",
    "- `remove()`: elimina la primera aparición de un elemento de la lista.\n",
    "\n",
    "- `pop()`: elimina y devuelve el elemento en una posición específica de la lista.\n",
    "\n",
    "- `clear()`: elimina todos los elementos de la lista.\n",
    "\n",
    "- `index()`: devuelve la posición de la primera aparición de un elemento en la lista.\n",
    "\n",
    "- `count()`: devuelve el número de veces que aparece un elemento en la lista.\n",
    "\n",
    "- `sort()`: ordena los elementos de la lista.\n",
    "\n",
    "Esto nos puede parecer un poco abrumador, así que pongámonos manos a la obra y empecemos a escribir código de Python para familiarizarnos con las listas: "
   ]
  },
  {
   "cell_type": "code",
   "execution_count": 33,
   "metadata": {},
   "outputs": [],
   "source": [
    "# definimos una lista con un único valor que es un string\n",
    "lista_de_compra = ['peras']\n",
    "\n",
    "# como hemos dicho, las listas pueden almacenar cualquier tipo de dato, creemos ahora una lista con un único valor, que sea un integer\n",
    "notas_biologia_este_año = [7]"
   ]
  },
  {
   "cell_type": "markdown",
   "metadata": {},
   "source": [
    "Recordemos que en Python tenemos la función `type` el cual utilizaremos mucho y nos devolverá el tipo de datos de un objeto o variable. Además tenemos el  método `isinstance` el cual nos servirá para verificar si un objeto o variable es una instancia de una clase determinada o de una subclase de esa clase.\n",
    "\n",
    "Pero.. ¿qué diferencia hay entre estos métodos?  El `type()` devuelve el tipo de datos de un objeto, mientras que `isinstance()` verifica si un objeto es una instancia de una clase determinada o de una subclase de esa clase, es decir, nos va a devolver un booleano. "
   ]
  },
  {
   "cell_type": "code",
   "execution_count": 34,
   "metadata": {},
   "outputs": [
    {
     "name": "stdout",
     "output_type": "stream",
     "text": [
      "<class 'list'>\n"
     ]
    }
   ],
   "source": [
    "print(type(lista_de_compra))"
   ]
  },
  {
   "cell_type": "code",
   "execution_count": 35,
   "metadata": {},
   "outputs": [
    {
     "data": {
      "text/plain": [
       "True"
      ]
     },
     "execution_count": 35,
     "metadata": {},
     "output_type": "execute_result"
    }
   ],
   "source": [
    "isinstance(notas_biologia_este_año,list)"
   ]
  },
  {
   "cell_type": "markdown",
   "metadata": {},
   "source": [
    "Imaginemos que somos profesoras de biología en un colegio y queremos llevar un registro de las notas de nuestras estudiantes en su clase de biología de este año. Para hacer esto, hemos decidido utilizar Python, por lo que vamos a crear una lista vacía llamada `notas_biologia_primer_examen`.\n",
    "\n",
    "Cada vez que las alumnas tengan una evaluación, registraremos sus notas en la lista utilizando Python. La lista nos permitirá ver las calificaciones de las alumnas a lo largo del año y nos ayudará a identificar en qué áreas necesitan mejorar."
   ]
  },
  {
   "cell_type": "code",
   "execution_count": 36,
   "metadata": {},
   "outputs": [
    {
     "name": "stdout",
     "output_type": "stream",
     "text": [
      "[]\n"
     ]
    }
   ],
   "source": [
    "# definimos una lista vacía donde iremos alma\n",
    "notas_biologia_primer_examen = []\n",
    "\n",
    "# veremos que la lista está vacía\n",
    "print(notas_biologia_primer_examen)"
   ]
  },
  {
   "cell_type": "markdown",
   "metadata": {},
   "source": [
    "El curso va avanzado y vamos  haciendo exámenes, por lo que tendremos que ir guardando las notas que las notas que las alumnas han ido sacando. Esto nos servirá luego a la hora de calcular la media de las notas de las alumnas, o mirar si me falta alguna nota. \n",
    "\n",
    "Para agregar las notas vamos a crear tres variables, cada una de ellas corresponde a una alumna, para luego añadirlo a la lista de las notas del primer examen. "
   ]
  },
  {
   "cell_type": "code",
   "execution_count": 37,
   "metadata": {},
   "outputs": [],
   "source": [
    "# definimos las tres variables \n",
    "\n",
    "nota_lola = 8\n",
    "nota_marta = 7.5\n",
    "nota_rocio = 4"
   ]
  },
  {
   "cell_type": "code",
   "execution_count": 38,
   "metadata": {},
   "outputs": [
    {
     "name": "stdout",
     "output_type": "stream",
     "text": [
      "[8, 7.5, 4]\n"
     ]
    }
   ],
   "source": [
    "# es el momento de añadir las notas de las alumnas a la lista de notas que creamos previamente, pero de momento ...\n",
    "# vamos a  la lista de nuevo, pero en este caso le paso valores, en concreto le paso los nombres de las variables que hemos definido en la celda anterior.\n",
    "# es decir, no estamos añadiendo valores a la lista, simplemente estoy creando la lista de nuevo con valores en su interior. \n",
    "\n",
    "notas_biologia_primer_examen = [nota_lola, nota_marta, nota_rocio]\n",
    "\n",
    "# veamos como es ahora nuestra lista usando la función print\n",
    "print(notas_biologia_primer_examen)"
   ]
  },
  {
   "cell_type": "markdown",
   "metadata": {},
   "source": [
    "En el colegio ha habido un problema de comunicación entre los profesores, y resulta que el otro profesor de biología había creado ya una lista con las notas de las alumnas que el había evaluado... Lo ideal es que todas las notas del primer examen estén en una misma lista para intentar tenerlo todo lo más ordenado posible. Por lo que podremos pensar... ¿Hay una manera de juntar las dos listas? ¡Por supuesto!"
   ]
  },
  {
   "cell_type": "code",
   "execution_count": 39,
   "metadata": {},
   "outputs": [],
   "source": [
    "# lo primero que vamos a hacer es definir una lista nueva donde tengamos almacenadas las notas de las alumnas que fueron evaluadas por el otro profesor:\n",
    "notas_biologia_primer_examen_profe2 = [8.3, 6.7, 9.0, 7.5, 5.8, 6.8, 9.0, 6.8]"
   ]
  },
  {
   "cell_type": "code",
   "execution_count": 40,
   "metadata": {},
   "outputs": [
    {
     "name": "stdout",
     "output_type": "stream",
     "text": [
      "[[8, 7.5, 4], [8.3, 6.7, 9.0, 7.5, 5.8, 6.8, 9.0, 6.8]]\n"
     ]
    }
   ],
   "source": [
    "# lo que vamos a hacer ahora es definir otra lista llamada \"todas_notas_biologia_primer_examen\" donde almacenamos las notas de todas las alumnas\n",
    "# al inicio de la lección comentamos que las listas pueden contener cualquier tipo de dato. En este caso, vamos a crear una lista que contendrá dos listas. La primera con las notas de la primera profesora y la segunda con las notas de la segunda profesora\n",
    "\n",
    "todas_notas_biologia_primer_examen = [notas_biologia_primer_examen, notas_biologia_primer_examen_profe2]\n",
    "\n",
    "# con este print veremos que tenemos una lista grande, con dos listas más pequeñas en su interior. Recordad que las listas vienen definidas por []. Bien! parece que hemos conseguido nuestro objetivo.\n",
    "print(todas_notas_biologia_primer_examen)"
   ]
  },
  {
   "cell_type": "markdown",
   "metadata": {},
   "source": [
    "Hasta ahora solo hemos creado listas con un solo tipo de dato, pero este tipo de estructuras de datos, nos permiten incluir distintos de tipos de datos! Almacenar distintos tipos de datos en listas en Python es una práctica esencial en la programación, ya que nos permite organizar, manipular y acceder a diferentes tipos de información de manera más eficiente y sencilla. Esta técnica nos ayuda a simplificar nuestro código, ahorrar tiempo y mejorar la calidad de nuestros programas. \n",
    "\n",
    "\n",
    "Ahora ha llegado al colegio otra profesora, pero ella es americana y por lo tanto no pone las notas igual que nosotras, pone las notas usando letras. Hemos realizado otro examen y las profes hemos añadido las notas en una lista que definiremos a continuación. Veamos un ejemplo: "
   ]
  },
  {
   "cell_type": "code",
   "execution_count": 41,
   "metadata": {},
   "outputs": [
    {
     "data": {
      "text/plain": [
       "['A', 'D', 'B', 'A', 'F', 6.0, 7.1, 6.8, 8.2, 6.8]"
      ]
     },
     "execution_count": 41,
     "metadata": {},
     "output_type": "execute_result"
    }
   ],
   "source": [
    "# definimos una nueva lista que va a contener strings y números\n",
    "notas_biologia_segundo_examen = ['A', 'D', 'B', 'A', \"F\", 6.0, 7.1, 6.8, 8.2, 6.8]\n",
    "notas_biologia_segundo_examen"
   ]
  },
  {
   "cell_type": "markdown",
   "metadata": {},
   "source": [
    "Menudo lio, tenemos dos listas, en una de ellas tenemos las notas del primer examen y en la segunda tenemos las notas del segundo examen. Podríamos juntar las dos listas en una aún teniendo distintos tipos de datos? 🤔\n",
    "\n",
    "La respuesta es SI!!!"
   ]
  },
  {
   "cell_type": "code",
   "execution_count": 42,
   "metadata": {},
   "outputs": [
    {
     "name": "stdout",
     "output_type": "stream",
     "text": [
      "[[[8, 7.5, 4], [8.3, 6.7, 9.0, 7.5, 5.8, 6.8, 9.0, 6.8]], ['A', 'D', 'B', 'A', 'F', 6.0, 7.1, 6.8, 8.2, 6.8]]\n"
     ]
    }
   ],
   "source": [
    "# juntamos las tres listas\n",
    "notas_biologia = [todas_notas_biologia_primer_examen, notas_biologia_segundo_examen]\n",
    "\n",
    "# vemos su contenido\n",
    "print(notas_biologia)"
   ]
  },
  {
   "cell_type": "markdown",
   "metadata": {},
   "source": [
    "Si nos fijamos, ahora tenemos una lista, que contiene tres listas en su interior. Ahora bien, imaginemos que queremos tener todas las notas en una única lista, y no como lo teníamos hasta ahora. La manera de juntar las listas es usando el operador `+` \n",
    "\n",
    "> El resultado será una lista de 19 números, en vez de una lista de tres listas:"
   ]
  },
  {
   "cell_type": "code",
   "execution_count": 43,
   "metadata": {},
   "outputs": [
    {
     "name": "stdout",
     "output_type": "stream",
     "text": [
      "[8, 7.5, 4, 8.3, 6.7, 9.0, 7.5, 5.8, 6.8, 9.0, 6.8, 'A', 'D', 'B', 'A', 'F', 6.0, 7.1, 6.8, 8.2, 6.8]\n"
     ]
    }
   ],
   "source": [
    "# juntamos las tres listas usando el operador + \n",
    "notas_biologia2 = notas_biologia_primer_examen + notas_biologia_primer_examen_profe2 + notas_biologia_segundo_examen\n",
    "\n",
    "# mostramos los resultados\n",
    "print(notas_biologia2)"
   ]
  },
  {
   "cell_type": "markdown",
   "metadata": {},
   "source": [
    "En resumen, el operador `+` concatena dos listas y devuelve una nueva lista con todos los elementos de las listas anteriores.  Mientras que la `,` , crea una lista que contiene ambas listas originales.\n",
    "\n",
    "Sigamos aprendiendo de las listas, en Python, podemos convertir una cadena de caracteres (*string*) en una lista de caracteres o palabras. Para ello podemos usar el método `list()` el cual se utiliza para convertir cualquier objeto iterable en una lista, incluyendo una cadena de caracteres. Cuando se aplica a una cadena de caracteres, este método devolverá una lista de caracteres. Por ejemplo:"
   ]
  },
  {
   "cell_type": "code",
   "execution_count": 44,
   "metadata": {},
   "outputs": [
    {
     "data": {
      "text/plain": [
       "['L', 'o', 'v', 'e', 'l', 'a', 'c', 'e']"
      ]
     },
     "execution_count": 44,
     "metadata": {},
     "output_type": "execute_result"
    }
   ],
   "source": [
    "# definimos una variable de tipo string\n",
    "apellido = 'Lovelace'\n",
    "\n",
    "# la convertimos a lista\n",
    "list(apellido)"
   ]
  },
  {
   "cell_type": "markdown",
   "metadata": {},
   "source": [
    "📌 ¡Pero ojo! **No** nos ha creado una lista con un único elemento con el *string*. Nos ha creado una lista donde tenemos 8 elementos, donde cada uno de ellos es una letra de nuestro *string*. Pero recordemos, si volvemos a mostrar apellido, ¿qué pasará?"
   ]
  },
  {
   "cell_type": "code",
   "execution_count": 45,
   "metadata": {},
   "outputs": [
    {
     "data": {
      "text/plain": [
       "'Lovelace'"
      ]
     },
     "execution_count": 45,
     "metadata": {},
     "output_type": "execute_result"
    }
   ],
   "source": [
    "\n",
    "apellido"
   ]
  },
  {
   "cell_type": "markdown",
   "metadata": {},
   "source": [
    "Sigue siendo un *string*, recordad que para que se nos guarde como lista tendremos que crearnos otra variable o sobreescribir la que ya tenemos. "
   ]
  },
  {
   "cell_type": "code",
   "execution_count": 46,
   "metadata": {},
   "outputs": [],
   "source": [
    "apellido2 = list(apellido)"
   ]
  },
  {
   "cell_type": "code",
   "execution_count": 47,
   "metadata": {},
   "outputs": [
    {
     "data": {
      "text/plain": [
       "['L', 'o', 'v', 'e', 'l', 'a', 'c', 'e']"
      ]
     },
     "execution_count": 47,
     "metadata": {},
     "output_type": "execute_result"
    }
   ],
   "source": [
    "apellido2"
   ]
  },
  {
   "cell_type": "markdown",
   "metadata": {},
   "source": [
    "¿Qué pasaría si lo hacemos con una variable de tipo numérica? Veámoslo con un ejemplo: "
   ]
  },
  {
   "cell_type": "code",
   "execution_count": 48,
   "metadata": {},
   "outputs": [],
   "source": [
    "# definimos la variable numérica\n",
    "numero = 22"
   ]
  },
  {
   "cell_type": "code",
   "execution_count": 49,
   "metadata": {},
   "outputs": [
    {
     "ename": "TypeError",
     "evalue": "'int' object is not iterable",
     "output_type": "error",
     "traceback": [
      "\u001b[0;31m---------------------------------------------------------------------------\u001b[0m",
      "\u001b[0;31mTypeError\u001b[0m                                 Traceback (most recent call last)",
      "Cell \u001b[0;32mIn[49], line 1\u001b[0m\n\u001b[0;32m----> 1\u001b[0m \u001b[38;5;28mlist\u001b[39m(numero)\n",
      "\u001b[0;31mTypeError\u001b[0m: 'int' object is not iterable"
     ]
    }
   ],
   "source": [
    "list(numero)"
   ]
  },
  {
   "cell_type": "markdown",
   "metadata": {},
   "source": [
    "Vaya... nos da un error, y es que no todos los tipos de datos son convertibles en listas. Este es un claro ejemplo de ello. Para ello necesitaremos otras herramientas de Python que iremos aprendiendo en las siguientes lecciones. "
   ]
  },
  {
   "cell_type": "markdown",
   "metadata": {
    "id": "aCLnA8lRcX2F"
   },
   "source": [
    "\n",
    "\n",
    "---\n"
   ]
  },
  {
   "cell_type": "markdown",
   "metadata": {},
   "source": [
    "# Propiedades de una lista\n",
    "\n",
    "Hasta ahora lo único que hemos hecho ha sido crear listas de distintas formas. En muchos de estos casos era fácil contar el número de elementos o saber cuales son los valores máximos o mínimos, ya que solo teníamos solo unos valores. Pero imaginemos que tenemos listas con cientos de miles de datos, ¿tendríamos que estar revisando o contando uno a uno cada uno de los elementos? Esto podría ser un poco tendioso. \n",
    "\n",
    "Una vez definida, no siempre nos interesan los contenidos de la lista en sí, si no sus propiedades. ¿Cuántos exámenes hay en un año? Y ¿cuántas notas tengo apuntadas en mi lista? Algunas de las propiedades interesantes de las listas: \n",
    "\n",
    "- La **función `len()`** en Python se utiliza para obtener la longitud de una lista, es decir, la cantidad de elementos que contiene la lista. La obtención de la longitud de una lista es importante porque permite verificar si la lista está vacía o no, y también permite determinar la cantidad exacta de elementos que contiene la lista, lo cual puede ser útil en muchos escenarios.\n",
    "\n",
    "- La **función `max()`** en Python se utiliza para obtener el elemento máximo de una lista, es decir, el elemento de mayor valor en la lista. La obtención del elemento máximo es importante porque permite obtener el valor máximo de una lista de valores, lo cual puede ser útil en muchas aplicaciones, como por ejemplo, encontrar el puntaje más alto en un conjunto de puntajes.\n",
    "\n",
    "- La **función` min()`** en Python se utiliza para obtener el elemento mínimo de una lista, es decir, el elemento de menor valor en la lista. La obtención del elemento mínimo es importante porque permite obtener el valor mínimo de una lista de valores, lo cual puede ser útil en muchas aplicaciones, como por ejemplo, encontrar el puntaje más bajo en un conjunto de puntajes.\n",
    "\n",
    "Veamos algunos ejemplos. En este caso nos encontraremos en la siguiente situación. Ultimamente hemos empezado a registrar todos los pasos que damos en un día, y nos hemos dado cuenta que ya llevamos un año recopilando datos, vamos a investigar un poco nuestros  datos de los pasos que hemos dado. Para ello, lo primero que vamos a hacer es crear una lista con 365 datos. "
   ]
  },
  {
   "cell_type": "code",
   "execution_count": null,
   "metadata": {},
   "outputs": [
    {
     "name": "stdout",
     "output_type": "stream",
     "text": [
      "Lista de pasos: [15413, 15855, 22399, 19988, 12709, 19138, 22951, 22322, 24454, 28931, 16609, 18277, 12261, 25552, 11730, 17414, 14479, 26870, 16749, 21189, 19111, 16711, 15188, 16891, 19333, 29310, 11159, 24780, 16162, 27243, 25509, 12093, 27936, 26384, 21533, 10279, 21935, 14639, 25367, 14355, 20347, 10813, 24580, 10046, 18483, 10346, 16868, 24809, 17471, 27576, 12517, 25732, 14591, 11987, 17810, 20176, 16391, 16024, 16048, 28676, 25335, 24034, 15485, 18399, 17836, 14875, 27566, 18089, 23797, 22918, 14073, 29187, 12087, 19085, 17569, 18140, 17459, 28245, 15109, 16016, 28216, 28022, 25157, 18087, 16358, 14994, 10962, 19821, 21092, 12134, 12009, 22892, 24083, 11765, 21264, 28741, 14182, 13915, 12436, 10187, 11471, 10577, 11485, 11433, 11658, 20848, 17796, 22679, 23067, 21890, 28220, 29285, 16309, 29817, 28804, 11005, 15401, 23702, 16786, 14896, 24178, 10373, 16763, 22812, 28614, 26935, 25784, 11107, 25799, 17822, 12292, 11369, 14136, 16532, 24141, 29349, 16447, 10077, 15471, 20883, 29682, 28964, 18774, 27953, 21658, 21828, 11803, 15622, 15064, 21091, 14322, 13228, 28119, 27390, 21449, 27791, 21033, 20343, 20624, 23884, 11718, 21409, 18171, 18300, 29974, 12643, 22086, 20843, 10437, 21713, 25663, 17602, 15319, 28865, 26728, 17051, 26404, 23716, 27192, 17778, 25141, 11897, 10691, 24129, 21320, 18542, 21270, 12789, 25850, 20380, 14328, 21286, 28167, 29278, 22621, 14658, 20507, 24664, 23576, 17824, 24224, 25997, 16528, 14958, 27292, 25185, 29302, 16500, 15896, 22053, 14121, 25440, 25696, 21035, 21016, 10251, 22260, 12858, 20643, 22233, 27120, 28756, 21280, 21858, 16179, 18970, 23784, 20594, 11523, 17052, 12248, 23102, 29652, 20581, 22300, 10141, 10804, 21182, 21917, 18006, 23043, 19801, 23799, 12779, 22009, 12428, 13167, 11087, 12019, 13030, 23132, 24114, 11621, 15943, 14911, 18857, 25109, 15980, 15324, 12708, 25638, 26344, 21300, 21780, 26383, 23641, 13083, 18088, 12258, 16420, 15178, 21808, 18541, 18323, 19952, 28899, 24621, 14852, 28315, 11183, 20733, 29485, 27289, 14919, 16103, 13592, 18814, 12244, 26812, 20472, 16635, 19761, 21187, 28498, 27037, 26134, 26325, 10239, 15529, 23709, 28892, 25489, 27935, 20024, 22262, 16285, 18170, 19127, 24562, 25679, 29445, 18534, 12315, 20296, 21402, 18490, 21050, 12527, 10716, 28409, 16710, 10650, 28504, 11451, 12253, 12896, 12195, 20017, 18136, 21939, 24418, 17189, 26919, 28040, 15253, 28981, 29642, 15128, 27981, 19670, 20169, 28455, 18773, 25855, 27110, 25800, 29737, 26784, 26341, 24567, 19608, 26170, 16374, 12422, 20258, 26122, 19105, 29678, 15851, 27466, 26650, 24711, 19865, 25322, 11362]\n"
     ]
    }
   ],
   "source": [
    "# definimos la lista de pasos de un año\n",
    "\n",
    "lista_pasos = [15413, 15855, 22399, 19988, 12709, 19138, 22951, 22322, 24454, 28931, 16609, 18277, 12261, 25552, 11730, \n",
    "                17414, 14479, 26870, 16749, 21189, 19111, 16711, 15188, 16891, 19333, 29310, 11159, 24780, 16162, 27243, \n",
    "                25509, 12093, 27936, 26384, 21533, 10279, 21935, 14639, 25367, 14355, 20347, 10813, 24580, 10046, 18483, \n",
    "                10346, 16868, 24809, 17471, 27576, 12517, 25732, 14591, 11987, 17810, 20176, 16391, 16024, 16048, 28676, \n",
    "                25335, 24034, 15485, 18399, 17836, 14875, 27566, 18089, 23797, 22918, 14073, 29187, 12087, 19085, 17569,\n",
    "                 18140, 17459, 28245, 15109, 16016, 28216, 28022, 25157, 18087, 16358, 14994, 10962, 19821, 21092, 12134, \n",
    "                 12009, 22892, 24083, 11765, 21264, 28741, 14182, 13915, 12436, 10187, 11471, 10577, 11485, 11433, 11658, \n",
    "                 20848, 17796, 22679, 23067, 21890, 28220, 29285, 16309, 29817, 28804, 11005, 15401, 23702, 16786, 14896, \n",
    "                 24178, 10373, 16763, 22812, 28614, 26935, 25784, 11107, 25799, 17822, 12292, 11369, 14136, 16532, 24141,\n",
    "                  29349, 16447, 10077, 15471, 20883, 29682, 28964, 18774, 27953, 21658, 21828, 11803, 15622, 15064, 21091, \n",
    "                  14322, 13228, 28119, 27390, 21449, 27791, 21033, 20343, 20624, 23884, 11718, 21409, 18171, 18300, 29974, \n",
    "                  12643, 22086, 20843, 10437, 21713, 25663, 17602, 15319, 28865, 26728, 17051, 26404, 23716, 27192, 17778, \n",
    "                  25141, 11897, 10691, 24129, 21320, 18542, 21270, 12789, 25850, 20380, 14328, 21286, 28167, 29278, 22621, \n",
    "                  14658, 20507, 24664, 23576, 17824, 24224, 25997, 16528, 14958, 27292, 25185, 29302, 16500, 15896, 22053, \n",
    "                  14121, 25440, 25696, 21035, 21016, 10251, 22260, 12858, 20643, 22233, 27120, 28756, 21280, 21858, 16179, \n",
    "                  18970, 23784, 20594, 11523, 17052, 12248, 23102, 29652, 20581, 22300, 10141, 10804, 21182, 21917, 18006, \n",
    "                  23043, 19801, 23799, 12779, 22009, 12428, 13167, 11087, 12019, 13030, 23132, 24114, 11621, 15943, 14911, \n",
    "                  18857, 25109, 15980, 15324, 12708, 25638, 26344, 21300, 21780, 26383, 23641, 13083, 18088, 12258, 16420, \n",
    "                  15178, 21808, 18541, 18323, 19952, 28899, 24621, 14852, 28315, 11183, 20733, 29485, 27289, 14919, 16103, \n",
    "                  13592, 18814, 12244, 26812, 20472, 16635, 19761, 21187, 28498, 27037, 26134, 26325, 10239, 15529, 23709, \n",
    "                  28892, 25489, 27935, 20024, 22262, 16285, 18170, 19127, 24562, 25679, 29445, 18534, 12315, 20296, 21402, \n",
    "                  18490, 21050, 12527, 10716, 28409, 16710, 10650, 28504, 11451, 12253, 12896, 12195, 20017, 18136, 21939, \n",
    "                  24418, 17189, 26919, 28040, 15253, 28981, 29642, 15128, 27981, 19670, 20169, 28455, 18773, 25855, 27110, \n",
    "                  25800, 29737, 26784, 26341, 24567, 19608, 26170, 16374, 12422, 20258, 26122, 19105, 29678, 15851, 27466, \n",
    "                  26650, 24711, 19865, 25322, 11362]\n",
    "                  \n",
    "print(\"Lista de pasos:\", lista_pasos)"
   ]
  },
  {
   "cell_type": "code",
   "execution_count": null,
   "metadata": {},
   "outputs": [
    {
     "name": "stdout",
     "output_type": "stream",
     "text": [
      "El número de datos que tenemos en la lista es: 365\n"
     ]
    }
   ],
   "source": [
    "# veamos cuántas datos tenemos en la lista, es decir, ¿cuántos datos tenemos dentro de nuestra lista?\n",
    "cantidad_de_pasos = len(lista_pasos)\n",
    "print(\"El número de datos que tenemos en la lista es:\",  cantidad_de_pasos)"
   ]
  },
  {
   "cell_type": "markdown",
   "metadata": {},
   "source": [
    "Seguimos con más propiedades de las listas, en realidad en este contexto nos habíamos puesto un reto personal: caminar al menos 10,000 pasos al día. Como hemos dicho, comenzamos  a llevar un registro diario de sus pasos. Sabemos que hay días como especialmente activos, sin embargo, empezar a buscar uno a uno cada uno de los días para saber si es el día que más pasos dimos puede ser horrible. Gracias a Python, podemos hacer esto de una forma sencilla usando el método `max()`. De la misma forma, podremos saber la cantidad mínima que hemos dado en este último año usando el método `min()`. "
   ]
  },
  {
   "cell_type": "code",
   "execution_count": null,
   "metadata": {},
   "outputs": [
    {
     "name": "stdout",
     "output_type": "stream",
     "text": [
      "La cantidad mínima de pasos fue: 10046\n",
      "La cantidad máxima de pasos fue: 29974\n"
     ]
    }
   ],
   "source": [
    "minima = min(lista_pasos)\n",
    "maxima = max(lista_pasos)\n",
    "print(\"La cantidad mínima de pasos fue:\", minima)\n",
    "print(\"La cantidad máxima de pasos fue:\", maxima)"
   ]
  },
  {
   "cell_type": "markdown",
   "metadata": {},
   "source": [
    "Pero hagamos un parón en el camino antes de seguir. ¿Recordáis la lista de notas (`notas_biologia2`) que habíamos creado unas celdas más arriba? En esa lista teníamos notas en distintos formatos, ya que teníamos números y letras. ¿Qué pasará si intentamos calcular el máximo y el mínimo de esa lista de notas? Veámoslo con un ejemplo: "
   ]
  },
  {
   "cell_type": "code",
   "execution_count": null,
   "metadata": {},
   "outputs": [
    {
     "ename": "TypeError",
     "evalue": "'<' not supported between instances of 'str' and 'int'",
     "output_type": "error",
     "traceback": [
      "\u001b[0;31m---------------------------------------------------------------------------\u001b[0m",
      "\u001b[0;31mTypeError\u001b[0m                                 Traceback (most recent call last)",
      "\u001b[0;32m/tmp/ipykernel_2387/810227043.py\u001b[0m in \u001b[0;36m<module>\u001b[0;34m\u001b[0m\n\u001b[0;32m----> 1\u001b[0;31m \u001b[0mmin\u001b[0m\u001b[0;34m(\u001b[0m\u001b[0mnotas_biologia2\u001b[0m\u001b[0;34m)\u001b[0m\u001b[0;34m\u001b[0m\u001b[0;34m\u001b[0m\u001b[0m\n\u001b[0m",
      "\u001b[0;31mTypeError\u001b[0m: '<' not supported between instances of 'str' and 'int'"
     ]
    }
   ],
   "source": [
    "min(notas_biologia2)\n"
   ]
  },
  {
   "cell_type": "markdown",
   "metadata": {},
   "source": [
    "Ups... Nos da error!! Veamos que nos está diciendo el error, `TypeError: '<' not supported between instances of 'float' and 'str'`, es decir, nos esta diciendo que no podemos usar el operador `<` entre *integers*  y *floats*.  El código da error porque la lista contiene elementos de diferentes tipos de datos, incluyendo *strings* ('A', 'D', 'B', 'A', 'F'), *floats* e *integers* (8, 7.5, 4, 8.3, 6.7, 9.0, 7.5, 5.8, 6.8, 9.0, 6.8, 6.0, 7.1, 6.8, 8.2, 6.8). La función \"max\" solo funciona para una lista de números o una lista de cadenas de caracteres, pero no para una lista mixta de números y cadenas. Pensémoslo en \"humano\", si a vosotras os dicen que valor es mayor una \"A\" o un 7 ¿podríais contestar? La realidad es que no, pues eso mismo le pasa a Python. \n",
    "\n",
    "Por lo tanto, si tenemos una lista con elementos de distintos tipos no podremos usar este tipo de métodos. \n",
    "\n",
    "Pero...🤔, ¿creeis que podremos usar este tipo de método a una lista solo de *strings*?"
   ]
  },
  {
   "cell_type": "code",
   "execution_count": null,
   "metadata": {},
   "outputs": [
    {
     "name": "stdout",
     "output_type": "stream",
     "text": [
      "El valor mínimo es: Adalaber\n",
      "El valor máximo es: Hola\n"
     ]
    }
   ],
   "source": [
    "# definamos una lista sencilla de strings para ver un ejemplo\n",
    "mi_lista = [\"Hola\", \"Adalaber\"]\n",
    "\n",
    "print(\"El valor mínimo es:\", min(mi_lista))\n",
    "print(\"El valor máximo es:\", max(mi_lista))"
   ]
  },
  {
   "cell_type": "markdown",
   "metadata": {},
   "source": [
    "Fijaos que lo entiende!!!! ¿Qué está pasando? Basicamente, nos lo \"ordenará\" alfabeticamente. Es por esto, que nuestro `min` es \"Adalaber\" ya que empieza por A y está antes en el alfabeto que H de \"Hola\""
   ]
  },
  {
   "cell_type": "markdown",
   "metadata": {},
   "source": [
    "Volvemos al ejemplo de la lista de la cantidad de pasos que hemos dado en el último año. Nuestro objetivo era superar los 10,000 pasos al día, y hasta ahora hemos conseguido saber el número máximo y mínimo de pasos que hemos dado en un año. Sin embargo, podemos estar especialmente interesadas en saber si algún día hemos dado una cantidad de pasos concreta. Por ejemplo, podemos estar especialmente interesadas en una cantidad de pasos, por ejemplo, ¿hay algún día que hemos dado 20,000 pasos? \n",
    "\n",
    "Para eso podemos usar los operadores `in` y `not in`. Los operadores `in` y `not in` en Python se utilizan para verificar si un elemento está presente o no en una secuencia, como un *string*, una lista, una tupla.\n",
    "\n",
    "> El operador `in` devuelve True si el elemento se encuentra en la secuencia y False si no se encuentra. Por ejemplo:\n",
    "\n",
    "```python\n",
    "frutas = [\"manzana\", \"naranja\", \"plátano\"]\n",
    "\n",
    "# ---- EJEMPLO 1 ---- #\n",
    "# ¿Esta la palabra manzana en nuestra lista?\n",
    "\"manzana\" in frutas\n",
    "\n",
    "# Output \n",
    "True\n",
    "\n",
    "\n",
    "# ---- EJEMPLO 2 ---- #\n",
    "# ¿Esta la palabra Kiwi en nuestra lista?\n",
    "\"Kiwi\" in frutas\n",
    "\n",
    "# Output \n",
    "False\n",
    "\n",
    "\n",
    "# ---- EJEMPLO 3 ---- #\n",
    "# ¿No esta la palabra Kiwi en nuestra lista?\n",
    "\"Kiwi\" not in frutas\n",
    "\n",
    "# Output \n",
    "True\n",
    "```\n",
    "\n",
    "Veamos un ejemplo con nuestra lista de pasos: "
   ]
  },
  {
   "cell_type": "code",
   "execution_count": null,
   "metadata": {},
   "outputs": [
    {
     "name": "stdout",
     "output_type": "stream",
     "text": [
      "Lista de pasos: [15413, 15855, 22399, 19988, 12709, 19138, 22951, 22322, 24454, 28931, 16609, 18277, 12261, 25552, 11730, 17414, 14479, 26870, 16749, 21189, 19111, 16711, 15188, 16891, 19333, 29310, 11159, 24780, 16162, 27243, 25509, 12093, 27936, 26384, 21533, 10279, 21935, 14639, 25367, 14355, 20347, 10813, 24580, 10046, 18483, 10346, 16868, 24809, 17471, 27576, 12517, 25732, 14591, 11987, 17810, 20176, 16391, 16024, 16048, 28676, 25335, 24034, 15485, 18399, 17836, 14875, 27566, 18089, 23797, 22918, 14073, 29187, 12087, 19085, 17569, 18140, 17459, 28245, 15109, 16016, 28216, 28022, 25157, 18087, 16358, 14994, 10962, 19821, 21092, 12134, 12009, 22892, 24083, 11765, 21264, 28741, 14182, 13915, 12436, 10187, 11471, 10577, 11485, 11433, 11658, 20848, 17796, 22679, 23067, 21890, 28220, 29285, 16309, 29817, 28804, 11005, 15401, 23702, 16786, 14896, 24178, 10373, 16763, 22812, 28614, 26935, 25784, 11107, 25799, 17822, 12292, 11369, 14136, 16532, 24141, 29349, 16447, 10077, 15471, 20883, 29682, 28964, 18774, 27953, 21658, 21828, 11803, 15622, 15064, 21091, 14322, 13228, 28119, 27390, 21449, 27791, 21033, 20343, 20624, 23884, 11718, 21409, 18171, 18300, 29974, 12643, 22086, 20843, 10437, 21713, 25663, 17602, 15319, 28865, 26728, 17051, 26404, 23716, 27192, 17778, 25141, 11897, 10691, 24129, 21320, 18542, 21270, 12789, 25850, 20380, 14328, 21286, 28167, 29278, 22621, 14658, 20507, 24664, 23576, 17824, 24224, 25997, 16528, 14958, 27292, 25185, 29302, 16500, 15896, 22053, 14121, 25440, 25696, 21035, 21016, 10251, 22260, 12858, 20643, 22233, 27120, 28756, 21280, 21858, 16179, 18970, 23784, 20594, 11523, 17052, 12248, 23102, 29652, 20581, 22300, 10141, 10804, 21182, 21917, 18006, 23043, 19801, 23799, 12779, 22009, 12428, 13167, 11087, 12019, 13030, 23132, 24114, 11621, 15943, 14911, 18857, 25109, 15980, 15324, 12708, 25638, 26344, 21300, 21780, 26383, 23641, 13083, 18088, 12258, 16420, 15178, 21808, 18541, 18323, 19952, 28899, 24621, 14852, 28315, 11183, 20733, 29485, 27289, 14919, 16103, 13592, 18814, 12244, 26812, 20472, 16635, 19761, 21187, 28498, 27037, 26134, 26325, 10239, 15529, 23709, 28892, 25489, 27935, 20024, 22262, 16285, 18170, 19127, 24562, 25679, 29445, 18534, 12315, 20296, 21402, 18490, 21050, 12527, 10716, 28409, 16710, 10650, 28504, 11451, 12253, 12896, 12195, 20017, 18136, 21939, 24418, 17189, 26919, 28040, 15253, 28981, 29642, 15128, 27981, 19670, 20169, 28455, 18773, 25855, 27110, 25800, 29737, 26784, 26341, 24567, 19608, 26170, 16374, 12422, 20258, 26122, 19105, 29678, 15851, 27466, 26650, 24711, 19865, 25322, 11362]\n"
     ]
    }
   ],
   "source": [
    "# recordemos la lista lista_pasos\n",
    "\n",
    "print(\"Lista de pasos:\", lista_pasos)"
   ]
  },
  {
   "cell_type": "code",
   "execution_count": null,
   "metadata": {},
   "outputs": [
    {
     "name": "stdout",
     "output_type": "stream",
     "text": [
      "¿Hemos dado algún día 20,000 pasos?\n",
      "False\n",
      "\n",
      "--------------------\n",
      "\n",
      "¿Hemos dado algún día 22,399 pasos?\n",
      "True\n",
      "\n",
      "--------------------\n",
      "\n",
      "Y si hiciermos el ejemplo anterior con un 'not in'\n",
      "¿Hemos dado algún día 22,399 pasos?\n",
      "False\n"
     ]
    }
   ],
   "source": [
    "# usamos el operador \"in\" para preguntarle a Python si el valor 20,000 esta contenido en la lista de lista_pasos\n",
    "print(\"¿Hemos dado algún día 20,000 pasos?\")\n",
    "print(20000 in lista_pasos)\n",
    "\n",
    "print(\"\\n--------------------\\n\")\n",
    "\n",
    "print(\"¿Hemos dado algún día 22,399 pasos?\")\n",
    "print(22399 in lista_pasos)\n",
    "\n",
    "print(\"\\n--------------------\\n\")\n",
    "\n",
    "print(\"Y si hiciermos el ejemplo anterior con un 'not in'\")\n",
    "print(\"¿Hemos dado algún día 22,399 pasos?\")\n",
    "print(22399 not in lista_pasos)"
   ]
  },
  {
   "cell_type": "markdown",
   "metadata": {
    "id": "5PcBreuKcX1-"
   },
   "source": [
    "\n",
    "\n",
    "---\n",
    "\n",
    "\n",
    "## Ejercicios: propiedades de listas\n",
    "\n",
    "\n",
    "\n",
    "---\n",
    "\n"
   ]
  },
  {
   "cell_type": "markdown",
   "metadata": {
    "id": "aCLnA8lRcX2F"
   },
   "source": [
    "\n",
    "\n",
    "---\n"
   ]
  },
  {
   "cell_type": "markdown",
   "metadata": {},
   "source": [
    "# Indexación en listas\n",
    "\n",
    "Cuando hablamos de indexación en Python, nos referimos a acceder a cada uno de los elementos de la lista a través de sus índices. Ahora esto nos puede resultar algo ambiguo, pero no os preocupéis, iremos viendo varios ejemplos a lo largo de la lección 💪.\n",
    "\n",
    "Por lo tanto, la indexación en Python se refiere al proceso de acceder a un elemento específico en una lista. En Python, los índices de lista comienzan desde `**0**`, lo que significa que el primer elemento de una lista tiene un índice de `**0**`, el segundo elemento tiene un índice de `**1**` y así sucesivamente.  Veamoslo visualmente: \n",
    "\n",
    "![index](https://github.com/Adalab/data_imagenes/blob/main/Modulo-1/python/indice_listas.png?raw=true)\n",
    "\n",
    "Para acceder a un elemento en una lista, se utiliza el operador de corchetes `[]` con índice del elemento que se desea acceder en el interior de los corchetes.\n",
    "\n",
    "\n"
   ]
  },
  {
   "cell_type": "code",
   "execution_count": null,
   "metadata": {},
   "outputs": [
    {
     "name": "stdout",
     "output_type": "stream",
     "text": [
      "[15413, 15855, 22399, 19988, 12709, 19138, 22951, 22322, 24454, 28931, 16609, 18277, 12261, 25552, 11730, 17414, 14479, 26870, 16749, 21189, 19111, 16711, 15188, 16891, 19333, 29310, 11159, 24780, 16162, 27243, 25509, 12093, 27936, 26384, 21533, 10279, 21935, 14639, 25367, 14355, 20347, 10813, 24580, 10046, 18483, 10346, 16868, 24809, 17471, 27576, 12517, 25732, 14591, 11987, 17810, 20176, 16391, 16024, 16048, 28676, 25335, 24034, 15485, 18399, 17836, 14875, 27566, 18089, 23797, 22918, 14073, 29187, 12087, 19085, 17569, 18140, 17459, 28245, 15109, 16016, 28216, 28022, 25157, 18087, 16358, 14994, 10962, 19821, 21092, 12134, 12009, 22892, 24083, 11765, 21264, 28741, 14182, 13915, 12436, 10187, 11471, 10577, 11485, 11433, 11658, 20848, 17796, 22679, 23067, 21890, 28220, 29285, 16309, 29817, 28804, 11005, 15401, 23702, 16786, 14896, 24178, 10373, 16763, 22812, 28614, 26935, 25784, 11107, 25799, 17822, 12292, 11369, 14136, 16532, 24141, 29349, 16447, 10077, 15471, 20883, 29682, 28964, 18774, 27953, 21658, 21828, 11803, 15622, 15064, 21091, 14322, 13228, 28119, 27390, 21449, 27791, 21033, 20343, 20624, 23884, 11718, 21409, 18171, 18300, 29974, 12643, 22086, 20843, 10437, 21713, 25663, 17602, 15319, 28865, 26728, 17051, 26404, 23716, 27192, 17778, 25141, 11897, 10691, 24129, 21320, 18542, 21270, 12789, 25850, 20380, 14328, 21286, 28167, 29278, 22621, 14658, 20507, 24664, 23576, 17824, 24224, 25997, 16528, 14958, 27292, 25185, 29302, 16500, 15896, 22053, 14121, 25440, 25696, 21035, 21016, 10251, 22260, 12858, 20643, 22233, 27120, 28756, 21280, 21858, 16179, 18970, 23784, 20594, 11523, 17052, 12248, 23102, 29652, 20581, 22300, 10141, 10804, 21182, 21917, 18006, 23043, 19801, 23799, 12779, 22009, 12428, 13167, 11087, 12019, 13030, 23132, 24114, 11621, 15943, 14911, 18857, 25109, 15980, 15324, 12708, 25638, 26344, 21300, 21780, 26383, 23641, 13083, 18088, 12258, 16420, 15178, 21808, 18541, 18323, 19952, 28899, 24621, 14852, 28315, 11183, 20733, 29485, 27289, 14919, 16103, 13592, 18814, 12244, 26812, 20472, 16635, 19761, 21187, 28498, 27037, 26134, 26325, 10239, 15529, 23709, 28892, 25489, 27935, 20024, 22262, 16285, 18170, 19127, 24562, 25679, 29445, 18534, 12315, 20296, 21402, 18490, 21050, 12527, 10716, 28409, 16710, 10650, 28504, 11451, 12253, 12896, 12195, 20017, 18136, 21939, 24418, 17189, 26919, 28040, 15253, 28981, 29642, 15128, 27981, 19670, 20169, 28455, 18773, 25855, 27110, 25800, 29737, 26784, 26341, 24567, 19608, 26170, 16374, 12422, 20258, 26122, 19105, 29678, 15851, 27466, 26650, 24711, 19865, 25322, 11362]\n"
     ]
    }
   ],
   "source": [
    "# recordemos la lista de pasos que teníamos\n",
    "\n",
    "print(lista_pasos)"
   ]
  },
  {
   "cell_type": "markdown",
   "metadata": {},
   "source": [
    "Para recordar un poco, en esta lista teníamos los datos de los pasos que habíamos dado a lo largo de un año. Imaginemos ahora que quiseramos saber el número de pasos que dimos el segundo día del año. Para esto podríamos usar los índices, de las listas. \n",
    "\n",
    "Como hemos visto, los índices empiezan en 0, por lo que si queremos el nº de pasos que dimos el segundo día corresponderá con el índice 1 de Python. "
   ]
  },
  {
   "cell_type": "code",
   "execution_count": null,
   "metadata": {},
   "outputs": [
    {
     "name": "stdout",
     "output_type": "stream",
     "text": [
      "El segundo día dimos 15855 pasos\n"
     ]
    }
   ],
   "source": [
    "print(\"El segundo día dimos\", lista_pasos[1], \"pasos\")"
   ]
  },
  {
   "cell_type": "code",
   "execution_count": null,
   "metadata": {},
   "outputs": [
    {
     "name": "stdout",
     "output_type": "stream",
     "text": [
      "El quinto día dimos 19138 pasos\n",
      "El decimo día dimos 28931 pasos\n",
      "El decimo segundo día dimos 18277 pasos\n"
     ]
    }
   ],
   "source": [
    "# esto lo podremos hacer tantas veces como queramos, por ejemplo \n",
    "print(\"El quinto día dimos\", lista_pasos[5], \"pasos\")\n",
    "print(\"El decimo día dimos\", lista_pasos[9], \"pasos\")\n",
    "print(\"El decimo segundo día dimos\", lista_pasos[11], \"pasos\")"
   ]
  },
  {
   "cell_type": "markdown",
   "metadata": {},
   "source": [
    "De esta forma:\n",
    "\n",
    "- Si quisieramos acceder al primer elemento de nuestra lista, es decir al número `15413`, tendríamos que usar el índice 0.\n",
    "\n",
    "- Si quisieramos acceder al tercer elemento de nuestra lista, es decir al número `22399`, tendríamos que usar el indice 2. "
   ]
  },
  {
   "cell_type": "code",
   "execution_count": null,
   "metadata": {},
   "outputs": [
    {
     "ename": "IndexError",
     "evalue": "list index out of range",
     "output_type": "error",
     "traceback": [
      "\u001b[0;31m---------------------------------------------------------------------------\u001b[0m",
      "\u001b[0;31mIndexError\u001b[0m                                Traceback (most recent call last)",
      "\u001b[0;32m/tmp/ipykernel_2387/1726089877.py\u001b[0m in \u001b[0;36m<module>\u001b[0;34m\u001b[0m\n\u001b[1;32m      1\u001b[0m \u001b[0;31m# ¿qué pasaría si usaramos la función que aprendimos antes para sacar los índices?\u001b[0m\u001b[0;34m\u001b[0m\u001b[0;34m\u001b[0m\u001b[0m\n\u001b[0;32m----> 2\u001b[0;31m \u001b[0mlista_pasos\u001b[0m\u001b[0;34m[\u001b[0m\u001b[0mlen\u001b[0m\u001b[0;34m(\u001b[0m\u001b[0mlista_pasos\u001b[0m\u001b[0;34m)\u001b[0m\u001b[0;34m]\u001b[0m\u001b[0;34m\u001b[0m\u001b[0;34m\u001b[0m\u001b[0m\n\u001b[0m",
      "\u001b[0;31mIndexError\u001b[0m: list index out of range"
     ]
    }
   ],
   "source": [
    "# ¿qué pasaría si usaramos la función que aprendimos antes para sacar los índices?\n",
    "lista_pasos[len(lista_pasos)]"
   ]
  },
  {
   "cell_type": "markdown",
   "metadata": {},
   "source": [
    "¡Un error! No os asustéis, en este caso igual ya os esperabais que fuera a dar un error. Recordemos que una buena práctica es acostumbrarse a leer los errores sin frustración. En la mayoría de los casos, la pista está ahí. En este caso el error nos esta diciendo que el error ha surgido en la primera línea de esta celda (`----> 1`), y que es del tipo `IndexError`. Además, nos imprime abajo una aclaración para el tipo `IndexError`: que el índice de la lista está fuera del rango. Con eso ya sabéis que hay que bajar el número del índice, porque es demasiado alto. Y es que, recordemos que los índices en Python empiezan en 0, por lo tanto, nuestro índice máximo siempre será `la longitud de nuestra lista - 1`."
   ]
  },
  {
   "cell_type": "code",
   "execution_count": null,
   "metadata": {},
   "outputs": [
    {
     "data": {
      "text/plain": [
       "11362"
      ]
     },
     "execution_count": 83,
     "metadata": {},
     "output_type": "execute_result"
    }
   ],
   "source": [
    "# siempre que usemos la función len para sacar valores usando la indexación tendremos que usar el -1\n",
    "lista_pasos[len(lista_pasos) - 1]"
   ]
  },
  {
   "cell_type": "markdown",
   "metadata": {},
   "source": [
    "Esto nos puede parecer algo tedioso, sin embargo, también podemos acceder a los últimos elementos de una lista usando índices negativos, en este caso sería como podemos ver en esta imagen:\n",
    "\n",
    "![indneg](https://github.com/Adalab/data_imagenes/blob/main/Modulo-1/python/indice_listas_negativs.png?raw=true)"
   ]
  },
  {
   "cell_type": "markdown",
   "metadata": {},
   "source": [
    "Por lo tanto, utilizar la longitud de la lista -1, nos da el mismo resultado que utilizar el índice -1, comprobemoslo: "
   ]
  },
  {
   "cell_type": "code",
   "execution_count": null,
   "metadata": {},
   "outputs": [
    {
     "name": "stdout",
     "output_type": "stream",
     "text": [
      "El último valor de la lista de pasos es: (USANDO LA FUNCIÓN LEN)    : 11362\n",
      "El último valor de la lista de pasos es: (USANDO ÍNDICES NEGATIVOS) : 11362\n"
     ]
    }
   ],
   "source": [
    "# veamos como es lo mismo usar una aproximación u otra: \n",
    "\n",
    "print(\"El último valor de la lista de pasos es: (USANDO LA FUNCIÓN LEN)    :\", lista_pasos[len(lista_pasos) - 1])\n",
    "print(\"El último valor de la lista de pasos es: (USANDO ÍNDICES NEGATIVOS) :\", lista_pasos[-1])\n"
   ]
  },
  {
   "cell_type": "markdown",
   "metadata": {},
   "source": [
    "Los índices negativos y positivos son sinónimos, por lo tanto, basándonos en la imagen anterior el índice `[-4]` es igual al índice `[0]`. A veces te resultará más lógico o intuitivo usar uno o el otro. En programación siempre hay múltiples maneras que son todas igual de correctas.\n",
    "\n",
    "Todo esto esta muy bien, pero... ¿qué pasa si queremos seleccionar varios valores de la lista a la vez? Lo podemos hacer de múltiples formas, veamos algunas de ellas. En este caso vamos a suponer que queremos saber la cantidad de pasos que  hemos dado en los primeros siete días y los últimos siete días. Veamos como lo podríamos hacer con lo que sabemos hasta ahora: "
   ]
  },
  {
   "cell_type": "code",
   "execution_count": null,
   "metadata": {},
   "outputs": [
    {
     "name": "stdout",
     "output_type": "stream",
     "text": [
      "El número de pasos de la primera semana es:  [15413, 15855, 22399, 19988, 12709, 19138, 22951]\n",
      "El número de pasos de la última semana es :  [11362, 25322, 19865, 24711, 26650, 27466, 15851]\n"
     ]
    }
   ],
   "source": [
    "# vamos a crearnos donde tengamos dos listas donde almacenemos los índices que nos interesan\n",
    "primera_semana = [lista_pasos[0], lista_pasos[1], lista_pasos[2], lista_pasos[3], lista_pasos[4], lista_pasos[5], lista_pasos[6]]\n",
    "ultima_semana = [lista_pasos[-1], lista_pasos[-2], lista_pasos[-3], lista_pasos[-4], lista_pasos[-5], lista_pasos[-6], lista_pasos[-7]]\n",
    "\n",
    "\n",
    "print(\"El número de pasos de la primera semana es: \", primera_semana)\n",
    "print(\"El número de pasos de la última semana es : \", ultima_semana)"
   ]
  },
  {
   "cell_type": "markdown",
   "metadata": {},
   "source": [
    "¡Qué lío! ¿Esto no se puede hacer más fácil? Pues la verdad es que sí. Empecemos por sacar el primer framento de una lista, en este caso por ejemplo la primera semana. Es decir, nos interesa  la lista hasta cierto punto. Si lo pensaramos en posición \"humana\" nos interesaría hasta la posición 7 (ya que queremos los 7 primeros elementos de la lista), si lo pensamos en posición \"Python\" nos interesan elementos hasta la posición 6. Para hacer esto en Python, podemos acceder a múltiples valores de una lista a la vez utilizando la sintaxis de *slicing*.\n",
    "\n",
    "Para acceder a una porción de una lista, debes especificar dos índices separados por dos puntos `:`. El primer índice es el índice de inicio y el segundo es el índice de finalización (**excluyéndolo**).\n",
    "\n",
    "Pongamoslo en práctica: "
   ]
  },
  {
   "cell_type": "code",
   "execution_count": null,
   "metadata": {},
   "outputs": [
    {
     "name": "stdout",
     "output_type": "stream",
     "text": [
      "El número de pasos de la primera semana es:  [15413, 15855, 22399, 19988, 12709, 19138, 22951]\n",
      "El número de pasos de la última semana es :  [15851, 27466, 26650, 24711, 19865, 25322, 11362]\n"
     ]
    }
   ],
   "source": [
    "print(\"El número de pasos de la primera semana es: \", lista_pasos[0:7])\n",
    "print(\"El número de pasos de la última semana es : \", lista_pasos[-7:])"
   ]
  },
  {
   "cell_type": "markdown",
   "metadata": {},
   "source": [
    "También podemos omitir el índice de inicio o el índice de finalización para indicar que deseas seleccionar desde el principio o hasta el final de la lista, respectivamente, si volvemos sobre la líena de código anterior, nos podremos fijar que ya lo aplicamos, para seleccionar para acceder desde el elemento -7 en adelante. Veamos esto con un ejemplo más sencillo para interiorizarlo  mejor: "
   ]
  },
  {
   "cell_type": "code",
   "execution_count": null,
   "metadata": {},
   "outputs": [
    {
     "data": {
      "text/plain": [
       "['A', 'B', 'C', 'D', 'E', 'F', 'G', 'H', 'I']"
      ]
     },
     "execution_count": 87,
     "metadata": {},
     "output_type": "execute_result"
    }
   ],
   "source": [
    "# creamos una lista de letras\n",
    "letras = ['A', 'B', 'C', 'D', \"E\", \"F\", \"G\", \"H\", \"I\"]\n",
    "letras"
   ]
  },
  {
   "cell_type": "code",
   "execution_count": null,
   "metadata": {},
   "outputs": [
    {
     "name": "stdout",
     "output_type": "stream",
     "text": [
      "Sacamos los dos primeros elementos: [0: 2] = ['A', 'B']\n",
      "Que es exactamente lo mismo que: [: 2] = ['A', 'B']\n",
      "Usando índice negativos sería: [:-7] = ['A', 'B']\n",
      "Sacamos el segundo y tercer elemento: [1: 3] = ['B', 'C']\n",
      "Sacamos todos los elementos de la lista menos el primero: [1: ] = ['B', 'C', 'D', 'E', 'F', 'G', 'H', 'I']\n",
      "Sacamos los dos últimos elementos: [-2:] = ['H', 'I']\n"
     ]
    }
   ],
   "source": [
    "print('Sacamos los dos primeros elementos: [0: 2] =',letras[0:2])\n",
    "print('Que es exactamente lo mismo que: [: 2] =',letras[:2])\n",
    "print('Usando índice negativos sería: [:-7] =',letras[:-7])\n",
    "print('Sacamos el segundo y tercer elemento: [1: 3] =',letras[1:3])\n",
    "print('Sacamos todos los elementos de la lista menos el primero: [1: ] =',letras[1:])\n",
    "print('Sacamos los dos últimos elementos: [-2:] =',letras[-2:])"
   ]
  },
  {
   "cell_type": "markdown",
   "metadata": {},
   "source": [
    "Por último, los dos puntos se pueden usar de una manera más: saltar elementos. Es lo que se conoce como `[start:stop:step]`. El start-stop-step es una técnica utilizada en Python para acceder a elementos específicos de una lista. Donde:\n",
    "\n",
    "- El `start` se refiere al índice de inicio de la lista. Si se omite, se considera 0.\n",
    "- El `stop` se refiere al índice de fin de la lista (excluyéndolo). Si se omite, se considera la longitud de la lista.\n",
    "- El `step` se refiere al número de elementos que se salta entre cada elemento en la lista. Si se omite, se considera 1.\n",
    "\n",
    "Vemos algunos ejemplos: \n"
   ]
  },
  {
   "cell_type": "code",
   "execution_count": null,
   "metadata": {},
   "outputs": [
    {
     "name": "stdout",
     "output_type": "stream",
     "text": [
      "Sacamos todos los elementos de la lista daltando los que están en posiciones pares: [::2] = ['A', 'C', 'E', 'G', 'I']\n",
      "Sacamos todos los elementos de la lista daltando los que están en posiciones impares: [1::2] = ['B', 'D', 'F', 'H']\n",
      "Sacamos elementos de tres en tres del principio al final: [::3] = ['A', 'D', 'G']\n",
      "Sacamos del primer al séptimo elemento de dos en dos [:8:2] = ['A', 'C', 'E', 'G']\n"
     ]
    }
   ],
   "source": [
    "print('Sacamos todos los elementos de la lista daltando los que están en posiciones pares: [::2] =',letras[::2])\n",
    "print('Sacamos todos los elementos de la lista daltando los que están en posiciones impares: [1::2] =',letras[1::2])\n",
    "print('Sacamos elementos de tres en tres del principio al final: [::3] =',letras[::3])\n",
    "print('Sacamos del primer al séptimo elemento de dos en dos [:8:2] =',letras[:8:2])"
   ]
  },
  {
   "cell_type": "markdown",
   "metadata": {},
   "source": [
    "Por último, muy relacionado con la indexación en listas tenemos el método `.index()`, este método se utiliza para encontrar el índice de la primera aparición de un elemento dado en una lista.\n",
    "\n",
    "Veamos algunos ejemplo con la lista de letras que hemos estado utilizando hasta ahora:"
   ]
  },
  {
   "cell_type": "code",
   "execution_count": null,
   "metadata": {},
   "outputs": [
    {
     "name": "stdout",
     "output_type": "stream",
     "text": [
      "La lista de letras es: ['A', 'B', 'C', 'D', 'E', 'F', 'G', 'H', 'I']\n",
      "¿En que posición esta la letra 'D'? Esta en el índice 3\n",
      "¿En que posición esta la letra 'H'? Esta en el índice 7\n",
      "¿En que posición esta la letra 'G'? Esta en el índice 6\n"
     ]
    }
   ],
   "source": [
    "print(\"La lista de letras es:\", letras)\n",
    "print(\"¿En que posición esta la letra 'D'? Esta en el índice\", letras.index(\"D\"))\n",
    "print(\"¿En que posición esta la letra 'H'? Esta en el índice\", letras.index(\"H\"))\n",
    "print(\"¿En que posición esta la letra 'G'? Esta en el índice\", letras.index(\"G\"))"
   ]
  },
  {
   "cell_type": "markdown",
   "metadata": {},
   "source": [
    "PONER EJERCICIOS CON INDICES PARA QUE PRACTIQUEN"
   ]
  },
  {
   "cell_type": "markdown",
   "metadata": {},
   "source": [
    "# Métodos para listas\n",
    "\n",
    "Como ya hemos dicho una lista es un tipo de dato de secuencia mutable que permite almacenar una colección de elementos ordenados. Las listas en Python tienen varios métodos integrados que permiten realizar diversas operaciones útiles como ya vimos al inicio de la lección. Estas operaciones pueden ser agregar, eliminar, ordenar y buscar elementos. A continuación, describimos algunos de los métodos más comunes de las listas en Python:\n",
    "\n",
    "- `append()`: Agrega un elemento al final de la lista.\n",
    "\n",
    "- `extend()`: Agrega varios elementos al final de la lista.\n",
    "\n",
    "- `insert()`: Inserta un elemento en una posición específica de la lista.\n",
    "\n",
    "- `remove()`: Elimina el primer elemento de la lista que coincida con el valor especificado.\n",
    "\n",
    "- `pop()`: Elimina y devuelve el último elemento de la lista.\n",
    "\n",
    "- `index()`: Devuelve el índice de la primera ocurrencia del elemento especificado en la lista.\n",
    "\n",
    "- `count()`: Devuelve el número de veces que aparece el elemento especificado en la lista.\n",
    "\n",
    "- `sort()`: Ordena los elementos de la lista de forma ascendente o descendente.\n",
    "\n",
    "- `reverse()`: Invierte el orden de los elementos de la lista.\n",
    "\n",
    "- `copy()`: Hace una copia exacta de una lista con los mismos elementos de la lista original. \n",
    "\n",
    "- `clear()`:  Elimina todos los elementos de la lista y la deja vacía. \n",
    "\n",
    "\n",
    "Veamoslos con más detalle con nuestra lista de notas de alumnas: "
   ]
  },
  {
   "cell_type": "code",
   "execution_count": null,
   "metadata": {},
   "outputs": [
    {
     "name": "stdout",
     "output_type": "stream",
     "text": [
      "Las notas de nuestras alumnas del primer examen son: [8, 7.5, 4, 8.3, 6.7, 9.0, 7.5, 5.8, 6.8, 9.0, 6.8, 'A', 'D', 'B', 'A', 'F', 6.0, 7.1, 6.8, 8.2, 6.8]\n"
     ]
    }
   ],
   "source": [
    "# recordemos como era la lista de notas que habíamos creado previamente\n",
    "\n",
    "print(\"Las notas de nuestras alumnas del primer examen son:\",  notas_biologia2)"
   ]
  },
  {
   "cell_type": "markdown",
   "metadata": {},
   "source": [
    "## `.copy()`\n",
    "\n",
    "El método `copy()` se utiliza para crear una copia superficial de la lista original. Esto significa que se crea una nueva lista con los mismos elementos de la lista original, pero las dos listas son independientes, lo que significa que si se cambia la copia de la lista, la lista original no se modificará. Por ejemplo:"
   ]
  },
  {
   "cell_type": "code",
   "execution_count": null,
   "metadata": {},
   "outputs": [
    {
     "name": "stdout",
     "output_type": "stream",
     "text": [
      "La lista original de notas es:     [8, 7.5, 4, 8.3, 6.7, 9.0, 7.5, 5.8, 6.8, 9.0, 6.8, 'A', 'D', 'B', 'A', 'F', 6.0, 7.1, 6.8, 8.2, 6.8]\n",
      "La copia de la lista de notas es:  [8, 7.5, 4, 8.3, 6.7, 9.0, 7.5, 5.8, 6.8, 9.0, 6.8, 'A', 'D', 'B', 'A', 'F', 6.0, 7.1, 6.8, 8.2, 6.8]\n"
     ]
    }
   ],
   "source": [
    "# nos podemos hacer una copia de la lista de notas usando el método .copy()\n",
    "# Si nos fijamos tenemos una copia exacta de la lista `notas_biologia2`, pero en este caso la llamamos `bio`\n",
    "\n",
    "bio = notas_biologia2.copy()\n",
    "\n",
    "print(\"La lista original de notas es:    \", notas_biologia2)\n",
    "print(\"La copia de la lista de notas es: \", bio)"
   ]
  },
  {
   "cell_type": "markdown",
   "metadata": {},
   "source": [
    "## `.clear()`\n",
    "\n",
    "El método `clear()` es un método integrado de las listas en Python que se utiliza para eliminar todos los elementos de una lista. Cuando se llama al método clear(), todos los elementos de la lista se eliminan y la lista queda vacía.\n",
    "\n",
    "En este caso lo que vamos a hacer es vacíar la copia de la lista que nos hemos creado previamente. \n",
    "\n",
    "📌 Ojo que este método sobreescribe la lista, es decir, aplica los cambios directamente sobre la lista sin necesidad de asiganrlo a una nueva variable. "
   ]
  },
  {
   "cell_type": "code",
   "execution_count": null,
   "metadata": {},
   "outputs": [
    {
     "name": "stdout",
     "output_type": "stream",
     "text": [
      "La lista antes de usar el método copy contiene: [8, 7.5, 4, 8.3, 6.7, 9.0, 7.5, 5.8, 6.8, 9.0, 6.8, 'A', 'D', 'B', 'A', 'F', 6.0, 7.1, 6.8, 8.2, 6.8]\n",
      "La lista después de usar el método copy contiene: []\n"
     ]
    }
   ],
   "source": [
    "# también podemos vacíar una lista usando el método clear()\n",
    "print(\"La lista antes de usar el método copy contiene:\", bio)\n",
    "\n",
    "# aplicamos el método copy\n",
    "bio.clear()\n",
    "\n",
    "print(\"La lista después de usar el método copy contiene:\", bio)\n",
    "\n"
   ]
  },
  {
   "cell_type": "markdown",
   "metadata": {},
   "source": [
    "Como hemos dicho, en el caso del método `clear()` no hace falta que hagamos una reasignación de la lista. Python directamente nos va a borrar todo el contenido de la lista. Es decir, a partir de este momento la lista `bio` esta vacía. "
   ]
  },
  {
   "cell_type": "markdown",
   "metadata": {},
   "source": [
    "## `.remove()`\n",
    "\n",
    "El método `.remove()` es una función integrada en Python que se utiliza para eliminar el **primer elemento de una lista que coincida con un valor específico**.\n",
    "\n",
    "Sigamos trabajando con la lista de notas de biología (notas_biologia2), pero antes de modificarla nos haremos una copia para dejar la original intacta. Imaginemos que queremos eliminar las notas que eran letras. Para eso usaremos este método. Veamos un ejemplo:  "
   ]
  },
  {
   "cell_type": "code",
   "execution_count": null,
   "metadata": {},
   "outputs": [
    {
     "name": "stdout",
     "output_type": "stream",
     "text": [
      "Las notas de biología antes de eliminar elementos es:  [4, 5.8, 6.7, 6.8, 6.8, 7.5, 7.5, 8, 8.3, 9.0, 9.0, 'A', 'D', 'B', 'A', 'F', 6.0, 7.1, 6.8, 8.2, 6.8]\n",
      "Las notas de biología después de eliminar elementos es:  [4, 5.8, 6.7, 6.8, 6.8, 7.5, 7.5, 8, 8.3, 9.0, 9.0, 'A', 'D', 'B', 'A', 6.0, 7.1, 6.8, 8.2, 6.8]\n"
     ]
    }
   ],
   "source": [
    "# nos hacemos una copia de notas_biologia2\n",
    "bio2 = notas_biologia2.copy()\n",
    "\n",
    "print(\"Las notas de biología antes de eliminar elementos es: \", bio2)\n",
    "\n",
    "# eliminamos la \"F\" de nuestra lista\n",
    "bio2.remove(\"F\")\n",
    "print(\"Las notas de biología después de eliminar elementos es: \", bio2)\n"
   ]
  },
  {
   "cell_type": "markdown",
   "metadata": {},
   "source": [
    "Genial, nos ha eliminado la \"F\", y ¿qué va a pasar si queremos eliminar las \"A\" que hay varias en la lista? Veámoslo:"
   ]
  },
  {
   "cell_type": "code",
   "execution_count": null,
   "metadata": {},
   "outputs": [
    {
     "name": "stdout",
     "output_type": "stream",
     "text": [
      "Las notas de biología antes de eliminar elementos es:  [4, 5.8, 6.7, 6.8, 6.8, 7.5, 7.5, 8, 8.3, 9.0, 9.0, 'A', 'D', 'B', 'A', 6.0, 7.1, 6.8, 8.2, 6.8]\n",
      "Las notas de biología después de eliminar elementos es:  [4, 5.8, 6.7, 6.8, 6.8, 7.5, 7.5, 8, 8.3, 9.0, 9.0, 'D', 'B', 'A', 6.0, 7.1, 6.8, 8.2, 6.8]\n"
     ]
    }
   ],
   "source": [
    "print(\"Las notas de biología antes de eliminar elementos es: \", bio2)\n",
    "\n",
    "# eliminamos la \"F\" de nuestra lista\n",
    "bio2.remove(\"A\")\n",
    "print(\"Las notas de biología después de eliminar elementos es: \", bio2)\n"
   ]
  },
  {
   "cell_type": "markdown",
   "metadata": {},
   "source": [
    "Si nos fijamos solo nos ha eliminado la primera \"A\" que se ha encontrado, por lo que si tenemos varias \"A\" tendremos que repetir la acción tantas veces como necesitemos. "
   ]
  },
  {
   "cell_type": "markdown",
   "metadata": {},
   "source": [
    "## `.pop()`\n",
    "\n",
    "El método `.pop()` es una función integrada en Python que se utiliza para eliminar y devolver el último elemento de una lista, o un elemento específico de una lista **utilizando su índice**.\n",
    "\n",
    "De nuevo seguiremos trabajando con la lista de notas, imaginemos que ahora queremos seguir quitando las notas que son de tipo letra, pongámonos manos a la obra. "
   ]
  },
  {
   "cell_type": "code",
   "execution_count": null,
   "metadata": {},
   "outputs": [
    {
     "name": "stdout",
     "output_type": "stream",
     "text": [
      "Las notas de biología antes de eliminar elementos es:  [4, 5.8, 6.7, 6.8, 6.8, 7.5, 7.5, 8, 8.3, 9.0, 9.0, 'A', 'D', 'B', 'A', 'F', 6.0, 7.1, 6.8, 8.2, 6.8]\n",
      "La F está en posición 15\n",
      "Las notas de biología después de eliminar elementos es:  [4, 5.8, 6.7, 6.8, 6.8, 7.5, 7.5, 8, 8.3, 9.0, 9.0, 'A', 'D', 'B', 'A', 6.0, 7.1, 6.8, 8.2, 6.8]\n"
     ]
    }
   ],
   "source": [
    "# nos hacemos una copia de notas_biologia2\n",
    "bio3 = notas_biologia2.copy()\n",
    "\n",
    "print(\"Las notas de biología antes de eliminar elementos es: \", bio3)\n",
    "\n",
    "# como funciona con los índices, y hemos aprendido en esta lección un método que nos permite saber el índice de un elemento, usemoslo. En este caso, queremos empezar eliminando la \"F\"\n",
    "indice_f = bio3.index(\"F\")\n",
    "print(\"La F está en posición\", indice_f)\n",
    "\n",
    "#eliminamos el elemento que está en posición 15 (por que la \"F\" está en posición 15)\n",
    "bio3.pop(indice_f)\n",
    "print(\"Las notas de biología después de eliminar elementos es: \", bio3)\n",
    "\n"
   ]
  },
  {
   "cell_type": "code",
   "execution_count": null,
   "metadata": {},
   "outputs": [
    {
     "data": {
      "text/plain": [
       "'B'"
      ]
     },
     "execution_count": 111,
     "metadata": {},
     "output_type": "execute_result"
    }
   ],
   "source": [
    "#  un punto importante en el pop es que nos devuelve el elemento que estamos eliminando, veámoslo más claro\n",
    "# En este caso vamos a eliminar la letra \"B\"\n",
    "# lo primero que hacemos es sacar su índice\n",
    "\n",
    "indice_b = bio3.index(\"B\")\n",
    "\n",
    "# eliminamos la letra \"B\" usando su índice\n",
    "bio3.pop(indice_b)"
   ]
  },
  {
   "cell_type": "markdown",
   "metadata": {},
   "source": [
    "Si nos fijamos ahora, cuando lo hemos hecho paso a paso, vemos que el `.pop()` nos devuelve el elemento que ha eliminado, a diferencia del remove que no nos devolvía nada. "
   ]
  },
  {
   "cell_type": "markdown",
   "metadata": {},
   "source": [
    "📌 **NOTA** Por lo tanto, el método `pop()` elimina un elemento de la lista según su posición y devuelve el valor eliminado, mientras que `remove()` elimina un elemento de la lista según su valor y no devuelve nada."
   ]
  },
  {
   "cell_type": "markdown",
   "metadata": {},
   "source": [
    "## `.count()`\n",
    "\n",
    "El método `count()` es un método integrado de las listas en Python que se utiliza para contar el número de veces que un elemento aparece en una lista. "
   ]
  },
  {
   "cell_type": "code",
   "execution_count": null,
   "metadata": {},
   "outputs": [
    {
     "name": "stdout",
     "output_type": "stream",
     "text": [
      "[8, 7.5, 4, 8.3, 6.7, 9.0, 7.5, 5.8, 6.8, 9.0, 6.8, 'A', 'D', 'B', 'A', 'F', 6.0, 7.1, 6.8, 8.2, 6.8]\n",
      "\n",
      "El número de alumnas que ha sacado 6.8 es:  4\n"
     ]
    }
   ],
   "source": [
    "# recordemos nuestra variable notas_biologia2\n",
    "\n",
    "print(notas_biologia2)\n",
    "\n",
    "# ¿Cuántas veces aparece la nota 6.8 en nuestra lista de notas? \n",
    "\n",
    "print(\"\\nEl número de alumnas que ha sacado 6.8 es: \", notas_biologia2.count(6.8))"
   ]
  },
  {
   "cell_type": "markdown",
   "metadata": {},
   "source": [
    "Lo que nos esta diciendo este `output` es que en nuestra lista hay 4 elementos con el valor 6.8. "
   ]
  },
  {
   "cell_type": "markdown",
   "metadata": {},
   "source": [
    "## `.reverse()`\n",
    "\n",
    "El método `reverse()` es un método integrado de las listas en Python que se utiliza para invertir el orden de los elementos de una lista. El método `reverse()` modifica la lista original y no devuelve una nueva lista, es decir, al igual que el método `clear()` aplica los cambios directamente sobre la lista.  "
   ]
  },
  {
   "cell_type": "code",
   "execution_count": null,
   "metadata": {},
   "outputs": [
    {
     "name": "stdout",
     "output_type": "stream",
     "text": [
      "Las notas de biología del primer examen antes de aplicar el método reverse son:   [8, 7.5, 4, 8.3, 6.7, 9.0, 7.5, 5.8, 6.8, 9.0, 6.8, 'A', 'D', 'B', 'A', 'F', 6.0, 7.1, 6.8, 8.2, 6.8]\n",
      "Las notas de biología del primer examen después de aplicar el método reverse son: [6.8, 8.2, 6.8, 7.1, 6.0, 'F', 'A', 'B', 'D', 'A', 6.8, 9.0, 6.8, 5.8, 7.5, 9.0, 6.7, 8.3, 4, 7.5, 8]\n"
     ]
    }
   ],
   "source": [
    "# hagamonos una copia de la lista notas_biologia2\n",
    "\n",
    "biologia = notas_biologia2.copy()\n",
    "print(\"Las notas de biología del primer examen antes de aplicar el método reverse son:  \", biologia)\n",
    "\n",
    "# apliquemos el método reverse, que no nos devolverá nada\n",
    "biologia.reverse()\n",
    "\n",
    "print(\"Las notas de biología del primer examen después de aplicar el método reverse son:\", biologia)"
   ]
  },
  {
   "cell_type": "markdown",
   "metadata": {},
   "source": [
    "## `.sort()`\n",
    "\n",
    "El método `sort()` es un método integrado de las listas en Python que se utiliza para ordenar los elementos de una lista en orden ascendente o descendente.\n",
    "\n",
    "Al igual que los métodos que hemos estado viendo, este método sobreescribe los cambios en la lista original. \n",
    "\n",
    "📌 Por defecto ordena de menor a mayor. "
   ]
  },
  {
   "cell_type": "code",
   "execution_count": null,
   "metadata": {},
   "outputs": [
    {
     "name": "stdout",
     "output_type": "stream",
     "text": [
      "Las notas de las alumnas sin ordenar son: [8, 7.5, 4, 8.3, 6.7, 9.0, 7.5, 5.8, 6.8, 9.0, 6.8, 'A', 'D', 'B', 'A', 'F', 6.0, 7.1, 6.8, 8.2, 6.8]\n"
     ]
    },
    {
     "ename": "TypeError",
     "evalue": "'<' not supported between instances of 'str' and 'float'",
     "output_type": "error",
     "traceback": [
      "\u001b[0;31m---------------------------------------------------------------------------\u001b[0m",
      "\u001b[0;31mTypeError\u001b[0m                                 Traceback (most recent call last)",
      "\u001b[0;32m/tmp/ipykernel_2387/1625444273.py\u001b[0m in \u001b[0;36m<module>\u001b[0;34m\u001b[0m\n\u001b[1;32m      2\u001b[0m \u001b[0mprint\u001b[0m\u001b[0;34m(\u001b[0m\u001b[0;34m\"Las notas de las alumnas sin ordenar son:\"\u001b[0m\u001b[0;34m,\u001b[0m \u001b[0mnotas_biologia2\u001b[0m\u001b[0;34m)\u001b[0m\u001b[0;34m\u001b[0m\u001b[0;34m\u001b[0m\u001b[0m\n\u001b[1;32m      3\u001b[0m \u001b[0;34m\u001b[0m\u001b[0m\n\u001b[0;32m----> 4\u001b[0;31m \u001b[0mprint\u001b[0m\u001b[0;34m(\u001b[0m\u001b[0;34m\"Las notas ordenadas son:\"\u001b[0m\u001b[0;34m,\u001b[0m \u001b[0mnotas_biologia2\u001b[0m\u001b[0;34m.\u001b[0m\u001b[0msort\u001b[0m\u001b[0;34m(\u001b[0m\u001b[0;34m)\u001b[0m\u001b[0;34m)\u001b[0m\u001b[0;34m\u001b[0m\u001b[0;34m\u001b[0m\u001b[0m\n\u001b[0m",
      "\u001b[0;31mTypeError\u001b[0m: '<' not supported between instances of 'str' and 'float'"
     ]
    }
   ],
   "source": [
    "# recordamos como era notas_biologia_primer_año\n",
    "print(\"Las notas de las alumnas sin ordenar son:\", notas_biologia2)\n",
    "\n",
    "print(\"Las notas ordenadas son:\", notas_biologia2.sort())\n"
   ]
  },
  {
   "cell_type": "markdown",
   "metadata": {},
   "source": [
    "Ups 😢, esto nos ha devuelto un error, esto ocurre por el mismo motivo que cuando intentamos sacar el máximo de esta misma lista. De nuevo, pensemos en \"humano\", si os dijeramos que ordenarais esta lista, ¿cómo lo haríais? ¿No podríais verdad? Pues a Python le pasa exactamente lo mismo! \n",
    "\n",
    "Por este motivo, nos vamos a crear otra lista de notas, donde solo tengamos números para ver como funciona este método de listas:"
   ]
  },
  {
   "cell_type": "code",
   "execution_count": null,
   "metadata": {},
   "outputs": [
    {
     "name": "stdout",
     "output_type": "stream",
     "text": [
      "Las notas de biología antes de ordenar la lista son: [6, 8, 9.1, 2, 4, 6, 8, 2.2, 7.7, 9.8, 5.6]\n",
      "Las notas de biología después de ordenar la lista de menor a mayor son: [2, 2.2, 4, 5.6, 6, 6, 7.7, 8, 8, 9.1, 9.8]\n"
     ]
    }
   ],
   "source": [
    "notas_biologia3 = [6 ,8 ,9.1 ,2 ,4 ,6 ,8 ,2.2 ,7.7, 9.8, 5.6]\n",
    "\n",
    "print(\"Las notas de biología antes de ordenar la lista son:\", notas_biologia3)\n",
    "\n",
    "notas_biologia3.sort()\n",
    "\n",
    "print(\"Las notas de biología después de ordenar la lista de menor a mayor son:\", notas_biologia3)\n"
   ]
  },
  {
   "cell_type": "markdown",
   "metadata": {},
   "source": [
    "Si nos fijamos nos ordeno de menor a mayor, pero ¿qué pasaría si quisieramos hacerlo de mayor a menor? Tendríamos que usar el parámetro `reverse`. Este parámetro es opcional y se utiliza para indicar si se desea ordenar la lista en orden descendente o ascendente. Si se omite este parámetro o se le asigna el valor False, la lista se ordenará en orden ascendente. Si se le asigna el valor True, la lista se ordenará en orden descendente.\n",
    "\n",
    "Veamos un ejemplo: "
   ]
  },
  {
   "cell_type": "code",
   "execution_count": null,
   "metadata": {},
   "outputs": [
    {
     "name": "stdout",
     "output_type": "stream",
     "text": [
      "Las notas de biología antes de ordenar la lista son: [6, 8, 9.1, 2, 4, 6, 8, 2.2, 7.7, 9.8, 5.6]\n",
      "Las notas de biología después de ordenar la lista de mayor a menor son: [9.8, 9.1, 8, 8, 7.7, 6, 6, 5.6, 4, 2.2, 2]\n"
     ]
    }
   ],
   "source": [
    "notas_biologia3 = [6 ,8 ,9.1 ,2 ,4 ,6 ,8 ,2.2 ,7.7, 9.8, 5.6]\n",
    "\n",
    "print(\"Las notas de biología antes de ordenar la lista son:\", notas_biologia3)\n",
    "\n",
    "notas_biologia3.sort(reverse=True)\n",
    "\n",
    "print(\"Las notas de biología después de ordenar la lista de mayor a menor son:\", notas_biologia3)\n"
   ]
  },
  {
   "cell_type": "markdown",
   "metadata": {},
   "source": [
    "### `sorted()`\n",
    "\n",
    "Es una función que nos sirve para ordenar listas en Python, igual que el `sort()` que acabamos de ver. La diferencia con el `sort()` **no modifica la lista original**, por lo que para guardar el resultado de esta función deberemos almancenarlo en una variable."
   ]
  },
  {
   "cell_type": "code",
   "execution_count": null,
   "metadata": {},
   "outputs": [
    {
     "name": "stdout",
     "output_type": "stream",
     "text": [
      "Las notas de biología antes de ordenar la lista son: [6, 8, 9.1, 2, 4, 6, 8, 2.2, 7.7, 9.8, 5.6]\n",
      "Las notas de biología después de ordenar la lista de menor a mayor son (sin almancenarlo en una variable): [6, 8, 9.1, 2, 4, 6, 8, 2.2, 7.7, 9.8, 5.6]\n",
      "Las notas de biología después de ordenar la lista de menor a mayor son (almacenandolo en una variable): [2, 2.2, 4, 5.6, 6, 6, 7.7, 8, 8, 9.1, 9.8]\n"
     ]
    }
   ],
   "source": [
    "notas_biologia3 = [6 ,8 ,9.1 ,2 ,4 ,6 ,8 ,2.2 ,7.7, 9.8, 5.6]\n",
    "\n",
    "print(\"Las notas de biología antes de ordenar la lista son:\", notas_biologia3)\n",
    "\n",
    "# aplicamos la función pero no lo almacenamos en ninguna variable\n",
    "sorted(notas_biologia3)\n",
    "\n",
    "# aplicamos la función pero en este caso lo almacenamos en una variable\n",
    "notas_biologia3_ordenadas = sorted(notas_biologia3)\n",
    "\n",
    "print(\"Las notas de biología después de ordenar la lista de menor a mayor son (sin almancenarlo en una variable):\", notas_biologia3)\n",
    "\n",
    "print(\"Las notas de biología después de ordenar la lista de menor a mayor son (almacenandolo en una variable):\", notas_biologia3_ordenadas)\n"
   ]
  },
  {
   "cell_type": "markdown",
   "metadata": {},
   "source": [
    "## `.append()`\n",
    "\n",
    "El método `append()` en Python es un método que se utiliza para agregar un elemento al final de una lista existente. Este método modifica la lista original y no devuelve nada.\n",
    "\n",
    "\n",
    "Pongamos el siguiente ejemplo para los métodos que vamos a aprender a continuación. Supongamos que estamos en casa y vamos a la nevera por que nos apetece comer algo para seguir con la lección. Al abrir la nevera nos damos cuenta que nos falta un poco de chocolate o unos frutos secos, por lo que haremos a continuación es apuntarlo en la lista de la compra para que para la lección de mañana tengamos merienda. Bien, ahora no lo apuntaremos en una lista de la compra al uso, lo iremos apuntando en una lista de Python, a la que le iremos añadiendo las cosas que debemos comprar. "
   ]
  },
  {
   "cell_type": "code",
   "execution_count": null,
   "metadata": {},
   "outputs": [
    {
     "name": "stdout",
     "output_type": "stream",
     "text": [
      "La lista de la compra contiene  0 cosas con los siguientes elementos []\n",
      "La lista de la compra contiene  1 cosas con los siguientes elementos ['chocolate']\n",
      "La lista de la compra contiene  2 cosas con los siguientes elementos ['chocolate', 'frutos secos']\n"
     ]
    }
   ],
   "source": [
    "# lo primero que vamos a hacer es crearnos una lista de la compra vacía\n",
    "lista_compra = []\n",
    "\n",
    "print(\"La lista de la compra contiene \", len(lista_compra), \"cosas con los siguientes elementos\", lista_compra )\n",
    "\n",
    "\n",
    "# vamos a ir añadiendo elementos uno a uno a nuestra lista, el primero el chocolate\n",
    "lista_compra.append(\"chocolate\")\n",
    "print(\"La lista de la compra contiene \", len(lista_compra), \"cosas con los siguientes elementos\", lista_compra )\n",
    "\n",
    "\n",
    "# añadamos otro elemento a la lista\n",
    "lista_compra.append(\"frutos secos\")\n",
    "print(\"La lista de la compra contiene \", len(lista_compra), \"cosas con los siguientes elementos\", lista_compra )\n"
   ]
  },
  {
   "cell_type": "markdown",
   "metadata": {},
   "source": [
    "Imaginemos que ahora nuestra compañera de piso tiene su propia lista de la compra definida de la siguiente forma 👇: "
   ]
  },
  {
   "cell_type": "code",
   "execution_count": null,
   "metadata": {},
   "outputs": [
    {
     "name": "stdout",
     "output_type": "stream",
     "text": [
      "La lista de la compra contiene  3 cosas con los siguientes elementos ['chocolate', 'frutos secos', ['pan', 'manzanas']]\n"
     ]
    }
   ],
   "source": [
    "# creamos la lista de la compra de nuestra compañera\n",
    "lista_compra_compañera = [\"pan\", \"manzanas\"]\n",
    "\n",
    "# ahora vamos a añadir la lista de la compra de la compañera\n",
    "lista_compra.append(lista_compra_compañera)\n",
    "print(\"La lista de la compra contiene \", len(lista_compra), \"cosas con los siguientes elementos\", lista_compra )\n"
   ]
  },
  {
   "cell_type": "markdown",
   "metadata": {},
   "source": [
    "¿Qué es lo que ha pasado? Si nos fijamos nos ha añadido la lista de la compra de la comprañera tal cual, como una lista y no cada uno de los elementos 😨. Pero esto no nos interesa, ya que en realidad lo que queremos es tener el \"pan\" y \"manzanas\" como elementos de la lista no como una lista. Para esto tenemos el método `.extend()`. Veámoslo en detalle: "
   ]
  },
  {
   "cell_type": "markdown",
   "metadata": {},
   "source": [
    "## `.extend()`\n",
    "\n",
    "El método `.extend()` en Python es una función de lista que toma una lista como argumento y agrega cada elemento de esa lista al final de la lista original. Es decir, extiende la lista original con los elementos de la lista que se pasa como argumento.\n",
    "\n",
    "\n",
    "Sigamos con el ejemplo de antes, pero en este caso usaremos el .`extend()`."
   ]
  },
  {
   "cell_type": "code",
   "execution_count": null,
   "metadata": {},
   "outputs": [
    {
     "name": "stdout",
     "output_type": "stream",
     "text": [
      "La lista de la compra USANDO APPEND contiene  3 cosas con los siguientes elementos ['chocolate', 'frutos secos', ['pan', 'manzanas']]\n",
      "La lista de la compra USANDO EXTEND contiene  5 cosas con los siguientes elementos ['chocolate', 'frutos secos', ['pan', 'manzanas'], 'pan', 'manzanas']\n"
     ]
    }
   ],
   "source": [
    "# creamos la lista de la compra de nuestra compañera\n",
    "lista_compra_compañera = [\"pan\", \"manzanas\"]\n",
    "\n",
    "# ahora vamos a añadir la lista de la compra de la compañera\n",
    "print(\"La lista de la compra USANDO APPEND contiene \", len(lista_compra), \"cosas con los siguientes elementos\", lista_compra )\n",
    "\n",
    "# ahora vamos a añadir la lista de la compra de la compañera\n",
    "lista_compra.extend(lista_compra_compañera)\n",
    "print(\"La lista de la compra USANDO EXTEND contiene \", len(lista_compra), \"cosas con los siguientes elementos\", lista_compra )"
   ]
  },
  {
   "cell_type": "markdown",
   "metadata": {},
   "source": [
    "Si nos fijamos ahora se han añadido los elementos de la lista original de forma independiente. Por lo tanto, la diferencia entre append y extend en Python es que append agrega un elemento al final de la lista, mientras que extend agrega múltiples elementos al final de la lista."
   ]
  },
  {
   "cell_type": "markdown",
   "metadata": {},
   "source": [
    "## `.insert()`\n",
    "\n",
    "El método `.insert()` en Python es una función de listas que permite insertar un elemento en una posición específica de la lista. Este método toma dos argumentos: el índice de la posición en la que se desea insertar el nuevo elemento, y el elemento en sí mismo.\n",
    "\n",
    "La sintaxis de este método es: \n",
    "\n",
    "```python\n",
    "NUESTRA_LISTA.insert(INDICE_DONDE_QUEREMOS_INSERTAR, ELEMENTO QUE QUEREMOS INSERTAR)\n",
    "```\n",
    "\n",
    "Sigamos con nuestra lista de la compra, ahora nos hemos dado cuenta que en realidad hay una cosa que se nos está olvidando comprar y que es esencial en nuestra casa (los tomates), por lo que queremos añadirlo lo primero de la lista para que no se nos olvide. Este método nos ayuda a insertar determinado elemento en una posición determinada. "
   ]
  },
  {
   "cell_type": "code",
   "execution_count": null,
   "metadata": {},
   "outputs": [
    {
     "name": "stdout",
     "output_type": "stream",
     "text": [
      "La lista de la compra antes de insertar los tomates es: ['chocolate', 'frutos secos', ['pan', 'manzanas'], 'pan', 'manzanas']\n",
      "La lista de la compra después de insertar los tomates en primera posición ['tomates', 'chocolate', 'frutos secos', ['pan', 'manzanas'], 'pan', 'manzanas']\n",
      "La lista de la compra después de insertar los tomates en primera posición ['tomates', 'lechuga', 'chocolate', 'frutos secos', ['pan', 'manzanas'], 'pan', 'manzanas']\n"
     ]
    }
   ],
   "source": [
    "print(\"La lista de la compra antes de insertar los tomates es:\", lista_compra)\n",
    "\n",
    "lista_compra.insert(0, \"tomates\")\n",
    "\n",
    "print(\"La lista de la compra después de insertar los tomates en primera posición\", lista_compra)\n",
    "\n",
    "# ¿y si quisiseramos insertar lechuga en segunda posición?\n",
    "lista_compra.insert(1, \"lechuga\")\n",
    "print(\"La lista de la compra después de insertar los tomates en primera posición\", lista_compra)\n"
   ]
  },
  {
   "cell_type": "markdown",
   "metadata": {
    "id": "5PcBreuKcX1-"
   },
   "source": [
    "\n",
    "\n",
    "---\n",
    "\n",
    "\n",
    "# Ejercicios:\n",
    "\n",
    "- Definir listas\n",
    "\n",
    "  1. Haz una lista llamada `colores` donde almacenemos los primeros 6 colores que te vengan a la mente.\n",
    "\n",
    "  2. Haz una lista llamada `buses` de las líneas de autobuses que pasan por tu casa.\n",
    "\n",
    "  3. Apunta la previsión de temperaturas máximas para todos los días de esta semana en `temperaturas`.\n",
    "\n",
    "\n",
    "\n",
    "- Convertir a listas\n",
    "\n",
    "  4. Convierte tu(s) nombre(s) a una lista `nombres` de caracteres.\n",
    "  \n",
    "  5. Convierte tu(s) apellido(s) a una lista `apellidos` de caracteres.\n",
    "\n",
    "\n",
    "- Usar `len()`, `min()`, y `max()`\n",
    "\n",
    "  6. ¿Cuántos búses pasan por tu casa?\n",
    "\n",
    "  7. ¿Cuántos caracteres hay en tu apellido(s) (inluyendo los espacios)?\n",
    "\n",
    "  8. ¿Cuáles son las temperaturas máximas (`t_max`) y mínimas (`t_min`) para esta semana?\n",
    "\n",
    "- Usar `in`, `not in`\n",
    "\n",
    "  9. Hay una 'e' en tu nombre?\n",
    "\n",
    "  10. Tienes el color 'rosa' en la lista de colores?\n",
    "  \n",
    "  11. ¿Tiene una 'x' tu nombre? (Usa `not in`)\n",
    "\n",
    "\n",
    "\n",
    "- Hacer copias y borrar sus contenidos\n",
    "\n",
    "  12. Copia el contenido de `temperaturas` a `temperaturas2`, y `temperaturas3`.\n",
    "\n",
    "  13. Vacía el contenido de la variable `temperaturas2`\n",
    "\n",
    "  14. Imprime el contenido de `temperaturas` y `temperaturas2`.\n",
    "\n",
    "  15. Copia el contenido de `nombres` a `nombres2`.\n",
    "\n",
    "  16. Copia el contenido de `apellidos` a `apellidos2`.\n",
    "\n",
    "- Cambiar el orden de los contenidos\n",
    "\n",
    "  17. Ordena la variable `temperaturas3` de mayor a menor.\n",
    "\n",
    "  18. Ordena los caracteres de tu nombre y tu apellido en las listas `nombres2` y `apellidos2`. Imprime el resultado y investiga: ¿qué orden ha cogido? ¿Cómo trata las mayúsculas?\n",
    "\n",
    "- Contar duplicados\n",
    "\n",
    "  19. ¿Cuántas 'a' tiene tu nombre? ¿Y cuántas 'o'?\n",
    "\n",
    "  20. Verifica si los resultados de ejercicio 19 son iguales para la lista `nombres2`.\n",
    "\n",
    "  21. ¿Cuántas veces esta semana llega la temperatura a la `t_max`? ¿Y cuántas a la `t_min`?\n",
    "\n",
    "\n",
    "\n",
    "- Definir otra lista\n",
    "\n",
    "  22. La lista dias_en contiene 'monday', 'tuesday', 'wednesday', 'thursday', 'friday', 'saturday', y 'sunday'.\n",
    "\n",
    "  23. Define temperaturas_diciembre 👇🏽:\n",
    "    ```python\n",
    "\n",
    "      temperaturas_diciembre = [10, 10, 13, 14, 12, 15, \n",
    "                            12, 11, 13, 17, 18, 15, \n",
    "                            15, 17, 17, 13, 13, 11,\n",
    "                            12, 10, 12, 14, 12, 12,\n",
    "                            11, 12, 16, 16, 14, 17, 18]\n",
    "\n",
    "    ```\n",
    "- Indexación de listas\n",
    "\n",
    "  24. ¿Cuál es el penúltimo día de la semana?\n",
    "\n",
    "  25. ¿Cuál es el último elemento de la lista de temperaturas de diciembre? \n",
    "\n",
    "  27. ¿Está 'friday' en la lista de días en inglés? Si está, ¿dónde?\n",
    "\n",
    "  28. ¿Cuál era la temperatura máxima en diciembre?\n",
    "\n",
    "  29. Encuentra el índice de 'miércoles' en dias_es.\n",
    "\n",
    "- Bonus\n",
    "\n",
    "  30. Imprime esta frase en pantalla: 'La temperatura máxima esta semana será 14 ºC, que ocurrirá en 1 días(s). El día más frío tendrá una temperatura máxima de 10 ºC, que ocurrirá en 2 día(s).'\n",
    "---\n",
    "\n"
   ]
  },
  {
   "cell_type": "markdown",
   "metadata": {
    "id": "ntgVqLZhcIBJ"
   },
   "source": [
    "\n",
    "\n",
    "---\n",
    "\n"
   ]
  },
  {
   "cell_type": "markdown",
   "metadata": {},
   "source": [
    "- Definir listas\n",
    "\n",
    "  1. Haz una lista llamada `colores` donde almacenemos los primeros 6 colores que te vengan a la mente.\n",
    "\n",
    "  2. Haz una lista llamada `buses` de las líneas de autobuses que pasan por tu casa.\n",
    "\n",
    "  3. Apunta la previsión de temperaturas máximas para todos los días de esta semana en `temperaturas`."
   ]
  },
  {
   "cell_type": "code",
   "execution_count": 1,
   "metadata": {
    "id": "Z5I4yJpqcX2F"
   },
   "outputs": [],
   "source": [
    "colores = [\"amarillo\", \"azul\", \"verde\", \"negro\", \"rojo\"]\n",
    "buses = [\"línea 1\", \"línea 17\", \"línea 25\", \"línea 47\", \"línea 10\"]\n",
    "temperaturas = [20, 21, 22, 23, 24, 25, 26]"
   ]
  },
  {
   "cell_type": "markdown",
   "metadata": {},
   "source": [
    "- Convertir a listas\n",
    "\n",
    "  4. Convierte tu(s) nombre(s) a una lista `nombres` de caracteres.\n",
    "  \n",
    "  5. Convierte tu(s) apellido(s) a una lista `apellidos` de caracteres."
   ]
  },
  {
   "cell_type": "code",
   "execution_count": 2,
   "metadata": {},
   "outputs": [],
   "source": [
    "nombres = list(\"Yaiza\")\n",
    "apellidos = list(\"Matesanz Avilés\")"
   ]
  },
  {
   "cell_type": "markdown",
   "metadata": {},
   "source": [
    "- Usar `len()`, `min()`, y `max()`\n",
    "\n",
    "  6. ¿Cuántos búses pasan por tu casa?\n",
    "\n",
    "  7. ¿Cuántos caracteres hay en tu apellido(s) (inluyendo los espacios)?\n",
    "\n",
    "  8. ¿Cuáles son las temperaturas máximas (`t_max`) y mínimas (`t_min`) para esta semana?"
   ]
  },
  {
   "cell_type": "code",
   "execution_count": 3,
   "metadata": {},
   "outputs": [
    {
     "name": "stdout",
     "output_type": "stream",
     "text": [
      "5\n"
     ]
    }
   ],
   "source": [
    "print(len(buses))"
   ]
  },
  {
   "cell_type": "code",
   "execution_count": 4,
   "metadata": {},
   "outputs": [
    {
     "name": "stdout",
     "output_type": "stream",
     "text": [
      "15\n"
     ]
    }
   ],
   "source": [
    "print(len(apellidos))"
   ]
  },
  {
   "cell_type": "code",
   "execution_count": 5,
   "metadata": {},
   "outputs": [
    {
     "name": "stdout",
     "output_type": "stream",
     "text": [
      "Temperatura máxima: 26, mínima:20\n"
     ]
    }
   ],
   "source": [
    "t_max = max(temperaturas)\n",
    "t_min = min(temperaturas)\n",
    "print(f\"Temperatura máxima: {t_max}, mínima:{t_min}\")"
   ]
  },
  {
   "cell_type": "markdown",
   "metadata": {},
   "source": [
    "- Usar `in`, `not in`\n",
    "\n",
    "  9. Hay una 'e' en tu nombre?\n",
    "\n",
    "  10. Tienes el color 'rosa' en la lista de colores?\n",
    "  \n",
    "  11. ¿Tiene una 'x' tu nombre? (Usa `not in`)"
   ]
  },
  {
   "cell_type": "code",
   "execution_count": 6,
   "metadata": {},
   "outputs": [
    {
     "name": "stdout",
     "output_type": "stream",
     "text": [
      "False\n"
     ]
    }
   ],
   "source": [
    "print(\"e\" in nombres)"
   ]
  },
  {
   "cell_type": "code",
   "execution_count": 7,
   "metadata": {},
   "outputs": [
    {
     "name": "stdout",
     "output_type": "stream",
     "text": [
      "False\n"
     ]
    }
   ],
   "source": [
    "print(\"rosa\" in colores)"
   ]
  },
  {
   "cell_type": "code",
   "execution_count": 8,
   "metadata": {},
   "outputs": [
    {
     "name": "stdout",
     "output_type": "stream",
     "text": [
      "False\n"
     ]
    }
   ],
   "source": [
    "print(\"x\" in nombres)"
   ]
  },
  {
   "cell_type": "markdown",
   "metadata": {},
   "source": [
    "- Hacer copias y borrar sus contenidos\n",
    "\n",
    "  12. Copia el contenido de `temperaturas` a `temperaturas2`, y `temperaturas3`.\n",
    "\n",
    "  13. Vacía el contenido de la variable `temperaturas2`\n",
    "\n",
    "  14. Imprime el contenido de `temperaturas` y `temperaturas2`.\n",
    "\n",
    "  15. Copia el contenido de `nombres` a `nombres2`.\n",
    "\n",
    "  16. Copia el contenido de `apellidos` a `apellidos2`."
   ]
  },
  {
   "cell_type": "code",
   "execution_count": 9,
   "metadata": {},
   "outputs": [
    {
     "name": "stdout",
     "output_type": "stream",
     "text": [
      "[20, 21, 22, 23, 24, 25, 26]\n",
      "[20, 21, 22, 23, 24, 25, 26]\n"
     ]
    }
   ],
   "source": [
    "temperaturas2 = temperaturas.copy()\n",
    "temperaturas3 = temperaturas.copy()\n",
    "print(temperaturas2)\n",
    "print(temperaturas3)"
   ]
  },
  {
   "cell_type": "code",
   "execution_count": 10,
   "metadata": {},
   "outputs": [
    {
     "name": "stdout",
     "output_type": "stream",
     "text": [
      "None\n",
      "[20, 21, 22, 23, 24, 25, 26]\n"
     ]
    }
   ],
   "source": [
    "temperaturas2 = temperaturas2.clear()\n",
    "print(temperaturas2)\n",
    "print(temperaturas)"
   ]
  },
  {
   "cell_type": "code",
   "execution_count": 11,
   "metadata": {},
   "outputs": [
    {
     "name": "stdout",
     "output_type": "stream",
     "text": [
      "['Y', 'a', 'i', 'z', 'a']\n",
      "['M', 'a', 't', 'e', 's', 'a', 'n', 'z', ' ', 'A', 'v', 'i', 'l', 'é', 's']\n"
     ]
    }
   ],
   "source": [
    "nombres2 = nombres.copy()\n",
    "apellidos2 = apellidos.copy()\n",
    "print(nombres2)\n",
    "print(apellidos2)"
   ]
  },
  {
   "cell_type": "markdown",
   "metadata": {},
   "source": [
    "- Cambiar el orden de los contenidos\n",
    "\n",
    "  17. Ordena la variable `temperaturas3` de mayor a menor.\n",
    "\n",
    "  18. Ordena los caracteres de tu nombre y tu apellido en las listas `nombres2` y `apellidos2`. Imprime el resultado y investiga: ¿qué orden ha cogido? ¿Cómo trata las mayúsculas?"
   ]
  },
  {
   "cell_type": "code",
   "execution_count": 14,
   "metadata": {},
   "outputs": [
    {
     "name": "stdout",
     "output_type": "stream",
     "text": [
      "[26, 25, 24, 23, 22, 21, 20]\n"
     ]
    }
   ],
   "source": [
    "temperaturas3.sort(reverse=True)\n",
    "print(temperaturas3)"
   ]
  },
  {
   "cell_type": "code",
   "execution_count": 15,
   "metadata": {},
   "outputs": [
    {
     "name": "stdout",
     "output_type": "stream",
     "text": [
      "['z', 'i', 'a', 'a', 'Y']\n",
      "['é', 'z', 'v', 't', 's', 's', 'n', 'l', 'i', 'e', 'a', 'a', 'M', 'A', ' ']\n"
     ]
    }
   ],
   "source": [
    "nombres2.sort(reverse=True)\n",
    "apellidos2.sort(reverse=True)\n",
    "print(nombres2)\n",
    "print(apellidos2)"
   ]
  },
  {
   "cell_type": "markdown",
   "metadata": {},
   "source": [
    "- Contar duplicados\n",
    "\n",
    "  19. ¿Cuántas 'a' tiene tu nombre? ¿Y cuántas 'o'?\n",
    "\n",
    "  20. Verifica si los resultados de ejercicio 19 son iguales para la lista `nombres2`.\n",
    "\n",
    "  21. ¿Cuántas veces esta semana llega la temperatura a la `t_max`? ¿Y cuántas a la `t_min`?"
   ]
  },
  {
   "cell_type": "code",
   "execution_count": 16,
   "metadata": {},
   "outputs": [
    {
     "name": "stdout",
     "output_type": "stream",
     "text": [
      "\n",
      " 2\n"
     ]
    }
   ],
   "source": [
    "print(\"\\n\", nombres.count(\"a\"))"
   ]
  },
  {
   "cell_type": "code",
   "execution_count": 17,
   "metadata": {},
   "outputs": [
    {
     "name": "stdout",
     "output_type": "stream",
     "text": [
      "\n",
      " 0\n"
     ]
    }
   ],
   "source": [
    "print(\"\\n\", nombres.count(\"o\"))"
   ]
  },
  {
   "cell_type": "code",
   "execution_count": 18,
   "metadata": {},
   "outputs": [
    {
     "name": "stdout",
     "output_type": "stream",
     "text": [
      "\n",
      " 2\n"
     ]
    }
   ],
   "source": [
    "print(\"\\n\", nombres2.count(\"a\"))"
   ]
  },
  {
   "cell_type": "code",
   "execution_count": 19,
   "metadata": {},
   "outputs": [
    {
     "name": "stdout",
     "output_type": "stream",
     "text": [
      "\n",
      " 0\n"
     ]
    }
   ],
   "source": [
    "print(\"\\n\", nombres2.count(\"o\"))"
   ]
  },
  {
   "cell_type": "markdown",
   "metadata": {},
   "source": [
    "- Definir otra lista\n",
    "\n",
    "  22. La lista dias_en contiene 'monday', 'tuesday', 'wednesday', 'thursday', 'friday', 'saturday', y 'sunday'.\n",
    "\n",
    "  23. Define temperaturas_diciembre 👇🏽:\n",
    "    ```python\n",
    "\n",
    "      temperaturas_diciembre = [10, 10, 13, 14, 12, 15, \n",
    "                            12, 11, 13, 17, 18, 15, \n",
    "                            15, 17, 17, 13, 13, 11,\n",
    "                            12, 10, 12, 14, 12, 12,\n",
    "                            11, 12, 16, 16, 14, 17, 18]\n",
    "\n",
    "    ```"
   ]
  },
  {
   "cell_type": "code",
   "execution_count": 20,
   "metadata": {},
   "outputs": [],
   "source": [
    "dias_en = ['monday', 'tuesday', 'wednesday', 'thursday', 'friday', 'saturday', 'sunday']"
   ]
  },
  {
   "cell_type": "code",
   "execution_count": 21,
   "metadata": {},
   "outputs": [],
   "source": [
    "temperaturas_diciembre = [10, 10, 13, 14, 12, 15, \n",
    "                            12, 11, 13, 17, 18, 15, \n",
    "                            15, 17, 17, 13, 13, 11,\n",
    "                            12, 10, 12, 14, 12, 12,\n",
    "                            11, 12, 16, 16, 14, 17, 18]"
   ]
  },
  {
   "cell_type": "markdown",
   "metadata": {},
   "source": [
    "- Indexación de listas\n",
    "\n",
    "  24. ¿Cuál es el penúltimo día de la semana?\n",
    "\n",
    "  25. ¿Cuál es el último elemento de la lista de temperaturas de diciembre? \n",
    "\n",
    "  27. ¿Está 'friday' en la lista de días en inglés? Si está, ¿dónde?\n",
    "\n",
    "  28. ¿Cuál era la temperatura máxima en diciembre?\n",
    "\n",
    "  29. Encuentra el índice de 'miércoles' en dias_es."
   ]
  },
  {
   "cell_type": "code",
   "execution_count": 26,
   "metadata": {},
   "outputs": [
    {
     "name": "stdout",
     "output_type": "stream",
     "text": [
      "saturday\n"
     ]
    }
   ],
   "source": [
    "penultimo_dia = dias_en[-2]\n",
    "print(penultimo_dia)"
   ]
  },
  {
   "cell_type": "code",
   "execution_count": 29,
   "metadata": {},
   "outputs": [
    {
     "name": "stdout",
     "output_type": "stream",
     "text": [
      "18\n"
     ]
    }
   ],
   "source": [
    "ultima_temperatura = temperaturas_diciembre[-1]\n",
    "print(ultima_temperatura)"
   ]
  },
  {
   "cell_type": "code",
   "execution_count": 32,
   "metadata": {},
   "outputs": [
    {
     "name": "stdout",
     "output_type": "stream",
     "text": [
      "4\n"
     ]
    }
   ],
   "source": [
    "posicion_friday = dias_en.index(\"friday\")\n",
    "print(posicion_friday)"
   ]
  },
  {
   "cell_type": "code",
   "execution_count": 33,
   "metadata": {},
   "outputs": [
    {
     "name": "stdout",
     "output_type": "stream",
     "text": [
      "18\n"
     ]
    }
   ],
   "source": [
    "temperatura_max = max(temperaturas_diciembre)\n",
    "print(temperatura_max)"
   ]
  },
  {
   "cell_type": "code",
   "execution_count": 37,
   "metadata": {},
   "outputs": [
    {
     "name": "stdout",
     "output_type": "stream",
     "text": [
      "2\n"
     ]
    }
   ],
   "source": [
    "indice_miercoles = dias_en.index(\"wednesday\")\n",
    "print(indice_miercoles)"
   ]
  },
  {
   "cell_type": "markdown",
   "metadata": {},
   "source": [
    "- Bonus\n",
    "\n",
    "  30. Imprime esta frase en pantalla: 'La temperatura máxima esta semana será 14 ºC, que ocurrirá en 1 días(s). El día más frío tendrá una temperatura máxima de 10 ºC, que ocurrirá en 2 día(s).'"
   ]
  },
  {
   "cell_type": "code",
   "execution_count": 25,
   "metadata": {},
   "outputs": [
    {
     "name": "stdout",
     "output_type": "stream",
     "text": [
      "La temperatura máxima esta semana será 14 ºC, que ocurrirá en 1 días(s). El día más frío tendrá una temperatura máxima de 10 ºC, que ocurrirá en 2 día(s).\n"
     ]
    }
   ],
   "source": [
    "print(\"La temperatura máxima esta semana será 14 ºC, que ocurrirá en 1 días(s). El día más frío tendrá una temperatura máxima de 10 ºC, que ocurrirá en 2 día(s).\")"
   ]
  }
 ],
 "metadata": {
  "interpreter": {
   "hash": "8560ba40f25f8debc3b21cfdc72602d7855270eb253b25380125fbd9b6cd3418"
  },
  "kernelspec": {
   "display_name": "Python 3 (ipykernel)",
   "language": "python",
   "name": "python3"
  },
  "language_info": {
   "codemirror_mode": {
    "name": "ipython",
    "version": 3
   },
   "file_extension": ".py",
   "mimetype": "text/x-python",
   "name": "python",
   "nbconvert_exporter": "python",
   "pygments_lexer": "ipython3",
   "version": "3.11.7"
  },
  "toc": {
   "base_numbering": 1,
   "nav_menu": {},
   "number_sections": true,
   "sideBar": true,
   "skip_h1_title": false,
   "title_cell": "Table of Contents",
   "title_sidebar": "Contents",
   "toc_cell": true,
   "toc_position": {},
   "toc_section_display": true,
   "toc_window_display": true
  }
 },
 "nbformat": 4,
 "nbformat_minor": 2
}
