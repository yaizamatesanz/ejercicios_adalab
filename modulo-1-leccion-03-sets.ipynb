{
 "cells": [
  {
   "cell_type": "markdown",
   "metadata": {
    "toc": true
   },
   "source": [
    "<h1>Table of Contents<span class=\"tocSkip\"></span></h1>\n",
    "<div class=\"toc\"><ul class=\"toc-item\"><li><span><a href=\"#¿Qué-son-los-sets-y-como-se-definen?\" data-toc-modified-id=\"¿Qué-son-los-sets-y-como-se-definen?-1\"><span class=\"toc-item-num\">1&nbsp;&nbsp;</span>¿Qué son los sets y como se definen?</a></span></li><li><span><a href=\"#Propiedades-de-los-sets\" data-toc-modified-id=\"Propiedades-de-los-sets-2\"><span class=\"toc-item-num\">2&nbsp;&nbsp;</span>Propiedades de los sets</a></span></li><li><span><a href=\"#Indexación-de-los-sets\" data-toc-modified-id=\"Indexación-de-los-sets-3\"><span class=\"toc-item-num\">3&nbsp;&nbsp;</span>Indexación de los sets</a></span></li><li><span><a href=\"#Métodos-de-los-sets\" data-toc-modified-id=\"Métodos-de-los-sets-4\"><span class=\"toc-item-num\">4&nbsp;&nbsp;</span>Métodos de los sets</a></span><ul class=\"toc-item\"><li><span><a href=\"#.add()\" data-toc-modified-id=\".add()-4.1\"><span class=\"toc-item-num\">4.1&nbsp;&nbsp;</span><code>.add()</code></a></span></li><li><span><a href=\"#.update()\" data-toc-modified-id=\".update()-4.2\"><span class=\"toc-item-num\">4.2&nbsp;&nbsp;</span><code>.update()</code></a></span></li><li><span><a href=\"#.copy()\" data-toc-modified-id=\".copy()-4.3\"><span class=\"toc-item-num\">4.3&nbsp;&nbsp;</span><code>.copy()</code></a></span></li><li><span><a href=\"#.pop()\" data-toc-modified-id=\".pop()-4.4\"><span class=\"toc-item-num\">4.4&nbsp;&nbsp;</span><code>.pop()</code></a></span></li><li><span><a href=\"#.remove()\" data-toc-modified-id=\".remove()-4.5\"><span class=\"toc-item-num\">4.5&nbsp;&nbsp;</span><code>.remove()</code></a></span></li><li><span><a href=\"#.discard()\" data-toc-modified-id=\".discard()-4.6\"><span class=\"toc-item-num\">4.6&nbsp;&nbsp;</span><code>.discard()</code></a></span></li><li><span><a href=\"#.clear()\" data-toc-modified-id=\".clear()-4.7\"><span class=\"toc-item-num\">4.7&nbsp;&nbsp;</span><code>.clear()</code></a></span></li></ul></li><li><span><a href=\"#Operaciones-de-conjuntos-con-sets\" data-toc-modified-id=\"Operaciones-de-conjuntos-con-sets-5\"><span class=\"toc-item-num\">5&nbsp;&nbsp;</span>Operaciones de conjuntos con sets</a></span><ul class=\"toc-item\"><li><span><a href=\"#.union()\" data-toc-modified-id=\".union()-5.1\"><span class=\"toc-item-num\">5.1&nbsp;&nbsp;</span><code>.union()</code></a></span></li><li><span><a href=\"#.intersection()\" data-toc-modified-id=\".intersection()-5.2\"><span class=\"toc-item-num\">5.2&nbsp;&nbsp;</span><code>.intersection()</code></a></span></li><li><span><a href=\"#.difference()\" data-toc-modified-id=\".difference()-5.3\"><span class=\"toc-item-num\">5.3&nbsp;&nbsp;</span><code>.difference()</code></a></span></li><li><span><a href=\"#.symmetric_difference()\" data-toc-modified-id=\".symmetric_difference()-5.4\"><span class=\"toc-item-num\">5.4&nbsp;&nbsp;</span><code>.symmetric_difference()</code></a></span></li><li><span><a href=\"#.isdisjoint()\" data-toc-modified-id=\".isdisjoint()-5.5\"><span class=\"toc-item-num\">5.5&nbsp;&nbsp;</span><code>.isdisjoint()</code></a></span></li><li><span><a href=\"#.issubset()\" data-toc-modified-id=\".issubset()-5.6\"><span class=\"toc-item-num\">5.6&nbsp;&nbsp;</span><code>.issubset()</code></a></span></li><li><span><a href=\"#.issuperset()\" data-toc-modified-id=\".issuperset()-5.7\"><span class=\"toc-item-num\">5.7&nbsp;&nbsp;</span><code>.issuperset()</code></a></span></li></ul></li><li><span><a href=\"#Ejercicios:\" data-toc-modified-id=\"Ejercicios:-6\"><span class=\"toc-item-num\">6&nbsp;&nbsp;</span>Ejercicios:</a></span></li></ul></div>"
   ]
  },
  {
   "cell_type": "markdown",
   "metadata": {},
   "source": [
    "# ¿Qué son los sets y como se definen?\n",
    "\n",
    "En Python, un conjunto (set) es una colección desordenada y no repetida de elementos únicos y mutables y vienen definidos por `{}`. Los conjuntos se utilizan principalmente para realizar operaciones matemáticas, como unión, intersección, diferencia y diferencia simétrica entre conjuntos.\n",
    "\n",
    "Las principales características de los sets son:\n",
    "\n",
    "- Colección no ordenada: los elementos dentro de un conjunto no tienen un orden específico. No se pueden acceder a los elementos de un conjunto mediante índices (como hacíamos en listas o tuplas), ya que no existe un orden definido.\n",
    "\n",
    "- Elementos únicos: cada elemento dentro de un conjunto es único, es decir, no se pueden tener elementos duplicados en un conjunto.\n",
    "\n",
    "- Mutable: el conjunto en sí mismo es mutable, lo que significa que se pueden agregar o eliminar elementos del conjunto.\n",
    "\n",
    "- Métodos para realizar operaciones matemáticas: los conjuntos en Python vienen con una serie de métodos integrados para realizar operaciones matemáticas, como unión, intersección, diferencia y diferencia simétrica entre conjuntos.\n",
    "\n",
    "- No admite elementos mutables: los conjuntos no pueden contener elementos mutables como listas, conjuntos o diccionarios, ya que estos elementos pueden cambiar y afectar la integridad del conjunto.\n",
    "\n",
    "- Iterables: los conjuntos son iterables, lo que significa que se pueden recorrer los elementos de un conjunto utilizando un bucle for.\n",
    "\n",
    "En resumen, los conjuntos o sets en Python son colecciones desordenadas y no repetidas de elementos únicos e inmutables que se utilizan principalmente para realizar operaciones matemáticas eficientes. Los conjuntos son mutables y están implementados como una tabla hash. Los elementos dentro de un conjunto deben ser inmutables y no se pueden tener elementos duplicados en un conjunto.\n",
    "\n",
    "Ya hemos visto que se definen con `{}`, pero veamos que formas tenemos para crear sets en Python:\n",
    "\n",
    "- Utilizando llaves `{}`\n",
    "\n",
    "- Utilizando la función `set()`\n",
    "\n",
    "\n",
    "Veamos estos métodos con más detalle:"
   ]
  },
  {
   "cell_type": "markdown",
   "metadata": {},
   "source": [
    "**Utilizando llaves**"
   ]
  },
  {
   "cell_type": "code",
   "execution_count": 1,
   "metadata": {},
   "outputs": [
    {
     "name": "stdout",
     "output_type": "stream",
     "text": [
      "El set que acabamos de crear es: {'Pescado', 'Frutos secos', 'Cacahuetes', 'Trigo', 'Leche', 'Huevos', 'Soja', 'Crustáceos'}\n"
     ]
    }
   ],
   "source": [
    "# definimos un set con una serie de strings\n",
    "alergenos1 = {'Soja', 'Trigo', 'Cacahuetes', 'Leche', 'Huevos','Frutos secos', 'Pescado', 'Crustáceos', \"Huevos\"}\n",
    "\n",
    "# si nos fijamos, en el set hemos puesto dos veces el string \"Huevos\". Una de las carácteristicas de los sets es que NO ACEPTAN ELEMENTOS REPETIDOS, por lo que nos ha eliminado uno de ellos.\n",
    "print(\"El set que acabamos de crear es:\", alergenos1)"
   ]
  },
  {
   "cell_type": "markdown",
   "metadata": {},
   "source": [
    "**Utilizando la función `set()`**"
   ]
  },
  {
   "cell_type": "code",
   "execution_count": 2,
   "metadata": {},
   "outputs": [
    {
     "name": "stdout",
     "output_type": "stream",
     "text": [
      "El set que acabamos de crear es: {'Frutos secos', 'Cacahuetes', 'Trigo', 'Leche', 'Crustáceos', 'Huevos', 'Soja', 'Pescado'}\n",
      "El set que acabamos de crear es: {'Frutos secos', 'Cacahuetes', 'Trigo', 'Leche', 'Crustáceos', 'Huevos', 'Soja', 'Pescado'}\n"
     ]
    }
   ],
   "source": [
    "# Podemos crear un set que venga de una tupla, como hemos aprendido hasta ahora\n",
    "tupla_alergenos = ('Leche','Huevos', 'Cacahuetes','Frutos secos','Pescado','Crustáceos','Soja','Trigo', \"Huevos\")\n",
    "\n",
    "# convertimos a set usando el método 'set()'\n",
    "alergenos2 = set(tupla_alergenos)\n",
    "\n",
    "print(\"El set que acabamos de crear es:\", alergenos2)\n",
    "\n",
    "\n",
    "# también podemos crear un set de una lista\n",
    "lista_alergenos = ['Leche','Huevos', 'Cacahuetes','Frutos secos','Pescado','Crustáceos','Soja','Trigo', \"Huevos\"]\n",
    "\n",
    "# convertimos a set usando el método 'set()'\n",
    "alergenos3 = set(lista_alergenos)\n",
    "\n",
    "print(\"El set que acabamos de crear es:\", alergenos3)\n"
   ]
  },
  {
   "cell_type": "markdown",
   "metadata": {},
   "source": [
    "# Propiedades de los sets\n",
    "\n",
    "Al igual que en las listas y en las tuplas y  diccionarios vamos a tener una serie de métodos que nos ayuden a conocer las principales propiedades de las tuplas. En este caso va a ser más sencillo, ya que de todos los que hemos ido aprendiendo, los únicos que podremos usar en sets son:\n",
    "\n",
    "- `len()`: al igual que hasta ahora, este método se utiliza para obtener la cantidad de elementos que hay en un set. \n",
    "\n",
    "- `in` y `not in`: se usan para verificar si un elemento está presente o no en una estructura de datos, como una lista, una tupla, un diccionario o un conjunto.\n",
    "\n",
    "Veámoslo en más detalle:\n"
   ]
  },
  {
   "cell_type": "code",
   "execution_count": 3,
   "metadata": {},
   "outputs": [
    {
     "name": "stdout",
     "output_type": "stream",
     "text": [
      "La longitud del set 'alergenos1' es: 8\n",
      "La longitud del set 'alergenos1' es: 8\n",
      "La longitud del set 'alergenos1' es: 8\n",
      "¿Esta la palabra 'Huevos' en el set 'alergenos1? True\n",
      "¿Esta la palabra 'Apio' en el set 'alergenos1? False\n"
     ]
    }
   ],
   "source": [
    "print(\"La longitud del set 'alergenos1' es:\", len(alergenos1))\n",
    "print(\"La longitud del set 'alergenos1' es:\", len(alergenos2))\n",
    "print(\"La longitud del set 'alergenos1' es:\", len(alergenos3))\n",
    "\n",
    "# esta la palabra \"Huevos\" dentro de nuestro set?\n",
    "print(\"¿Esta la palabra 'Huevos' en el set 'alergenos1?\", 'Huevos' in alergenos1)\n",
    "\n",
    "# esta la palabra \"Apio\" en nuestro set? \n",
    "print(\"¿Esta la palabra 'Apio' en el set 'alergenos1?\", 'Apio' in alergenos1)"
   ]
  },
  {
   "cell_type": "markdown",
   "metadata": {},
   "source": [
    "# Indexación de los sets\n",
    "\n",
    "Hay que tener en cuenta que los conjuntos son estructuras de datos no ordenadas, por lo que no se puede acceder a los elementos por su posición y por lo tanto no podremos realizar la indexacion como aprendimos con las listas y las tuplas. Aún así, veamos un ejemplo para ver el error que nos sale"
   ]
  },
  {
   "cell_type": "code",
   "execution_count": 4,
   "metadata": {},
   "outputs": [
    {
     "ename": "TypeError",
     "evalue": "'set' object is not subscriptable",
     "output_type": "error",
     "traceback": [
      "\u001b[0;31m---------------------------------------------------------------------------\u001b[0m",
      "\u001b[0;31mTypeError\u001b[0m                                 Traceback (most recent call last)",
      "Cell \u001b[0;32mIn[4], line 1\u001b[0m\n\u001b[0;32m----> 1\u001b[0m alergenos1[\u001b[39m3\u001b[39;49m]\n",
      "\u001b[0;31mTypeError\u001b[0m: 'set' object is not subscriptable"
     ]
    }
   ],
   "source": [
    "alergenos1[3]"
   ]
  },
  {
   "cell_type": "markdown",
   "metadata": {},
   "source": [
    "¿Qué error nos devuelve?\n",
    "\n",
    "`TypeError: 'set' object is not subscriptable`, es decir, no es indexable, no podemos acceder a sus elementos a partir de los índices. "
   ]
  },
  {
   "cell_type": "markdown",
   "metadata": {},
   "source": [
    "# Métodos de los sets\n",
    "\n",
    "Los métodos de set son funciones que se pueden utilizar para manipular conjuntos, agregar o eliminar elementos y realizar operaciones entre conjuntos. Aquí hay algunos métodos comunes de set y una breve explicación de lo que hacen:\n",
    "\n",
    "- `add()`: Agrega un elemento al conjunto. Si el elemento ya está en el conjunto, no se hace nada.\n",
    "\n",
    "- `update()`: es un método de conjunto (set) que se utiliza para agregar múltiples elementos a un conjunto. \n",
    "\n",
    "- `copy()`: se utiliza para crear una copia superficial de un conjunto existente\n",
    "\n",
    "- `pop()`: Elimina y devuelve un elemento aleatorio del conjunto. Si el conjunto está vacío, se produce un error.\n",
    "\n",
    "- `remove()`: Elimina un elemento del conjunto. Si el elemento no está en el conjunto, se produce un error.\n",
    "\n",
    "- `discard()`: Elimina un elemento del conjunto. Si el elemento no está en el conjunto, no se produce ningún error.\n",
    "\n",
    "- `clear()`: Elimina todos los elementos del conjunto.\n",
    "\n"
   ]
  },
  {
   "cell_type": "markdown",
   "metadata": {},
   "source": [
    "## `.add()`\n",
    "\n",
    "Es un método de sets que se utiliza para agregar un elemento al conjunto. "
   ]
  },
  {
   "cell_type": "code",
   "execution_count": null,
   "metadata": {},
   "outputs": [
    {
     "name": "stdout",
     "output_type": "stream",
     "text": [
      "El set 'alergenos1' contiene los siguientes elementos: {'Pescado', 'Cacahuetes', 'Leche', 'Huevos', 'Frutos secos', 'Trigo', 'Soja', 'Crustáceos'}\n",
      "La cantidad de alergenos que tenemos en nuestro set son: 8\n",
      "El set 'alergenos1' DESPUÉS DE AÑADIR LA MOSTAZA contiene los siguientes elementos: {'Pescado', 'Cacahuetes', 'Leche', 'Huevos', 'Frutos secos', 'Trigo', 'Soja', 'Mostaza', 'Crustáceos'}\n",
      "La cantidad de alergenos que tenemos en nuestro set DESPUÉS DE AÑADIR LA MOSTAZA son: 9\n"
     ]
    },
    {
     "ename": "TypeError",
     "evalue": "unhashable type: 'list'",
     "output_type": "error",
     "traceback": [
      "\u001b[0;31m---------------------------------------------------------------------------\u001b[0m",
      "\u001b[0;31mTypeError\u001b[0m                                 Traceback (most recent call last)",
      "\u001b[0;32m/tmp/ipykernel_721/1311920205.py\u001b[0m in \u001b[0;36m<module>\u001b[0;34m\u001b[0m\n\u001b[1;32m     11\u001b[0m \u001b[0;34m\u001b[0m\u001b[0m\n\u001b[1;32m     12\u001b[0m \u001b[0;31m# Tal vez nos interese añadir más de un elemento a nuestro set, siguiendo la misma lógica podríamos pensar que solo tendríamos que pasarselos al método 'add()'. Probemos:\u001b[0m\u001b[0;34m\u001b[0m\u001b[0;34m\u001b[0m\u001b[0m\n\u001b[0;32m---> 13\u001b[0;31m \u001b[0malergenos1\u001b[0m\u001b[0;34m.\u001b[0m\u001b[0madd\u001b[0m\u001b[0;34m(\u001b[0m\u001b[0;34m[\u001b[0m\u001b[0;34m'Brocoli'\u001b[0m\u001b[0;34m,\u001b[0m \u001b[0;34m\"Sulfitos\"\u001b[0m\u001b[0;34m]\u001b[0m\u001b[0;34m)\u001b[0m\u001b[0;34m\u001b[0m\u001b[0;34m\u001b[0m\u001b[0m\n\u001b[0m",
      "\u001b[0;31mTypeError\u001b[0m: unhashable type: 'list'"
     ]
    }
   ],
   "source": [
    "# imaginemos que ahora queremos añadir un alérgeno a nuestro set usando el método 'add()'. Para eso, lo único que deberemos hacer es pasar el elemento nuevo al set\n",
    "print(\"El set 'alergenos1' contiene los siguientes elementos:\", alergenos1)\n",
    "print(\"La cantidad de alergenos que tenemos en nuestro set son:\", len(alergenos1))\n",
    "\n",
    "# utilizando el método 'add()' añadimos 'Mostaza\n",
    "alergenos1.add('Mostaza')\n",
    "\n",
    "\n",
    "print(\"El set 'alergenos1' DESPUÉS DE AÑADIR LA MOSTAZA contiene los siguientes elementos:\", alergenos1)\n",
    "print(\"La cantidad de alergenos que tenemos en nuestro set DESPUÉS DE AÑADIR LA MOSTAZA son:\", len(alergenos1))\n",
    "\n",
    "# Tal vez nos interese añadir más de un elemento a nuestro set, siguiendo la misma lógica podríamos pensar que solo tendríamos que pasarselos al método 'add()'. Probemos:\n",
    "alergenos1.add(['Brocoli', \"Sulfitos\"])"
   ]
  },
  {
   "cell_type": "markdown",
   "metadata": {},
   "source": [
    "Vaya... 😢 nos devuelve un error. En este caso nos devuelve `TypeError: unhashable type: 'list'`. Basicamente, lo que nos esta diciendo es que con el método `.add()` no podemos usar listas. \n",
    "\n",
    "Está bien, ya hemos comprobado que no podemos usar el método `.add()` cuando queremos insertar más de un elemento en nuestros sets. Usemos, entonces, el método `.update()` 👇"
   ]
  },
  {
   "cell_type": "markdown",
   "metadata": {},
   "source": [
    "## `.update()`\n",
    "\n",
    "Es un método de conjunto (set) que se utiliza para agregar múltiples elementos a un conjunto, se lo deberemos pasar como lista. "
   ]
  },
  {
   "cell_type": "code",
   "execution_count": null,
   "metadata": {},
   "outputs": [
    {
     "name": "stdout",
     "output_type": "stream",
     "text": [
      "El set 'alergenos1' contiene los siguientes elementos: {'Pescado', 'Cacahuetes', 'Leche', 'Huevos', 'Frutos secos', 'Trigo', 'Soja', 'Mostaza', 'Crustáceos'}\n",
      "El set 'alergenos1' DESPUÉS DE AÑADIR LOS ELEMENTOS contiene los siguientes elementos: {'Pescado', 'Sulfitos', 'Cacahuetes', 'Leche', 'Huevos', 'Frutos secos', 'Brocoli', 'Trigo', 'Soja', 'Mostaza', 'Crustáceos'}\n"
     ]
    }
   ],
   "source": [
    "print(\"El set 'alergenos1' contiene los siguientes elementos:\", alergenos1)\n",
    "\n",
    "# nos creamos una lista con los elementos que queremos introducir en nuestro set\n",
    "actualizacion = ['Brocoli', 'Sulfitos']\n",
    "\n",
    "# le pasamos la lista creada al método 'update()'\n",
    "alergenos1.update(actualizacion)\n",
    "\n",
    "print(\"El set 'alergenos1' DESPUÉS DE AÑADIR LOS ELEMENTOS contiene los siguientes elementos:\", alergenos1)"
   ]
  },
  {
   "cell_type": "code",
   "execution_count": null,
   "metadata": {},
   "outputs": [
    {
     "name": "stdout",
     "output_type": "stream",
     "text": [
      "El set 'alergenos1' contiene los siguientes elementos: {'Pescado', 'Sulfitos', 'Cacahuetes', 'Leche', 'Huevos', 'Frutos secos', 'Brocoli', 'Trigo', 'Soja', 'Mostaza', 'Crustáceos'}\n",
      "El set 'alergenos1' DESPUÉS DE AÑADIR LOS ELEMENTOS contiene los siguientes elementos: {'Pescado', 'Sulfitos', 'Cacahuetes', 'Leche', 'Huevos', 'Frutos secos', 'Brocoli', 'Altramuces', 'Trigo', 'Soja', 'Mostaza', 'Crustáceos', 'Moluscos'}\n"
     ]
    }
   ],
   "source": [
    " print(\"El set 'alergenos1' contiene los siguientes elementos:\", alergenos1)\n",
    "# también le podemos pasar un set a este método, definimos un set con los nuevos elementos que queremos incluir\n",
    "actualizacion2 = {'Altramuces', \"Moluscos\"}\n",
    "\n",
    "# usamos el método 'update()'\n",
    "alergenos1.update(actualizacion2)\n",
    "\n",
    "print(\"El set 'alergenos1' DESPUÉS DE AÑADIR LOS ELEMENTOS contiene los siguientes elementos:\", alergenos1)"
   ]
  },
  {
   "cell_type": "markdown",
   "metadata": {},
   "source": [
    "## `.copy()`\n",
    "\n",
    "Al igual que en todos los tipos de datos aprendidos hasta ahora, en Python es un método de conjunto (set) que se utiliza para crear una copia superficial (shallow copy) de un conjunto existente. La copia superficial significa que se crea un nuevo conjunto con los mismos elementos que el conjunto original, pero los elementos en sí mismos no se copian, solo se hace una referencia a ellos."
   ]
  },
  {
   "cell_type": "code",
   "execution_count": null,
   "metadata": {},
   "outputs": [
    {
     "name": "stdout",
     "output_type": "stream",
     "text": [
      "El set 'alergenos1' contiene los siguientes elementos: {'Pescado', 'Sulfitos', 'Cacahuetes', 'Leche', 'Huevos', 'Frutos secos', 'Brocoli', 'Altramuces', 'Trigo', 'Soja', 'Mostaza', 'Crustáceos', 'Moluscos'}\n",
      "El set 'alergenos1' contiene los siguientes elementos: {'Pescado', 'Sulfitos', 'Cacahuetes', 'Leche', 'Huevos', 'Frutos secos', 'Brocoli', 'Altramuces', 'Trigo', 'Soja', 'Mostaza', 'Crustáceos', 'Moluscos'}\n"
     ]
    }
   ],
   "source": [
    "print(\"El set 'alergenos1' contiene los siguientes elementos:\", alergenos1)\n",
    "# nos hacemos una copia de set alergenos\n",
    "alergenos_copia = alergenos1.copy()\n",
    "print(\"El set 'alergenos1' contiene los siguientes elementos:\", alergenos_copia)"
   ]
  },
  {
   "cell_type": "markdown",
   "metadata": {},
   "source": [
    "## `.pop()`\n",
    "\n",
    "El método `pop()` en Python es un método de conjunto (set) que se utiliza para eliminar y devolver un elemento aleatorio del conjunto. En este caso nos elimina un elemento al azar ya que los set, recordemos, que no tienen orden!\n",
    "\n",
    "Igual que en los otros tipos de datos, el pop nos va a devolver el elemento que elimina de nuestro set, sobreescribiendo el set original. \n"
   ]
  },
  {
   "cell_type": "code",
   "execution_count": null,
   "metadata": {},
   "outputs": [
    {
     "name": "stdout",
     "output_type": "stream",
     "text": [
      "El set 'alergenos1' contiene los siguientes elementos: {'Pescado', 'Sulfitos', 'Cacahuetes', 'Leche', 'Huevos', 'Frutos secos', 'Brocoli', 'Altramuces', 'Trigo', 'Soja', 'Mostaza', 'Crustáceos', 'Moluscos'}\n",
      "El set 'alergenos1' contiene  13 elementos\n",
      "--------------------------------\n",
      "\n",
      "El elemento eliminado de nuestro set 'alergenos1 es: Pescado\n",
      "El set 'alergenos1' DESPUÉS DE HABER ELIMINADO UN ELEMENTO AL AZAR es: {'Sulfitos', 'Cacahuetes', 'Leche', 'Huevos', 'Frutos secos', 'Brocoli', 'Altramuces', 'Trigo', 'Soja', 'Mostaza', 'Crustáceos', 'Moluscos'}\n",
      "El set 'alergenos1' DESPUÉS DE HABER ELIMINADO UN ELEMENTO AL AZAR contiene  12 elementos\n"
     ]
    }
   ],
   "source": [
    "# eliminamos un elemento de set. Como no tienen orden, lo eliminará de forma aleatoria\n",
    "print(\"El set 'alergenos1' contiene los siguientes elementos:\", alergenos1)\n",
    "print(\"El set 'alergenos1' contiene \", len(alergenos1), \"elementos\")\n",
    "print(\"--------------------------------\\n\")\n",
    "\n",
    "# almacenamos en una variable el elemento que nos elimina el método '.pop()'\n",
    "elemento = alergenos1.pop()\n",
    "print(\"El elemento eliminado de nuestro set 'alergenos1 es:\", elemento)\n",
    "print(\"El set 'alergenos1' DESPUÉS DE HABER ELIMINADO UN ELEMENTO AL AZAR es:\", alergenos1)\n",
    "print(\"El set 'alergenos1' DESPUÉS DE HABER ELIMINADO UN ELEMENTO AL AZAR contiene \", len(alergenos1), \"elementos\")\n",
    "\n"
   ]
  },
  {
   "cell_type": "markdown",
   "metadata": {},
   "source": [
    "## `.remove()`\n",
    "\n",
    "Es una función de los sets en Python que se utiliza para eliminar un elemento específico de un conjunto. Es importante tener en cuenta que el método `remove()` solo elimina un elemento a la vez. "
   ]
  },
  {
   "cell_type": "code",
   "execution_count": null,
   "metadata": {},
   "outputs": [
    {
     "name": "stdout",
     "output_type": "stream",
     "text": [
      "El set 'alergenos1' contiene los siguientes elementos: {'Sulfitos', 'Cacahuetes', 'Leche', 'Huevos', 'Frutos secos', 'Brocoli', 'Altramuces', 'Trigo', 'Soja', 'Mostaza', 'Crustáceos', 'Moluscos'}\n"
     ]
    },
    {
     "ename": "TypeError",
     "evalue": "unhashable type: 'list'",
     "output_type": "error",
     "traceback": [
      "\u001b[0;31m---------------------------------------------------------------------------\u001b[0m",
      "\u001b[0;31mTypeError\u001b[0m                                 Traceback (most recent call last)",
      "\u001b[0;32m/tmp/ipykernel_721/3204689325.py\u001b[0m in \u001b[0;36m<module>\u001b[0;34m\u001b[0m\n\u001b[1;32m      2\u001b[0m \u001b[0;34m\u001b[0m\u001b[0m\n\u001b[1;32m      3\u001b[0m \u001b[0;31m# imaginemos que queremos eliminar 'Huevos' y \"Soja\" de nuestro set, como hemos dicho tendremos que hacerlo por separado, pero para confirmarlo, veamos que error nos devuelve cuando intentamos eliminar dos elementos a la vez\u001b[0m\u001b[0;34m\u001b[0m\u001b[0;34m\u001b[0m\u001b[0m\n\u001b[0;32m----> 4\u001b[0;31m \u001b[0malergenos1\u001b[0m\u001b[0;34m.\u001b[0m\u001b[0mremove\u001b[0m\u001b[0;34m(\u001b[0m\u001b[0;34m[\u001b[0m\u001b[0;34m\"Huevos\"\u001b[0m\u001b[0;34m,\u001b[0m \u001b[0;34m\"Soja\"\u001b[0m\u001b[0;34m]\u001b[0m\u001b[0;34m)\u001b[0m\u001b[0;34m\u001b[0m\u001b[0;34m\u001b[0m\u001b[0m\n\u001b[0m",
      "\u001b[0;31mTypeError\u001b[0m: unhashable type: 'list'"
     ]
    }
   ],
   "source": [
    "print(\"El set 'alergenos1' contiene los siguientes elementos:\", alergenos1)\n",
    "\n",
    "# imaginemos que queremos eliminar 'Huevos' y \"Soja\" de nuestro set, como hemos dicho tendremos que hacerlo por separado, pero para confirmarlo, veamos que error nos devuelve cuando intentamos eliminar dos elementos a la vez\n",
    "alergenos1.remove([\"Huevos\", \"Soja\"])"
   ]
  },
  {
   "cell_type": "markdown",
   "metadata": {},
   "source": [
    "Este error lo que nos esta diciendo es que este método no acepta listas. Por lo tanto, tendremos que hacerlo de forma individual. Veámoslo: "
   ]
  },
  {
   "cell_type": "code",
   "execution_count": null,
   "metadata": {},
   "outputs": [
    {
     "name": "stdout",
     "output_type": "stream",
     "text": [
      "El set 'alergenos1' contiene los siguientes elementos: {'Sulfitos', 'Cacahuetes', 'Leche', 'Huevos', 'Frutos secos', 'Brocoli', 'Altramuces', 'Trigo', 'Soja', 'Mostaza', 'Crustáceos', 'Moluscos'}\n",
      "El set 'alergenos1' ANTES DE ELIMINAR CUALQUIER ELEMENTO contiene  12 elementos\n",
      "--------------------------------\n",
      "\n",
      "El set 'alergenos1' DESPUÉS DE ELIMINAR 'Huevos' contiene los siguientes elementos: {'Sulfitos', 'Cacahuetes', 'Leche', 'Frutos secos', 'Brocoli', 'Altramuces', 'Trigo', 'Soja', 'Mostaza', 'Crustáceos', 'Moluscos'}\n",
      "El set 'alergenos1' DESPUÉS DE HABER ELIMINADO 'Huevos' contiene  11 elementos\n",
      "--------------------------------\n",
      "\n",
      "El set 'alergenos1' DESPUÉS DE ELIMINAR 'Soja' contiene los siguientes elementos: {'Sulfitos', 'Cacahuetes', 'Leche', 'Frutos secos', 'Brocoli', 'Altramuces', 'Trigo', 'Mostaza', 'Crustáceos', 'Moluscos'}\n",
      "El set 'alergenos1' DESPUÉS DE HABER ELIMINADO 'Soja' contiene  10 elementos\n"
     ]
    }
   ],
   "source": [
    "# en este caso usaremos el set alergenos2\n",
    "print(\"El set 'alergenos1' contiene los siguientes elementos:\", alergenos1)\n",
    "print(\"El set 'alergenos1' ANTES DE ELIMINAR UN ELEMENTO contiene \", len(alergenos1), \"elementos\")\n",
    "print(\"--------------------------------\\n\")\n",
    "\n",
    "# aplicamos la función '.remove()' incluyendo el elemento que queremos eliminar\n",
    "alergenos1.remove(\"Huevos\")\n",
    "print(\"El set 'alergenos1' DESPUÉS DE ELIMINAR 'Huevos' contiene los siguientes elementos:\", alergenos1)\n",
    "print(\"El set 'alergenos1' DESPUÉS DE HABER ELIMINADO 'Huevos' contiene \", len(alergenos1), \"elementos\")\n",
    "print(\"--------------------------------\\n\")\n",
    "\n",
    "# seguimos elimininado más elementos\n",
    "alergenos1.remove(\"Soja\")\n",
    "print(\"El set 'alergenos1' DESPUÉS DE ELIMINAR 'Soja' contiene los siguientes elementos:\", alergenos1)\n",
    "print(\"El set 'alergenos1' DESPUÉS DE HABER ELIMINADO 'Soja' contiene \", len(alergenos1), \"elementos\")\n"
   ]
  },
  {
   "cell_type": "code",
   "execution_count": null,
   "metadata": {},
   "outputs": [
    {
     "ename": "KeyError",
     "evalue": "'Patata'",
     "output_type": "error",
     "traceback": [
      "\u001b[0;31m---------------------------------------------------------------------------\u001b[0m",
      "\u001b[0;31mKeyError\u001b[0m                                  Traceback (most recent call last)",
      "\u001b[0;32m/tmp/ipykernel_721/2124778752.py\u001b[0m in \u001b[0;36m<module>\u001b[0;34m\u001b[0m\n\u001b[1;32m      1\u001b[0m \u001b[0;31m# ¿Qué pasaría si intentamos eliminar un elemento que no existe en nuestro set?\u001b[0m\u001b[0;34m\u001b[0m\u001b[0;34m\u001b[0m\u001b[0m\n\u001b[0;32m----> 2\u001b[0;31m \u001b[0malergenos1\u001b[0m\u001b[0;34m.\u001b[0m\u001b[0mremove\u001b[0m\u001b[0;34m(\u001b[0m\u001b[0;34m\"Patata\"\u001b[0m\u001b[0;34m)\u001b[0m\u001b[0;34m\u001b[0m\u001b[0;34m\u001b[0m\u001b[0m\n\u001b[0m",
      "\u001b[0;31mKeyError\u001b[0m: 'Patata'"
     ]
    }
   ],
   "source": [
    "# ¿Qué pasaría si intentamos eliminar un elemento que no existe en nuestro set?\n",
    "alergenos1.remove(\"Patata\")"
   ]
  },
  {
   "cell_type": "markdown",
   "metadata": {},
   "source": [
    "Nos va a dar un error, ya que ese elemento no existe en nuestro set. "
   ]
  },
  {
   "cell_type": "markdown",
   "metadata": {},
   "source": [
    "## `.discard()`\n",
    "\n",
    "Es una función de los sets en Python que se utiliza para eliminar un elemento específico de un conjunto, **pero sin generar un error si el elemento no existe en el conjunto**. Es importante tener en cuenta que el método discard() solo elimina un elemento a la vez. "
   ]
  },
  {
   "cell_type": "code",
   "execution_count": null,
   "metadata": {},
   "outputs": [
    {
     "name": "stdout",
     "output_type": "stream",
     "text": [
      "El set 'alergenos1' contiene los siguientes elementos: {'Sulfitos', 'Cacahuetes', 'Leche', 'Frutos secos', 'Brocoli', 'Altramuces', 'Trigo', 'Mostaza', 'Crustáceos', 'Moluscos'}\n",
      "El set 'alergenos1' ANTES DE ELIMINAR UN ELEMENTO contiene  10 elementos\n",
      "--------------------------------\n",
      "\n",
      "El set 'alergenos1' DESPUÉS DE ELIMINAR 'Sulfitos' contiene los siguientes elementos: {'Cacahuetes', 'Leche', 'Frutos secos', 'Brocoli', 'Altramuces', 'Trigo', 'Mostaza', 'Crustáceos', 'Moluscos'}\n",
      "El set 'alergenos1' DESPUÉS DE HABER ELIMINADO 'Huevos' contiene  9 elementos\n",
      "--------------------------------\n",
      "\n"
     ]
    }
   ],
   "source": [
    "# en este caso usaremos el set alergenos2\n",
    "print(\"El set 'alergenos1' contiene los siguientes elementos:\", alergenos1)\n",
    "print(\"El set 'alergenos1' ANTES DE ELIMINAR UN ELEMENTO contiene \", len(alergenos1), \"elementos\")\n",
    "print(\"--------------------------------\\n\")\n",
    "\n",
    "# aplicamos la función '.remove()' incluyendo el elemento que queremos eliminar\n",
    "alergenos1.discard(\"Sulfitos\")\n",
    "print(\"El set 'alergenos1' DESPUÉS DE ELIMINAR 'Sulfitos' contiene los siguientes elementos:\", alergenos1)\n",
    "print(\"El set 'alergenos1' DESPUÉS DE HABER ELIMINADO 'Huevos' contiene \", len(alergenos1), \"elementos\")\n",
    "print(\"--------------------------------\\n\")\n"
   ]
  },
  {
   "cell_type": "code",
   "execution_count": null,
   "metadata": {},
   "outputs": [],
   "source": [
    "# A diferencia del .remove(), en el caso del .discard() si le pasamos un elemento que no esta en el set NO NOS DARÁ ERROR 👇\n",
    "alergenos1.discard(\"Patata\")"
   ]
  },
  {
   "cell_type": "markdown",
   "metadata": {},
   "source": [
    "## `.clear()`\n",
    "\n",
    "Es una función de los sets en Python que se utiliza para eliminar todos los elementos de un conjunto."
   ]
  },
  {
   "cell_type": "code",
   "execution_count": null,
   "metadata": {},
   "outputs": [
    {
     "name": "stdout",
     "output_type": "stream",
     "text": [
      "El set 'alergenos1' contiene los siguientes elementos: {'Sulfitos', 'Cacahuetes', 'Leche', 'Frutos secos', 'Brocoli', 'Altramuces', 'Trigo', 'Mostaza', 'Crustáceos', 'Moluscos'}\n",
      "El set 'alergenos2' DESPUÉS DE HABER  APLICADO EL MÉTODO clear() contiene los siguientes elementos: set()\n"
     ]
    }
   ],
   "source": [
    "# en este caso usaremos el set alergenos2\n",
    "print(\"El set 'alergenos1' contiene los siguientes elementos:\", alergenos1)\n",
    "\n",
    "# aplicamos la función '.clear()', que nos dejará el set vacío\n",
    "alergenos2.clear()\n",
    "print(\"El set 'alergenos2' DESPUÉS DE HABER  APLICADO EL MÉTODO clear() contiene los siguientes elementos:\", alergenos2)\n"
   ]
  },
  {
   "cell_type": "markdown",
   "metadata": {},
   "source": [
    "# Operaciones de conjuntos con sets\n",
    "\n",
    "Los sets en Python admiten una variedad de operaciones para manipular y comparar conjuntos o sets. A continuación, presentamos las operaciones más comunes que se pueden realizar con los sets en Python:\n",
    "\n",
    "- `Unión`: La unión de dos conjuntos se puede realizar utilizando el operador `|` o el método `union()`. Este operador y método retornan un nuevo conjunto que contiene todos los elementos únicos de ambos conjuntos. \n",
    "\n",
    "- `Intersección`: La intersección de dos conjuntos se puede realizar utilizando el operador `&` o el método `intersection()`. Este operador y método retornan un nuevo conjunto que contiene solo los elementos que están en ambos conjuntos. \n",
    "\n",
    "- `Diferencia`: La diferencia de dos conjuntos se puede realizar utilizando el operador `-` o el método `difference()`. Este operador y método retornan un nuevo conjunto que contiene los elementos que están en el primer conjunto pero no en el segundo conjunto. \n",
    "\n",
    "- `Diferencia simétrica`: La diferencia simétrica de dos conjuntos se puede realizar utilizando el operador `^` o el método `symmetric_difference()`. Este operador y método retornan un nuevo conjunto que contiene los elementos que están en uno de los conjuntos pero no en ambos. \n",
    "\n",
    "- `Elementos en común`: Este método se utiliza para verificar si dos conjuntos no tienen elementos en común. Para utilizar este método, se debe llamar al método `isdisjoint()` en uno de los conjuntos y pasar como argumento el otro conjunto. El método retorna un valor booleano True si los conjuntos son disjuntos (no tienen elementos en común) y False en caso contrario.\n",
    "\n",
    "- `Subset`: Este método se utiliza para verificar si un conjunto es un subconjunto de otro conjunto. Para utilizar este método, se debe llamar al método `issubset()` en el conjunto que se desea verificar y pasar como argumento el conjunto del que se desea verificar si es subconjunto. El método retorna un valor booleano True si el conjunto es un subconjunto y False en caso contrario.\n",
    "\n",
    "\n",
    "- `Superset`: Este método es utilizado para determinar si un conjunto (set) contiene a otro conjunto (set), es decir, si el primer conjunto es un superconjunto del segundo conjunto. Para utilizar el método `issuperset()`, se debe llamar a este método en un conjunto y pasar como argumento el otro conjunto que se desea verificar si es un subconjunto. El método devuelve un valor booleano True si el primer conjunto contiene a todos los elementos del segundo conjunto y devuelve False en caso contrario.\n"
   ]
  },
  {
   "cell_type": "markdown",
   "metadata": {},
   "source": [
    "## `.union()`\n",
    "\n",
    "Nos devuelve la unión entre los dos `sets` que le pasemos, es decir, los todos los elementos que están en los dos sets. "
   ]
  },
  {
   "cell_type": "code",
   "execution_count": null,
   "metadata": {},
   "outputs": [
    {
     "name": "stdout",
     "output_type": "stream",
     "text": [
      "El set1 contiene los siguientes elementos: {'c', 'b', 'a'}\n",
      "El set2 contiene los siguientes elementos: {'c', 'b', 'd'}\n",
      "------------------------------------------------\n",
      "\n",
      "Los elementos que tienen en común el ' set1' y el 'set2' son: {'c', 'b', 'd', 'a'}\n"
     ]
    }
   ],
   "source": [
    "# lo primero que hacemos es definir dos sets\n",
    "set1 = {'a','b','c'}\n",
    "set2 = {'b','c','d'}\n",
    "\n",
    "print(\"El set1 contiene los siguientes elementos:\", set1)\n",
    "print(\"El set2 contiene los siguientes elementos:\", set2)\n",
    "print(\"------------------------------------------------\\n\")\n",
    "\n",
    "# imaginemos que queremos unir todos los elementos que tienen los dos sets(), usaremos el método '.union()'- Fijaos como de nuevo seguimos sin tener elementos repetidos dentro del set resultado\n",
    "set_union = set1.union(set2)\n",
    "print(\"Todos los elementos de los ' set1' y el 'set2' son:\", set_union)"
   ]
  },
  {
   "cell_type": "markdown",
   "metadata": {},
   "source": [
    "## `.intersection()`\n",
    "\n",
    "Nos va  a devolver los elementos comunes en los dos `sets`\n"
   ]
  },
  {
   "cell_type": "code",
   "execution_count": null,
   "metadata": {},
   "outputs": [
    {
     "name": "stdout",
     "output_type": "stream",
     "text": [
      "El set1 contiene los siguientes elementos: {'c', 'b', 'a'}\n",
      "El set2 contiene los siguientes elementos: {'c', 'b', 'd'}\n",
      "------------------------------------------------\n",
      "\n",
      "Los elementos que tienen en común el ' set1' y el 'set2' son: {'c', 'b'}\n"
     ]
    }
   ],
   "source": [
    "print(\"El set1 contiene los siguientes elementos:\", set1)\n",
    "print(\"El set2 contiene los siguientes elementos:\", set2)\n",
    "print(\"------------------------------------------------\\n\")\n",
    "\n",
    "# imaginemos que queremos sacar solo aquellos elementos que están en común en los dos sets()\n",
    "set_interseccion = set1.intersection(set2)\n",
    "print(\"Los elementos que tienen en común el ' set1' y el 'set2' son:\", set_interseccion)"
   ]
  },
  {
   "cell_type": "markdown",
   "metadata": {},
   "source": [
    "## `.difference()`\n",
    "\n",
    "\n",
    "Nos va devolver los elementos que son diferentes entre los dos `sets` que tenemos. Aquí, el orden es importante. Por ejemplo: \n",
    "\n",
    "No es lo mismo restar `5 - 2` que `2 - 5`. \n",
    "\n",
    "**Es decir, nos devuelve los elementos presentes en un `set`, pero no en el otro.**"
   ]
  },
  {
   "cell_type": "code",
   "execution_count": null,
   "metadata": {},
   "outputs": [
    {
     "name": "stdout",
     "output_type": "stream",
     "text": [
      "El set1 contiene los siguientes elementos: {'c', 'b', 'a'}\n",
      "El set2 contiene los siguientes elementos: {'c', 'b', 'd'}\n",
      "------------------------------------------------\n",
      "\n",
      "Los elementos que están en el set1 pero no en el set2 son: {'a'}\n"
     ]
    }
   ],
   "source": [
    "print(\"El set1 contiene los siguientes elementos:\", set1)\n",
    "print(\"El set2 contiene los siguientes elementos:\", set2)\n",
    "print(\"------------------------------------------------\\n\")\n",
    "\n",
    "# ¿qué elementos tenemos en el set1 pero no en el set2?\n",
    "set_diferencia1 = set1.difference(set2)\n",
    "print(\"Los elementos que están en el set1 pero no en el set2 son:\", set_diferencia1)"
   ]
  },
  {
   "cell_type": "code",
   "execution_count": null,
   "metadata": {},
   "outputs": [
    {
     "name": "stdout",
     "output_type": "stream",
     "text": [
      "El set1 contiene los siguientes elementos: {'c', 'b', 'a'}\n",
      "El set2 contiene los siguientes elementos: {'c', 'b', 'd'}\n",
      "------------------------------------------------\n",
      "\n",
      "Los elementos que están en el set1 pero no en el set2 son: {'d'}\n"
     ]
    }
   ],
   "source": [
    "print(\"El set1 contiene los siguientes elementos:\", set1)\n",
    "print(\"El set2 contiene los siguientes elementos:\", set2)\n",
    "print(\"------------------------------------------------\\n\")\n",
    "\n",
    "# ¿qué elementos tenemos en el set2 pero no en el set1?\n",
    "set_diferencia2 = set2.difference(set1)\n",
    "print(\"Los elementos que están en el set1 pero no en el set2 son:\", set_diferencia2)"
   ]
  },
  {
   "cell_type": "markdown",
   "metadata": {},
   "source": [
    "## `.symmetric_difference()`\n",
    "\n",
    "Es similar al `.difference()` pero en este caso, este método nos devolverá los **elementos de ambos conjuntos, que no están presentes en el otro**. En este caso, nos va a devolver un set con los elementos que son únicos en cada uno de los `sets` que comparamos. Por lo tanto, en este caso, el orden ya no es importante."
   ]
  },
  {
   "cell_type": "code",
   "execution_count": null,
   "metadata": {},
   "outputs": [
    {
     "name": "stdout",
     "output_type": "stream",
     "text": [
      "El set1 contiene los siguientes elementos: {'c', 'b', 'a'}\n",
      "El set2 contiene los siguientes elementos: {'c', 'b', 'd'}\n",
      "------------------------------------------------\n",
      "\n",
      "Los elementos que aparecen en un set pero no en el otro son: {'a', 'd'}\n"
     ]
    }
   ],
   "source": [
    "print(\"El set1 contiene los siguientes elementos:\", set1)\n",
    "print(\"El set2 contiene los siguientes elementos:\", set2)\n",
    "print(\"------------------------------------------------\\n\")\n",
    "\n",
    "# que elementos son unicos del set1 y set2?\n",
    "set_diferencia_simetrica = set1.symmetric_difference(set2)\n",
    "print(\"Los elementos que aparecen en un set pero no en el otro son:\", set_diferencia_simetrica)"
   ]
  },
  {
   "cell_type": "markdown",
   "metadata": {},
   "source": [
    "## `.isdisjoint()`\n",
    "\n",
    "En algunos casos, los sets que queremos comparar no tienen ningún elemento en común. Como hemos dicho,  es utilizado para determinar si dos conjuntos (sets) son disjuntos, es decir, **si no tienen elementos en común**.\n",
    "\n",
    "Para utilizar el método `disjoint()`, se debe llamar a este método en un conjunto y pasar como argumento el otro conjunto que se desea comparar. El método devuelve un valor booleano True si los dos conjuntos son disjuntos (no tienen elementos en común) y devuelve False en caso contrario."
   ]
  },
  {
   "cell_type": "code",
   "execution_count": null,
   "metadata": {},
   "outputs": [
    {
     "name": "stdout",
     "output_type": "stream",
     "text": [
      "El set1 contiene los siguientes elementos: {'c', 'b', 'a'}\n",
      "El set2 contiene los siguientes elementos: {'c', 'b', 'd'}\n",
      "------------------------------------------------\n",
      "\n",
      "¿Tienen los sets los elementos completamente diferentes?: False\n"
     ]
    }
   ],
   "source": [
    "print(\"El set1 contiene los siguientes elementos:\", set1)\n",
    "print(\"El set2 contiene los siguientes elementos:\", set2)\n",
    "print(\"------------------------------------------------\\n\")\n",
    "\n",
    "set_disjoint1 = set1.isdisjoint(set2)\n",
    "print(\"¿Tienen los sets los elementos completamente diferentes?:\", set_disjoint1)\n",
    "\n",
    "# en este caso nos sale False porque los dos sets comparten al menos algún elemento. "
   ]
  },
  {
   "cell_type": "code",
   "execution_count": null,
   "metadata": {},
   "outputs": [
    {
     "name": "stdout",
     "output_type": "stream",
     "text": [
      "El set3 contiene los siguientes elementos: {'c', 'b'}\n",
      "El set4 contiene los siguientes elementos: {'d', 'a'}\n",
      "------------------------------------------------\n",
      "\n",
      "¿Tienen los sets los elementos completamente diferentes?: True\n"
     ]
    }
   ],
   "source": [
    "# definamos dos sets nuevos \n",
    "set3 = {'b', 'c'}\n",
    "set4 = {'a', 'd'}\n",
    "\n",
    "print(\"El set3 contiene los siguientes elementos:\", set3)\n",
    "print(\"El set4 contiene los siguientes elementos:\", set4)\n",
    "print(\"------------------------------------------------\\n\")\n",
    "\n",
    "# que elementos son unicos del set1 y set2?\n",
    "set_disjoint2 = set3.isdisjoint(set4)\n",
    "print(\"¿Tienen los sets los elementos completamente diferentes?:\", set_disjoint2)\n",
    "\n",
    "# en este caso nos devuelve True ya que niguno de los elementos en común. "
   ]
  },
  {
   "cell_type": "markdown",
   "metadata": {},
   "source": [
    "## `.issubset()`\n",
    "\n",
    "Si no son disjuntos, puede que todos los elementos de un set ya estén definidos en el otro: todos los mamíferos son animales, pero no todos los animales son mamíferos. Pues los mamíferos son un *subset*  de los animales, y como sinónimo los animales son un *superset* de los mamíferos. Ambos pueden ser comprobados usando los símbolos `<` y `>`. Empezamos con el `subset`:"
   ]
  },
  {
   "cell_type": "code",
   "execution_count": null,
   "metadata": {},
   "outputs": [
    {
     "name": "stdout",
     "output_type": "stream",
     "text": [
      "El set5 contiene los siguientes elementos: {'b', 'a', 'd'}\n",
      "El set6 contiene los siguientes elementos: {'d', 'a'}\n",
      "------------------------------------------------\n",
      "\n",
      "¿Están todos los elementos del set5 en el set6? Es decir, ¿todos los animales son mamíferos?: False\n"
     ]
    }
   ],
   "source": [
    "# definamos dos sets nuevos \n",
    "set5 = {\"a\", \"b\", \"d\"}\n",
    "set6 = {\"a\", \"d\"}\n",
    "\n",
    "print(\"El set5 contiene los siguientes elementos:\", set5)\n",
    "print(\"El set6 contiene los siguientes elementos:\", set6)\n",
    "print(\"------------------------------------------------\\n\")\n",
    "\n",
    "# que elementos son unicos del set1 y set2?\n",
    "set_issubset1 = set5.issubset(set6)\n",
    "print(\"¿Están todos los elementos del set5 en el set6? Es decir, ¿todos los animales son mamíferos?:\", set_issubset1)\n",
    "\n",
    "# en este caso nos devuelve False ya que no todos los elementos del set5 están contenidos en el set6"
   ]
  },
  {
   "cell_type": "code",
   "execution_count": null,
   "metadata": {},
   "outputs": [
    {
     "name": "stdout",
     "output_type": "stream",
     "text": [
      "El set5 contiene los siguientes elementos: {'b', 'a', 'd'}\n",
      "El set6 contiene los siguientes elementos: {'d', 'a'}\n",
      "------------------------------------------------\n",
      "\n",
      "¿Están todos los elementos del set6 en el set5? Es decir, ¿todos los mamíferos son animales?: True\n"
     ]
    }
   ],
   "source": [
    "# hagamos el ejemplo inverso\n",
    "print(\"El set5 contiene los siguientes elementos:\", set5)\n",
    "print(\"El set6 contiene los siguientes elementos:\", set6)\n",
    "print(\"------------------------------------------------\\n\")\n",
    "\n",
    "# que elementos son unicos del set1 y set2?\n",
    "set_issubset2 = set6.issubset(set5)\n",
    "print(\"¿Están todos los elementos del set6 en el set5? Es decir, ¿todos los mamíferos son animales?:\", set_issubset2)\n",
    "\n",
    "This comment is explaining the result of the previous line of code, which checks if all the elements in `set6` are also in `set5`. If this is true, it means that all mammals are animals, and therefore the result is `True`.\n",
    "# en este caso nos devuelve TRue ya que  todos los elementos del set6 están contenidos en el set5"
   ]
  },
  {
   "cell_type": "markdown",
   "metadata": {},
   "source": [
    "## `.issuperset()`\n",
    "\n",
    "Podríamos decir, que es la inversa del método anterior. "
   ]
  },
  {
   "cell_type": "code",
   "execution_count": null,
   "metadata": {},
   "outputs": [
    {
     "name": "stdout",
     "output_type": "stream",
     "text": [
      "El set5 contiene los siguientes elementos: {'b', 'a', 'd'}\n",
      "El set6 contiene los siguientes elementos: {'d', 'a'}\n",
      "------------------------------------------------\n",
      "\n",
      "¿Están todos los elementos del set6 en el set5?: True\n"
     ]
    }
   ],
   "source": [
    "print(\"El set5 contiene los siguientes elementos:\", set5)\n",
    "print(\"El set6 contiene los siguientes elementos:\", set6)\n",
    "print(\"------------------------------------------------\\n\")\n",
    "\n",
    "# que elementos son unicos del set1 y set2?\n",
    "set_issuperset1 = set5.issuperset(set6)\n",
    "print(\"¿Están todos los elementos del set6 en el set5?:\", set_issuperset1)\n"
   ]
  },
  {
   "cell_type": "code",
   "execution_count": null,
   "metadata": {},
   "outputs": [
    {
     "name": "stdout",
     "output_type": "stream",
     "text": [
      "El set5 contiene los siguientes elementos: {'b', 'a', 'd'}\n",
      "El set6 contiene los siguientes elementos: {'d', 'a'}\n",
      "------------------------------------------------\n",
      "\n",
      "¿Están todos los elementos del set5 en el set6?: False\n"
     ]
    }
   ],
   "source": [
    "print(\"El set5 contiene los siguientes elementos:\", set5)\n",
    "print(\"El set6 contiene los siguientes elementos:\", set6)\n",
    "print(\"------------------------------------------------\\n\")\n",
    "\n",
    "# que elementos son unicos del set1 y set2?\n",
    "set_issuperset1 = set6.issuperset(set5)\n",
    "print(\"¿Están todos los elementos del set5 en el set6?:\", set_issuperset1)\n"
   ]
  },
  {
   "cell_type": "markdown",
   "metadata": {
    "id": "5PcBreuKcX1-"
   },
   "source": [
    "\n",
    "---\n",
    "\n",
    "# Ejercicios:\n",
    "\n",
    "- Definir sets\n",
    "\n",
    "  1. Define la *lista* \n",
    "        ```python\n",
    "        temperaturas_diciembre = [10, 10, 13, 14, 12, 15, \n",
    "                                  12, 11, 13, 17, 18, 15, \n",
    "                                  15, 17, 17, 13, 13, 11,\n",
    "                                  12, 10, 12, 14, 12, 12,\n",
    "                                  11, 12, 16, 16, 14, 17, 18]\n",
    "        ```\n",
    "  2. Conviértala en un set  llamado `diciembre`.\n",
    "\n",
    "  3. Piensa en 6 colores y almacenalos en un set llamado `colores`.\n",
    "\n",
    "- Ampliar sets\n",
    "\n",
    "  4. Añade `'lila'` a `colores`.\n",
    "\n",
    "  5. Añade `'azul'`, `'rojo'`, y `'granate'` a `colores` usando `.update()`.\n",
    "\n",
    "- `in`, `not in`\n",
    "\n",
    "  6. Tu set de `colores`, ¿tiene `'verde'`?\n",
    "  \n",
    "  7. ¿Y tiene `'ROJO'`?\n",
    "\n",
    "\n",
    "- Copiar, borrar elementos\n",
    "\n",
    "  8. Define el set `enero` para que sea igual a `diciembre`.\n",
    "\n",
    "  9. Quita las temperaturas `17`, y `18` de `enero`.\n",
    "\n",
    "- Tamaño de un set\n",
    "\n",
    "  10. ¿Cuántas temperaturas distintas había en diciembre?\n",
    "  \n",
    "  11. ¿Y cuántas en enero?\n",
    "\n",
    "- Conjuntos con sets\n",
    "\n",
    "  12. Identifica los elementos que hay en `diciembre` que no están en `enero`.\n",
    "\n",
    "  13. Identifica los elementos que hay en `enero` que no están en `diciembre`.\n",
    "\n",
    "  14. Identifica los elementos que tienen en común `diciembre` y `enero`.\n",
    "\n",
    "  15. Identifica la diferencia simétrica de `colores` y `{'marrón','amarillo','cyan'}`. ¿Qué significa este resultado?\n",
    "\n",
    "- Comparar sets\n",
    "\n",
    "  16. ¿Son *disjoint* `diciembre` y `enero`? ¿Por qué (no)?\n",
    "\n",
    "  17. ¿Es `{'rojo','azul'}` un superset de colores?\n",
    "  \n",
    "  18. ¿Y un subset?\n",
    "\n",
    "---\n",
    "\n"
   ]
  },
  {
   "cell_type": "markdown",
   "metadata": {},
   "source": [
    "- Definir sets\n",
    "\n",
    "  1. Define la *lista* \n",
    "        ```python\n",
    "        temperaturas_diciembre = [10, 10, 13, 14, 12, 15, \n",
    "                                  12, 11, 13, 17, 18, 15, \n",
    "                                  15, 17, 17, 13, 13, 11,\n",
    "                                  12, 10, 12, 14, 12, 12,\n",
    "                                  11, 12, 16, 16, 14, 17, 18]\n",
    "        ```\n",
    "  2. Conviértala en un set  llamado `diciembre`.\n",
    "\n",
    "  3. Piensa en 6 colores y almacenalos en un set llamado `colores`.\n"
   ]
  },
  {
   "cell_type": "code",
   "execution_count": 1,
   "metadata": {},
   "outputs": [],
   "source": [
    "temperaturas_diciembre = [10, 10, 13, 14, 12, 15, \n",
    "                                  12, 11, 13, 17, 18, 15, \n",
    "                                  15, 17, 17, 13, 13, 11,\n",
    "                                  12, 10, 12, 14, 12, 12,\n",
    "                                  11, 12, 16, 16, 14, 17, 18]"
   ]
  },
  {
   "cell_type": "code",
   "execution_count": 2,
   "metadata": {},
   "outputs": [],
   "source": [
    "diciembre = {10, 10, 13, 14, 12, 15, \n",
    "                                  12, 11, 13, 17, 18, 15, \n",
    "                                  15, 17, 17, 13, 13, 11,\n",
    "                                  12, 10, 12, 14, 12, 12,\n",
    "                                  11, 12, 16, 16, 14, 17, 18}"
   ]
  },
  {
   "cell_type": "code",
   "execution_count": 3,
   "metadata": {},
   "outputs": [],
   "source": [
    "colores = {\"amarillo\", \"naranja\", \"verde\", \"marrón\", \"blanco\", \"negro\"}"
   ]
  },
  {
   "cell_type": "markdown",
   "metadata": {},
   "source": [
    "- Ampliar sets\n",
    "\n",
    "  4. Añade `'lila'` a `colores`.\n",
    "\n",
    "  5. Añade `'azul'`, `'rojo'`, y `'granate'` a `colores` usando `.update()`.\n",
    "\n",
    "- `in`, `not in`\n",
    "\n",
    "  6. Tu set de `colores`, ¿tiene `'verde'`?\n",
    "  \n",
    "  7. ¿Y tiene `'ROJO'`?"
   ]
  },
  {
   "cell_type": "code",
   "execution_count": 4,
   "metadata": {},
   "outputs": [],
   "source": [
    "colores.add(\"lila\")"
   ]
  },
  {
   "cell_type": "code",
   "execution_count": 5,
   "metadata": {},
   "outputs": [
    {
     "name": "stdout",
     "output_type": "stream",
     "text": [
      "{'granate', 'amarillo', 'marrón', 'rojo', 'verde', 'blanco', 'negro', 'naranja', 'lila', 'azul'}\n"
     ]
    }
   ],
   "source": [
    "actualizacion_colores = [\"azul\", \"rojo\", \"granate\"]\n",
    "colores.update(actualizacion_colores)\n",
    "print(colores)"
   ]
  },
  {
   "cell_type": "code",
   "execution_count": 6,
   "metadata": {},
   "outputs": [
    {
     "name": "stdout",
     "output_type": "stream",
     "text": [
      "¿Mi set tiene el color verde? False\n"
     ]
    }
   ],
   "source": [
    "print(\"¿Mi set tiene el color verde?\" , colores in [\"verde\"])"
   ]
  },
  {
   "cell_type": "code",
   "execution_count": 7,
   "metadata": {},
   "outputs": [
    {
     "name": "stdout",
     "output_type": "stream",
     "text": [
      "¿Mi set tiene el color ROJO? False\n"
     ]
    }
   ],
   "source": [
    "print(\"¿Mi set tiene el color ROJO?\" , colores in [\"ROJO\"]) #¿Aquí necesitaría que sepa de minusculas?"
   ]
  },
  {
   "cell_type": "markdown",
   "metadata": {},
   "source": [
    "- Copiar, borrar elementos\n",
    "\n",
    "  8. Define el set `enero` para que sea igual a `diciembre`.\n",
    "\n",
    "  9. Quita las temperaturas `17`, y `18` de `enero`.\n"
   ]
  },
  {
   "cell_type": "code",
   "execution_count": 8,
   "metadata": {},
   "outputs": [],
   "source": [
    "enero = diciembre.copy()"
   ]
  },
  {
   "cell_type": "code",
   "execution_count": 9,
   "metadata": {},
   "outputs": [],
   "source": [
    "enero.remove(17)"
   ]
  },
  {
   "cell_type": "code",
   "execution_count": 10,
   "metadata": {},
   "outputs": [],
   "source": [
    "enero.remove(18)"
   ]
  },
  {
   "cell_type": "code",
   "execution_count": 11,
   "metadata": {},
   "outputs": [
    {
     "name": "stdout",
     "output_type": "stream",
     "text": [
      "{10, 11, 12, 13, 14, 15, 16}\n"
     ]
    }
   ],
   "source": [
    "print(enero)"
   ]
  },
  {
   "cell_type": "markdown",
   "metadata": {},
   "source": [
    "- Tamaño de un set\n",
    "\n",
    "  10. ¿Cuántas temperaturas distintas había en diciembre?\n",
    "  \n",
    "  11. ¿Y cuántas en enero?"
   ]
  },
  {
   "cell_type": "code",
   "execution_count": 12,
   "metadata": {},
   "outputs": [
    {
     "name": "stdout",
     "output_type": "stream",
     "text": [
      "¿Cuántas temperaturas distintas hay en diciembre? 9\n"
     ]
    }
   ],
   "source": [
    "print(\"¿Cuántas temperaturas distintas hay en diciembre?\" , len(diciembre))"
   ]
  },
  {
   "cell_type": "code",
   "execution_count": 13,
   "metadata": {},
   "outputs": [
    {
     "name": "stdout",
     "output_type": "stream",
     "text": [
      "¿Cuántas temperaturas distintas hay en enero? 7\n"
     ]
    }
   ],
   "source": [
    "print(\"¿Cuántas temperaturas distintas hay en enero?\" , len(enero))"
   ]
  },
  {
   "cell_type": "markdown",
   "metadata": {},
   "source": [
    "- Conjuntos con sets\n",
    "\n",
    "  12. Identifica los elementos que hay en `diciembre` que no están en `enero`.\n",
    "\n",
    "  13. Identifica los elementos que hay en `enero` que no están en `diciembre`.\n",
    "\n",
    "  14. Identifica los elementos que tienen en común `diciembre` y `enero`.\n",
    "\n",
    "  15. Identifica la diferencia simétrica de `colores` y `{'marrón','amarillo','cyan'}`. ¿Qué significa este resultado?"
   ]
  },
  {
   "cell_type": "code",
   "execution_count": 14,
   "metadata": {},
   "outputs": [
    {
     "name": "stdout",
     "output_type": "stream",
     "text": [
      "Los elementos que están en el set1 pero no en el set2 son: {17, 18}\n"
     ]
    }
   ],
   "source": [
    "set_diferencia2 = diciembre.difference(enero)\n",
    "print(\"Los elementos que están en el set1 pero no en el set2 son:\", set_diferencia2)"
   ]
  },
  {
   "cell_type": "code",
   "execution_count": 15,
   "metadata": {},
   "outputs": [
    {
     "name": "stdout",
     "output_type": "stream",
     "text": [
      "Los elementos que están en el set1 pero no en el set2 son: set()\n"
     ]
    }
   ],
   "source": [
    "set_diferencia3 = enero.difference(diciembre)\n",
    "print(\"Los elementos que están en el set1 pero no en el set2 son:\", set_diferencia3)"
   ]
  },
  {
   "cell_type": "code",
   "execution_count": 16,
   "metadata": {},
   "outputs": [
    {
     "name": "stdout",
     "output_type": "stream",
     "text": [
      "Los elementos que tienen en común diciembre y enero son: {10, 11, 12, 13, 14, 15, 16}\n"
     ]
    }
   ],
   "source": [
    "set_interseccion1 = diciembre.intersection(enero)\n",
    "print(\"Los elementos que tienen en común diciembre y enero son:\", set_interseccion1)"
   ]
  },
  {
   "cell_type": "code",
   "execution_count": 17,
   "metadata": {},
   "outputs": [
    {
     "name": "stdout",
     "output_type": "stream",
     "text": [
      "Los elementos que aparecen en un set pero no en el otro son: {'naranja', 'granate', 'cyan', 'lila', 'rojo', 'verde', 'azul', 'blanco', 'negro'}\n"
     ]
    }
   ],
   "source": [
    "colores2 = {'marrón','amarillo','cyan'}\n",
    "set_diferencia_simetrica1 = colores.symmetric_difference(colores2)\n",
    "print(\"Los elementos que aparecen en un set pero no en el otro son:\", set_diferencia_simetrica1)"
   ]
  },
  {
   "cell_type": "markdown",
   "metadata": {},
   "source": [
    "- Comparar sets\n",
    "\n",
    "  16. ¿Son *disjoint* `diciembre` y `enero`? ¿Por qué (no)?\n",
    "\n",
    "  17. ¿Es `{'rojo','azul'}` un superset de colores?\n",
    "  \n",
    "  18. ¿Y un subset?"
   ]
  },
  {
   "cell_type": "code",
   "execution_count": 18,
   "metadata": {},
   "outputs": [
    {
     "name": "stdout",
     "output_type": "stream",
     "text": [
      "¿Tienen los sets los elementos completamente diferentes?: False\n"
     ]
    }
   ],
   "source": [
    "set_disjoint2 = diciembre.isdisjoint(enero)\n",
    "print(\"¿Tienen los sets los elementos completamente diferentes?:\", set_disjoint2)"
   ]
  },
  {
   "cell_type": "code",
   "execution_count": 19,
   "metadata": {},
   "outputs": [
    {
     "name": "stdout",
     "output_type": "stream",
     "text": [
      "¿Los sets son subset?: False\n"
     ]
    }
   ],
   "source": [
    "colores3 = {'rojo','azul'}\n",
    "set_superset2 = colores3.issuperset(colores)\n",
    "print(\"¿Los sets son subset?:\", set_superset2)"
   ]
  },
  {
   "cell_type": "code",
   "execution_count": 20,
   "metadata": {},
   "outputs": [
    {
     "name": "stdout",
     "output_type": "stream",
     "text": [
      "¿Los sets son subset?: True\n"
     ]
    }
   ],
   "source": [
    "set_issubset2 = colores3.issubset(colores)\n",
    "print(\"¿Los sets son subset?:\", set_issubset2)"
   ]
  }
 ],
 "metadata": {
  "interpreter": {
   "hash": "8560ba40f25f8debc3b21cfdc72602d7855270eb253b25380125fbd9b6cd3418"
  },
  "kernelspec": {
   "display_name": "Python 3 (ipykernel)",
   "language": "python",
   "name": "python3"
  },
  "language_info": {
   "codemirror_mode": {
    "name": "ipython",
    "version": 3
   },
   "file_extension": ".py",
   "mimetype": "text/x-python",
   "name": "python",
   "nbconvert_exporter": "python",
   "pygments_lexer": "ipython3",
   "version": "3.11.7"
  },
  "toc": {
   "base_numbering": 1,
   "nav_menu": {},
   "number_sections": true,
   "sideBar": true,
   "skip_h1_title": false,
   "title_cell": "Table of Contents",
   "title_sidebar": "Contents",
   "toc_cell": true,
   "toc_position": {
    "height": "calc(100% - 180px)",
    "left": "10px",
    "top": "150px",
    "width": "307.2px"
   },
   "toc_section_display": true,
   "toc_window_display": true
  }
 },
 "nbformat": 4,
 "nbformat_minor": 2
}
