{
 "cells": [
  {
   "cell_type": "markdown",
   "metadata": {
    "toc": true
   },
   "source": [
    "<h1>Table of Contents<span class=\"tocSkip\"></span></h1>\n",
    "<div class=\"toc\"><ul class=\"toc-item\"><li><span><a href=\"#Bucles-for\" data-toc-modified-id=\"Bucles-for-1\"><span class=\"toc-item-num\">1&nbsp;&nbsp;</span>Bucles <code>for</code></a></span><ul class=\"toc-item\"><li><span><a href=\"#Bucles-for-con-diccionarios:\" data-toc-modified-id=\"Bucles-for-con-diccionarios:-1.1\"><span class=\"toc-item-num\">1.1&nbsp;&nbsp;</span>Bucles <code>for</code> con diccionarios:</a></span></li></ul></li><li><span><a href=\"#Métodos-interesantes-para-los-for-loops\" data-toc-modified-id=\"Métodos-interesantes-para-los-for-loops-2\"><span class=\"toc-item-num\">2&nbsp;&nbsp;</span>Métodos interesantes para los for loops</a></span><ul class=\"toc-item\"><li><span><a href=\"#Range\" data-toc-modified-id=\"Range-2.1\"><span class=\"toc-item-num\">2.1&nbsp;&nbsp;</span>Range</a></span></li></ul></li><li><span><a href=\"#List-comprehensions\" data-toc-modified-id=\"List-comprehensions-3\"><span class=\"toc-item-num\">3&nbsp;&nbsp;</span>List comprehensions</a></span><ul class=\"toc-item\"><li><span><a href=\"#List-comprehension-con-bucles-for\" data-toc-modified-id=\"List-comprehension-con-bucles-for-3.1\"><span class=\"toc-item-num\">3.1&nbsp;&nbsp;</span><em>List comprehension</em> con bucles for</a></span></li><li><span><a href=\"#List-comprehension-con-if\" data-toc-modified-id=\"List-comprehension-con-if-3.2\"><span class=\"toc-item-num\">3.2&nbsp;&nbsp;</span><em>List comprehension</em> con <code>if</code></a></span></li><li><span><a href=\"#List-comprehension-con-if...-else\" data-toc-modified-id=\"List-comprehension-con-if...-else-3.3\"><span class=\"toc-item-num\">3.3&nbsp;&nbsp;</span><em>List comprehension</em> con <code>if</code>... <code>else</code></a></span></li><li><span><a href=\"#List-comprehension-con-dos-for\" data-toc-modified-id=\"List-comprehension-con-dos-for-3.4\"><span class=\"toc-item-num\">3.4&nbsp;&nbsp;</span><em>List comprehension</em> con dos <code>for</code></a></span></li></ul></li><li><span><a href=\"#Ejercicios\" data-toc-modified-id=\"Ejercicios-4\"><span class=\"toc-item-num\">4&nbsp;&nbsp;</span>Ejercicios</a></span></li></ul></div>"
   ]
  },
  {
   "cell_type": "markdown",
   "metadata": {},
   "source": [
    "# Bucles `for`"
   ]
  },
  {
   "cell_type": "markdown",
   "metadata": {},
   "source": [
    "En la clase de ayer aprendimos que había tres tipos de estructuras de *control flow*, las cuáles incluían:\n",
    "\n",
    "- **Estructuras de selección**: permiten al programa tomar decisiones y ejecutar diferentes secciones de código en función de una condición. La estructura de selección más común en Python es el bucle `if`, que ejecuta una sección de código si se cumple una condición y otra sección de código si no se cumple la condición.\n",
    "\n",
    "  ```python\n",
    "  - if \n",
    "    - if ... else ...\n",
    "    - if ... elif ... else\n",
    "  ```\n",
    "\n",
    "- **Estructuras de iteración**: permiten al programa repetir una sección de código varias veces. El bucle \"for\" es una estructura de iteración común en Python, que ejecuta una sección de código una vez para cada elemento de una lista o un rango de valores.\n",
    "\n",
    "  ```python\n",
    "  - for\n",
    "  - while\n",
    "  ```\n",
    "\n",
    "- **Estructuras de control de funciones**: permiten al programa llamar a una función y controlar el flujo de ejecución del programa dentro y fuera de la función. Por ejemplo, la estructura \"try/except\" permite al programa manejar errores dentro de una función y continuar ejecutando el código.\n",
    "\n",
    "  ```python\n",
    "  - break\n",
    "  - continue\n",
    "  - pass\n",
    "  ```\n",
    "\n",
    "En concreto ayer aprendimos las estructuras de selección y los bucles `while` de las estructuras de iteración. Hoy seguiremos profundizando en estas estructuras de iteración con los bucles `for`. En Python, un bucle `for` se utiliza para iterar sobre una secuencia de elementos, como una lista, una tupla, un diccionario o un conjunto, y realizar una acción en cada uno de ellos. La sintaxis básica de un bucle `for` en Python es la siguiente:\n",
    "\n",
    "```python\n",
    "for elemento in secuencia:\n",
    "    # hacer algo con el elemento\n",
    "```\n",
    "\n",
    "Donde: \n",
    "\n",
    "- `elemento`: será cada elemento de nuestro iterable. Lo podemos llamar elemento, i, brocoli o como queramos! \n",
    "\n",
    "- `secuencia`: será el elemento iterable(lista, tupla, diccionario, set, etc.) sobre el que queremos aplicar el `for`"
   ]
  },
  {
   "cell_type": "code",
   "execution_count": 3,
   "metadata": {},
   "outputs": [
    {
     "name": "stdout",
     "output_type": "stream",
     "text": [
      "La lista 'estaciones' contiene: ['primavera', 'verano', 'otoño', 'invierno']\n",
      "---------------------\n",
      "estamos accediendo al elemento primavera\n",
      "...........................\n",
      "estamos accediendo al elemento verano\n",
      "...........................\n",
      "estamos accediendo al elemento otoño\n",
      "...........................\n",
      "estamos accediendo al elemento invierno\n",
      "...........................\n"
     ]
    }
   ],
   "source": [
    "# creemos una lista donde tengamos 4 strings que correspondan a las 4 estaciones\n",
    "estaciones = ['primavera', 'verano', 'otoño', 'invierno']\n",
    "\n",
    "print(\"La lista 'estaciones' contiene:\", estaciones)\n",
    "print(\"---------------------\")\n",
    "\n",
    "# siguiendo la sintaxis de los bucles for, lo iniciamos usando las palabras reservadas for e in\n",
    "# 📌 fijaos como en este ejemplo, lo que en el ejemplo de la sintaxis llamamos como \"elemento\" aquí lo estamos llamando temporada \n",
    "for estacion in estaciones:\n",
    "\n",
    "    # con el for lo que estamos haciendo es acceder a cada uno de los elementos de la lista. Lo que estamos haciendo en las siguientes líneas de código es: \n",
    "\n",
    "    # 1. imprimir el elemento al que estamos accediendo de la lista\n",
    "    print(f\"estamos accediendo al elemento {estacion}\")\n",
    "\n",
    "    # 2. imprimir unas barras para que a la hora de visualizar los resultados del for se vea mejor. Esto no es normal hacerlo, es algo meramente educativo para que se vea más claro. \n",
    "    print(\"...........................\")"
   ]
  },
  {
   "cell_type": "markdown",
   "metadata": {},
   "source": [
    "Si recordamos de la clase de listas, podíamos acceder a los elementos de una lista usando la indexación con corchetes. Recordando la sintaxis sería así: \n",
    "\n",
    "```python\n",
    "milista[2] # accedemos al elemento que está en la posición 3. Recordemos que la indexación en python empieza en 0. \n",
    "\n",
    "milista[-1] # accedemos al último elememto de la lista\n",
    "```\n",
    "\n",
    "Pero... **¿Qué pasaría si usaramos un `for` usando la indexación de listas?**"
   ]
  },
  {
   "cell_type": "code",
   "execution_count": 10,
   "metadata": {},
   "outputs": [
    {
     "name": "stdout",
     "output_type": "stream",
     "text": [
      "La estación que está en tercera posición es: otoño\n",
      "Si iteramos por la variable 'estacion_3' nos devolverá...\n",
      "\n",
      "---------------------\n",
      "o\n",
      "................\n",
      "t\n",
      "................\n",
      "o\n",
      "................\n",
      "ñ\n",
      "................\n",
      "o\n",
      "................\n"
     ]
    }
   ],
   "source": [
    "# veamos cual es el tercer elemento de nuestra lista y almacenarlo en una variable\n",
    "\n",
    "estacion_3 = estaciones[2] # esto ya de por si es un único elemento. En este caso, otoño y es un string\n",
    "print(\"La estación que está en tercera posición es:\", estacion_3)\n",
    "print(\"Si iteramos por la variable 'estacion_3' nos devolverá...\\n\")\n",
    "print(\"---------------------\")\n",
    "\n",
    "for letra in estacion_3:\n",
    "    print(letra)\n",
    "    print(\"................\")"
   ]
  },
  {
   "cell_type": "markdown",
   "metadata": {},
   "source": [
    "Vaya... parece que cada elemento de nuestro *string*  es cada una de nuestras letras!!! Si nos fijamos, lo que esta haciendo el `for` es descomponer cada elemento de nuestro iterable.\n",
    "\n",
    "- En el caso de listas, tuplas y sets cada elemento de nuestra estructura de datos (o iterable) es cada uno de sus elementos. Para iterar por diccionarios lo haremos de una forma similar, pero con algunas peculiaridades, nos os preocupéis, lo veremos en esta lección. \n",
    "\n",
    "- En el caso de los *strings* cada elemento corresponde a cada una de las letras que compone el *string*. \n",
    "\n",
    "Al igual que en los condicionales (`if ... elif ... else`), o los bucles `while`, los bucles sirven para algo más que para hacer *print*, podremos hacer operaciones con los elementos resultado de la iteración. En este caso vamos a iterar por una lista de números que definiremos a continuación.  Por otro lado, nos crearemos una lista vacía donde iremos añadiendo cada elemento de la lista original pero sumándole 1. "
   ]
  },
  {
   "cell_type": "code",
   "execution_count": 16,
   "metadata": {},
   "outputs": [
    {
     "name": "stdout",
     "output_type": "stream",
     "text": [
      "La lista 'lista_numeros' contiene: [1, 2, 4, 8, 16]\n",
      "---------------------\n",
      "La lista 'numeros_sumados': []\n",
      "---------------------\n",
      "\n",
      "el número al que estamos accediendo es 1\n",
      "[2]\n",
      "............................\n",
      "el número al que estamos accediendo es 2\n",
      "[2, 3]\n",
      "............................\n",
      "el número al que estamos accediendo es 4\n",
      "[2, 3, 5]\n",
      "............................\n",
      "el número al que estamos accediendo es 8\n",
      "[2, 3, 5, 9]\n",
      "............................\n",
      "el número al que estamos accediendo es 16\n",
      "[2, 3, 5, 9, 17]\n",
      "............................\n"
     ]
    }
   ],
   "source": [
    "# definimos nuestra lista de números\n",
    "lista_numeros = [1, 2, 4, 8, 16]\n",
    "print(\"La lista 'lista_numeros' contiene:\", lista_numeros)\n",
    "print(\"---------------------\")\n",
    "\n",
    "# nos creamos una lista vacía\n",
    "numeros_sumados = []\n",
    "print(\"La lista 'numeros_sumados':\", numeros_sumados)\n",
    "print(\"---------------------\\n\")\n",
    "\n",
    "# iniciamos nuestro bucle for iterando por nuestra lista de numeros. Donde numero será cada unos de números que tenemos en la lista. Primero será 1, luego 2, luego 4, luego 8 y por último 16\n",
    "for numero in lista_numeros :\n",
    "\n",
    "    # printemos el número al que estamos accediendo\n",
    "    print(f\"el número al que estamos accediendo es {numero}\")\n",
    "\n",
    "    # al elemento al que estamos accediendo le sumamos uno y lo almacenamos en una variable\n",
    "    suma = numero + 1\n",
    "\n",
    "    # añadimos el nuevo número a nuestra lista vacía numeros_sumados\n",
    "    numeros_sumados.append(suma)\n",
    "\n",
    "    # a medida que vamos avanzando en la iteración vamos printeando los resultados de la lista numeros_sumados\n",
    "    print(numeros_sumados)\n",
    "    print(\"............................\")"
   ]
  },
  {
   "cell_type": "markdown",
   "metadata": {},
   "source": [
    "Veamos que son todos esos *print* que nos a devuelto el for. Nuestra lista era la siguiente\n",
    "\n",
    "```python\n",
    "lista_numeros = [1, 2, 4, 8, 16]\n",
    "```\n",
    "\n",
    "- Lo primero que nos devuelve el for es el print del elemento al que estamos accediendo. En nuestro caso el número **1**. Despúes ocurren una serie de operaciones, en nuestro caso la suma de dicho elemento + 1. Después lo añadimos a nuestra lista vacía y por último *printeamos* como es nuestra lista. En esta primera iteración, la lista solo tiene un elemento, el cuál es el resultado de sumar `1 + 1`. \n",
    "\n",
    "- Una vez terminada la primera iteración, el bucle *for* vuelve al inicio, pero en este caso accede al segundo elemento, en este caso el número **2**. Después se suma y se apendea a la lista. Y si nos fijamos, cuando volvemos a *printear* la lista `numeros_sumados` vemos que nuestra lista ahora tiene dos elementos, el que añadimos en la iteración anterior y el resultado de sumar `2 + 1`.\n",
    "\n",
    "- Esta misma operación se va a repetir para cada elemento de nuestra lista y el código parará cuando llegue al último elemento.\n",
    "\n",
    "Vemos que: \n",
    "\n",
    "- Las dos listas tienen el mismo número de elementos\n",
    "\n",
    "- La lista de `numeros_sumados` tiene los mismos elementos que la lista original a los que le sumamos 1. "
   ]
  },
  {
   "cell_type": "markdown",
   "metadata": {},
   "source": [
    "Veamos otros ejemplos con `for` para ir familiarizándonos con el bucle `for`. En este caso, tendremos una lista de ciudades, y queremos imprimir cada una de ellas. Además vamos a querer crearnos una lista con las ciudades en mayúsculas. "
   ]
  },
  {
   "cell_type": "code",
   "execution_count": 22,
   "metadata": {},
   "outputs": [
    {
     "name": "stdout",
     "output_type": "stream",
     "text": [
      "Las ciudades que tenemos en nuestra lista son: ['Madrid', 'Leon', 'Soria', 'Valencia', 'Ciudad Real']\n",
      "-----------------------------------------\n",
      "El contenido de la lista 'ciudades_mayusculas' contiene: []\n",
      "-----------------------------------------\n",
      "Estamos interando por la ciudad Madrid\n",
      "Estamos interando por la ciudad Leon\n",
      "Estamos interando por la ciudad Soria\n",
      "Estamos interando por la ciudad Valencia\n",
      "Estamos interando por la ciudad Ciudad Real\n",
      "------------------------------\n",
      "El contenido de la lista 'ciudades_mayusculas' DESPUÉS DEL BUCLE FOR contiene: ['MADRID', 'LEON', 'SORIA', 'VALENCIA', 'CIUDAD REAL']\n",
      "Y voilá! Ya tenemos una lista nueva con todas las ciudades en mayúsculas 🎊. \n"
     ]
    }
   ],
   "source": [
    "# lo primero que hacemos es crearnos nuestra lista de ciudades\n",
    "ciudades = [\"Madrid\", \"Leon\", \"Soria\", \"Valencia\", \"Ciudad Real\"]\n",
    "print(\"Las ciudades que tenemos en nuestra lista son:\", ciudades)\n",
    "print(\"-----------------------------------------\")\n",
    "\n",
    "# en segundo lugar creamos una lista vacía donde almancenaremos las ciudades de la lista anterior en mayúscula\n",
    "ciudades_mayusculas = []\n",
    "print(\"El contenido de la lista 'ciudades_mayusculas' contiene:\", ciudades_mayusculas)\n",
    "print(\"-----------------------------------------\")\n",
    "\n",
    "# iniciamos el for\n",
    "for ciudad in ciudades:\n",
    "    # sacamos por pantalla la ciudad por la que estamos interando\n",
    "    print(f\"Estamos interando por la ciudad {ciudad}\")\n",
    "\n",
    "    # si recordamos antes, nos creamos una variable donde sumamos un valor a nuestro iterable. Este paso lo podemos obviar y añadirlo directamente a la lista, como vamos a hacer en este caso. \n",
    "    ciudades_mayusculas.append(ciudad.upper())\n",
    "\n",
    "\n",
    "print(\"------------------------------\")\n",
    "print(\"El contenido de la lista 'ciudades_mayusculas' DESPUÉS DEL BUCLE FOR contiene:\", ciudades_mayusculas)\n",
    "\n",
    "print(\"Y voilá! Ya tenemos una lista nueva con todas las ciudades en mayúsculas 🎊. \")\n"
   ]
  },
  {
   "cell_type": "markdown",
   "metadata": {},
   "source": [
    "Incluso podemos hacer que los resultados vayan a listas diferentes. Imaginemos que ahora queremos dividir nuestras ciudad en función de su longitud, es decir, del número de letras que tiene cada una. De esta forma acabaremos teniendo dos listas, una con las ciudades de longitud menor a 5 y otra con las ciudades de longitud mayor a 5."
   ]
  },
  {
   "cell_type": "code",
   "execution_count": 26,
   "metadata": {},
   "outputs": [
    {
     "name": "stdout",
     "output_type": "stream",
     "text": [
      "El contenido de la lista 'ciudades_pequeñas' contiene: []\n",
      "-----------------------------------------\n",
      "El contenido de la lista 'ciudades_grandes' contiene: []\n",
      "-----------------------------------------\n",
      "Las ciudades pequeñas son:  ['Leon', 'Soria']\n",
      "Las ciudades grandes son:  ['Madrid', 'Valencia', 'Ciudad Real']\n"
     ]
    }
   ],
   "source": [
    "# nos creamos dos listas, una de ciudades_pequeñas y otra de ciudades_grandes\n",
    "ciudades_pequeñas = []\n",
    "ciudades_grandes = []\n",
    "\n",
    "print(\"El contenido de la lista 'ciudades_pequeñas' contiene:\", ciudades_pequeñas)\n",
    "print(\"-----------------------------------------\")\n",
    "print(\"El contenido de la lista 'ciudades_grandes' contiene:\", ciudades_grandes)\n",
    "print(\"-----------------------------------------\")\n",
    "\n",
    "# iniciamos nuestro for para iterar por la lista de ciudades y acceder a cada una de ellas: \n",
    "for ciudad in ciudades:\n",
    "\n",
    "    # como estamos viendo dentro de un for podemos hacer lo que se nos ocurra. En este vamos a incluir condicionales. \n",
    "\n",
    "    # si la longitud de la ciudad a la que estamos accediendo es menor o igual a 5 lo añadiremos a la lista de ciudades pequeñas. En este caso, llamamos \"ciud\" a cada uno de los elementos de la lista ciudades pero recordad que lo podemos llamar de cualquier forma\n",
    "    if len(ciudad) < 6:\n",
    "        ciudades_pequeñas.append(ciudad)\n",
    "\n",
    "    # en caso de que no se cumpla la condición definida previamente, lo añadiremos a la lista de ciudades grandes\n",
    "    else:\n",
    "        ciudades_grandes.append(ciudad)\n",
    "# veamos ahora como han quedado nuestras listas\n",
    "\n",
    "print(\"Las ciudades pequeñas son: \", ciudades_pequeñas) # tendremos las ciudades que tengan menos de 6 caracteres\n",
    "print(\"Las ciudades grandes son: \", ciudades_grandes) # tendremos las ciudades que tengan más de 6 caracteres"
   ]
  },
  {
   "cell_type": "markdown",
   "metadata": {},
   "source": [
    "## Bucles `for` con diccionarios: \n",
    "\n",
    "📌 **Como hemos mencionado al inicio de este jupyter, la interación por listas, tuplas y sets se hará de la misma forma**, pero... hemos comentado que con los diccionarios había algunas peculiaridades. Veámoslo en más detalle: \n",
    "\n"
   ]
  },
  {
   "cell_type": "code",
   "execution_count": 29,
   "metadata": {},
   "outputs": [
    {
     "name": "stdout",
     "output_type": "stream",
     "text": [
      "El diccionario 'diccionario_compra' contiene {'Brocoli': 2.45, 'Chorizo': 45, 'Zanahoria': 7, 'Arroz': 1.2, 'Pan': 0.95}\n",
      "-------------------------------\n",
      "Brocoli\n",
      "Chorizo\n",
      "Zanahoria\n",
      "Arroz\n",
      "Pan\n",
      "Vale... parece que si iteramos como hemos aprendido hasta ahora solo accedemos a las *keys* de nuestro diccionario. Pero... 🤔 ¿Qué pasaría si quisieramos acceder a los *values*? Recordáis el método `.values()` de los diccionarios?\n"
     ]
    }
   ],
   "source": [
    "# lo primero que vamos a hacer es definir un diccionario:\n",
    "\n",
    "diccionario_compra = {'Brocoli': 2.45, \n",
    "       'Chorizo': 45,\n",
    "       'Zanahoria': 7, \n",
    "       'Arroz': 1.2, \n",
    "       'Pan': 0.95}\n",
    "\n",
    "print(\"El diccionario 'diccionario_compra' contiene\", diccionario_compra)\n",
    "print(\"-------------------------------\")\n",
    "\n",
    "# que pasaría si usamos un for para iterar por el diccionario? \n",
    "for i in diccionario_compra: # fijaos como ahora al iterable lo hemos llamado \"i\"\n",
    "    print(i)\n",
    "    \n",
    "print(\"Vale... parece que si iteramos como hemos aprendido hasta ahora solo accedemos a las *keys* de nuestro diccionario. Pero... 🤔 ¿Qué pasaría si quisieramos acceder a los *values*? Recordáis el método `.values()` de los diccionarios?\")"
   ]
  },
  {
   "cell_type": "code",
   "execution_count": 34,
   "metadata": {},
   "outputs": [
    {
     "name": "stdout",
     "output_type": "stream",
     "text": [
      "El método '.values()' de los diccionarios nos devuelve los valores de nuestro diccionario, en este caso son: dict_values([2.45, 45, 7, 1.2, 0.95])\n",
      "-------------------------\n",
      "\n",
      "2.45\n",
      "........\n",
      "45\n",
      "........\n",
      "7\n",
      "........\n",
      "1.2\n",
      "........\n",
      "0.95\n",
      "........\n"
     ]
    }
   ],
   "source": [
    "# veamos que era los que nos devolvía este método\n",
    "print(\"El método '.values()' de los diccionarios nos devuelve los valores de nuestro diccionario, en este caso son:\", diccionario_compra.values())\n",
    "print(\"-------------------------\\n\")\n",
    "#Genial!!! Hemos conseguido acceder a los valores, en este momento la lógica nos podría decir podríamos iterar por esos values! Veamos que pasa!! \n",
    "for i in diccionario_compra.values():\n",
    "    print(i)\n",
    "    print(\"........\")"
   ]
  },
  {
   "cell_type": "markdown",
   "metadata": {},
   "source": [
    "Estupendo!!! Hemos conseguido acceder tanto a las claves como a los valores de nuestro diccionario. Pero vayamos un paso más allá! ¿Y si quisieramos acceder a las *keys* y *values* del diccionario a la vez? Este es el momento de recordar de nuevo! Os acordáis del método `.items()` de los diccionarios? Recordemos que es lo que nos devolvía 👇🏼: "
   ]
  },
  {
   "cell_type": "code",
   "execution_count": 37,
   "metadata": {},
   "outputs": [
    {
     "name": "stdout",
     "output_type": "stream",
     "text": [
      "El método '.items()' de los diccionarios nos devuelve una lista de tuplas con las claves y los valores de nuestro diccionario, en este caso son: dict_items([('Brocoli', 2.45), ('Chorizo', 45), ('Zanahoria', 7), ('Arroz', 1.2), ('Pan', 0.95)])\n",
      "-------------------------\n",
      "\n",
      "Brocoli ----> 2.45\n",
      "Chorizo ----> 45\n",
      "Zanahoria ----> 7\n",
      "Arroz ----> 1.2\n",
      "Pan ----> 0.95\n"
     ]
    }
   ],
   "source": [
    "print(\"El método '.items()' de los diccionarios nos devuelve una lista de tuplas con las claves y los valores de nuestro diccionario, en este caso son:\", diccionario_compra.items())\n",
    "print(\"-------------------------\\n\")\n",
    "\n",
    "# iteremos ahora con el método .items(), para el cual deberemos generar dos iterables (key, value)\n",
    "for key, value in diccionario_compra.items():\n",
    "    print(key, \"---->\", value)"
   ]
  },
  {
   "cell_type": "markdown",
   "metadata": {},
   "source": [
    "**¿Qué es lo que ha pasado?** \n",
    "\n",
    "1. Hemos usado dos palabras en nuestro `for`: `keys` y `values`. Hemos puesto *key* y *values* para que sea más intuitivo, pero recordad que podemos poner lo que queramos! \n",
    "\n",
    "2. Hemos usado el método `.items()` para obtener un objeto de tipo `dict_items` y acceder a todas las *keys* y *values* de nuestro diccionario.\n",
    "   \n",
    "3. Hemos hecho un *print*  para que nos muestre las *keys* y *values* de nuestro diccionario."
   ]
  },
  {
   "cell_type": "code",
   "execution_count": 38,
   "metadata": {},
   "outputs": [
    {
     "ename": "ValueError",
     "evalue": "too many values to unpack (expected 2)",
     "output_type": "error",
     "traceback": [
      "\u001b[0;31m---------------------------------------------------------------------------\u001b[0m",
      "\u001b[0;31mValueError\u001b[0m                                Traceback (most recent call last)",
      "Cell \u001b[0;32mIn[38], line 2\u001b[0m\n\u001b[1;32m      1\u001b[0m \u001b[39m# ojo! Si no le añadimos el .items() nos dara error si le pasamos dos itereables en el for   \u001b[39;00m\n\u001b[0;32m----> 2\u001b[0m \u001b[39mfor\u001b[39;00m key,value \u001b[39min\u001b[39;00m diccionario_compra:\n\u001b[1;32m      3\u001b[0m     \u001b[39mprint\u001b[39m(key,value)\n",
      "\u001b[0;31mValueError\u001b[0m: too many values to unpack (expected 2)"
     ]
    }
   ],
   "source": [
    "# ojo! Si no le añadimos el .items() nos dara error si le pasamos dos itereables en el for   \n",
    "for key,value in diccionario_compra:\n",
    "    print(key,value)\n"
   ]
  },
  {
   "cell_type": "markdown",
   "metadata": {},
   "source": [
    "El error no está diciendo `ValueError: too many values to unpack (expected 2)`, es decir, que hemos intentado iterar por dos elementos, pero solo tenemos uno, que por defecto en los diccionarios son las *keys*.\n",
    "\n",
    "De la misma forma que en todos los ejemplos con listas, los `for` con diccionarios nos sirven para hacer más cosas que hacer *print*. Supongamos que vamos a hacer la compra, nos hemos dejado la cartera en casa y solo llevamos dos euros. En esta situación solo podremos comprar productos que estén por debajo de este precio. ¿Cómo seleccionariamos esos productos usando Python?"
   ]
  },
  {
   "cell_type": "code",
   "execution_count": 48,
   "metadata": {},
   "outputs": [
    {
     "name": "stdout",
     "output_type": "stream",
     "text": [
      "El diccionario 'diccionario_compra' contiene {'Brocoli': 2.45, 'Chorizo': 45, 'Zanahoria': 7, 'Arroz': 1.2, 'Pan': 0.95}\n",
      "-------------------------------\n",
      "Recordemos que si queremos saber lo que cuesta el brocoli deberemos usar la siguiente sintaxis diccionario_compra[UNA_CALVE], lo cual nos devovlerá el valor de la clave especificada entre corchetes, en este caso sacaremos el precio del brocoli 2.45\n",
      "-------------------------------\n",
      "La lista de 'dos_euros' contiene: []\n",
      "-------------------------------\n",
      "La lista de 'dos_euros' DESPUÉS DEL BUCLE FOR contiene: ['Arroz', 'Pan']\n",
      "-------------------------------\n"
     ]
    }
   ],
   "source": [
    "print(\"El diccionario 'diccionario_compra' contiene\", diccionario_compra)\n",
    "print(\"-------------------------------\")\n",
    "\n",
    "print(\"Recordemos que si queremos saber lo que cuesta el brocoli deberemos usar la siguiente sintaxis diccionario_compra[UNA_CALVE], lo cual nos devovlerá el valor de la clave especificada entre corchetes, en este caso sacaremos el precio del brocoli\", diccionario_compra[\"Brocoli\"])\n",
    "print(\"-------------------------------\")\n",
    "\n",
    "\n",
    "# lo primero que hacemos es crearnos una lista donde almacenaremos los resultados, es decir, los productos que cuesten menos de dos euros\n",
    "dos_euros = []\n",
    "print(\"La lista de 'dos_euros' contiene:\", dos_euros)\n",
    "print(\"-------------------------------\")\n",
    "\n",
    "\n",
    "# empezamos a iterar por nuestro diccionario de la lista de la compra:\n",
    "for k, v in diccionario_compra.items():\n",
    "\n",
    "    # lo siguiente que haremos será buscar aquellas keys, para las cuales sus values sean menores de dos. \n",
    "\n",
    "    # usando la sintaxis que ya conocemos para acceder a elementos de un diccionario, que recordamos un par de celdas arriba, podemos acceder a cada una de las keys y values de nuestro diccionario.\n",
    "    # de esta forma, lo que en nuestro ejemplo de arriba era \"Brocoli\", dentro del for correspondera a \"k\". \n",
    "    if diccionario_compra[k] < 2: \n",
    "\n",
    "        # en caso de que la condición se cumpla, añadiremos la key a nuestra lista dos_euros\n",
    "        dos_euros.append(k) \n",
    "        \n",
    "print(\"La lista de 'dos_euros' DESPUÉS DEL BUCLE FOR contiene:\", dos_euros)\n",
    "print(\"-------------------------------\")\n"
   ]
  },
  {
   "cell_type": "markdown",
   "metadata": {
    "id": "aCLnA8lRcX2F"
   },
   "source": [
    "\n",
    "\n",
    "---\n"
   ]
  },
  {
   "cell_type": "markdown",
   "metadata": {},
   "source": [
    "# Métodos interesantes para los for loops\n",
    "\n",
    "## Range\n",
    "\n",
    "El método range es una función incorporada en Python que se utiliza para generar una secuencia de números enteros. Esta secuencia se puede utilizar para iterar en un bucle for o para crear una lista de números.\n",
    "\n",
    "La sintaxis básica del método range es la siguiente:\n",
    "\n",
    "```python\n",
    "range(start, stop, step)\n",
    "\n",
    "```\n",
    "\n",
    "Donde:\n",
    "\n",
    "- `start`: Es el número inicial de la secuencia (inclusive). Por defecto, el valor de start es 0.\n",
    "\n",
    "- `stop`: Es el número final de la secuencia (exclusivo). Es decir, la secuencia terminará en stop-1. Este parámetro es obligatorio.\n",
    "\n",
    "- `step`: Es el incremento que se utilizará para generar los números de la secuencia. Por defecto, el valor de step es 1."
   ]
  },
  {
   "cell_type": "code",
   "execution_count": 51,
   "metadata": {},
   "outputs": [
    {
     "name": "stdout",
     "output_type": "stream",
     "text": [
      "Los numeros generados por el 'range' son: range(0, 3)\n",
      "------------------------------\n",
      "0\n",
      "1\n",
      "2\n"
     ]
    }
   ],
   "source": [
    "# usemos el método range para generar números del 0 al 2. \n",
    "## Como dijimos en la celda anterior, si quiero llegar hasta el 2, en el range tendré que especificar donde quiero empezar 0 y terminar (teniendo el cuenta que tengo que poner mi_limite + 1 )\n",
    "numeros = range(0, 3)\n",
    "print(\"Los numeros generados por el 'range' son:\", numeros)\n",
    "print(\"------------------------------\")\n",
    "# Ups... parece que esto no nos devuelve una lista como tal. Pero... ¿podremos iterar por ese elemento? Veámoslo con un ejemplo: \n",
    "\n",
    "# iniciamos el for, en este caso, en vez de pasarle una variable le pasamos el range\n",
    "for x in range(3): # recordemos que no poner el 0 y ponerlo es lo mismo ya que por defecto empieza en 0\n",
    "    # printemos cada uno de los elementos del objeto range\n",
    "    print(x)"
   ]
  },
  {
   "cell_type": "markdown",
   "metadata": {},
   "source": [
    "**Qué es lo que nos está devolviendo este `for`?** \n",
    "\n",
    "Cada uno de los elementos del objeto `range`, en este caso números del 0 al 2, ambos inclusive. "
   ]
  },
  {
   "cell_type": "code",
   "execution_count": 33,
   "metadata": {},
   "outputs": [
    {
     "name": "stdout",
     "output_type": "stream",
     "text": [
      "2\n",
      "3\n",
      "4\n",
      "5\n",
      "6\n"
     ]
    }
   ],
   "source": [
    "# si definimos un range con un inicio distinto a 0\n",
    "for x in range(2,7):\n",
    "    print(x)"
   ]
  },
  {
   "cell_type": "markdown",
   "metadata": {},
   "source": [
    "Si nos fijamos nuestro *range* ha empezado en el 2 y terminado en el 6, nos ha generado números consecutivos de 2 a 6. Como hemos visto, en el `range()` podemos pasar un tercer parámetro. Este parámetro corresponde con los *steps* o saltos que queremos en nuestra secuencia de números. Veamos algunos ejemplos para entender esto mejor:  "
   ]
  },
  {
   "cell_type": "code",
   "execution_count": 34,
   "metadata": {},
   "outputs": [
    {
     "name": "stdout",
     "output_type": "stream",
     "text": [
      "0\n",
      "2\n",
      "4\n",
      "6\n",
      "8\n"
     ]
    }
   ],
   "source": [
    "# si queremos que se nos genere un secuencia de números del 0 al 10, con saltos de 2 podríamos hacer lo siguiente:\n",
    "for x in range(0,10,2):\n",
    "    print(x)"
   ]
  },
  {
   "cell_type": "markdown",
   "metadata": {},
   "source": [
    "Si nos fijamos, en este caso se nos han generado números desde el 0 al 9, con saltos de 2 en 2. Es decir, nos hemos quedado con números pares. ¿Y si lo quisieramos hacer para sacar los números impares?"
   ]
  },
  {
   "cell_type": "code",
   "execution_count": 35,
   "metadata": {},
   "outputs": [
    {
     "name": "stdout",
     "output_type": "stream",
     "text": [
      "1\n",
      "3\n",
      "5\n",
      "7\n",
      "9\n"
     ]
    }
   ],
   "source": [
    "for i in range(1, 11, 2):\n",
    "    print(i)"
   ]
  },
  {
   "cell_type": "markdown",
   "metadata": {},
   "source": [
    "Aunque *a priori*  no le veamos mucho uso a este método es importante que lo guardeis en vuestras recamaras, ya que será un método que usaremos de forma recurrente a lo largo del *bootcamp*."
   ]
  },
  {
   "cell_type": "markdown",
   "metadata": {
    "id": "aCLnA8lRcX2F"
   },
   "source": [
    "\n",
    "\n",
    "---\n"
   ]
  },
  {
   "cell_type": "markdown",
   "metadata": {},
   "source": [
    "# List comprehensions\n",
    "Las list comprehension en Python son una forma compacta y elegante de crear listas a partir de otras listas o iterables. Es decir, nos permiten crear nuevas listas en una sola línea de código.\n",
    "\n",
    "> Podríamos decir que las *list comprehension* son una forma de crear listas de una manera elegante y simplificada (en una línea de código). \n",
    "\n",
    "La ventaja de utilizarlas: \n",
    "\n",
    "- Son relativamente más rápidas que los bucles for.\n",
    "\n",
    "- La sintaxis de las comprensiones de lista es más fácil de leer y entender.\n",
    "\n",
    "\n",
    "La sintaxis que seguiremos en este tipo de aproximaciones es: \n",
    "\n",
    "![list](https://github.com/Adalab/data_imagenes/blob/main/Modulo-1/python/list_comprehension.png?raw=true)"
   ]
  },
  {
   "cell_type": "markdown",
   "metadata": {},
   "source": [
    "## *List comprehension* con bucles for"
   ]
  },
  {
   "cell_type": "markdown",
   "metadata": {},
   "source": [
    "Veamos un ejercicio sencillo para entender como funciona de una forma práctica. Imaginemos que tenemos una lista de números del 0 al 5000 (la crearemos con un `range` como hemos aprendido), y queremos crearnos una lista nueva con los mismo números pero en este caso querremos los números elevados al cuadrado. "
   ]
  },
  {
   "cell_type": "code",
   "execution_count": 57,
   "metadata": {},
   "outputs": [
    {
     "name": "stdout",
     "output_type": "stream",
     "text": [
      "La lista con los cuadrados de los números contiene: []\n",
      "--------------------------------\n",
      "La lista DESPUÉS DEL BUCLE FOR contiene, notad como solo hemos mostrado los primeros elementos para simplificar el output: [0, 1, 4, 9, 16, 25, 36, 49, 64, 81, 100, 121, 144, 169, 196, 225, 256, 289, 324, 361]\n"
     ]
    }
   ],
   "source": [
    "# con un for loop como hemos aprendido hasta ahora \n",
    "# creamos una lista vacía donde iremos añadiendo cada nuevo valor\n",
    "cuadrado = []\n",
    "print(\"La lista con los cuadrados de los números contiene:\", cuadrado)\n",
    "print(\"--------------------------------\")\n",
    "\n",
    "# iniciamos nuestro for sobre la lista de números que crearemos con un for: \n",
    "for num in range(5000000):\n",
    "\n",
    "    # apendeamos a la lista nueva \"cuadrado\" los valores por los que vamos iterando elevados al cuadrado\n",
    "    cuadrado.append(num ** 2)\n",
    "\n",
    "print(\"La lista DESPUÉS DEL BUCLE FOR contiene, notad como solo hemos mostrado los primeros elementos para simplificar el output:\", cuadrado[:20])"
   ]
  },
  {
   "cell_type": "code",
   "execution_count": 56,
   "metadata": {},
   "outputs": [
    {
     "name": "stdout",
     "output_type": "stream",
     "text": [
      "La lista contiene, notad como solo hemos mostrado los primeros elementos para simplificar el output: [0, 1, 4, 9, 16, 25, 36, 49, 64, 81, 100, 121, 144, 169, 196, 225, 256, 289, 324, 361]\n"
     ]
    }
   ],
   "source": [
    "# con una list comprehension\n",
    "cuadrado2 = [num ** 2 for num in range(5000000)]\n",
    "\n",
    "# veamos el contenido de la lista cuadrado2\n",
    "print(\"La lista contiene, notad como solo hemos mostrado los primeros elementos para simplificar el output:\", cuadrado2[:20])"
   ]
  },
  {
   "cell_type": "markdown",
   "metadata": {},
   "source": [
    "Si nos fijamos en el tiempo de ejecución de las dos celdas anteriores vemos que, aunque no en gran medida, el tiempo  que ha tardado en ejecutarse la *list comprehension* fue menor. Por otro lado, evaluemos el código que hemos escrito en la *list comprehension* para entenderlo mejor: \n",
    "\n",
    "- Hemos definido una variable que se llama `cuadrado2` que es donde se guardaran los resultados del *for loop*\n",
    "\n",
    "- Para hacer una *list comprehension* tendremos que indicar los `[]` al inicio y al final. \n",
    "\n",
    "- Dentro de los corchetes lo primero que pusimos es `num ** 2`, esto corresponde con lo que queremos añadir en nuestra lista nueva, es decir, correspondería con la segunda línea de nuestro *for* original. Es el **qué** queremos hacer con cada elemento de nuestra lista orginal. \n",
    "\n",
    "- Después hemos puesto `for num in range(5000000)`, es decir, iniciamos nuestro *for*. \n",
    "\n",
    "\n",
    "Hemos visto desgranado cada una de las partes de las *list comprehension*. Veamos alguún ejemplo mas. "
   ]
  },
  {
   "cell_type": "markdown",
   "metadata": {},
   "source": [
    "Imaginemos ahora que tenemos una lista de palabras y vamos a querer crearnos otra con las longitudes de cada una de ellas. "
   ]
  },
  {
   "cell_type": "code",
   "execution_count": 60,
   "metadata": {},
   "outputs": [
    {
     "name": "stdout",
     "output_type": "stream",
     "text": [
      "La lista 'palabras' contiene: ['adalab', 'python', 'data analysts', 'sql', 'programadoras']\n",
      "----------------------\n",
      "La lista con las longitudes de cada palabra antes del bucle contiene: []\n",
      "----------------------\n",
      "La lista con las longitudes de cada palabra después del bucle contiene: [6, 6, 13, 3, 13]\n"
     ]
    }
   ],
   "source": [
    "# lo primero que hacemos es definir la lista de palabras\n",
    "\n",
    "palabras = [\"adalab\", \"python\", \"data analysts\", \"sql\", \"programadoras\"]\n",
    "print(\"La lista 'palabras' contiene:\", palabras)\n",
    "print(\"----------------------\")\n",
    "\n",
    "# hagámoslo con un for loop tradicional\n",
    "\n",
    "# primero definimos la lista vacía donde apendearemos las longitudes de las palabras\n",
    "palabras_len = []\n",
    "print(\"La lista con las longitudes de cada palabra antes del bucle contiene:\", palabras_len)\n",
    "\n",
    "# inicimos nuestro for\n",
    "for palabra in palabras:\n",
    "\n",
    "    # apendeamnos en la lista vacía las longitudes de cada una de las palabras de nuestra lista\n",
    "    palabras_len.append(len(palabra))\n",
    "print(\"----------------------\")\n",
    "print(\"La lista con las longitudes de cada palabra DESPUÉS del bucle contiene:\", palabras_len)\n"
   ]
  },
  {
   "cell_type": "code",
   "execution_count": 61,
   "metadata": {},
   "outputs": [
    {
     "name": "stdout",
     "output_type": "stream",
     "text": [
      "La lista con las longitudes de cada palabra DESPUÉS del bucle contiene [6, 6, 13, 3, 13]\n"
     ]
    }
   ],
   "source": [
    "# hagamoslo ahora con una list comprehension\n",
    "\n",
    "palabras_len2 = [len(pal) for pal in palabras]\n",
    "\n",
    "# vemos el contenido de palabras_len2\n",
    "print(\"La lista con las longitudes de cada palabra DESPUÉS del bucle contiene\", palabras_len2)"
   ]
  },
  {
   "cell_type": "markdown",
   "metadata": {},
   "source": [
    "## *List comprehension* con `if`\n",
    "Como hemos visto en el diagrama inicial, podemos meter de forma adicional una condicion con un `if` en una *list comprehension*. Una *list comprehension* con un `for` y un `if` en Python es una forma concisa de crear una lista aplicando una condición a cada elemento. En términos simples, se usa un `for` para iterar sobre una secuencia de elementos y se usa un `if` para aplicar una condición a cada elemento. Los elementos que cumplen con la condición se incluyen en la lista resultante. Volvamos al primer ejemplo que hicimos, el de la lista de números que elevamos al cuadrado. En este caso, solo vamos a querer elevar al cuadrado los números pares. Veámos como hacerlo: "
   ]
  },
  {
   "cell_type": "code",
   "execution_count": 62,
   "metadata": {},
   "outputs": [
    {
     "name": "stdout",
     "output_type": "stream",
     "text": [
      "La lista con los cuadrados de los números contiene: []\n",
      "--------------------------------\n",
      "La lista DESPUÉS DEL BUCLE FOR contiene, notad como solo hemos mostrado los primeros elementos para simplificar el output: [0, 4, 16, 36, 64, 100, 144, 196, 256, 324, 400, 484, 576, 676, 784, 900, 1024, 1156, 1296, 1444]\n"
     ]
    }
   ],
   "source": [
    "# primero con un for normal\n",
    "# creamos la lista vacía donde apendearemos los resultados \n",
    "\n",
    "cuadrados_pares = []\n",
    "print(\"La lista con los cuadrados de los números contiene:\", cuadrados_pares)\n",
    "print(\"--------------------------------\")\n",
    "# iniciamos nuestro for\n",
    "for num in range(5000000):\n",
    "\n",
    "    # establecemos la condición para los números pares. Recordemos que el operador % nos devolvía el resto de una división. Si el resultado de este operador es 0, significa que el número es par, y por lo tanto, querremos calcular su cuadrado. \n",
    "    if num % 2 == 0: \n",
    "\n",
    "        # si se cumple la condición, eleveramos al cuadrado el número y lo apendearemos a la lista de cuadrados_pares. En esta lista solo tendremos números pares\n",
    "        cuadrados_pares.append(num ** 2)\n",
    "    # recordemos que el else no es obligatorio. Por lo tanto, no pondremos la condición else, ya que en caso de que no sea número par no querremos que pase nada.\n",
    "    \n",
    "print(\"La lista DESPUÉS DEL BUCLE FOR contiene, notad como solo hemos mostrado los primeros elementos para simplificar el output:\", cuadrados_pares[:20]) "
   ]
  },
  {
   "cell_type": "code",
   "execution_count": 63,
   "metadata": {},
   "outputs": [
    {
     "name": "stdout",
     "output_type": "stream",
     "text": [
      "La lista contiene, notad como solo hemos mostrado los primeros elementos para simplificar el output: [0, 4, 16, 36, 64, 100, 144, 196, 256, 324, 400, 484, 576, 676, 784, 900, 1024, 1156, 1296, 1444]\n"
     ]
    }
   ],
   "source": [
    "# con una list comprehension\n",
    "\n",
    "cuadrados_pares2 = [num ** 2 for num in range(5000000) if num % 2 == 0]\n",
    "print(\"La lista contiene, notad como solo hemos mostrado los primeros elementos para simplificar el output:\", cuadrados_pares2[:20])"
   ]
  },
  {
   "cell_type": "markdown",
   "metadata": {},
   "source": [
    "Desgranemos ahora la *list comprehension* que hemos escrito ahora. Las primeras partes son igual que en el primer ejemplo que hicimos:\n",
    "\n",
    "- Hemos definido una variable que se llama `cuadrado2` que es donde se guardaran los resultados del *for loop*. IGUAL que en el primer ejemplo.\n",
    "\n",
    "- Para hacer una *list comprehension* tendremos que indicar los `[]` al inicio y al final. IGUAL que en el primer ejemplo.\n",
    "\n",
    "- Dentro de los corchetes lo primero que pusimos es `num ** 2`, esto corresponde con lo que queremos añadir en nuestra lista nueva, es decir, correspondería con la segunda línea de nuestro *for* original. Es el **qué** queremos hacer con cada elemento de nuestra lista orginal. IGUAL que en el primer ejemplo.\n",
    "\n",
    "- Después hemos puesto `for num in range(5000000)`, es decir, iniciamos nuestro *for*. IGUAL que en el primer ejemplo.\n",
    "\n",
    "- Por último, hemos añadido la condición `if num % 2 == 0`. La parte NUEVA, la condición que queremos chequear. "
   ]
  },
  {
   "cell_type": "markdown",
   "metadata": {},
   "source": [
    "## *List comprehension* con `if`... `else`\n",
    "\n",
    "Pero... ¿Qué pasaría si quisieramos añadir una condición *elif* o *else* en nuestra *list comprehension*? \n",
    "\n",
    "- El *else* se puede incluir sin problema, ahora veremos un ejemplo\n",
    "\n",
    "- El *elif*  no lo podremos incluir ya que las *list comprehensions* están diseñadas para ser cortas y sencillas. Si empezamos a incluir múltiples condiciones perdería su utilidad. \n",
    "\n",
    "Veamos un ejemplo con *else*. Volvamos al ejemplo de la lista de palabras. En este caso, querremos que en la lista nueva se nos añada \"palabra larga\" o \"palabra corta\" en función de su longitud. De esta forma: \n",
    "\n",
    "- Palabras cuya longitud sea menor que 6 apendearemos \"palabra corta\"\n",
    "\n",
    "- Palabras cuya longitud sea mayor que 6 apendearemos \"palabra larga\""
   ]
  },
  {
   "cell_type": "code",
   "execution_count": 64,
   "metadata": {},
   "outputs": [
    {
     "name": "stdout",
     "output_type": "stream",
     "text": [
      "La lista 'palabras' contiene: ['adalab', 'python', 'data analysts', 'sql', 'programadoras']\n",
      "----------------------\n",
      "La lista 'palabras_class' contiene: ['palabra corta', 'palabra corta', 'palabra larga', 'palabra corta', 'palabra larga']\n"
     ]
    }
   ],
   "source": [
    "# veamos como hacerlo con un for loop normal\n",
    "print(\"La lista 'palabras' contiene:\", palabras)\n",
    "print(\"----------------------\")\n",
    "\n",
    "# definimos la lista vacía dnode apendearemos los resultados\n",
    "palabras_clas = []\n",
    "\n",
    "# iniciamos el for loop\n",
    "for i in palabras: \n",
    "\n",
    "    # establecemos la primera condición. Que la longitud de la palabra sea menor o igual que 6\n",
    "    if len(i) <= 6:\n",
    "\n",
    "        # apendeamos \"palabra corta\" a la lista vacía\n",
    "        palabras_clas.append(\"palabra corta\")\n",
    "\n",
    "    # en caso de que no se cumpla esa condición\n",
    "    else: \n",
    "\n",
    "        # apendearemos \"palabra larga\" a la lista vacía\n",
    "        palabras_clas.append(\"palabra larga\")\n",
    "print(\"La lista 'palabras_class' contiene:\", palabras_clas)"
   ]
  },
  {
   "cell_type": "code",
   "execution_count": 65,
   "metadata": {},
   "outputs": [
    {
     "name": "stdout",
     "output_type": "stream",
     "text": [
      "La lista 'palabras_class2' contiene: ['palabra corta', 'palabra corta', 'palabra larga', 'palabra corta', 'palabra larga']\n"
     ]
    }
   ],
   "source": [
    "# como lo haríamos con una list comprehension?\n",
    "\n",
    "palabras_clas2 = [\"palabra corta\" if len(i) <= 6 else \"palabra larga\" for i in palabras  ]\n",
    "print(\"La lista 'palabras_class2' contiene:\", palabras_clas2)"
   ]
  },
  {
   "cell_type": "markdown",
   "metadata": {},
   "source": [
    "Si nos fijamos ahora, la sintaxis ha cambiado un poco y tal se ha vuelto algo más compleja. Pero no nos preocupemos, veamoslo en detalle: \n",
    "\n",
    "- Lo primero que tenemos es `\"palabra corta\"`. Esto corresponde a lo que queremos que se apendee a la lista si se cumple la condición que especificamos en el `if`. \n",
    "\n",
    "- Después tenemos el `if len(i) <= 6` que corresponde con la primera condición que queremos chequear.\n",
    "\n",
    "- Después tenemos el `else \"palabra larga\"` que será lo que queremos que se nos apendee si no se cumple la condición establecida en el paso anterior. \n",
    "\n",
    "- Por último, tenemos el `for i in palabras`, que corresponde con el inicio del *for*. \n"
   ]
  },
  {
   "cell_type": "markdown",
   "metadata": {},
   "source": [
    "## *List comprehension* con dos `for`\n",
    "Todo esto nos puede resultar algo abrumador, pero no os preocupéis. Nuestra recomendación es que en estos primeros pasos siempre escribáis el *for* de la forma tradicional y luego intentéis hacer la *list comprehension* como hemos ido haciendo en cada uno de los ejemplos. \n",
    "\n",
    "En esta situación, nos puede surgir una duda. ¿Podremos hacer una *list comprehension* con dos *for loop*? La respuesta es SI!!! De nuevo, veamoslo con un ejemplo. Imaginemos que tenemos una lista de listas de números y queremos convertir esta listas de listas en una única lista. Pongamonos manos a la obra!"
   ]
  },
  {
   "cell_type": "code",
   "execution_count": 66,
   "metadata": {},
   "outputs": [
    {
     "name": "stdout",
     "output_type": "stream",
     "text": [
      "La lista de listas contiene: [[1, 2, 3], [4, 5, 6], [7, 8, 9]]\n",
      "----------------------------------\n",
      "La lista donde almacenaremos los resultados contiene: []\n",
      "----------------------------------\n",
      "[1, 2, 3]\n",
      "...................\n",
      "1\n",
      "...................\n",
      "2\n",
      "...................\n",
      "3\n",
      "...................\n",
      "[4, 5, 6]\n",
      "...................\n",
      "4\n",
      "...................\n",
      "5\n",
      "...................\n",
      "6\n",
      "...................\n",
      "[7, 8, 9]\n",
      "...................\n",
      "7\n",
      "...................\n",
      "8\n",
      "...................\n",
      "9\n",
      "...................\n",
      "La lista donde almacenaremos los resultados DESPUÉS DE LOS DOS FOR LOOP contiene: [1, 2, 3, 4, 5, 6, 7, 8, 9]\n"
     ]
    }
   ],
   "source": [
    "# lo primero que hacemos es definir una lista de listas\n",
    "listas = [[1,2,3], [4,5,6], [7,8,9]]\n",
    "print(\"La lista de listas contiene:\", listas)\n",
    "print(\"----------------------------------\")\n",
    "\n",
    "\n",
    "# para hacer de esta lista de listas una única lista tendremos que hacer dos for loop. Lo haremos paso a paso. \n",
    "# primero definimos la lista vacía donde iremos añadiendo los números de nuestra lista de listas\n",
    "lista_aplanada = []\n",
    "print(\"La lista donde almacenaremos los resultados contiene:\", lista_aplanada)\n",
    "print(\"----------------------------------\")\n",
    "\n",
    "\n",
    "# iniciamos el for loop\n",
    "for sublista in listas : \n",
    "\n",
    "    # nuestro primero elemento interable será cada una de las listas de la lista grande. Esto, todavía no nos esta permitiendo acceder a cada uno de los números, por lo que tenemos que volver a iterar por cada una de las sublistas\n",
    "    print(sublista)\n",
    "    print(\"...................\")\n",
    "\n",
    "    # iteramos por cada sublista para acceder a cada uno de los números.\n",
    "    for num in sublista:\n",
    "\n",
    "        # ahora num será cada elemento de cada sublista, es decir, cada número.  \n",
    "        print(num)\n",
    "        print(\"...................\")\n",
    "\n",
    "\n",
    "        # es en este punto, donde ya hemos accedido a cada número donde lo apendearemos a la lista vacía\n",
    "\n",
    "        lista_aplanada.append(num)\n",
    " \n",
    "print(\"La lista donde almacenaremos los resultados DESPUÉS DE LOS DOS FOR LOOP contiene:\", lista_aplanada)\n",
    "       \n"
   ]
  },
  {
   "cell_type": "code",
   "execution_count": 67,
   "metadata": {},
   "outputs": [
    {
     "name": "stdout",
     "output_type": "stream",
     "text": [
      "La lista donde almacenaremos los resultados DESPUÉS DE LA LIST COMPREHENSION contiene: [1, 2, 3, 4, 5, 6, 7, 8, 9]\n"
     ]
    }
   ],
   "source": [
    "# ¿Cómo haremos esto con una list comprehension? \n",
    "lista_aplanada2 = [num for sublista in listas for num in sublista]\n",
    "print(\"La lista donde almacenaremos los resultados DESPUÉS DE LA LIST COMPREHENSION contiene:\", lista_aplanada2)\n"
   ]
  },
  {
   "cell_type": "markdown",
   "metadata": {},
   "source": [
    "Veamos en detalle que es lo que ha ocurrido aquí: \n",
    "\n",
    "- Lo primero que tenemos es `num` que es lo que queremos apendear a nuestra lista nueva\n",
    "\n",
    "- Después tenemos `for sublista in listas` nuestro primer *for* \n",
    "\n",
    "- Por último, tenemos `for num in sublista` el segundo de nuestros *for* para acceder a cada número de nuestra lista de listas. "
   ]
  },
  {
   "cell_type": "markdown",
   "metadata": {
    "id": "5PcBreuKcX1-"
   },
   "source": [
    "\n",
    "---\n",
    "# Ejercicios\n",
    "\n",
    "\n",
    "1. Usando la siguiente lista: \n",
    "    ```python\n",
    "    temperaturas = [2,45,67,23, 45,66,12,1,34,67,99,98,67,64, 44, 100]\n",
    "    ```\n",
    "\n",
    "    Crea tres listas nuevas, donde: \n",
    "\n",
    "    - En la primera tengamos temperaturas entre 0 - 10, llama a la nueva lista `bajas_temp`.\n",
    "\n",
    "    - En la segunda tengamos temperaturas entre 11- 20, llama a la nueva lista `medias_temp`.\n",
    "\n",
    "    - En la tercera tengamos temperaturas por encima de 20, llama a la nueva lista `altas_temp`\n",
    "    \n",
    "2. Las temperaturas están grados centígrados. Para cada una de las listas creadas en el ejercicio anterior, convertid las temperaturas a grados fahrenheit\n",
    "\n",
    "    ```\n",
    "    # la relacion de grados celsius y fahrenheit es:\n",
    "    (0 °C × 9 / 5) + 32 = 32 °F\n",
    "    ```\n",
    "\n",
    "3. Define e imprime un rango de 0 a 6 (excluido).\n",
    "  \n",
    "4. Define e imprime un rango de 3 a 6 ambos incluidos.\n",
    "  \n",
    "5. Define e imprime un rango de 5 a 9 ambos excluidos.\n",
    "\n",
    "6. Define e imprime un rango de 3 números que empiece en 2.\n",
    "\n",
    "7. Define e imprime un rango que empiece en 2, aumentando cada paso por 3, que pare antes de llegar al número 13.\n",
    "\n",
    "8. Define e imprime un rango con todos los valores impares que hay hasta 10.\n",
    "\n",
    "9. Crea una lista nueva donde tengamos los números de la lista `temperaturas` elevados al cuadrado. \n",
    "\n",
    "10. Crea una lista nueva donde tengamos el resto de la división de cada uno de los números entre 2.  \n",
    "\n",
    "11. Crea una lista nueva donde tengamos solo los elementos pares de la lista `temperaturas`. \n",
    "\n",
    "12. Crea una lista nueva donde tengamos solo los elementos que sean menores que 50. \n",
    "\n",
    "13. Crea una lista donde tengamos los valores \"par\" e \"impar\" en función de los valores de la lista original. La lista resultante tiene que ser como la que indicamos a continuación: \n",
    "\n",
    "    ```python\n",
    "    lista_strings = [\"par\",\"impar\",\"impar\",\"impar\", \"impar\",\"par\",\"par\",\"impar\",\"par\",\"impar\",\"impar\",\"par\",\"impar\",\"par\", \"par\", \"par\"]\n",
    "    ```\n",
    "\n",
    "14. Pide al usuario un número entero positivo y suma los números pares e impares por separado hasta ese número.\n",
    "\n",
    "15. Pide al usuario ingresar una cadena y cuenta cuántas veces aparece cada vocal (a, e, i, o, u) en la cadena.\n",
    "---\n",
    "\n"
   ]
  },
  {
   "cell_type": "markdown",
   "metadata": {},
   "source": [
    "1. Usando la siguiente lista: \n",
    "    ```python\n",
    "    temperaturas = [2,45,67,23, 45,66,12,1,34,67,99,98,67,64, 44, 100]\n",
    "    ```\n",
    "\n",
    "    Crea tres listas nuevas, donde: \n",
    "\n",
    "    - En la primera tengamos temperaturas entre 0 - 10, llama a la nueva lista `bajas_temp`.\n",
    "\n",
    "    - En la segunda tengamos temperaturas entre 11- 20, llama a la nueva lista `medias_temp`.\n",
    "\n",
    "    - En la tercera tengamos temperaturas por encima de 20, llama a la nueva lista `altas_temp`\n",
    "    "
   ]
  },
  {
   "cell_type": "code",
   "execution_count": 16,
   "metadata": {},
   "outputs": [
    {
     "name": "stdout",
     "output_type": "stream",
     "text": [
      "Bajas Temp: [2, 1]\n",
      "Medias Temp: [12]\n",
      "Altas Temp: [45, 67, 23, 45, 66, 34, 67, 99, 98, 67, 64, 44, 100]\n"
     ]
    }
   ],
   "source": [
    "temperaturas = [2,45,67,23, 45,66,12,1,34,67,99,98,67,64, 44, 100]\n",
    "bajas_temp = []\n",
    "medias_temp = []\n",
    "altas_temp = []\n",
    "\n",
    "for temp in temperaturas:\n",
    "    if 0 <= temp <= 10:\n",
    "        bajas_temp.append(temp)\n",
    "    elif 11 <= temp <= 20:\n",
    "        medias_temp.append(temp)\n",
    "    elif temp > 20:\n",
    "        altas_temp.append(temp)\n",
    "\n",
    "print(\"Bajas Temp:\", bajas_temp)\n",
    "print(\"Medias Temp:\", medias_temp)\n",
    "print(\"Altas Temp:\", altas_temp)"
   ]
  },
  {
   "cell_type": "markdown",
   "metadata": {},
   "source": [
    "2. Las temperaturas están grados centígrados. Para cada una de las listas creadas en el ejercicio anterior, convertid las temperaturas a grados fahrenheit\n",
    "\n",
    "    ```\n",
    "    # la relacion de grados celsius y fahrenheit es:\n",
    "    (0 °C × 9 / 5) + 32 = 32 °F\n",
    "    ```\n"
   ]
  },
  {
   "cell_type": "code",
   "execution_count": 5,
   "metadata": {},
   "outputs": [
    {
     "name": "stdout",
     "output_type": "stream",
     "text": [
      "Temperaturas en Fahrenheit: [35.6, 113.0, 152.6, 73.4, 113.0, 150.8, 53.6, 33.8, 93.2, 152.6, 210.2, 208.4, 152.6, 147.2, 111.2, 212.0]\n"
     ]
    }
   ],
   "source": [
    "temperaturas_fahrenheit = [(temp * 9/5) + 32 for temp in temperaturas]\n",
    "\n",
    "print(\"Temperaturas en Fahrenheit:\", temperaturas_fahrenheit)\n"
   ]
  },
  {
   "cell_type": "markdown",
   "metadata": {},
   "source": [
    "3. Define e imprime un rango de 0 a 6 (excluido)."
   ]
  },
  {
   "cell_type": "code",
   "execution_count": 4,
   "metadata": {},
   "outputs": [
    {
     "name": "stdout",
     "output_type": "stream",
     "text": [
      "[0, 1, 2, 3, 4, 5]\n"
     ]
    }
   ],
   "source": [
    "rango_06 = list(range(0, 6))\n",
    "print(rango_06)"
   ]
  },
  {
   "cell_type": "markdown",
   "metadata": {},
   "source": [
    "4. Define e imprime un rango de 3 a 6 ambos incluidos."
   ]
  },
  {
   "cell_type": "code",
   "execution_count": 6,
   "metadata": {},
   "outputs": [
    {
     "name": "stdout",
     "output_type": "stream",
     "text": [
      "[3, 4, 5, 6]\n"
     ]
    }
   ],
   "source": [
    "rango_36 = list(range(3, 7))\n",
    "print(rango_36)"
   ]
  },
  {
   "cell_type": "markdown",
   "metadata": {},
   "source": [
    "5. Define e imprime un rango de 5 a 9 ambos excluidos."
   ]
  },
  {
   "cell_type": "code",
   "execution_count": 7,
   "metadata": {},
   "outputs": [
    {
     "name": "stdout",
     "output_type": "stream",
     "text": [
      "[6, 7, 8]\n"
     ]
    }
   ],
   "source": [
    "rango_59 = list(range(6, 9))\n",
    "print(rango_59)"
   ]
  },
  {
   "cell_type": "markdown",
   "metadata": {},
   "source": [
    "6. Define e imprime un rango de 3 números que empiece en 2."
   ]
  },
  {
   "cell_type": "code",
   "execution_count": 8,
   "metadata": {},
   "outputs": [
    {
     "name": "stdout",
     "output_type": "stream",
     "text": [
      "[2, 3, 4]\n"
     ]
    }
   ],
   "source": [
    "rango_3_numeros = list(range(2, 5))\n",
    "print(rango_3_numeros)"
   ]
  },
  {
   "cell_type": "markdown",
   "metadata": {},
   "source": [
    "7. Define e imprime un rango que empiece en 2, aumentando cada paso por 3, que pare antes de llegar al número 13."
   ]
  },
  {
   "cell_type": "code",
   "execution_count": 9,
   "metadata": {},
   "outputs": [
    {
     "name": "stdout",
     "output_type": "stream",
     "text": [
      "[2, 5, 8, 11]\n"
     ]
    }
   ],
   "source": [
    "rango_2_a_13 = list(range(2, 13, 3))\n",
    "print(rango_2_a_13)"
   ]
  },
  {
   "cell_type": "markdown",
   "metadata": {},
   "source": [
    "8. Define e imprime un rango con todos los valores impares que hay hasta 10."
   ]
  },
  {
   "cell_type": "code",
   "execution_count": 10,
   "metadata": {},
   "outputs": [
    {
     "name": "stdout",
     "output_type": "stream",
     "text": [
      "[1, 3, 5, 7, 9]\n"
     ]
    }
   ],
   "source": [
    "rango_impares = list(range(1, 10, 2))\n",
    "print(rango_impares)"
   ]
  },
  {
   "cell_type": "markdown",
   "metadata": {},
   "source": [
    "9. Crea una lista nueva donde tengamos los números de la lista `temperaturas` elevados al cuadrado. "
   ]
  },
  {
   "cell_type": "code",
   "execution_count": 19,
   "metadata": {},
   "outputs": [
    {
     "name": "stdout",
     "output_type": "stream",
     "text": [
      "Números al cuadrado: [4, 2025, 4489, 529, 2025, 4356, 144, 1, 1156, 4489, 9801, 9604, 4489, 4096, 1936, 10000]\n"
     ]
    }
   ],
   "source": [
    "cuadrados = []\n",
    "\n",
    "for temp in temperaturas:\n",
    "    cuadrados.append(temp ** 2)\n",
    "print(\"Números al cuadrado:\", cuadrados)"
   ]
  },
  {
   "cell_type": "markdown",
   "metadata": {},
   "source": [
    "10. Crea una lista nueva donde tengamos el resto de la división de cada uno de los números entre 2.  "
   ]
  },
  {
   "cell_type": "code",
   "execution_count": 20,
   "metadata": {},
   "outputs": [
    {
     "name": "stdout",
     "output_type": "stream",
     "text": [
      "Restos de la división entre 2: [0, 1, 1, 1, 1, 0, 0, 1, 0, 1, 1, 0, 1, 0, 0, 0]\n"
     ]
    }
   ],
   "source": [
    "restos = []\n",
    "\n",
    "for temp in temperaturas:\n",
    "    restos.append(temp % 2)\n",
    "print(\"Restos de la división entre 2:\", restos)"
   ]
  },
  {
   "cell_type": "markdown",
   "metadata": {},
   "source": [
    "11. Crea una lista nueva donde tengamos solo los elementos pares de la lista `temperaturas`."
   ]
  },
  {
   "cell_type": "code",
   "execution_count": 21,
   "metadata": {},
   "outputs": [
    {
     "name": "stdout",
     "output_type": "stream",
     "text": [
      "Elementos pares: [2, 66, 12, 34, 98, 64, 44, 100]\n"
     ]
    }
   ],
   "source": [
    "pares = []\n",
    "\n",
    "for temp in temperaturas:\n",
    "    if temp % 2 == 0:\n",
    "        pares.append(temp)\n",
    "print(\"Elementos pares:\", pares)"
   ]
  },
  {
   "cell_type": "markdown",
   "metadata": {},
   "source": [
    "12. Crea una lista nueva donde tengamos solo los elementos que sean menores que 50. \n"
   ]
  },
  {
   "cell_type": "code",
   "execution_count": 22,
   "metadata": {},
   "outputs": [
    {
     "name": "stdout",
     "output_type": "stream",
     "text": [
      "Elementos menores que 50: [2, 45, 23, 45, 12, 1, 34, 44]\n"
     ]
    }
   ],
   "source": [
    "menores_50 = []\n",
    "\n",
    "for temp in temperaturas:\n",
    "    if temp < 50:\n",
    "        menores_50.append(temp)\n",
    "print(\"Elementos menores que 50:\", menores_50)"
   ]
  },
  {
   "cell_type": "markdown",
   "metadata": {},
   "source": [
    "13. Crea una lista donde tengamos los valores \"par\" e \"impar\" en función de los valores de la lista original. La lista resultante tiene que ser como la que indicamos a continuación: \n",
    "\n",
    "    ```python\n",
    "    lista_strings = [\"par\",\"impar\",\"impar\",\"impar\", \"impar\",\"par\",\"par\",\"impar\",\"par\",\"impar\",\"impar\",\"par\",\"impar\",\"par\", \"par\", \"par\"]\n",
    "    ```\n"
   ]
  },
  {
   "cell_type": "code",
   "execution_count": 23,
   "metadata": {},
   "outputs": [
    {
     "name": "stdout",
     "output_type": "stream",
     "text": [
      "Lista de par/impar: ['par', 'impar', 'impar', 'impar', 'impar', 'par', 'par', 'impar', 'par', 'impar', 'impar', 'par', 'impar', 'par', 'par', 'par']\n"
     ]
    }
   ],
   "source": [
    "lista_strings = []\n",
    "\n",
    "for temp in temperaturas:\n",
    "    if temp % 2 == 0:\n",
    "        lista_strings.append(\"par\")\n",
    "    else:\n",
    "        lista_strings.append(\"impar\")\n",
    "print(\"Lista de par/impar:\", lista_strings)\n"
   ]
  },
  {
   "cell_type": "markdown",
   "metadata": {},
   "source": [
    "14. Pide al usuario un número entero positivo y suma los números pares e impares por separado hasta ese número.\n"
   ]
  },
  {
   "cell_type": "code",
   "execution_count": 24,
   "metadata": {},
   "outputs": [
    {
     "name": "stdout",
     "output_type": "stream",
     "text": [
      "Suma de pares: 2\n",
      "Suma de impares: 4\n"
     ]
    }
   ],
   "source": [
    "numero_entero = int(input(\"Introduce un número entero positivo: \"))\n",
    "\n",
    "suma_pares = 0\n",
    "suma_impares = 0\n",
    "\n",
    "for numero in range(numero_entero + 1):\n",
    "    if numero % 2 == 0:\n",
    "        suma_pares += numero\n",
    "    else:\n",
    "        suma_impares += numero\n",
    "print(\"Suma de pares:\", suma_pares)\n",
    "print(\"Suma de impares:\", suma_impares)\n"
   ]
  },
  {
   "cell_type": "markdown",
   "metadata": {},
   "source": [
    "15. Pide al usuario ingresar una cadena y cuenta cuántas veces aparece cada vocal (a, e, i, o, u) en la cadena."
   ]
  },
  {
   "cell_type": "code",
   "execution_count": 25,
   "metadata": {},
   "outputs": [
    {
     "name": "stdout",
     "output_type": "stream",
     "text": [
      "Contador de vocales: {'a': 0, 'e': 0, 'i': 2, 'o': 1, 'u': 0}\n"
     ]
    }
   ],
   "source": [
    "cadena = input(\"Introduce una cadena: \").lower()\n",
    "\n",
    "vocales = \"aeiou\"\n",
    "contador_vocales = {'a': 0, 'e': 0, 'i': 0, 'o': 0, 'u': 0}\n",
    "\n",
    "for letra in cadena:\n",
    "    if letra in vocales:\n",
    "        contador_vocales[letra] += 1\n",
    "\n",
    "print(\"Contador de vocales:\", contador_vocales)"
   ]
  }
 ],
 "metadata": {
  "kernelspec": {
   "display_name": "Python 3 (ipykernel)",
   "language": "python",
   "name": "python3"
  },
  "language_info": {
   "codemirror_mode": {
    "name": "ipython",
    "version": 3
   },
   "file_extension": ".py",
   "mimetype": "text/x-python",
   "name": "python",
   "nbconvert_exporter": "python",
   "pygments_lexer": "ipython3",
   "version": "3.11.7"
  },
  "toc": {
   "base_numbering": 1,
   "nav_menu": {},
   "number_sections": true,
   "sideBar": true,
   "skip_h1_title": false,
   "title_cell": "Table of Contents",
   "title_sidebar": "Contents",
   "toc_cell": true,
   "toc_position": {
    "height": "calc(100% - 180px)",
    "left": "10px",
    "top": "150px",
    "width": "307.2px"
   },
   "toc_section_display": true,
   "toc_window_display": true
  },
  "vscode": {
   "interpreter": {
    "hash": "31f2aee4e71d21fbe5cf8b01ff0e069b9275f58929596ceb00d14d90e3e16cd6"
   }
  }
 },
 "nbformat": 4,
 "nbformat_minor": 2
}
