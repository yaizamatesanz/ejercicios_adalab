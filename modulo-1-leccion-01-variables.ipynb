{
 "cells": [
  {
   "cell_type": "markdown",
   "metadata": {
    "toc": true
   },
   "source": [
    "<h1>Table of Contents<span class=\"tocSkip\"></span></h1>\n",
    "<div class=\"toc\"><ul class=\"toc-item\"><li><span><a href=\"#Tipos-de-Variables\" data-toc-modified-id=\"Tipos-de-Variables-1\"><span class=\"toc-item-num\">1&nbsp;&nbsp;</span>Tipos de Variables</a></span><ul class=\"toc-item\"><li><span><a href=\"#Números\" data-toc-modified-id=\"Números-1.1\"><span class=\"toc-item-num\">1.1&nbsp;&nbsp;</span>Números</a></span></li><li><span><a href=\"#Texto-+-visualizar-variables-con-print()\" data-toc-modified-id=\"Texto-+-visualizar-variables-con-print()-1.2\"><span class=\"toc-item-num\">1.2&nbsp;&nbsp;</span>Texto + visualizar variables con <code>print()</code></a></span></li></ul></li><li><span><a href=\"#Operaciones-algebraicas\" data-toc-modified-id=\"Operaciones-algebraicas-2\"><span class=\"toc-item-num\">2&nbsp;&nbsp;</span>Operaciones algebraicas</a></span></li><li><span><a href=\"#Operaciones-binarias\" data-toc-modified-id=\"Operaciones-binarias-3\"><span class=\"toc-item-num\">3&nbsp;&nbsp;</span>Operaciones binarias</a></span></li><li><span><a href=\"#Métodos-de-los-strings-y-la-función-input()\" data-toc-modified-id=\"Métodos-de-los-strings-y-la-función-input()-4\"><span class=\"toc-item-num\">4&nbsp;&nbsp;</span>Métodos de los <em>strings</em> y la función <code>input()</code></a></span><ul class=\"toc-item\"><li><span><a href=\"#upper()\" data-toc-modified-id=\"upper()-4.1\"><span class=\"toc-item-num\">4.1&nbsp;&nbsp;</span><code>upper()</code></a></span></li><li><span><a href=\"#lower()\" data-toc-modified-id=\"lower()-4.2\"><span class=\"toc-item-num\">4.2&nbsp;&nbsp;</span><code>lower()</code></a></span></li><li><span><a href=\"#capitalize()\" data-toc-modified-id=\"capitalize()-4.3\"><span class=\"toc-item-num\">4.3&nbsp;&nbsp;</span><code>capitalize()</code></a></span></li><li><span><a href=\"#title()\" data-toc-modified-id=\"title()-4.4\"><span class=\"toc-item-num\">4.4&nbsp;&nbsp;</span><code>title()</code></a></span></li><li><span><a href=\"#swapcase()\" data-toc-modified-id=\"swapcase()-4.5\"><span class=\"toc-item-num\">4.5&nbsp;&nbsp;</span><code>swapcase()</code></a></span></li><li><span><a href=\"#strip()\" data-toc-modified-id=\"strip()-4.6\"><span class=\"toc-item-num\">4.6&nbsp;&nbsp;</span><code>strip()</code></a></span></li><li><span><a href=\"#split()\" data-toc-modified-id=\"split()-4.7\"><span class=\"toc-item-num\">4.7&nbsp;&nbsp;</span><code>split()</code></a></span></li><li><span><a href=\"#replace()\" data-toc-modified-id=\"replace()-4.8\"><span class=\"toc-item-num\">4.8&nbsp;&nbsp;</span><code>replace()</code></a></span></li><li><span><a href=\"#join()\" data-toc-modified-id=\"join()-4.9\"><span class=\"toc-item-num\">4.9&nbsp;&nbsp;</span><code>join()</code></a></span></li><li><span><a href=\"#find()\" data-toc-modified-id=\"find()-4.10\"><span class=\"toc-item-num\">4.10&nbsp;&nbsp;</span><code>find()</code></a></span></li></ul></li><li><span><a href=\"#Ejercicios\" data-toc-modified-id=\"Ejercicios-5\"><span class=\"toc-item-num\">5&nbsp;&nbsp;</span>Ejercicios</a></span></li></ul></div>"
   ]
  },
  {
   "cell_type": "markdown",
   "metadata": {
    "id": "PlWAqrlds-7G"
   },
   "source": [
    "# Tipos de Variables"
   ]
  },
  {
   "cell_type": "markdown",
   "metadata": {
    "id": "Rv7dayxvMbUn"
   },
   "source": [
    "## Números\n",
    "\n",
    "Lo primero que se nos ocurre a todas pensando en la programación son números, sobre los cuáles podremos realizar operaciones matemáticas. Para empezar vamos a definir una variable con el valor 3. Esta variable la vamos a asignar un nombre, que puede ser `a`, `tres`, `trEs`, `A_tres`, `valor1`, etc. Aunque es recomendable, por convención no utilizar mayúsculas para definir variables. \n",
    "\n",
    "Ejecuta las siguientes celdas haciendo clic en ellos y pulsando `ctrl + Enter` o clicando sobre el símbolo de `play` que hay en el lado izquierdo de la celda. El resultado del código lo verás debajo de la celda ejecutada."
   ]
  },
  {
   "cell_type": "code",
   "execution_count": 3,
   "metadata": {
    "colab": {
     "base_uri": "https://localhost:8080/"
    },
    "executionInfo": {
     "elapsed": 3,
     "status": "ok",
     "timestamp": 1639388967658,
     "user": {
      "displayName": "Anne Krus",
      "photoUrl": "https://lh3.googleusercontent.com/a-/AOh14GjbqsQGGv_WqtIcVrkmdaggg-avHI_hm9wkTTxk=s64",
      "userId": "08074981739476979686"
     },
     "user_tz": -60
    },
    "id": "T32Vye0lMlhM",
    "outputId": "81c0220a-5dfa-4c86-8c50-34488c7f1989"
   },
   "outputs": [
    {
     "data": {
      "text/plain": [
       "3"
      ]
     },
     "execution_count": 3,
     "metadata": {},
     "output_type": "execute_result"
    }
   ],
   "source": [
    "# escribimos el número 3 en la celda \n",
    "3"
   ]
  },
  {
   "cell_type": "code",
   "execution_count": 4,
   "metadata": {
    "colab": {
     "base_uri": "https://localhost:8080/",
     "height": 165
    },
    "executionInfo": {
     "elapsed": 206,
     "status": "error",
     "timestamp": 1639388972386,
     "user": {
      "displayName": "Anne Krus",
      "photoUrl": "https://lh3.googleusercontent.com/a-/AOh14GjbqsQGGv_WqtIcVrkmdaggg-avHI_hm9wkTTxk=s64",
      "userId": "08074981739476979686"
     },
     "user_tz": -60
    },
    "id": "UcFaFgCgMl5s",
    "outputId": "38638e58-9fcf-41b7-9f9c-15ad3ef0e6fb"
   },
   "outputs": [
    {
     "ename": "NameError",
     "evalue": "name 'a' is not defined",
     "output_type": "error",
     "traceback": [
      "\u001b[0;31m---------------------------------------------------------------------------\u001b[0m",
      "\u001b[0;31mNameError\u001b[0m                                 Traceback (most recent call last)",
      "Cell \u001b[0;32mIn[4], line 2\u001b[0m\n\u001b[1;32m      1\u001b[0m \u001b[38;5;66;03m# ¿Que pasaría si ahora en vez de una número escribieramos una letra?\u001b[39;00m\n\u001b[0;32m----> 2\u001b[0m a\n",
      "\u001b[0;31mNameError\u001b[0m: name 'a' is not defined"
     ]
    }
   ],
   "source": [
    "# ¿Que pasaría si ahora en vez de una número escribieramos una letra?\n",
    "a"
   ]
  },
  {
   "cell_type": "markdown",
   "metadata": {},
   "source": [
    "Como acabas de ver, al entrar un `3` sin contexto ningúno, el ordenador no sabe qué hacer con ello, y te lo repite tal cual. Sin embargo, en la segunda celda, devolvió un error. Siempre es muy importante leer los errores sin asustarse: Python da pistas de cuál es el error que estamos cometiendo. Incluso a veces nos puede dar una idea de como solucionarlo.\n",
    "\n",
    "El error dice que la `a` no esta definida: no sabe si es una constante, una función, una página web, o lo que sea.\n",
    "\n",
    "Volvemos a intentarlo con comillas"
   ]
  },
  {
   "cell_type": "code",
   "execution_count": null,
   "metadata": {
    "colab": {
     "base_uri": "https://localhost:8080/",
     "height": 35
    },
    "executionInfo": {
     "elapsed": 189,
     "status": "ok",
     "timestamp": 1639388981984,
     "user": {
      "displayName": "Anne Krus",
      "photoUrl": "https://lh3.googleusercontent.com/a-/AOh14GjbqsQGGv_WqtIcVrkmdaggg-avHI_hm9wkTTxk=s64",
      "userId": "08074981739476979686"
     },
     "user_tz": -60
    },
    "id": "axG1W81fMoH7",
    "outputId": "c640f10c-6be1-406d-e1a4-5f5bb20a1517"
   },
   "outputs": [
    {
     "data": {
      "text/plain": [
       "'A'"
      ]
     },
     "execution_count": 3,
     "metadata": {},
     "output_type": "execute_result"
    }
   ],
   "source": [
    "\"A\""
   ]
  },
  {
   "cell_type": "markdown",
   "metadata": {},
   "source": [
    "Ahora sí que lo acepta. ¿Por qué? Al poner caracteres sin contexto el ordenador asume que es una variable, y si no la encuentra entre sus variables ya guardadas no devolverá error. Las comillas (sean simples o dobles, da igual) especifican que no buscamos una variable, pero que le estamos dando un contenido. Sin embargo, sin nombre no podrá guardar el contenido. Recuerda que los variables siempre se definen con `nombre = contenido`. \n",
    "\n",
    "Creemos ahora una variable que se llame \"a\"  cuyo valor sea 3 👇🏽"
   ]
  },
  {
   "cell_type": "code",
   "execution_count": null,
   "metadata": {
    "id": "1JLY3Z35Mqjz"
   },
   "outputs": [],
   "source": [
    "a = 3"
   ]
  },
  {
   "cell_type": "markdown",
   "metadata": {},
   "source": [
    "No sale un resultado debajo de la celda, ¿he hecho algo mal? ¡No! Antes estabamos escribiendo contenidos sin decir qué queremos hacer con ellos, y por tanto Python devolvió ese mismo contenido. Poniéndolo en forma `nombre = contenido` decimos que queremos guardar el contenido `3` en la variable llamada `a`. Como ya sabe qué hacer no devuelve nada, sino que hace lo que pedimos.\n",
    "\n",
    "Recuerda que antes, al escribir `a` sin comillas, salió un error. Volvemos a intentarlo:"
   ]
  },
  {
   "cell_type": "code",
   "execution_count": null,
   "metadata": {
    "colab": {
     "base_uri": "https://localhost:8080/"
    },
    "executionInfo": {
     "elapsed": 187,
     "status": "ok",
     "timestamp": 1639388991318,
     "user": {
      "displayName": "Anne Krus",
      "photoUrl": "https://lh3.googleusercontent.com/a-/AOh14GjbqsQGGv_WqtIcVrkmdaggg-avHI_hm9wkTTxk=s64",
      "userId": "08074981739476979686"
     },
     "user_tz": -60
    },
    "id": "qnEgfAcUMsOr",
    "outputId": "a6f35371-4bde-416c-91e8-3f1e7930d7e9"
   },
   "outputs": [
    {
     "data": {
      "text/plain": [
       "3"
      ]
     },
     "execution_count": 5,
     "metadata": {},
     "output_type": "execute_result"
    }
   ],
   "source": [
    "a"
   ]
  },
  {
   "cell_type": "markdown",
   "metadata": {},
   "source": [
    "¡Sale el número 3! Aquí la clave es el orden en que ejecutamos las celda: la celda con `a` es exactamente la misma que arriba. Si hubieramos ejecutado ésta celda antes de la anterior, que especifica qué contiene la variable `a`, nos hubiera salido el mismo error. La diferencia está en que ahora sí que tiene una variable guardada con ese nombre. Si vuelves a la celda de arriba que dió el error, ¿qué crees que pasará? Inténtalo.\n",
    "\n",
    "Ojo que ya no repite la letra `a`, porque has pedido el contenido que tiene guardado en la variable. Tampoco te produce el error que vimos arriba, porque la variable con el nombre `a` ahora sí que se ha definido. Python interpreta la `a` como una asignación, y en todos los sitios en el código en que encuentra una `a` los va a leer como si hubieramos puesto `3`.\n",
    "\n",
    "Hasta ahora hemos generado una variable que se llama \"a\" cuyo valor fue 3, es un número entero, que en Python se llaman *integers*. También podremos crearnos variables que almacenen números decimales, llamados *float*  en Python. Creemos una variable que se llame \"metros\" que almacene el número 1.87\n"
   ]
  },
  {
   "cell_type": "code",
   "execution_count": null,
   "metadata": {},
   "outputs": [],
   "source": [
    "# NOTA: los decimales en python se indican con \".\"\n",
    "\n",
    "metros = 1.87"
   ]
  },
  {
   "cell_type": "code",
   "execution_count": null,
   "metadata": {},
   "outputs": [
    {
     "data": {
      "text/plain": [
       "1.87"
      ]
     },
     "execution_count": 7,
     "metadata": {},
     "output_type": "execute_result"
    }
   ],
   "source": [
    "# veamos que contiene ahora la variable \"metros\"\n",
    "\n",
    "metros"
   ]
  },
  {
   "cell_type": "markdown",
   "metadata": {
    "id": "umj_fyLoM7Bo"
   },
   "source": [
    "## Texto + visualizar variables con `print()`\n",
    "\n",
    "En la sección anterior conseguimos almacenar un número dentro de una variable correctamente. Sin embargo, las variables pueden almacenar otros tipos de datos como es el texto, en Python los llamaremos *strings*. Para poder sacar por pantalla en contenido de una variable podemos usar la palabra clave `print`. Probémoslo con unos ejemplos"
   ]
  },
  {
   "cell_type": "code",
   "execution_count": null,
   "metadata": {
    "colab": {
     "base_uri": "https://localhost:8080/"
    },
    "executionInfo": {
     "elapsed": 192,
     "status": "ok",
     "timestamp": 1639389067786,
     "user": {
      "displayName": "Anne Krus",
      "photoUrl": "https://lh3.googleusercontent.com/a-/AOh14GjbqsQGGv_WqtIcVrkmdaggg-avHI_hm9wkTTxk=s64",
      "userId": "08074981739476979686"
     },
     "user_tz": -60
    },
    "id": "fo8E2ux6M7Xc",
    "outputId": "448e9b5e-0217-4117-b81e-f0dc66815581"
   },
   "outputs": [
    {
     "name": "stdout",
     "output_type": "stream",
     "text": [
      "3\n"
     ]
    }
   ],
   "source": [
    "print(a)"
   ]
  },
  {
   "cell_type": "code",
   "execution_count": null,
   "metadata": {
    "colab": {
     "base_uri": "https://localhost:8080/"
    },
    "executionInfo": {
     "elapsed": 189,
     "status": "ok",
     "timestamp": 1639389083251,
     "user": {
      "displayName": "Anne Krus",
      "photoUrl": "https://lh3.googleusercontent.com/a-/AOh14GjbqsQGGv_WqtIcVrkmdaggg-avHI_hm9wkTTxk=s64",
      "userId": "08074981739476979686"
     },
     "user_tz": -60
    },
    "id": "p9qkDSTyM_gc",
    "outputId": "aae0a2d6-4bd9-4cb2-ab5a-12058b2aa8db"
   },
   "outputs": [
    {
     "name": "stdout",
     "output_type": "stream",
     "text": [
      "batata\n"
     ]
    }
   ],
   "source": [
    "# creemos ahora una variable que se llame \"comida\" que almacene el texto \"batata\"\n",
    "comida = \"batata\"\n",
    "print(comida)"
   ]
  },
  {
   "cell_type": "markdown",
   "metadata": {
    "id": "RStGIgf2NG8O"
   },
   "source": [
    "Probar ahora a usar comillas simples ('') en vez de comillas dobles (\"\")"
   ]
  },
  {
   "cell_type": "markdown",
   "metadata": {},
   "source": [
    "Además de mirar las comillas también siempre nos tenemos que fijar bien en el uso de las paréntesis. Nota que en la función `print()` los paréntesis `()` especifican los datos sobre los que tiene que actuar la función. Sin embargo, los paréntesis también pueden servir, como aprendimos en las clases de matemáticas, para agrupar sin más.\n",
    "\n",
    "Mira la celda de abajo, sin ejecutarla todavía. ¿Qué crees que te devolverán los tres `print`? "
   ]
  },
  {
   "cell_type": "code",
   "execution_count": null,
   "metadata": {
    "colab": {
     "base_uri": "https://localhost:8080/",
     "height": 252
    },
    "executionInfo": {
     "elapsed": 188,
     "status": "error",
     "timestamp": 1639389112264,
     "user": {
      "displayName": "Anne Krus",
      "photoUrl": "https://lh3.googleusercontent.com/a-/AOh14GjbqsQGGv_WqtIcVrkmdaggg-avHI_hm9wkTTxk=s64",
      "userId": "08074981739476979686"
     },
     "user_tz": -60
    },
    "id": "yU2M86aXNJtj",
    "outputId": "23809b73-4c12-458e-d6d1-d9383ad6ed68"
   },
   "outputs": [
    {
     "name": "stdout",
     "output_type": "stream",
     "text": [
      "3\n",
      "verde\n"
     ]
    },
    {
     "ename": "NameError",
     "evalue": "name 'azul' is not defined",
     "output_type": "error",
     "traceback": [
      "\u001b[1;31m---------------------------------------------------------------------------\u001b[0m",
      "\u001b[1;31mNameError\u001b[0m                                 Traceback (most recent call last)",
      "Input \u001b[1;32mIn [10]\u001b[0m, in \u001b[0;36m<cell line: 10>\u001b[1;34m()\u001b[0m\n\u001b[0;32m      7\u001b[0m \u001b[38;5;28mprint\u001b[39m(categoria1)\n\u001b[0;32m      9\u001b[0m \u001b[38;5;66;03m# creamos una variable que se llame categoria2 que sea igual a la variable azul\u001b[39;00m\n\u001b[1;32m---> 10\u001b[0m categoria2 \u001b[38;5;241m=\u001b[39m \u001b[43mazul\u001b[49m\n\u001b[0;32m     11\u001b[0m \u001b[38;5;28mprint\u001b[39m(categoria2)\n",
      "\u001b[1;31mNameError\u001b[0m: name 'azul' is not defined"
     ]
    }
   ],
   "source": [
    "# creamos una variable numérica que se llame \"cantidad\"\n",
    "cantidad = 3\n",
    "print(cantidad)\n",
    "\n",
    "# creamos una variable de tipo string que se llame \"categoria1\"\n",
    "categoria1 = \"verde\"\n",
    "print(categoria1)\n",
    "\n",
    "# creamos una variable que se llame categoria2 que sea igual a la variable azul\n",
    "categoria2 = azul\n",
    "print(categoria2)"
   ]
  },
  {
   "cell_type": "markdown",
   "metadata": {
    "id": "b8cOL06qNNxb"
   },
   "source": [
    "Nota como al crear la variable `categoria2` surge un error, mientras la variable `categoria1` sí que se creó sin problema. Si ponemos un nombre sin comillas, el ordenador lo interpreta como variable y buscara entre todas las variables que se han ido creado en este jupyter. Es decir, si he creado la variable `V = 1000`, cierro el Jupyter o me voy a otro y pregunto por `V` no me lo sabrá decir. Los valores se guardan localmente. \n",
    "\n",
    "En nuestro caso, no hemos creado hasta el momento ninguna variable llamada \"azul\" por lo tanto, cuando va a ejecutar esa línea nos da error y nos dice que esa variable no ha sido definida. \n",
    "\n",
    "En un `print()`, las variables de texto pueden ser ampliadas por más texto. Esto se puede hacer usando otra variable de texto, por ejemplo `color_detalle`, que tiene el valor original `\"verde\"` más un espacio `' '` más la palabra `'oscuro'`. Nota que un espacio también es un carácter. Al imprimir la nueva variable `color_detalle` vemos como el output es `verde oscuro`."
   ]
  },
  {
   "cell_type": "code",
   "execution_count": null,
   "metadata": {
    "colab": {
     "base_uri": "https://localhost:8080/"
    },
    "executionInfo": {
     "elapsed": 238,
     "status": "ok",
     "timestamp": 1639389140923,
     "user": {
      "displayName": "Anne Krus",
      "photoUrl": "https://lh3.googleusercontent.com/a-/AOh14GjbqsQGGv_WqtIcVrkmdaggg-avHI_hm9wkTTxk=s64",
      "userId": "08074981739476979686"
     },
     "user_tz": -60
    },
    "id": "Jp3lAfc7NKXi",
    "outputId": "e71de561-b0f9-48a3-dcc9-e18fb5a8e9ad"
   },
   "outputs": [
    {
     "name": "stdout",
     "output_type": "stream",
     "text": [
      "verde oscuro\n"
     ]
    }
   ],
   "source": [
    "color_detalle = categoria1 + ' ' + 'oscuro'\n",
    "print(color_detalle)"
   ]
  },
  {
   "cell_type": "markdown",
   "metadata": {},
   "source": [
    " Dentro de la función `print()` también se puede hacer lo mismo directamente, sin el paso intremedio de definir la variable `color_detalle`."
   ]
  },
  {
   "cell_type": "code",
   "execution_count": null,
   "metadata": {},
   "outputs": [
    {
     "name": "stdout",
     "output_type": "stream",
     "text": [
      "verde oscuro\n"
     ]
    }
   ],
   "source": [
    "print(categoria1 + ' oscuro')"
   ]
  },
  {
   "cell_type": "markdown",
   "metadata": {},
   "source": [
    "Otra forma en la que podríamos hacer el código anterior es separando los valores con una coma. "
   ]
  },
  {
   "cell_type": "code",
   "execution_count": null,
   "metadata": {},
   "outputs": [
    {
     "name": "stdout",
     "output_type": "stream",
     "text": [
      "verde oscuro\n"
     ]
    }
   ],
   "source": [
    "print(categoria1, 'oscuro')"
   ]
  },
  {
   "cell_type": "markdown",
   "metadata": {},
   "source": [
    "En este caso, la coma entre `categoria1` y `'oscuro'` significa que pasamos a la *función* `print` dos *argumentos* distintos.\n",
    "\n",
    "\n",
    "Hasta ahora hemos visto dos tipos de variables: números enteros, cadenas de caracteres o *strings*:\n",
    "\n",
    "- Los números enteros en inglés se denominan `integer` ('int'), y son todos los números sin decimales tanto positivos como negativos.\n",
    "\n",
    "- Los números decimales en inglés se denominan `float` ('float'), y son todos los números con decimales tanto positivos como negativos.\n",
    "\n",
    "- Las cadenas de caracteres se llaman `string` ('str') en inglés y pueden delimitarse con comillas simples ' ' o dobles \" \" indistintamente."
   ]
  },
  {
   "cell_type": "code",
   "execution_count": null,
   "metadata": {
    "id": "3c4SUdKgN5Oj"
   },
   "outputs": [],
   "source": [
    "# definamos algunas variables con distintos tipos de datos numéricos\n",
    "\n",
    "b1 = 3.0\n",
    "b2 = 5\n",
    "b3 = 5.0\n",
    "b4 = 118"
   ]
  },
  {
   "cell_type": "markdown",
   "metadata": {
    "id": "vMtOVmgWOEhJ"
   },
   "source": [
    "`b2` y `b4` son numeros enteros (int) mientras `b1` y `b3` son flotantes (float). ¿Qué crees que pasa si hacemos una operación aritmética a combinaciones de ellas?"
   ]
  },
  {
   "cell_type": "code",
   "execution_count": null,
   "metadata": {
    "id": "Z_uXcGWDODSj"
   },
   "outputs": [],
   "source": [
    "# en esta celda introduciremos algunos operaciones básicos de Python\n",
    "\n",
    "c1 = b1 + b2 # \"+\" operador de suma\n",
    "c2 = b1 + b3\n",
    "c3 = b2 + b4\n",
    "c4 = b2 - b4 # \"-\" operador de resta\n",
    "c5 = b4 / b2 # \"/\" operador de división\n",
    "c6 = b4 / b3"
   ]
  },
  {
   "cell_type": "markdown",
   "metadata": {
    "id": "y81kI03TOIIp"
   },
   "source": [
    "¿Cuál(es) de las variables `c` serán del tipo *float*? ¿Para cuáles necesitarías una coma decimal?\n",
    "\n",
    "Ejecuta la siguiente celda y mira el *output*."
   ]
  },
  {
   "cell_type": "code",
   "execution_count": null,
   "metadata": {
    "colab": {
     "base_uri": "https://localhost:8080/"
    },
    "executionInfo": {
     "elapsed": 195,
     "status": "ok",
     "timestamp": 1639389371897,
     "user": {
      "displayName": "Anne Krus",
      "photoUrl": "https://lh3.googleusercontent.com/a-/AOh14GjbqsQGGv_WqtIcVrkmdaggg-avHI_hm9wkTTxk=s64",
      "userId": "08074981739476979686"
     },
     "user_tz": -60
    },
    "id": "AUl7RfjfOF2T",
    "outputId": "2e6bd0c4-ead7-467c-91bf-cfe100e2b45f"
   },
   "outputs": [
    {
     "name": "stdout",
     "output_type": "stream",
     "text": [
      "C1 =  3.0  +  5  =  8.0\n",
      "C2 =  3.0  +  5.0  =  8.0\n",
      "C3 =  5  +  118  =  123\n",
      "C4 =  5  -  118  =  -113\n",
      "C5 =  118  /  5  =  23.6\n",
      "C6 =  118  /  5.0  =  23.6\n"
     ]
    }
   ],
   "source": [
    "print('C1 = ', b1,' + ', b2,' = ', c1)\n",
    "print('C2 = ', b1,' + ', b3,' = ', c2)\n",
    "print('C3 = ', b2,' + ', b4,' = ', c3)\n",
    "print('C4 = ', b2,' - ', b4,' = ', c4)\n",
    "print('C5 = ', b4,' / ', b2,' = ', c5)\n",
    "print('C6 = ', b4,' / ', b3,' = ', c6)"
   ]
  },
  {
   "cell_type": "markdown",
   "metadata": {
    "id": "Lkp0pBTmONpx"
   },
   "source": [
    "\n",
    "Hasta ahora hemos visto que tenemos varios tipos de datos numéricos, `int` y `float`. Sin embargo, Python nos permite cambiar el tipo de dato de `int` a `float` o viceversa.\n",
    "Mira los ejemplos abajo, ¿qué te esperas que ocurrirá? "
   ]
  },
  {
   "cell_type": "code",
   "execution_count": null,
   "metadata": {
    "colab": {
     "base_uri": "https://localhost:8080/"
    },
    "executionInfo": {
     "elapsed": 209,
     "status": "ok",
     "timestamp": 1639389393725,
     "user": {
      "displayName": "Anne Krus",
      "photoUrl": "https://lh3.googleusercontent.com/a-/AOh14GjbqsQGGv_WqtIcVrkmdaggg-avHI_hm9wkTTxk=s64",
      "userId": "08074981739476979686"
     },
     "user_tz": -60
    },
    "id": "jVGAC63FOJwL",
    "outputId": "c22e2d42-926a-46c1-dc79-2cf7daa6e873"
   },
   "outputs": [
    {
     "name": "stdout",
     "output_type": "stream",
     "text": [
      "23.6\n",
      "23.6\n",
      "23.6\n",
      "23.6\n",
      "23.6\n"
     ]
    }
   ],
   "source": [
    "C5 = int()\n",
    "print(c5)\n",
    "C5 = float()\n",
    "print(c5)\n",
    "\n",
    "C5 = int(b4 / b2)\n",
    "print(c5)\n",
    "C5 = float(b4 / b2)\n",
    "print(c5)\n",
    "C5 = str(b4 / b2)\n",
    "print(c5)"
   ]
  },
  {
   "cell_type": "markdown",
   "metadata": {
    "id": "gUErJx8lOQbJ"
   },
   "source": [
    "El cambiar el tipo de un dato se llama *type casting* o conversión de tipos. Mira los últimos dos *output*, ¿cómo sabemos de qué tipo se trata?"
   ]
  },
  {
   "cell_type": "code",
   "execution_count": null,
   "metadata": {
    "colab": {
     "base_uri": "https://localhost:8080/"
    },
    "executionInfo": {
     "elapsed": 209,
     "status": "ok",
     "timestamp": 1639389405741,
     "user": {
      "displayName": "Anne Krus",
      "photoUrl": "https://lh3.googleusercontent.com/a-/AOh14GjbqsQGGv_WqtIcVrkmdaggg-avHI_hm9wkTTxk=s64",
      "userId": "08074981739476979686"
     },
     "user_tz": -60
    },
    "id": "JWZb1OXeOPET",
    "outputId": "8a5de420-0297-4a7c-f935-a9a11546a97c"
   },
   "outputs": [
    {
     "name": "stdout",
     "output_type": "stream",
     "text": [
      "<class 'float'>\n",
      "<class 'int'>\n",
      "<class 'str'>\n"
     ]
    }
   ],
   "source": [
    "c5a = float(b4 / b2)\n",
    "c5b = int(b4 / b2)\n",
    "c5c = str(b4 / b2)\n",
    "t = type(c5a)\n",
    "\n",
    "print(t)\n",
    "print(type(c5b))\n",
    "print(type(c5c))"
   ]
  },
  {
   "cell_type": "markdown",
   "metadata": {},
   "source": [
    "Alternativamente, para comprobar si una variable tiene el tipo que esperabas, también puedes usar la función `isinstance()`, que requiere dos argumentos, que como siempre se separan con una coma: primero el nombre de la variable que quieres comprobar, y segundo el tipo. En funciones el orden de los argumentos es muy importante, a no ser que especificamos qué argumento es, esto ahora podemos no entenderlo, no os preocupéis, ya lo entenderemos cuando demos las funciones. "
   ]
  },
  {
   "cell_type": "code",
   "execution_count": null,
   "metadata": {},
   "outputs": [
    {
     "name": "stdout",
     "output_type": "stream",
     "text": [
      "True\n",
      "True\n",
      "True\n"
     ]
    }
   ],
   "source": [
    "print(isinstance(c5a,float))\n",
    "print(isinstance(c5b,int))\n",
    "print(isinstance(c5c,str))"
   ]
  },
  {
   "cell_type": "code",
   "execution_count": null,
   "metadata": {},
   "outputs": [
    {
     "ename": "TypeError",
     "evalue": "isinstance() arg 2 must be a type, a tuple of types, or a union",
     "output_type": "error",
     "traceback": [
      "\u001b[1;31m---------------------------------------------------------------------------\u001b[0m",
      "\u001b[1;31mTypeError\u001b[0m                                 Traceback (most recent call last)",
      "\u001b[1;32mc:\\Users\\agarc\\Documents\\Adalab\\materiales-da-promo-b\\modulo-1\\modulo-1-python-basico\\assets\\notebooks\\modulo-1-leccion-01-variables.ipynb Cell 43'\u001b[0m in \u001b[0;36m<module>\u001b[1;34m\u001b[0m\n\u001b[0;32m      <a href='vscode-notebook-cell:/c%3A/Users/agarc/Documents/Adalab/materiales-da-promo-b/modulo-1/modulo-1-python-basico/assets/notebooks/modulo-1-leccion-01-variables.ipynb#ch0000043?line=0'>1</a>\u001b[0m \u001b[39m# probemos a cambiarle el orden a los argumentos que le pasamos...\u001b[39;00m\n\u001b[1;32m----> <a href='vscode-notebook-cell:/c%3A/Users/agarc/Documents/Adalab/materiales-da-promo-b/modulo-1/modulo-1-python-basico/assets/notebooks/modulo-1-leccion-01-variables.ipynb#ch0000043?line=2'>3</a>\u001b[0m \u001b[39mprint\u001b[39m(\u001b[39misinstance\u001b[39;49m(\u001b[39mstr\u001b[39;49m,c5c))\n",
      "\u001b[1;31mTypeError\u001b[0m: isinstance() arg 2 must be a type, a tuple of types, or a union"
     ]
    }
   ],
   "source": [
    "# probemos a cambiarle el orden a los argumentos que le pasamos...\n",
    "\n",
    "print(isinstance(str,c5c))"
   ]
  },
  {
   "cell_type": "markdown",
   "metadata": {
    "id": "Lws6QPImOTtA"
   },
   "source": [
    "¿Has visto como imprime el resultado de la función `isinstance()`? No es un número, pero tampoco una cadena de texto como las de hasta ahora. Es el último tipo de datos que introducimos en esta clase: el booleano (`bool`). Es un tipo binario que sólo tiene dos opciones, verdadero (en inglés *true*) o falso (en inglés *false*). Más adelante vamos a necesitar este tipo de dato para poner condiciones, de modo que sólo ejecutaremmos un trozo de código si la condición es verdadera, si es falso nos lo saltamos. De nuevo, aquí nos hemos adelantado un poco, no hace falta que lo entendáis, un poco más adelante veremos como funciona este tipo de sintaxis en Python. Ojo que esto no se aplica a todas las funciones, divisiones por ejemplo no aceptan un bool."
   ]
  },
  {
   "cell_type": "code",
   "execution_count": null,
   "metadata": {
    "colab": {
     "base_uri": "https://localhost:8080/"
    },
    "executionInfo": {
     "elapsed": 199,
     "status": "ok",
     "timestamp": 1639389419469,
     "user": {
      "displayName": "Anne Krus",
      "photoUrl": "https://lh3.googleusercontent.com/a-/AOh14GjbqsQGGv_WqtIcVrkmdaggg-avHI_hm9wkTTxk=s64",
      "userId": "08074981739476979686"
     },
     "user_tz": -60
    },
    "id": "iYCuGV6DOSAr",
    "outputId": "6f40027e-7153-47b5-eb86-223a1d24e9de"
   },
   "outputs": [
    {
     "name": "stdout",
     "output_type": "stream",
     "text": [
      "D1 =  True\n",
      "D2 =  False\n",
      "D3 =  123  +  True  =  124\n",
      "D4 =  123  +  False  =  123\n",
      "D5 =  8.0  +  True  =  9.0\n",
      "D6 =  8.0  +  False  =  8.0\n",
      "<class 'bool'>\n",
      "True\n"
     ]
    }
   ],
   "source": [
    "d1 = True\n",
    "d2 = False\n",
    "d3 = c3 + d1\n",
    "d4 = c3 + d2\n",
    "d5 = c2 + d1\n",
    "d6 = c2 + d2\n",
    "\n",
    "print('D1 = ', d1)\n",
    "print('D2 = ', d2)\n",
    "print('D3 = ', c3,' + ', d1,' = ', d3)\n",
    "print('D4 = ', c3,' + ', d2,' = ', d4)\n",
    "print('D5 = ', c2,' + ', d1,' = ', d5)\n",
    "print('D6 = ', c2,' + ', d2,' = ', d6)\n",
    "\n",
    "print(type(d1))\n",
    "print(isinstance(d1,bool))"
   ]
  },
  {
   "cell_type": "markdown",
   "metadata": {},
   "source": [
    "# Operaciones algebraicas\n",
    "\n",
    "Con los variables numéricas podemos calcular otros valores que nos puedan resultar más interesantes. Algunos ya los vimos en el apartado anterior. Repasemos la base:"
   ]
  },
  {
   "cell_type": "code",
   "execution_count": null,
   "metadata": {},
   "outputs": [],
   "source": [
    "# definimos tres variables numéricas de tipo int\n",
    "saldo = 235\n",
    "ingreso = 100\n",
    "gasto = 15"
   ]
  },
  {
   "cell_type": "code",
   "execution_count": null,
   "metadata": {},
   "outputs": [
    {
     "name": "stdout",
     "output_type": "stream",
     "text": [
      "Has recibido un ingreso, tu nuevo saldo es 335\n"
     ]
    }
   ],
   "source": [
    "print('Has recibido un ingreso, tu nuevo saldo es',saldo + ingreso)\n"
   ]
  },
  {
   "cell_type": "code",
   "execution_count": null,
   "metadata": {},
   "outputs": [
    {
     "name": "stdout",
     "output_type": "stream",
     "text": [
      "Has gastado dinero, tu nuevo saldo es 220\n"
     ]
    }
   ],
   "source": [
    "print('Has gastado dinero, tu nuevo saldo es',saldo - gasto)\n"
   ]
  },
  {
   "cell_type": "code",
   "execution_count": null,
   "metadata": {},
   "outputs": [
    {
     "name": "stdout",
     "output_type": "stream",
     "text": [
      "Has tenido múltiples movidas en tu cuenta, tu saldo actual es 320\n"
     ]
    }
   ],
   "source": [
    "saldo = saldo + ingreso - gasto\n",
    "print('Has tenido múltiples movidas en tu cuenta, tu saldo actual es',saldo)"
   ]
  },
  {
   "cell_type": "markdown",
   "metadata": {},
   "source": [
    "Fácil, ¿verdad? La multiplicación y la división se hacen con `*` y `/` respectivamente. Vemos un ejemplo:"
   ]
  },
  {
   "cell_type": "code",
   "execution_count": null,
   "metadata": {},
   "outputs": [],
   "source": [
    "unidades_por_pack_de_ahorro = 3\n",
    "packs_vendidos = 5"
   ]
  },
  {
   "cell_type": "code",
   "execution_count": null,
   "metadata": {},
   "outputs": [
    {
     "name": "stdout",
     "output_type": "stream",
     "text": [
      "Has vendido 15 unidades.\n"
     ]
    }
   ],
   "source": [
    "print('Has vendido',unidades_por_pack_de_ahorro*packs_vendidos,'unidades.')\n"
   ]
  },
  {
   "cell_type": "code",
   "execution_count": null,
   "metadata": {},
   "outputs": [
    {
     "name": "stdout",
     "output_type": "stream",
     "text": [
      "Nos queda stock para vender 5.0 packs.\n"
     ]
    }
   ],
   "source": [
    "unidades_en_almacen = 15\n",
    "print('Nos queda stock para vender',unidades_en_almacen/unidades_por_pack_de_ahorro,'packs.')"
   ]
  },
  {
   "cell_type": "markdown",
   "metadata": {},
   "source": [
    "La división ya la vimos en el apartado de tipos también. ¿Ves como da un float (`5.0`), aunque no necesite una decimal? Pues en este caso no nos interesan los packs parciales que nos queden, solo la cantidad de packs enteros que podría vender. Además, me interesaría saber si me quedan unidades sueltas que no dan para otro pack.\n",
    "\n",
    "Para esta situación, en vez de usar la división normal `/`, podemos usar la división entera `//` y el residuo `%`. Ojo que aunque sea el símbolo de porcentaje, ¡aquí no se trata de un porcentaje!\n",
    "\n",
    "Repetimos el ejemplo anterior con los nuevos operadores:"
   ]
  },
  {
   "cell_type": "code",
   "execution_count": null,
   "metadata": {},
   "outputs": [],
   "source": [
    "unidades_por_pack_de_ahorro = 3\n",
    "packs_vendidos = 5\n",
    "unidades_en_almacen = 17"
   ]
  },
  {
   "cell_type": "code",
   "execution_count": null,
   "metadata": {},
   "outputs": [
    {
     "name": "stdout",
     "output_type": "stream",
     "text": [
      "Has vendido 15 unidades.\n"
     ]
    }
   ],
   "source": [
    "print('Has vendido',unidades_por_pack_de_ahorro*packs_vendidos,'unidades.')\n"
   ]
  },
  {
   "cell_type": "code",
   "execution_count": null,
   "metadata": {},
   "outputs": [
    {
     "name": "stdout",
     "output_type": "stream",
     "text": [
      "Nos queda stock para vender 5 packs, y 2 unidades sueltas.\n"
     ]
    }
   ],
   "source": [
    "print('Nos queda stock para vender',unidades_en_almacen//unidades_por_pack_de_ahorro,'packs, y',unidades_en_almacen%unidades_por_pack_de_ahorro,'unidades sueltas.')"
   ]
  },
  {
   "cell_type": "markdown",
   "metadata": {},
   "source": [
    "El operador `**` se usa para elevar un número a otro. Aquí tenéis dos ejemplos:"
   ]
  },
  {
   "cell_type": "code",
   "execution_count": null,
   "metadata": {},
   "outputs": [
    {
     "name": "stdout",
     "output_type": "stream",
     "text": [
      "Un paquete cúbico de 20 cm contiene 8.0 litros.\n"
     ]
    }
   ],
   "source": [
    "paquete_cm = 20\n",
    "paquete_litros = (paquete_cm / 10) ** 3\n",
    "print('Un paquete cúbico de',paquete_cm,'cm contiene',paquete_litros,'litros.')"
   ]
  },
  {
   "cell_type": "code",
   "execution_count": null,
   "metadata": {},
   "outputs": [
    {
     "name": "stdout",
     "output_type": "stream",
     "text": [
      "La raíz de 5 es 2.23606797749979\n"
     ]
    }
   ],
   "source": [
    "variable = 5\n",
    "raiz = variable ** 0.5\n",
    "print('La raíz de',variable,'es',raiz)"
   ]
  },
  {
   "cell_type": "markdown",
   "metadata": {},
   "source": [
    "Muchas veces no nos interesa tener todos los decimales. Si el valor numérico se refiere a una cantidad en euros, por ejemplo, nos suelen interesar sólo los céntimos, es decir los primeros dos decimales. \n",
    "\n",
    "Para redondear tenemos la función `round()`. Como argumento le damos la variable o el número que tiene que redondear. Opcionalmente puedes añadir un segundo argumento a esta función para decirle cuántos decimales te interesan. Si no añades nada más, ese segundo valor se queda por defecto en `0`.\n",
    "\n",
    "Mira los dos ejemplos abajo. Nota como el precio lo redondeamos a 2 decimales, mientras para los chuches no le damos un segundo argumento. Cambia los decimales y mira qué pasa."
   ]
  },
  {
   "cell_type": "code",
   "execution_count": null,
   "metadata": {},
   "outputs": [
    {
     "name": "stdout",
     "output_type": "stream",
     "text": [
      "€ 13.14\n"
     ]
    }
   ],
   "source": [
    "valor_del_stock = 236.45\n",
    "unidades_en_stock = 18\n",
    "precio_minimo_por_unidad = round(valor_del_stock/unidades_en_stock,2)\n",
    "print('€',precio_minimo_por_unidad)"
   ]
  },
  {
   "cell_type": "code",
   "execution_count": null,
   "metadata": {},
   "outputs": [
    {
     "name": "stdout",
     "output_type": "stream",
     "text": [
      "3 chuches\n"
     ]
    }
   ],
   "source": [
    "ninos_en_clase = 29\n",
    "chuches_por_bolsa = 75\n",
    "chuches_por_nino = round(chuches_por_bolsa/ninos_en_clase)\n",
    "print(chuches_por_nino,'chuches')"
   ]
  },
  {
   "cell_type": "markdown",
   "metadata": {},
   "source": [
    "# Operaciones binarias\n",
    "En la sección de tipos de datos introducimos las variables booleanas. Son útiles a la hora de querer evaluar sentencias, o comparar contenidos de variables."
   ]
  },
  {
   "cell_type": "code",
   "execution_count": null,
   "metadata": {},
   "outputs": [],
   "source": [
    "cucharas_de_azucar = 5\n",
    "cucharas_en_receta1 = 7\n",
    "cucharas_en_receta2 = 5"
   ]
  },
  {
   "cell_type": "code",
   "execution_count": null,
   "metadata": {},
   "outputs": [
    {
     "name": "stdout",
     "output_type": "stream",
     "text": [
      "False\n"
     ]
    }
   ],
   "source": [
    "# Es el valor de cucharas de azucar = a cucharas en receta1. \n",
    "print(cucharas_de_azucar == cucharas_en_receta1)\n"
   ]
  },
  {
   "cell_type": "code",
   "execution_count": null,
   "metadata": {},
   "outputs": [
    {
     "name": "stdout",
     "output_type": "stream",
     "text": [
      "True\n"
     ]
    }
   ],
   "source": [
    "# Es el valor de cucharas de azucar = a cucharas en receta2. \n",
    "\n",
    "print(cucharas_de_azucar == cucharas_en_receta2)\n"
   ]
  },
  {
   "cell_type": "code",
   "execution_count": null,
   "metadata": {},
   "outputs": [
    {
     "name": "stdout",
     "output_type": "stream",
     "text": [
      "False\n"
     ]
    }
   ],
   "source": [
    "# es el valor de la variable cucharas de azucar la variable cucharas en receta1.\n",
    "print(cucharas_de_azucar is cucharas_en_receta1)\n"
   ]
  },
  {
   "cell_type": "code",
   "execution_count": null,
   "metadata": {},
   "outputs": [
    {
     "name": "stdout",
     "output_type": "stream",
     "text": [
      "True\n"
     ]
    }
   ],
   "source": [
    "# es el valor de la variable cucharas de azucar la variable cucharas en receta1.\n",
    "\n",
    "print(cucharas_de_azucar is cucharas_en_receta2)"
   ]
  },
  {
   "cell_type": "markdown",
   "metadata": {},
   "source": [
    "Para evaluar si la cantidad de azúcar que tenemos nos da para una o ambas recetas podríamos ver si sus *valores* coinciden, con `==`. En este caso las variables son del tipo `int`,  por lo tanto,  también podemos usar la palabra `is`, que es un sinónimo para el operador `==`.\n",
    "\n",
    "Ojo que dependiendo de la forma en que definas los valores, el tipo cambia. Supongamos que, sin darnos cuenta, definimos las cantidades de cucharas como *float*. Mira qué pasa con las evaluaciones con `==` e `is`."
   ]
  },
  {
   "cell_type": "code",
   "execution_count": null,
   "metadata": {},
   "outputs": [],
   "source": [
    "cucharas_de_azucar = 5.0\n",
    "cucharas_en_receta2 = 5.0"
   ]
  },
  {
   "cell_type": "code",
   "execution_count": null,
   "metadata": {},
   "outputs": [
    {
     "name": "stdout",
     "output_type": "stream",
     "text": [
      "True\n"
     ]
    }
   ],
   "source": [
    "print(cucharas_de_azucar == cucharas_en_receta2)\n"
   ]
  },
  {
   "cell_type": "code",
   "execution_count": null,
   "metadata": {},
   "outputs": [
    {
     "name": "stdout",
     "output_type": "stream",
     "text": [
      "False\n"
     ]
    }
   ],
   "source": [
    "print(cucharas_de_azucar is cucharas_en_receta2)"
   ]
  },
  {
   "cell_type": "markdown",
   "metadata": {},
   "source": [
    "Ahora bien, si hemos hecho la receta 2 sabemos que la cantidad de cucharas que fue usada fue igual a la de la receta2. Si ahora compramos esas dos variables, vemos que, como la una **apunta** a la otra, la evaluación con `is` también devuelve un `True`."
   ]
  },
  {
   "cell_type": "code",
   "execution_count": null,
   "metadata": {},
   "outputs": [],
   "source": [
    "cucharas_en_receta2 = 5.0\n",
    "cucharas_usadas = cucharas_en_receta2"
   ]
  },
  {
   "cell_type": "code",
   "execution_count": null,
   "metadata": {},
   "outputs": [
    {
     "name": "stdout",
     "output_type": "stream",
     "text": [
      "True\n"
     ]
    }
   ],
   "source": [
    "print(cucharas_usadas == cucharas_en_receta2)\n"
   ]
  },
  {
   "cell_type": "code",
   "execution_count": null,
   "metadata": {},
   "outputs": [
    {
     "name": "stdout",
     "output_type": "stream",
     "text": [
      "True\n"
     ]
    }
   ],
   "source": [
    "print(cucharas_usadas is cucharas_en_receta2)"
   ]
  },
  {
   "cell_type": "markdown",
   "metadata": {},
   "source": [
    "Esto no significa que usar `==` sea mejor ni peor que `is`, sólo que hay que tener cuidado a la hora de usarlos si realmente hacen lo que quieren en ese punto."
   ]
  },
  {
   "cell_type": "markdown",
   "metadata": {},
   "source": [
    "También nos puede interesar si dos variables son diferentes. Para evaluar si dos *valores* son distintos podemos usar `!=`. Para ver si dos variables *apuntan* a sitios distintos en la memoria usa `is not`."
   ]
  },
  {
   "cell_type": "code",
   "execution_count": null,
   "metadata": {},
   "outputs": [
    {
     "name": "stdout",
     "output_type": "stream",
     "text": [
      "5.0\n",
      "5.0\n"
     ]
    }
   ],
   "source": [
    "# recordemos que valores tenían las variables cucharas_de_azucar y cucharas_en_receta2\n",
    "print(cucharas_de_azucar)\n",
    "print(cucharas_en_receta2) \n"
   ]
  },
  {
   "cell_type": "code",
   "execution_count": null,
   "metadata": {},
   "outputs": [],
   "source": [
    "# creemos una variable nueva que se llame cucharas_en_bote\n",
    "cucharas_en_bote = 5\n"
   ]
  },
  {
   "cell_type": "code",
   "execution_count": null,
   "metadata": {},
   "outputs": [
    {
     "name": "stdout",
     "output_type": "stream",
     "text": [
      "True\n"
     ]
    }
   ],
   "source": [
    "print(cucharas_de_azucar is not cucharas_en_receta2)\n"
   ]
  },
  {
   "cell_type": "code",
   "execution_count": null,
   "metadata": {},
   "outputs": [
    {
     "name": "stdout",
     "output_type": "stream",
     "text": [
      "False\n"
     ]
    }
   ],
   "source": [
    "print(cucharas_de_azucar != cucharas_en_receta2)"
   ]
  },
  {
   "cell_type": "markdown",
   "metadata": {},
   "source": [
    "Las dos primeras variables apuntan a sitios distintos, definidos exactamente iguales por casualidad, y por tanto la evaluación `is not` es verdadera. En cambio comparando el valor del `int` de las cucharas que quedan en el bote, con el `float` la evaluación `!=` devuelve un `False` porque los valores no son distintos."
   ]
  },
  {
   "cell_type": "markdown",
   "metadata": {},
   "source": [
    "Si lo pensamos, en el caso del azúcar realmente no nos interesa si son iguales las cantidades, ¿verdad? Más bien queremos evaluar si la cantidad que nos queda en casa da para hacer la receta o no. Esto se puede evaluar de muchas maneras, y ninguna de ella más correcta que otra. Miremos los primeros dos, usando el símbolo de *menor que* `<` y el símbolo de *mayor qué* `>`:"
   ]
  },
  {
   "cell_type": "code",
   "execution_count": null,
   "metadata": {},
   "outputs": [],
   "source": [
    "cucharas_que_quedan = 7\n",
    "cucharas_en_receta = 5"
   ]
  },
  {
   "cell_type": "code",
   "execution_count": null,
   "metadata": {},
   "outputs": [
    {
     "name": "stdout",
     "output_type": "stream",
     "text": [
      "Podemos hacer la receta si:\n",
      "True es True\n",
      "True es True\n"
     ]
    }
   ],
   "source": [
    "print('Podemos hacer la receta si:')\n",
    "print(cucharas_en_receta < cucharas_que_quedan,'es True')\n",
    "print(cucharas_que_quedan > cucharas_en_receta,'es True')"
   ]
  },
  {
   "cell_type": "markdown",
   "metadata": {},
   "source": [
    "¿Qué pasa si nos quedan 5 cucharas solo? ¿Podríamos hacer la receta o no? Cambia el ejemplo de arriba y mira qué pasa."
   ]
  },
  {
   "cell_type": "markdown",
   "metadata": {},
   "source": [
    "Hasta ahora vimos igual, distinto de , menor que, y mayor que. Estas (`=` y `<` o `>`) se pueden combinar usando `<=` y `>=`. Nota que la combinación desigual y menor que se puede escribir con `>` y la combinación de distinto de y mayor que se pueden escribir con `<`. La combinación de `<` y `>` también ya la hemos visto: `!=`."
   ]
  },
  {
   "cell_type": "code",
   "execution_count": null,
   "metadata": {},
   "outputs": [
    {
     "name": "stdout",
     "output_type": "stream",
     "text": [
      "Podemos hacer la receta si:\n",
      "True es True\n",
      "True es True\n",
      "Nos sobrará azúcar si:\n",
      "True es True\n",
      "True es True\n"
     ]
    }
   ],
   "source": [
    "cucharas_que_quedan = 7\n",
    "cucharas_en_receta = 5\n",
    "\n",
    "print('Podemos hacer la receta si:')\n",
    "print(cucharas_en_receta <= cucharas_que_quedan,'es True')\n",
    "print(cucharas_que_quedan >= cucharas_en_receta,'es True')\n",
    "print('Nos sobrará azúcar si:')\n",
    "print(cucharas_en_receta < cucharas_que_quedan,'es True')\n",
    "print(cucharas_que_quedan > cucharas_en_receta,'es True')"
   ]
  },
  {
   "cell_type": "markdown",
   "metadata": {},
   "source": [
    "Todas las evaluaciones que vimos se han evaluado a un `True` o un `False`. Para comprobar si se cumplen múltiples criterios se puede usar las palabras `and` y `or`, que se traducen a las palabras *y* y *o* en castellano."
   ]
  },
  {
   "cell_type": "code",
   "execution_count": null,
   "metadata": {},
   "outputs": [],
   "source": [
    "huevos_que_quedan = 4\n",
    "azúcar_que_queda_litros = 250\n",
    "harina_bizcocho_que_queda_gramos = 500\n",
    "harina_trigo_que_queda_gramos = 500\n",
    "impulsor_quimico_que_queda_cucharas = 2"
   ]
  },
  {
   "cell_type": "code",
   "execution_count": null,
   "metadata": {},
   "outputs": [
    {
     "name": "stdout",
     "output_type": "stream",
     "text": [
      "Podemos hacer la receta 1?\n",
      "True\n"
     ]
    }
   ],
   "source": [
    "print('Podemos hacer la receta 1?')\n",
    "print(huevos_que_quedan >= 4 \n",
    "      and azúcar_que_queda_litros >= 120 \n",
    "      and (harina_bizcocho_que_queda_gramos >= 120 \n",
    "          or (harina_trigo_que_queda_gramos >= 120 \n",
    "             and impulsor_quimico_que_queda_cucharas >= 1.5)))"
   ]
  },
  {
   "cell_type": "markdown",
   "metadata": {},
   "source": [
    "Entonces ¿qué sabemos de la receta 1, mirando este código? ¿Qué ingredientes necesitas? Pista: son sólo 3. ¿Qué podríamos hacer si no nos queda suficiente harina para bizcocho?\n",
    "\n",
    "Cambia los valores de las cantidades y comprueba si la evaluación llega a la conclusión correcta."
   ]
  },
  {
   "cell_type": "markdown",
   "metadata": {},
   "source": [
    "# Métodos de los *strings* y la función `input()`\n",
    "\n",
    "En las secciones anteriores vimos operaciones con números y con booleanos, así que seguimos el hilo con operaciones para textos. Lo primero que hay que saber es que un `str` realmente es una cadena de caracteres. No importa si han sido definidos con comillas simples `''` o dobles `\"\"`. La cadena se puede ampliar con más caracteres sueltos u otras cadenas predefinidas y guardadas en otra variable. Como ya sabemos, las cadenas se pueden visualizar con `print()`. Lo repasamos con un ejemplo:"
   ]
  },
  {
   "cell_type": "code",
   "execution_count": null,
   "metadata": {},
   "outputs": [],
   "source": [
    "hola = 'Hello'\n",
    "nombre = \"Ada\"\n",
    "apellido = 'Lovelace'\n"
   ]
  },
  {
   "cell_type": "code",
   "execution_count": null,
   "metadata": {},
   "outputs": [
    {
     "name": "stdout",
     "output_type": "stream",
     "text": [
      "Ada Lovelace\n"
     ]
    }
   ],
   "source": [
    "nombre_completo = nombre + ' ' + apellido\n",
    "print(nombre_completo)"
   ]
  },
  {
   "cell_type": "markdown",
   "metadata": {},
   "source": [
    "Que recordemos es lo mismo que: "
   ]
  },
  {
   "cell_type": "code",
   "execution_count": null,
   "metadata": {},
   "outputs": [
    {
     "name": "stdout",
     "output_type": "stream",
     "text": [
      "Ada Lovelace\n"
     ]
    }
   ],
   "source": [
    "print(nombre, apellido)\n"
   ]
  },
  {
   "cell_type": "markdown",
   "metadata": {},
   "source": [
    "Bien, ahora vas a poder insertar tu propio nombre, y guardarlo en la variable `nombre`. Para eso usamos la función `input()`. Si trabajas en VS Code, al ejecutar la celda aquí abajo, abrirá un campo para escribir arriba en la ventana. No hace falta clicear en ello, simplemente escribe tu nombre y da a la tecla `Enter`. El programa espera en la línea que dice `input()` hasta que reciba el `Enter` para ejecutar el resto del código."
   ]
  },
  {
   "cell_type": "code",
   "execution_count": null,
   "metadata": {},
   "outputs": [
    {
     "name": "stdout",
     "output_type": "stream",
     "text": [
      "Ada Lovelace\n"
     ]
    }
   ],
   "source": [
    "nombre = input()\n",
    "print(nombre)"
   ]
  },
  {
   "cell_type": "markdown",
   "metadata": {},
   "source": [
    "Con tu nombre guardado en la variable, podemos construir una frase personalizada. Nota como la coma está *dentro* de las comillas."
   ]
  },
  {
   "cell_type": "code",
   "execution_count": null,
   "metadata": {},
   "outputs": [
    {
     "name": "stdout",
     "output_type": "stream",
     "text": [
      "Hello Ada Lovelace, ¡bienvenida a este bootcamp!\n"
     ]
    }
   ],
   "source": [
    "bienvenida = hola + ' ' + nombre + ', ¡bienvenida a este bootcamp!'\n",
    "print(bienvenida)"
   ]
  },
  {
   "cell_type": "markdown",
   "metadata": {},
   "source": [
    "## `upper()`\n",
    "\n",
    "Pone todas las letras en mayúscula. Ya que tenemos una frase, es decir una cadena de texto un poco más larga, podemos manipularla, por ejemplo ponerla en mayúsculas o minúsculas. En inglés se llaman *upper case* y *lower case*. Jugamos un poco con esto:"
   ]
  },
  {
   "cell_type": "code",
   "execution_count": null,
   "metadata": {},
   "outputs": [
    {
     "name": "stdout",
     "output_type": "stream",
     "text": [
      "HELLO ANA, ¡BIENVENIDA A ESTE BOOTCAMP!\n"
     ]
    }
   ],
   "source": [
    "# convertimos todas las letras a mayúsculas\n",
    "print(bienvenida.upper())\n"
   ]
  },
  {
   "cell_type": "markdown",
   "metadata": {},
   "source": [
    "¿Qué pasará si ahora volvemos a ver el contenido de bienvenida usando un `print()`? ¿Estará en mayúscula o como estaba originalmente?"
   ]
  },
  {
   "cell_type": "code",
   "execution_count": null,
   "metadata": {},
   "outputs": [
    {
     "name": "stdout",
     "output_type": "stream",
     "text": [
      "Hello Ana, ¡bienvenida a este bootcamp!\n"
     ]
    }
   ],
   "source": [
    "print(bienvenida)"
   ]
  },
  {
   "cell_type": "markdown",
   "metadata": {},
   "source": [
    "Vaya.... no se ha quedado todo en mayúsculas... 😢. ¿Cómo podríamos hacer para que son guardará todo en mayúsculas? Crearnos una nueva variable"
   ]
  },
  {
   "cell_type": "code",
   "execution_count": null,
   "metadata": {},
   "outputs": [
    {
     "name": "stdout",
     "output_type": "stream",
     "text": [
      "HELLO ANA, ¡BIENVENIDA A ESTE BOOTCAMP!\n"
     ]
    }
   ],
   "source": [
    "bienvenida_mayus = bienvenida.upper()\n",
    "print(bienvenida_mayus)"
   ]
  },
  {
   "cell_type": "markdown",
   "metadata": {},
   "source": [
    "## `lower()`\n",
    "\n",
    "Pone todas las letras de nuestro *string* en minúscula. "
   ]
  },
  {
   "cell_type": "code",
   "execution_count": null,
   "metadata": {},
   "outputs": [
    {
     "name": "stdout",
     "output_type": "stream",
     "text": [
      "hello ana, ¡bienvenida a este bootcamp!\n"
     ]
    }
   ],
   "source": [
    "# convertimos todas las letras a minúsculas\n",
    "print(bienvenida.lower())\n"
   ]
  },
  {
   "cell_type": "markdown",
   "metadata": {},
   "source": [
    "## `capitalize()`\n",
    "\n",
    "Para poner la primera letra de la frase en mayúscula\n"
   ]
  },
  {
   "cell_type": "code",
   "execution_count": null,
   "metadata": {},
   "outputs": [
    {
     "name": "stdout",
     "output_type": "stream",
     "text": [
      "Hello ana, ¡bienvenida a este bootcamp!\n"
     ]
    }
   ],
   "source": [
    "print(bienvenida.capitalize())"
   ]
  },
  {
   "cell_type": "markdown",
   "metadata": {},
   "source": [
    "## `title()`\n",
    "\n",
    "Para poner la primera letra de cada palabra en mayúscula"
   ]
  },
  {
   "cell_type": "code",
   "execution_count": null,
   "metadata": {},
   "outputs": [
    {
     "name": "stdout",
     "output_type": "stream",
     "text": [
      "Hello Ana, ¡Bienvenida A Este Bootcamp!\n"
     ]
    }
   ],
   "source": [
    "print(bienvenida.title())"
   ]
  },
  {
   "cell_type": "markdown",
   "metadata": {},
   "source": [
    "## `swapcase()`\n",
    "\n",
    "Para convertir las mayúsculas en minúsculas y las minúsculas en mayúsculas"
   ]
  },
  {
   "cell_type": "code",
   "execution_count": null,
   "metadata": {},
   "outputs": [
    {
     "name": "stdout",
     "output_type": "stream",
     "text": [
      "hELLO aDA lOVELACE, ¡BIENVENIDA A ESTE BOOTCAMP!\n"
     ]
    }
   ],
   "source": [
    "print(bienvenida.swapcase())"
   ]
  },
  {
   "cell_type": "markdown",
   "metadata": {},
   "source": [
    "## `strip()`\n",
    "\n",
    "Otro método que podría servirnos es `.strip()`. `strip` quita todos los espacios que haya al principio y al final del *string*:"
   ]
  },
  {
   "cell_type": "code",
   "execution_count": null,
   "metadata": {},
   "outputs": [],
   "source": [
    "bienvenida2 = '    Nos alegra que estés aquí.     '"
   ]
  },
  {
   "cell_type": "code",
   "execution_count": null,
   "metadata": {},
   "outputs": [
    {
     "name": "stdout",
     "output_type": "stream",
     "text": [
      "    Nos alegra que estés aquí.     \n"
     ]
    }
   ],
   "source": [
    "print(bienvenida2)\n"
   ]
  },
  {
   "cell_type": "code",
   "execution_count": null,
   "metadata": {},
   "outputs": [
    {
     "name": "stdout",
     "output_type": "stream",
     "text": [
      "Nos alegra que estés aquí.\n"
     ]
    }
   ],
   "source": [
    "print(bienvenida2.strip())"
   ]
  },
  {
   "cell_type": "markdown",
   "metadata": {},
   "source": [
    "Recordamos que aunque hayamos aplicado el método `strip` no queda guardado en la variable y que tendremos que sobreescribirla o crear una variable nueva. "
   ]
  },
  {
   "cell_type": "code",
   "execution_count": null,
   "metadata": {},
   "outputs": [
    {
     "data": {
      "text/plain": [
       "'    Nos alegra que estés aquí.     '"
      ]
     },
     "execution_count": 105,
     "metadata": {},
     "output_type": "execute_result"
    }
   ],
   "source": [
    "bienvenida2"
   ]
  },
  {
   "cell_type": "code",
   "execution_count": null,
   "metadata": {},
   "outputs": [],
   "source": [
    "bienvenida2_strip = bienvenida2.strip()"
   ]
  },
  {
   "cell_type": "code",
   "execution_count": null,
   "metadata": {},
   "outputs": [
    {
     "data": {
      "text/plain": [
       "'Nos alegra que estés aquí.'"
      ]
     },
     "execution_count": 104,
     "metadata": {},
     "output_type": "execute_result"
    }
   ],
   "source": [
    "# y voilá ya no tenemos espacios\n",
    "bienvenida2_strip"
   ]
  },
  {
   "cell_type": "markdown",
   "metadata": {},
   "source": [
    "## `split()` \n",
    "\n",
    "\n",
    "El método split() divide un *string* en una lista.\n",
    "\n",
    "Podemos especificar el separador, el cuál por defecto es cualquier espacio en blanco."
   ]
  },
  {
   "cell_type": "code",
   "execution_count": null,
   "metadata": {},
   "outputs": [],
   "source": [
    "# definamos un nuevo string\n",
    "\n",
    "saludo = \"Buenos dias chicas, sigamos aprendiendo métodos de los strings\""
   ]
  },
  {
   "cell_type": "code",
   "execution_count": null,
   "metadata": {},
   "outputs": [
    {
     "data": {
      "text/plain": [
       "['Buenos',\n",
       " 'dias',\n",
       " 'chicas,',\n",
       " 'sigamos',\n",
       " 'aprendiendo',\n",
       " 'métodos',\n",
       " 'de',\n",
       " 'los',\n",
       " 'strings']"
      ]
     },
     "execution_count": 14,
     "metadata": {},
     "output_type": "execute_result"
    }
   ],
   "source": [
    "# si hacemos un split sin especificar separador, veremos que nos devuelve una lista, donde separa nuestro string por los espacios\n",
    "\n",
    "saludo_separado = saludo.split()\n",
    "saludo_separado"
   ]
  },
  {
   "cell_type": "markdown",
   "metadata": {},
   "source": [
    "Pero también podemos especificar un separador, en este caso, separaremos por las \"d\". Vemoas que es lo que pasa:"
   ]
  },
  {
   "cell_type": "code",
   "execution_count": null,
   "metadata": {},
   "outputs": [
    {
     "data": {
      "text/plain": [
       "['Buenos ',\n",
       " 'ias chicas, sigamos apren',\n",
       " 'ien',\n",
       " 'o méto',\n",
       " 'os ',\n",
       " 'e los strings']"
      ]
     },
     "execution_count": 15,
     "metadata": {},
     "output_type": "execute_result"
    }
   ],
   "source": [
    "saludo_separado2 = saludo.split(\"d\")\n",
    "saludo_separado2"
   ]
  },
  {
   "cell_type": "markdown",
   "metadata": {},
   "source": [
    "Como vemos, lo que ha ocurrido es que nos ha creado una lista, donde nos ha separado el *string* anterior en cada punto donde se encontro una \"d\". Imaginemos ahora que tenemos un *string* multilínea: "
   ]
  },
  {
   "cell_type": "code",
   "execution_count": null,
   "metadata": {},
   "outputs": [],
   "source": [
    "don_quijote = \"\"\"En un lugar de la Mancha, de cuyo nombre no quiero acordarme, no ha mucho tiempo que vivía un hidalgo de los de \n",
    "lanza en astillero, adarga antigua, rocín flaco y galgo corredor. Una olla de algo más vaca que carnero, salpicón las más noches,\n",
    "duelos y quebrantos los sábados, lantejas los viernes, algún palomino de añadidura los domingos, \n",
    "consumían las tres partes de su hacienda.\"\"\""
   ]
  },
  {
   "cell_type": "code",
   "execution_count": null,
   "metadata": {},
   "outputs": [
    {
     "data": {
      "text/plain": [
       "'En un lugar de la Mancha, de cuyo nombre no quiero acordarme, no ha mucho tiempo que vivía un hidalgo de los de \\nlanza en astillero, adarga antigua, rocín flaco y galgo corredor. Una olla de algo más vaca que carnero, salpicón las más noches,\\nduelos y quebrantos los sábados, lantejas los viernes, algún palomino de añadidura los domingos, \\nconsumían las tres partes de su hacienda.'"
      ]
     },
     "execution_count": 23,
     "metadata": {},
     "output_type": "execute_result"
    }
   ],
   "source": [
    "# si nos fijamos, cada líena esta separado por una \"\\n\", es el símbolo que usará python para indicar el salto de línea. \n",
    "don_quijote"
   ]
  },
  {
   "cell_type": "markdown",
   "metadata": {},
   "source": [
    "En este caso, queremos separar nuestro *string* por esos saltos de línea, para eso deberemos ..."
   ]
  },
  {
   "cell_type": "code",
   "execution_count": null,
   "metadata": {},
   "outputs": [
    {
     "data": {
      "text/plain": [
       "['En un lugar de la Mancha, de cuyo nombre no quiero acordarme, no ha mucho tiempo que vivía un hidalgo de los de ',\n",
       " 'lanza en astillero, adarga antigua, rocín flaco y galgo corredor. Una olla de algo más vaca que carnero, salpicón las más noches,',\n",
       " 'duelos y quebrantos los sábados, lantejas los viernes, algún palomino de añadidura los domingos, ',\n",
       " 'consumían las tres partes de su hacienda.']"
      ]
     },
     "execution_count": 24,
     "metadata": {},
     "output_type": "execute_result"
    }
   ],
   "source": [
    "don_quijote_separado = don_quijote.split(\"\\n\")\n",
    "don_quijote_separado"
   ]
  },
  {
   "cell_type": "markdown",
   "metadata": {},
   "source": [
    "## `replace()`\n",
    "\n",
    "Sustituye una frase especificada por otra frase especificada.\n",
    "\n",
    "\n"
   ]
  },
  {
   "cell_type": "code",
   "execution_count": null,
   "metadata": {},
   "outputs": [
    {
     "data": {
      "text/plain": [
       "'Buenos dias chicas, sigamos aprendiendo métodos de los strings'"
      ]
     },
     "execution_count": 25,
     "metadata": {},
     "output_type": "execute_result"
    }
   ],
   "source": [
    "# recordemos que era saludo\n",
    "\n",
    "saludo"
   ]
  },
  {
   "cell_type": "markdown",
   "metadata": {},
   "source": [
    "En este caso, queremos reemplazar la palabra \"chicas\" por \"Adalabers\". "
   ]
  },
  {
   "cell_type": "code",
   "execution_count": null,
   "metadata": {},
   "outputs": [
    {
     "data": {
      "text/plain": [
       "'Buenos dias Adalaber, sigamos aprendiendo métodos de los strings'"
      ]
     },
     "execution_count": 26,
     "metadata": {},
     "output_type": "execute_result"
    }
   ],
   "source": [
    "saludo_adalaber = saludo.replace(\"chicas\", \"Adalaber\")\n",
    "saludo_adalaber"
   ]
  },
  {
   "cell_type": "markdown",
   "metadata": {},
   "source": [
    "Si nos fijamos, este método nos ha permitido reemplazar la palabra \"chicas\" por \"Adalaber\". En este método le podemos pasar otro parámetro que hace referencia al número de elementos que queremos reemplazar. "
   ]
  },
  {
   "cell_type": "code",
   "execution_count": null,
   "metadata": {},
   "outputs": [
    {
     "data": {
      "text/plain": [
       "'En un lugar de la Mancha, de cuyo nombre no quiero acordarme, no ha mucho tiempo que vivía un hidalgo de los de \\nlanza en astillero, adarga antigua, rocín flaco y galgo corredor. Una olla de algo más vaca que carnero, salpicón las más noches,\\nduelos y quebrantos los sábados, lantejas los viernes, algún palomino de añadidura los domingos, \\nconsumían las tres partes de su hacienda.'"
      ]
     },
     "execution_count": 27,
     "metadata": {},
     "output_type": "execute_result"
    }
   ],
   "source": [
    "# volvamos a ver el don quijote\n",
    "\n",
    "don_quijote"
   ]
  },
  {
   "cell_type": "markdown",
   "metadata": {},
   "source": [
    "En este caso, si nos fijamos, tenemos tres \"los\" en el texto. Pero puede ser que solo nos interese reemplazar los dos primeros, con Python y `replace` lo podemos hacer. Veamos cómo: "
   ]
  },
  {
   "cell_type": "code",
   "execution_count": null,
   "metadata": {},
   "outputs": [
    {
     "data": {
      "text/plain": [
       "'En un lugar de la Mancha, de cuyo nombre no quiero acordarme, no ha mucho tiempo que vivía un hidalgo de DON QUIJOTE de \\nlanza en astillero, adarga antigua, rocín flaco y galgo corredor. Una olla de algo más vaca que carnero, salpicón las más noches,\\nduelos y quebrantos DON QUIJOTE sábados, lantejas los viernes, algún palomino de añadidura los domingos, \\nconsumían las tres partes de su hacienda.'"
      ]
     },
     "execution_count": 3,
     "metadata": {},
     "output_type": "execute_result"
    }
   ],
   "source": [
    "don_quijote_cambiado = don_quijote.replace(\" los \", \" DON QUIJOTE \", 2)\n",
    "don_quijote_cambiado"
   ]
  },
  {
   "cell_type": "markdown",
   "metadata": {},
   "source": [
    "Si nos fijamos ahora, se han reemplazado los dos primeros \"los\", mientras que el último se ha conservado. "
   ]
  },
  {
   "cell_type": "markdown",
   "metadata": {},
   "source": [
    "## `join()` \n",
    "\n",
    "Toma todos los elementos de un iterable (una lista o una tupla) y los une en un *string*.\n",
    "\n",
    "Debemos especificar un *string* como separador."
   ]
  },
  {
   "cell_type": "code",
   "execution_count": null,
   "metadata": {},
   "outputs": [],
   "source": [
    "# lo primero definimos una lista (no las hemos visto todavía, pero pronto las aprenderemos)\n",
    "\n",
    "lista_saludo = [\"Hola\", \"que tal estas\", \"Adalaber\"]"
   ]
  },
  {
   "cell_type": "markdown",
   "metadata": {},
   "source": [
    "Nuestro objetivo es unir cada elemento de esa lista en un único *string* "
   ]
  },
  {
   "cell_type": "code",
   "execution_count": null,
   "metadata": {},
   "outputs": [
    {
     "data": {
      "text/plain": [
       "'Hola que tal estas Adalaber'"
      ]
     },
     "execution_count": 31,
     "metadata": {},
     "output_type": "execute_result"
    }
   ],
   "source": [
    "string_saludo1 =  \" \".join(lista_saludo)\n",
    "string_saludo1"
   ]
  },
  {
   "cell_type": "markdown",
   "metadata": {},
   "source": [
    "Si te fijas, hemos unido todos los elementos de la lista en un único string separado por espacios. También podríamos separlos por una \"_\" de la siguiente forma: \n"
   ]
  },
  {
   "cell_type": "code",
   "execution_count": null,
   "metadata": {},
   "outputs": [
    {
     "data": {
      "text/plain": [
       "'Hola_que tal estas_Adalaber'"
      ]
     },
     "execution_count": 32,
     "metadata": {},
     "output_type": "execute_result"
    }
   ],
   "source": [
    "string_saludo2 =  \"_\".join(lista_saludo)\n",
    "string_saludo2"
   ]
  },
  {
   "cell_type": "markdown",
   "metadata": {},
   "source": [
    "## `find()`\n",
    "\n",
    "Encuentra la primera aparición del valor especificado. Este método va a devolver -1 si no se encuentra el valor. Si encuentra una coincidencia, nos devuelve el número de la posición donde se encuentra el *string* que estamos buscando. \n",
    "\n",
    "El método `find() `es prácticamente igual que el método `index()`, la única diferencia es que el método index() lanza una excepción si no se encuentra el valor.\n",
    "\n",
    "Su sintaxis es: \n",
    "\n",
    "```python\n",
    "string.find(valor, inicio, final)\n",
    "```\n",
    "Donde: \n",
    "\n",
    "- `valor`: hace referencia a el *string*  que queremos buscar.\n",
    "\n",
    "- `inicio`: hace referencia a la posición donde queremos empezar a buscar.\n",
    "\n",
    "- `final`: hace referencia a la posición donde queremos finalizar la búsqueda."
   ]
  },
  {
   "cell_type": "code",
   "execution_count": null,
   "metadata": {},
   "outputs": [
    {
     "data": {
      "text/plain": [
       "'Buenos dias chicas, sigamos aprendiendo métodos de los strings'"
      ]
     },
     "execution_count": 34,
     "metadata": {},
     "output_type": "execute_result"
    }
   ],
   "source": [
    "# recordemos saludo\n",
    "\n",
    "saludo"
   ]
  },
  {
   "cell_type": "markdown",
   "metadata": {},
   "source": [
    "Vamos a querer buscar todas las \"m\" de nuestro saludo. Empezando por la letra que está en la posición 10, hasta la letra que esta en posición 30"
   ]
  },
  {
   "cell_type": "markdown",
   "metadata": {},
   "source": []
  },
  {
   "cell_type": "code",
   "execution_count": null,
   "metadata": {},
   "outputs": [
    {
     "data": {
      "text/plain": [
       "24"
      ]
     },
     "execution_count": 36,
     "metadata": {},
     "output_type": "execute_result"
    }
   ],
   "source": [
    "saludo.find(\"m\", 10, 30)"
   ]
  },
  {
   "cell_type": "markdown",
   "metadata": {},
   "source": [
    "Es decir, en nuestro saludo, hat una \"m\" en la posición 24. "
   ]
  },
  {
   "cell_type": "markdown",
   "metadata": {},
   "source": [
    "Por último veamos que pasa si usamos un método de *string* en un número por ejemplo. Imaginamos que creamos una variable de tipo *interger* y le aplicamos un método de *strings*. ¿Qué creeis que pasará? Veámoslo: "
   ]
  },
  {
   "cell_type": "code",
   "execution_count": null,
   "metadata": {},
   "outputs": [],
   "source": [
    "# definimos la variable\n",
    "numero = 5"
   ]
  },
  {
   "cell_type": "code",
   "execution_count": null,
   "metadata": {},
   "outputs": [
    {
     "ename": "AttributeError",
     "evalue": "'int' object has no attribute 'upper'",
     "output_type": "error",
     "traceback": [
      "\u001b[1;31m---------------------------------------------------------------------------\u001b[0m",
      "\u001b[1;31mAttributeError\u001b[0m                            Traceback (most recent call last)",
      "\u001b[1;32mc:\\Users\\agarc\\Documents\\Adalab\\materiales-da-promo-b\\modulo-1\\modulo-1-python-basico\\assets\\notebooks\\modulo-1-leccion-01-variables.ipynb Cell 151'\u001b[0m in \u001b[0;36m<module>\u001b[1;34m\u001b[0m\n\u001b[1;32m----> <a href='vscode-notebook-cell:/c%3A/Users/agarc/Documents/Adalab/materiales-da-promo-b/modulo-1/modulo-1-python-basico/assets/notebooks/modulo-1-leccion-01-variables.ipynb#ch0000173?line=0'>1</a>\u001b[0m numero\u001b[39m.\u001b[39;49mupper()\n",
      "\u001b[1;31mAttributeError\u001b[0m: 'int' object has no attribute 'upper'"
     ]
    }
   ],
   "source": [
    "numero.upper()"
   ]
  },
  {
   "cell_type": "markdown",
   "metadata": {},
   "source": [
    "De nuevo nos devuelve un error, y si lo leemos seremos capaces de entender que es lo que esta pasando. En este caso nos dice `AttributeError: 'int' object has no attribute 'upper'`. \n",
    "\n",
    "¿Qué significa esto? \n",
    "\n",
    "Nos está diciendo que los objetos de tipo `int` no tienen el atributo `upper`. Es decir, no podemos aplicar un método propio de *strings* en *integers*. "
   ]
  },
  {
   "cell_type": "markdown",
   "metadata": {},
   "source": [
    "¡Vaya cantidad de métodos hay para `string`! ¿Has encontrado el método `.upper()`? Si quieres cotillear puedes llamar a cada una de ellos en una celda nuev y ver qué devuelven.  En la lista de VS Code también te saldrán bastantes opciones con el formato `__add__`. Son métodos especiales que de momento no nos interesan. Si usas la terminal, con la tecla `Tab` estos métodos no te aparecerán. \n",
    "\n",
    "Os dejamos un `int` y un `float` para mirar qué métodos existen para ellos, aunque no son tantos que para los `string`."
   ]
  },
  {
   "cell_type": "code",
   "execution_count": null,
   "metadata": {},
   "outputs": [
    {
     "data": {
      "text/plain": [
       "36.5"
      ]
     },
     "execution_count": 112,
     "metadata": {},
     "output_type": "execute_result"
    }
   ],
   "source": [
    "vacas = 5\n",
    "temperatura = 36.5\n",
    "\n",
    "vacas\n",
    "temperatura\n"
   ]
  },
  {
   "cell_type": "markdown",
   "metadata": {},
   "source": [
    "------------------\n",
    "# Ejercicios\n",
    "\n",
    "1. Crea la variable `gatos` que sea un número con el valor `8`.\n",
    "\n",
    "2. Crea la variable `perros`  que sea un texto de seis caracteres: la palabra `cuatro`.\n",
    "\n",
    "3. Imprime la variable `gatos`.\n",
    "\n",
    "4. Imprime la variable `perros`.\n",
    "\n",
    "5. Imprime la variable `perros` seguida por la palabra `más` y la palabra `perros` otra vez.\n",
    "\n",
    "6. Consigue que el ordenador devuelva el siguiente texto, usando la variable `perros`: `cuatro más cuatro es igual a 8`.\n",
    "\n",
    "7. Consigue que el ordenador devuelva el siguiente texto, usando la variable`perros`: `cuatro + cuatro = 8`.\n",
    "\n",
    "8. Define una variable `pizzas` con un valor `2` que sea del tipo float.\n",
    "\n",
    "9. Define `magdalenas` con un valor `2` que sea del tipo string.\n",
    "\n",
    "10. Define `postres` con un valor `0` que sea del tipo int.\n",
    "\n",
    "11. ¿Qué tipo de dato es la variable `pizzas`?\n",
    "  \n",
    "12. ¿Es la variable `magdalenas` de tipo string?\n",
    "\n",
    "13. Define `postres` con un valor `0`.\n",
    "\n",
    "14. Calcula la suma de `gatos` y `pizzas`.\n",
    "\n",
    "15. Calcula la diferencia entre `gatos` y `pizzas`.\n",
    "\n",
    "16. Multiplica las cantidad de gatos por 2.\n",
    "\n",
    "17. Crea una variable `piezas` que sea 8 veces la cantidad de `pizzas`.\n",
    "\n",
    "18. Haz que la cantidad de `piezas` se aumente en 3.\n",
    "\n",
    "19. Calcula el cuadrado de 9 y guárdalo en una variable llamada `superficie`.\n",
    "\n",
    "20. ¿Cuánta superficie hay por gato?\n",
    "\n",
    "21. ¿Cuántas piezas enteras hay por gato?\n",
    "\n",
    "22. ¿Cuántas piezas te quedan si cada gato se come 21 piezas?\n",
    "\n",
    "\n",
    "23. ¿Cuánta superficie hay por gato en metros cuadrados? Redondeala a un sólo decimal. Intenta calcularlo dentro del mismo `print()` en una sola línea.\n",
    "\n",
    "24. ¿Es verdad que hay más gatos que pizzas?\n",
    "\n",
    "25. ¿Es verdad que hay menos gatos que superficie?\n",
    "\n",
    "26. ¿Es verdad que 2 veces la cantidad de pizzas es distinto de la cantidad de gatos?\n",
    "\n",
    "27. ¿Es falso que 2 veces la cantidad de pizzas es igual a la cantidad de gatos?\n",
    "\n",
    "28. La variable `piezas`, es mayor o igual a `pizzas` y `superficie` es distinto de cero?\n",
    "\n",
    "29. La variable `piezas`, es mayor o igual a `pizzas` y menor que `superficie`?\n",
    "\n",
    "30. Me interesa saber si hay más pizzas que gatos, o si el residuo de piezas por gato es cero.\n",
    "\n",
    "31. Comprueba las comparaciones de 29. en una sola línea, sin usar la variable `piezas` más que una sola vez.\n",
    "\n",
    "32. Comprueba si `superficie` es diferente a cero sin usar `!=`.\n",
    "\n",
    "33. Usa `input()` para preguntar a un usuario el día de su cumpleaños y guarda la respuesta en la variable dia_cumple.\n",
    "\n",
    "34. Usa `input()` para preguntar a un usuario el mes de su cumpleaños y guarda la respuesta en la variable mes_cumple.\n",
    "\n",
    "\n",
    "35. Usa `.strip()` en ambas de las variables definidas.\n",
    "\n",
    "36. Haz que `fecha_cumple` sea un *string* compuesto por el día y el mes.\n",
    "\n",
    "37. Imprime `Fecha de cumpleaños es` más el día y el mes.\n",
    "  \n",
    "38. Imprime la variable perros en todas mayúsculas.\n"
   ]
  },
  {
   "cell_type": "markdown",
   "metadata": {},
   "source": [
    "1. Crea la variable `gatos` que sea un número con el valor `8`."
   ]
  },
  {
   "cell_type": "code",
   "execution_count": 8,
   "metadata": {},
   "outputs": [],
   "source": [
    "gatos = 8"
   ]
  },
  {
   "cell_type": "markdown",
   "metadata": {},
   "source": [
    "2. Crea la variable `perros`  que sea un texto de seis caracteres: la palabra `cuatro`."
   ]
  },
  {
   "cell_type": "code",
   "execution_count": 9,
   "metadata": {},
   "outputs": [],
   "source": [
    "perros = \"cuatro\""
   ]
  },
  {
   "cell_type": "markdown",
   "metadata": {},
   "source": [
    "3. Imprime la variable `gatos`."
   ]
  },
  {
   "cell_type": "code",
   "execution_count": 10,
   "metadata": {},
   "outputs": [
    {
     "name": "stdout",
     "output_type": "stream",
     "text": [
      "8\n"
     ]
    }
   ],
   "source": [
    "print(gatos)"
   ]
  },
  {
   "cell_type": "markdown",
   "metadata": {},
   "source": [
    "4. Imprime la variable `perros`."
   ]
  },
  {
   "cell_type": "code",
   "execution_count": 11,
   "metadata": {},
   "outputs": [
    {
     "name": "stdout",
     "output_type": "stream",
     "text": [
      "cuatro\n"
     ]
    }
   ],
   "source": [
    "print(perros)"
   ]
  },
  {
   "cell_type": "markdown",
   "metadata": {},
   "source": [
    "5. Imprime la variable `perros` seguida por la palabra `más` y la palabra `perros` otra vez."
   ]
  },
  {
   "cell_type": "code",
   "execution_count": 12,
   "metadata": {},
   "outputs": [
    {
     "name": "stdout",
     "output_type": "stream",
     "text": [
      "cuatro más cuatro\n"
     ]
    }
   ],
   "source": [
    "print(perros + \" más \" + perros)"
   ]
  },
  {
   "cell_type": "markdown",
   "metadata": {},
   "source": [
    "6. Consigue que el ordenador devuelva el siguiente texto, usando la variable `perros`: `cuatro más cuatro es igual a 8`."
   ]
  },
  {
   "cell_type": "code",
   "execution_count": 13,
   "metadata": {},
   "outputs": [
    {
     "name": "stdout",
     "output_type": "stream",
     "text": [
      "cuatro más cuatro es igual a 8\n"
     ]
    }
   ],
   "source": [
    "print(perros + \" más \" + perros + \" es igual a \" + str(gatos))"
   ]
  },
  {
   "cell_type": "markdown",
   "metadata": {},
   "source": [
    "7. Consigue que el ordenador devuelva el siguiente texto, usando la variable`perros`: `cuatro + cuatro = 8`."
   ]
  },
  {
   "cell_type": "code",
   "execution_count": 14,
   "metadata": {},
   "outputs": [
    {
     "name": "stdout",
     "output_type": "stream",
     "text": [
      "cuatro + cuatro = 8\n"
     ]
    }
   ],
   "source": [
    "print(perros + \" + \" + perros + \" = \" + str(gatos))"
   ]
  },
  {
   "cell_type": "markdown",
   "metadata": {},
   "source": [
    "8. Define una variable `pizzas` con un valor `2` que sea del tipo float."
   ]
  },
  {
   "cell_type": "code",
   "execution_count": 15,
   "metadata": {},
   "outputs": [],
   "source": [
    "pizzas = 2.0"
   ]
  },
  {
   "cell_type": "markdown",
   "metadata": {},
   "source": [
    "9. Define `magdalenas` con un valor `2` que sea del tipo string."
   ]
  },
  {
   "cell_type": "code",
   "execution_count": 16,
   "metadata": {},
   "outputs": [],
   "source": [
    "magdalenas = \"dos\""
   ]
  },
  {
   "cell_type": "markdown",
   "metadata": {},
   "source": [
    "0. Define `postres` con un valor `0` que sea del tipo int."
   ]
  },
  {
   "cell_type": "code",
   "execution_count": 17,
   "metadata": {},
   "outputs": [],
   "source": [
    "postres = 0"
   ]
  },
  {
   "cell_type": "markdown",
   "metadata": {},
   "source": [
    "11. ¿Qué tipo de dato es la variable `pizzas`?"
   ]
  },
  {
   "cell_type": "code",
   "execution_count": 18,
   "metadata": {},
   "outputs": [
    {
     "name": "stdout",
     "output_type": "stream",
     "text": [
      "<class 'float'>\n"
     ]
    }
   ],
   "source": [
    "print(type(pizzas))"
   ]
  },
  {
   "cell_type": "markdown",
   "metadata": {},
   "source": [
    "12. ¿Es la variable `magdalenas` de tipo string?"
   ]
  },
  {
   "cell_type": "code",
   "execution_count": 19,
   "metadata": {},
   "outputs": [
    {
     "name": "stdout",
     "output_type": "stream",
     "text": [
      "True\n"
     ]
    }
   ],
   "source": [
    "print(isinstance(magdalenas, str))"
   ]
  },
  {
   "cell_type": "markdown",
   "metadata": {},
   "source": [
    "13. Define `postres` con un valor `0`."
   ]
  },
  {
   "cell_type": "code",
   "execution_count": 20,
   "metadata": {},
   "outputs": [],
   "source": [
    "postres = 0"
   ]
  },
  {
   "cell_type": "markdown",
   "metadata": {},
   "source": [
    "14. Calcula la suma de `gatos` y `pizzas`."
   ]
  },
  {
   "cell_type": "code",
   "execution_count": 21,
   "metadata": {},
   "outputs": [
    {
     "name": "stdout",
     "output_type": "stream",
     "text": [
      "10.0\n"
     ]
    }
   ],
   "source": [
    "print(gatos + pizzas)"
   ]
  },
  {
   "cell_type": "markdown",
   "metadata": {},
   "source": [
    "15. Calcula la diferencia entre `gatos` y `pizzas`."
   ]
  },
  {
   "cell_type": "code",
   "execution_count": 22,
   "metadata": {},
   "outputs": [
    {
     "name": "stdout",
     "output_type": "stream",
     "text": [
      "6.0\n"
     ]
    }
   ],
   "source": [
    "print(gatos - pizzas)"
   ]
  },
  {
   "cell_type": "markdown",
   "metadata": {},
   "source": [
    "16. Multiplica las cantidad de gatos por 2."
   ]
  },
  {
   "cell_type": "code",
   "execution_count": 23,
   "metadata": {},
   "outputs": [
    {
     "name": "stdout",
     "output_type": "stream",
     "text": [
      "16\n"
     ]
    }
   ],
   "source": [
    "print(gatos * 2)"
   ]
  },
  {
   "cell_type": "markdown",
   "metadata": {},
   "source": [
    "17. Crea una variable `piezas` que sea 8 veces la cantidad de `pizzas`."
   ]
  },
  {
   "cell_type": "code",
   "execution_count": 24,
   "metadata": {},
   "outputs": [
    {
     "name": "stdout",
     "output_type": "stream",
     "text": [
      "16.0\n"
     ]
    }
   ],
   "source": [
    "piezas = pizzas * 8\n",
    "print(piezas)"
   ]
  },
  {
   "cell_type": "markdown",
   "metadata": {},
   "source": [
    "18. Haz que la cantidad de `piezas` se aumente en 3."
   ]
  },
  {
   "cell_type": "code",
   "execution_count": 25,
   "metadata": {},
   "outputs": [
    {
     "name": "stdout",
     "output_type": "stream",
     "text": [
      "48.0\n"
     ]
    }
   ],
   "source": [
    "print(piezas * 3) #dudas"
   ]
  },
  {
   "cell_type": "markdown",
   "metadata": {},
   "source": [
    "19. Calcula el cuadrado de 9 y guárdalo en una variable llamada `superficie`."
   ]
  },
  {
   "cell_type": "code",
   "execution_count": 26,
   "metadata": {},
   "outputs": [
    {
     "name": "stdout",
     "output_type": "stream",
     "text": [
      "81\n"
     ]
    }
   ],
   "source": [
    "superficie = 9 ** 2 #dudas\n",
    "print(superficie)"
   ]
  },
  {
   "cell_type": "markdown",
   "metadata": {},
   "source": [
    "20. ¿Cuánta superficie hay por gato?"
   ]
  },
  {
   "cell_type": "code",
   "execution_count": 27,
   "metadata": {},
   "outputs": [
    {
     "name": "stdout",
     "output_type": "stream",
     "text": [
      "10.125\n"
     ]
    }
   ],
   "source": [
    "print(superficie / gatos)"
   ]
  },
  {
   "cell_type": "markdown",
   "metadata": {},
   "source": [
    "21. ¿Cuántas piezas enteras hay por gato?"
   ]
  },
  {
   "cell_type": "code",
   "execution_count": 28,
   "metadata": {},
   "outputs": [
    {
     "name": "stdout",
     "output_type": "stream",
     "text": [
      "2.0\n"
     ]
    }
   ],
   "source": [
    "print(piezas/gatos)"
   ]
  },
  {
   "cell_type": "markdown",
   "metadata": {},
   "source": [
    "22. ¿Cuántas piezas te quedan si cada gato se come 21 piezas?"
   ]
  },
  {
   "cell_type": "code",
   "execution_count": 29,
   "metadata": {},
   "outputs": [
    {
     "name": "stdout",
     "output_type": "stream",
     "text": [
      "-152.0\n"
     ]
    }
   ],
   "source": [
    "print(piezas - (gatos * 21))"
   ]
  },
  {
   "cell_type": "markdown",
   "metadata": {},
   "source": [
    "23. ¿Cuánta superficie hay por gato en metros cuadrados? Redondeala a un sólo decimal. Intenta calcularlo dentro del mismo `print()` en una sola línea."
   ]
  },
  {
   "cell_type": "code",
   "execution_count": 30,
   "metadata": {},
   "outputs": [
    {
     "name": "stdout",
     "output_type": "stream",
     "text": [
      "10\n"
     ]
    }
   ],
   "source": [
    "print(round(superficie / gatos))"
   ]
  },
  {
   "cell_type": "markdown",
   "metadata": {},
   "source": [
    "24. ¿Es verdad que hay más gatos que pizzas?"
   ]
  },
  {
   "cell_type": "code",
   "execution_count": 31,
   "metadata": {},
   "outputs": [
    {
     "name": "stdout",
     "output_type": "stream",
     "text": [
      "True\n"
     ]
    }
   ],
   "source": [
    "print(gatos > pizzas)"
   ]
  },
  {
   "cell_type": "markdown",
   "metadata": {},
   "source": [
    "25. ¿Es verdad que hay menos gatos que superficie?"
   ]
  },
  {
   "cell_type": "code",
   "execution_count": 32,
   "metadata": {},
   "outputs": [
    {
     "name": "stdout",
     "output_type": "stream",
     "text": [
      "True\n"
     ]
    }
   ],
   "source": [
    "print(gatos < superficie)"
   ]
  },
  {
   "cell_type": "markdown",
   "metadata": {},
   "source": [
    "26. ¿Es verdad que 2 veces la cantidad de pizzas es distinto de la cantidad de gatos?"
   ]
  },
  {
   "cell_type": "code",
   "execution_count": 33,
   "metadata": {},
   "outputs": [
    {
     "name": "stdout",
     "output_type": "stream",
     "text": [
      "True\n"
     ]
    }
   ],
   "source": [
    "print(2 * pizzas != gatos)"
   ]
  },
  {
   "cell_type": "markdown",
   "metadata": {},
   "source": [
    "27. ¿Es falso que 2 veces la cantidad de pizzas es igual a la cantidad de gatos?"
   ]
  },
  {
   "cell_type": "code",
   "execution_count": 34,
   "metadata": {},
   "outputs": [
    {
     "name": "stdout",
     "output_type": "stream",
     "text": [
      "False\n"
     ]
    }
   ],
   "source": [
    "print(2*pizzas == gatos)"
   ]
  },
  {
   "cell_type": "markdown",
   "metadata": {},
   "source": [
    "28. La variable `piezas`, es mayor o igual a `pizzas` y `superficie` es distinto de cero?"
   ]
  },
  {
   "cell_type": "code",
   "execution_count": 35,
   "metadata": {},
   "outputs": [
    {
     "name": "stdout",
     "output_type": "stream",
     "text": [
      "True\n"
     ]
    }
   ],
   "source": [
    "print(piezas >= pizzas and superficie != 0)"
   ]
  },
  {
   "cell_type": "markdown",
   "metadata": {},
   "source": [
    "29. La variable `piezas`, es mayor o igual a `pizzas` y menor que `superficie`?"
   ]
  },
  {
   "cell_type": "code",
   "execution_count": 36,
   "metadata": {},
   "outputs": [
    {
     "name": "stdout",
     "output_type": "stream",
     "text": [
      "True\n"
     ]
    }
   ],
   "source": [
    "print(piezas >= pizzas and pizzas <= superficie)"
   ]
  },
  {
   "cell_type": "markdown",
   "metadata": {},
   "source": [
    "30. Me interesa saber si hay más pizzas que gatos, o si el residuo de piezas por gato es cero."
   ]
  },
  {
   "cell_type": "code",
   "execution_count": 37,
   "metadata": {},
   "outputs": [
    {
     "name": "stdout",
     "output_type": "stream",
     "text": [
      "True\n"
     ]
    }
   ],
   "source": [
    "print(pizzas > gatos or piezas % gatos == 0)"
   ]
  },
  {
   "cell_type": "markdown",
   "metadata": {},
   "source": [
    "31. Comprueba las comparaciones de 29. en una sola línea, sin usar la variable `piezas` más que una sola vez."
   ]
  },
  {
   "cell_type": "code",
   "execution_count": 42,
   "metadata": {},
   "outputs": [
    {
     "name": "stdout",
     "output_type": "stream",
     "text": [
      "False\n"
     ]
    }
   ],
   "source": [
    "print((pizzas >= pizzas) and (pizzas > gatos) or (pizzas % gatos == 0))"
   ]
  },
  {
   "cell_type": "markdown",
   "metadata": {},
   "source": [
    "32. Comprueba si `superficie` es diferente a cero sin usar `!=`."
   ]
  },
  {
   "cell_type": "code",
   "execution_count": 39,
   "metadata": {},
   "outputs": [
    {
     "name": "stdout",
     "output_type": "stream",
     "text": [
      "True\n"
     ]
    },
    {
     "name": "stderr",
     "output_type": "stream",
     "text": [
      "<>:1: SyntaxWarning: \"is not\" with a literal. Did you mean \"!=\"?\n",
      "<>:1: SyntaxWarning: \"is not\" with a literal. Did you mean \"!=\"?\n",
      "/var/folders/c_/vvy8dmkj6ybc147wncw486c00000gn/T/ipykernel_46300/3526398732.py:1: SyntaxWarning: \"is not\" with a literal. Did you mean \"!=\"?\n",
      "  print(bool(superficie is not 0))\n"
     ]
    }
   ],
   "source": [
    "print(bool(superficie is not 0))"
   ]
  },
  {
   "cell_type": "markdown",
   "metadata": {},
   "source": [
    "33. Usa `input()` para preguntar a un usuario el día de su cumpleaños y guarda la respuesta en la variable dia_cumple."
   ]
  },
  {
   "cell_type": "code",
   "execution_count": 43,
   "metadata": {},
   "outputs": [
    {
     "name": "stdout",
     "output_type": "stream",
     "text": [
      "El día de tu cumpleaños es 3.\n"
     ]
    }
   ],
   "source": [
    "dia_cumple = input(\"Introduce el día de tu cumleaños:\")\n",
    "print(f\"El día de tu cumpleaños es {dia_cumple}.\")"
   ]
  },
  {
   "cell_type": "markdown",
   "metadata": {},
   "source": [
    "34. Usa `input()` para preguntar a un usuario el mes de su cumpleaños y guarda la respuesta en la variable mes_cumple."
   ]
  },
  {
   "cell_type": "code",
   "execution_count": 44,
   "metadata": {},
   "outputs": [
    {
     "name": "stdout",
     "output_type": "stream",
     "text": [
      "El mes de mi cumpleaños es noviembre.\n"
     ]
    }
   ],
   "source": [
    "mes_cumple = input(\"Introduce el mes de tu cumpleaños: \")\n",
    "print(f\"El mes de mi cumpleaños es {mes_cumple}.\")"
   ]
  },
  {
   "cell_type": "markdown",
   "metadata": {},
   "source": [
    "35. Usa `.strip()` en ambas de las variables definidas."
   ]
  },
  {
   "cell_type": "code",
   "execution_count": 45,
   "metadata": {},
   "outputs": [
    {
     "name": "stdout",
     "output_type": "stream",
     "text": [
      "El día de tu cumpleaños es 3.\n",
      "El mes de tu cumpleaños es noviembre.\n"
     ]
    }
   ],
   "source": [
    "dia_cumple = dia_cumple.strip()\n",
    "mes_cumple = mes_cumple.strip()\n",
    "\n",
    "print(f\"El día de tu cumpleaños es {dia_cumple}.\")\n",
    "print(f\"El mes de tu cumpleaños es {mes_cumple}.\")"
   ]
  },
  {
   "cell_type": "markdown",
   "metadata": {},
   "source": [
    "36. Haz que `fecha_cumple` sea un *string* compuesto por el día y el mes."
   ]
  },
  {
   "cell_type": "code",
   "execution_count": 52,
   "metadata": {},
   "outputs": [
    {
     "name": "stdout",
     "output_type": "stream",
     "text": [
      "3 de noviembre\n"
     ]
    }
   ],
   "source": [
    "fecha_cumple = dia_cumple + \" de \" + mes_cumple\n",
    "print(fecha_cumple)"
   ]
  },
  {
   "cell_type": "markdown",
   "metadata": {},
   "source": [
    "37. Imprime `Fecha de cumpleaños es` más el día y el mes."
   ]
  },
  {
   "cell_type": "code",
   "execution_count": 48,
   "metadata": {},
   "outputs": [
    {
     "name": "stdout",
     "output_type": "stream",
     "text": [
      "Fecha de cumpleaños es: 3 de noviembre.\n"
     ]
    }
   ],
   "source": [
    "fecha_cumple = f\"{dia_cumple} de {mes_cumple}\"\n",
    "print(f\"Fecha de cumpleaños es: {fecha_cumple}.\")"
   ]
  },
  {
   "cell_type": "markdown",
   "metadata": {},
   "source": [
    "38. Imprime la variable perros en todas mayúsculas."
   ]
  },
  {
   "cell_type": "code",
   "execution_count": 49,
   "metadata": {},
   "outputs": [
    {
     "name": "stdout",
     "output_type": "stream",
     "text": [
      "CUATRO\n"
     ]
    }
   ],
   "source": [
    "print(perros.upper())"
   ]
  }
 ],
 "metadata": {
  "colab": {
   "collapsed_sections": [],
   "name": "01-variables-v3.ipynb",
   "provenance": [
    {
     "file_id": "1tXHJR8cKSo08vDdGSAm7rJsLK5DWWU6k",
     "timestamp": 1641196405601
    },
    {
     "file_id": "1nJs_RCWTcl0l6j6i5mHhZveMzPQQGsS6",
     "timestamp": 1639740222910
    }
   ]
  },
  "kernelspec": {
   "display_name": "Python 3 (ipykernel)",
   "language": "python",
   "name": "python3"
  },
  "language_info": {
   "codemirror_mode": {
    "name": "ipython",
    "version": 3
   },
   "file_extension": ".py",
   "mimetype": "text/x-python",
   "name": "python",
   "nbconvert_exporter": "python",
   "pygments_lexer": "ipython3",
   "version": "3.11.7"
  },
  "toc": {
   "base_numbering": 1,
   "nav_menu": {},
   "number_sections": true,
   "sideBar": true,
   "skip_h1_title": false,
   "title_cell": "Table of Contents",
   "title_sidebar": "Contents",
   "toc_cell": true,
   "toc_position": {},
   "toc_section_display": true,
   "toc_window_display": true
  },
  "vscode": {
   "interpreter": {
    "hash": "31f2aee4e71d21fbe5cf8b01ff0e069b9275f58929596ceb00d14d90e3e16cd6"
   }
  }
 },
 "nbformat": 4,
 "nbformat_minor": 1
}
