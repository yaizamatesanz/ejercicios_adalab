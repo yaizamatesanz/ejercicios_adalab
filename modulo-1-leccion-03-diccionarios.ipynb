{
 "cells": [
  {
   "cell_type": "markdown",
   "metadata": {
    "toc": true
   },
   "source": [
    "<h1>Table of Contents<span class=\"tocSkip\"></span></h1>\n",
    "<div class=\"toc\"><ul class=\"toc-item\"><li><span><a href=\"#¿Qué-son-los-diccionarios-y-como-se-definen?\" data-toc-modified-id=\"¿Qué-son-los-diccionarios-y-como-se-definen?-1\"><span class=\"toc-item-num\">1&nbsp;&nbsp;</span>¿Qué son los diccionarios y como se definen?</a></span></li><li><span><a href=\"#Propiedades-de-los-diccionarios\" data-toc-modified-id=\"Propiedades-de-los-diccionarios-2\"><span class=\"toc-item-num\">2&nbsp;&nbsp;</span>Propiedades de los diccionarios</a></span></li><li><span><a href=\"#Métodos-de-los-diccionarios\" data-toc-modified-id=\"Métodos-de-los-diccionarios-3\"><span class=\"toc-item-num\">3&nbsp;&nbsp;</span>Métodos de los diccionarios</a></span><ul class=\"toc-item\"><li><span><a href=\"#copy()\" data-toc-modified-id=\"copy()-3.1\"><span class=\"toc-item-num\">3.1&nbsp;&nbsp;</span><code>copy()</code></a></span></li><li><span><a href=\"#clear()\" data-toc-modified-id=\"clear()-3.2\"><span class=\"toc-item-num\">3.2&nbsp;&nbsp;</span><code>clear()</code></a></span></li><li><span><a href=\"#update()\" data-toc-modified-id=\"update()-3.3\"><span class=\"toc-item-num\">3.3&nbsp;&nbsp;</span><code>update()</code></a></span></li><li><span><a href=\"#get()\" data-toc-modified-id=\"get()-3.4\"><span class=\"toc-item-num\">3.4&nbsp;&nbsp;</span><code>get()</code></a></span></li><li><span><a href=\"#setdefault()\" data-toc-modified-id=\"setdefault()-3.5\"><span class=\"toc-item-num\">3.5&nbsp;&nbsp;</span><code>setdefault()</code></a></span></li><li><span><a href=\"#sorted()\" data-toc-modified-id=\"sorted()-3.6\"><span class=\"toc-item-num\">3.6&nbsp;&nbsp;</span><code>sorted()</code></a></span></li><li><span><a href=\"#pop()\" data-toc-modified-id=\"pop()-3.7\"><span class=\"toc-item-num\">3.7&nbsp;&nbsp;</span><code>pop()</code></a></span></li><li><span><a href=\"#popitem()\" data-toc-modified-id=\"popitem()-3.8\"><span class=\"toc-item-num\">3.8&nbsp;&nbsp;</span><code>popitem()</code></a></span></li></ul></li><li><span><a href=\"#Algunas-notas-sobre-los-diccionarios\" data-toc-modified-id=\"Algunas-notas-sobre-los-diccionarios-4\"><span class=\"toc-item-num\">4&nbsp;&nbsp;</span>Algunas notas sobre los diccionarios</a></span></li><li><span><a href=\"#Ejercicios\" data-toc-modified-id=\"Ejercicios-5\"><span class=\"toc-item-num\">5&nbsp;&nbsp;</span>Ejercicios</a></span></li></ul></div>"
   ]
  },
  {
   "cell_type": "markdown",
   "metadata": {},
   "source": [
    "# ¿Qué son los diccionarios y como se definen?\n",
    "\n",
    "En Python, un diccionario es una estructura de datos que almacena elementos en pares clave-valor (*key*-*value*), donde cada clave debe ser única. Es similar a una lista o una tupla, pero en lugar de acceder a los elementos por su posición, se accede a ellos a través de su clave. En un diccionario, los valores pueden ser cualquier tipo de objeto, como números, cadenas, listas, tuplas e incluso otros diccionarios. Las claves deben ser objetos inmutables como cadenas, números o tuplas. Son muy útiles porque permiten buscar, agregar y modificar valores rápidamente mediante el uso de claves en lugar de índices. \n",
    "\n",
    "Para definir un diccionario usaremos las llaves `{}`. IMPORTANTE un valor **nunca** puede existir sin una clave que lo identifique. \n",
    "\n",
    "Características de los diccionarios: \n",
    "\n",
    "- No están ordenados: Los elementos en un diccionario no están en ningún orden específico. No se pueden acceder a los elementos de un diccionario utilizando índices, sino que se acceden a ellos a través de las claves.\n",
    "\n",
    "- Claves únicas: Las claves en un diccionario deben ser únicas. Si se intenta agregar una clave existente a un diccionario, se sobrescribirá el valor anterior con el nuevo valor.\n",
    "\n",
    "- Mutable: Los diccionarios son mutables, lo que significa que se pueden agregar, modificar y eliminar elementos después de crearlos.\n",
    "\n",
    "- Flexibles: Los diccionarios pueden contener cualquier tipo de dato como valor, incluso otros diccionarios. Sin embargo, las claves deben ser inmutables, por lo que las cadenas, números y tuplas son buenas opciones de clave.\n",
    "\n",
    "- Eficientes: Los diccionarios son muy eficientes para buscar y recuperar valores basados en una clave. Debido a su implementación interna basada en tablas hash, los diccionarios son mucho más rápidos para acceder a valores que las listas o las tuplas.\n",
    "\n",
    "Ya hemos comentado que los diccionarios se definen usando `{}`, pero podemos definirlos de otra forma, estas son: \n",
    "\n",
    "- Usando llaves {} y pares clave-valor separados por coma.\n",
    "\n",
    "- Usando el constructor dict() y pares clave-valor separados por coma. \n",
    "\n",
    "- Usando una lista de tuplas clave-valor. \n",
    "\n",
    "- Usando el método fromkeys() para crear un diccionario con claves y valores predeterminados. \n",
    "\n",
    "Veamos todas estas opciones con ejemplos. \n"
   ]
  },
  {
   "cell_type": "markdown",
   "metadata": {},
   "source": [
    "**Usando llaves {} y pares clave-valor separados por coma.**"
   ]
  },
  {
   "cell_type": "code",
   "execution_count": 54,
   "metadata": {},
   "outputs": [
    {
     "name": "stdout",
     "output_type": "stream",
     "text": [
      "Este es el primer diccionario: {'lunes': 'monday', 'martes': 'tuesday', 'miércoles': 'wednesday'}\n",
      "------\n",
      "Este es el segundo diccionario: {'lunes': 1, 'martes': 2, 'miércoles': 3}\n",
      "------\n",
      "Este es el tercer diccionario: {1: 'monday', 2: 'tuesday', 3: 'wednesday'}\n",
      "------\n",
      "Este es el cuarto diccionario: {'lunes': [1, 'peras'], 'martes': [2, 'manzanas'], 'miércoles': [3, 'brocoli']}\n"
     ]
    }
   ],
   "source": [
    "# definimos un diccionario donde las keys sean strings y lo values también\n",
    "diccionario1 = { 'lunes':'monday', 'martes':'tuesday', 'miércoles':'wednesday' }\n",
    "\n",
    "# también podemos tener diccionarios donde las keys sean strings y los values números\n",
    "diccionario2 = { 'lunes': 1, 'martes':2, 'miércoles':3 }\n",
    "\n",
    "# o un diccionario donde sean números y los values strings\n",
    "diccionario3 = { 1:'monday', 2:'tuesday',3:'wednesday' }\n",
    "\n",
    "# o incluso diccionarios que tengan listas en sus values\n",
    "diccionario4 = { 'lunes': [1, \"peras\"], 'martes':[2, \"manzanas\"], 'miércoles':[3, \"brocoli\"] }\n",
    "\n",
    "\n",
    "print(\"Este es el primer diccionario:\", diccionario1)\n",
    "print(\"------\")\n",
    "print(\"Este es el segundo diccionario:\", diccionario2)\n",
    "print(\"------\")\n",
    "print(\"Este es el tercer diccionario:\", diccionario3)\n",
    "print(\"------\")\n",
    "print(\"Este es el cuarto diccionario:\", diccionario4)"
   ]
  },
  {
   "cell_type": "markdown",
   "metadata": {},
   "source": [
    "**Usando el constructor dict() y pares clave-valor separados por coma.** y **Usando una lista de tuplas clave-valor**"
   ]
  },
  {
   "cell_type": "code",
   "execution_count": 55,
   "metadata": {},
   "outputs": [
    {
     "name": "stdout",
     "output_type": "stream",
     "text": [
      "Este es el quinto diccionario: {'jueves': 'thursday', 'viernes': 'friday'}\n",
      "------\n",
      "Este es el sexto diccionario: {'sábado': 'saturday', 'domingo': 'sunday'}\n",
      "------\n"
     ]
    }
   ],
   "source": [
    "# definimos el diccionario con \"dict\" usando el operador \"=\" y cada par de clave-valor separado por comas\n",
    "diccionario5 = dict( jueves = 'thursday', viernes='friday' )\n",
    "\n",
    "# definimos el diccionario con \"dict\" usando una lista de tuplas, separando cada tupla por coma. Cada tupla será el par de clave-valor\n",
    "diccionario6 = dict( [ ('sábado','saturday'), ('domingo','sunday') ] )\n",
    "\n",
    "print(\"Este es el quinto diccionario:\", diccionario5)\n",
    "print(\"------\")\n",
    "print(\"Este es el sexto diccionario:\", diccionario6)\n",
    "print(\"------\")\n"
   ]
  },
  {
   "cell_type": "markdown",
   "metadata": {},
   "source": [
    "**Usando el método fromkeys() para crear un diccionario con claves y valores predeterminados.**"
   ]
  },
  {
   "cell_type": "code",
   "execution_count": 56,
   "metadata": {},
   "outputs": [
    {
     "name": "stdout",
     "output_type": "stream",
     "text": [
      "Este es el septimo diccionario: {'jueves': [], 'viernes': [], 'sabado': []}\n",
      "------\n"
     ]
    }
   ],
   "source": [
    "# definimos una lista con lo que serán nuestras futuras keys\n",
    "claves = ['jueves', 'viernes', 'sabado']\n",
    "\n",
    "# establecemos el valor predeterminado de lo que serán nuestro futuros values. En este caso todos tendrán el valor de una lista vacía\n",
    "valor_predeterminado = []\n",
    "\n",
    "# definimos el diccionario usando \n",
    "diccionario7 = dict.fromkeys(claves, valor_predeterminado)\n",
    "\n",
    "print(\"Este es el septimo diccionario:\", diccionario7)\n",
    "print(\"------\")\n"
   ]
  },
  {
   "cell_type": "markdown",
   "metadata": {},
   "source": [
    "# Propiedades de los diccionarios\n",
    "\n",
    "Al igual que en las listas y en las tuplas, en los diccionarios vamos a tener una serie de métodos que nos ayuden a conocer las principales propiedades de los diccionarios, las más importantes son: \n",
    "\n",
    "- `len()`: al igual que hasta ahora, este método se utiliza para obtener la cantidad de elementos que hay en un diccionario.\n",
    "\n",
    "- `keys()`: este método devuelve una lista con todas las claves del diccionario.\n",
    "\n",
    "- `values()`: este método devuelve una lista con todos los valores del diccionario. \n",
    "\n",
    "- `items()`: este método devuelve una lista de tuplas, donde cada tupla contiene una clave y su valor correspondiente.\n",
    "\n",
    "Veámoslo en más detalle:"
   ]
  },
  {
   "cell_type": "code",
   "execution_count": 57,
   "metadata": {},
   "outputs": [
    {
     "name": "stdout",
     "output_type": "stream",
     "text": [
      "El diccionario que hemos creado es:  {'nombres': ['Lola', 'Marta', 'Lorena'], 'notas': [8, 9, 6]}\n",
      "La cantidad de pares de clave-valor del diccionario es:  2\n",
      "Las keys del diccionario son: dict_keys(['nombres', 'notas'])\n",
      "Las keys del diccionario son: dict_values([['Lola', 'Marta', 'Lorena'], [8, 9, 6]])\n",
      "Los pares de clave-valor del diccionario son: (ESTO NOS DEVUELVE UNA LISTA DE TUPLAS) dict_items([('nombres', ['Lola', 'Marta', 'Lorena']), ('notas', [8, 9, 6])])\n"
     ]
    }
   ],
   "source": [
    "# lo primero que vamos a definir es un diccionario. En este caso vamos a crear un diccionario con dos claves o keys las cuales van a ser \"nombres\" y \"nota\"\n",
    "# los values serán listas donde almacenaremos los nombres de las alumnas y sus notas\n",
    "\n",
    "diccionario_alumnas = {\"nombres\": [\"Lola\", \"Marta\", \"Lorena\"], \"notas\": [8, 9, 6]}\n",
    "print(\"El diccionario que hemos creado es: \", diccionario_alumnas)\n",
    "\n",
    "#vamos a usar el método len para saber cuantos pares de clave-valor tenemos en el diccionario con la función len()\n",
    "print(\"La cantidad de pares de clave-valor del diccionario es: \", len(diccionario_alumnas))\n",
    "\n",
    "#vamos a sacar todas las claves del diccionario\n",
    "print(\"Las keys del diccionario son:\", diccionario_alumnas.keys())\n",
    "\n",
    "#vamos a sacar todas los valores del diccionario\n",
    "print(\"Las keys del diccionario son:\", diccionario_alumnas.values())\n",
    "\n",
    "# vamos a sacar todos los apres de claves-valores que tenemos en el diccionario\n",
    "print(\"Los pares de clave-valor del diccionario son: (ESTO NOS DEVUELVE UNA LISTA DE TUPLAS)\", diccionario_alumnas.items())\n"
   ]
  },
  {
   "cell_type": "markdown",
   "metadata": {},
   "source": [
    "Al igual que en las listas y en las tuplas podemos usar el operador `in` y `not in` en diccionarios. Veamos como lo haríamos:"
   ]
  },
  {
   "cell_type": "code",
   "execution_count": 58,
   "metadata": {},
   "outputs": [
    {
     "name": "stdout",
     "output_type": "stream",
     "text": [
      "¿Esta la clave 'nombres' en mi diccionario? True\n",
      "¿Esta la clave 'patata' en mi diccionario? False\n",
      "¿Esta 'Lola' en mi los valores de mi diccionario? False\n",
      "¿Esta 'Lola' en mi los valores de mi diccionario? True\n"
     ]
    }
   ],
   "source": [
    "print(\"¿Esta la clave 'nombres' en mi diccionario?\", \"nombres\" in diccionario_alumnas  )\n",
    "# si nos fijamos , por defecto nos lo hace sobre las claves\n",
    "\n",
    "print(\"¿Esta la clave 'patata' en mi diccionario?\", \"patata\" in diccionario_alumnas  )\n",
    "\n",
    "# pero ¿qué pasaría si quisieramos hacerlo sobre los values? en este caso tendríamos que especificar el método .values()\n",
    "print(\"¿Esta 'Lola' en mi los valores de mi diccionario?\", \"Lola\" in diccionario_alumnas.values())\n",
    "# Vaya... 😢, esto nos devuelve False, y es que lo que estamos evaluando es si 'Lola'  esta en [['Lola', 'Marta', 'Lorena'], [8, 9, 6]], lo cual es False, ya que en la lista de los valores tenemos más lista. Para que esto nos saliera True tendríamos que pasar toda la lista. Veámoslo\n",
    "\n",
    "print(\"¿Esta 'Lola' en mi los valores de mi diccionario?\", ['Lola', 'Marta', 'Lorena'] in diccionario_alumnas.values())\n"
   ]
  },
  {
   "cell_type": "markdown",
   "metadata": {},
   "source": [
    "# Métodos de los diccionarios\n",
    "\n",
    "Al igual que el resto de los tipos de datos que hemos visto en Python, los diccionarios tienen una serie de métodos que nos van a resultar muy útiles para poder modificarlos.  Aquí hay algunos de los métodos más comunes que se pueden usar con diccionarios:\n",
    "\n",
    "- `copy()`: Devuelve una copia superficial del diccionario.\n",
    "\n",
    "- `clear()`: Elimina todos los elementos del diccionario.\n",
    "\n",
    "- `update()`: Actualiza el diccionario con pares clave-valor de otro diccionario o de una lista de tuplas (clave, valor).\n",
    "\n",
    "- `get()`: Devuelve el valor de la clave dada si está presente en el diccionario, de lo contrario devuelve el valor predeterminado (opcional).\n",
    "\n",
    "- `setdefault()`: Si la clave está en el diccionario, devuelve su valor. Si no, inserta la clave con el valor predeterminado (opcional) y devuelve ese valor.\n",
    "\n",
    "- `pop()`: Elimina la clave y devuelve su valor. Si la clave no está presente y se proporciona un valor predeterminado, se devuelve ese valor. Si la clave no está presente y no se proporciona un valor predeterminado, se produce una excepción KeyError.\n",
    "\n",
    "- `popitem()`: Elimina y devuelve un par clave-valor arbitrario del diccionario. Si el diccionario está vacío, se produce una excepción KeyError.\n"
   ]
  },
  {
   "cell_type": "markdown",
   "metadata": {},
   "source": [
    "## `copy()`\n",
    "\n",
    "El método `copy()` es un método incorporado en Python que se usa para crear una copia superficial de un diccionario. Esto significa que el método crea un nuevo diccionario que contiene los mismos pares clave-valor que el diccionario original, pero que no está vinculado al diccionario original en ningún otro sentido.\n",
    "\n",
    "Veámoslo con un ejemplo:"
   ]
  },
  {
   "cell_type": "code",
   "execution_count": 59,
   "metadata": {},
   "outputs": [
    {
     "name": "stdout",
     "output_type": "stream",
     "text": [
      "El diccionario de las alumnas de clase es:  {'nombres': ['Lola', 'Marta', 'Lorena'], 'notas': [8, 9, 6]}\n",
      "La copia del diccionario de las alumnas de clase es:  {'nombres': ['Lola', 'Marta', 'Lorena'], 'notas': [8, 9, 6]}\n"
     ]
    }
   ],
   "source": [
    "# primero recordemos el último diccionario de alumnas que habíamos creado previamente: \n",
    "print(\"El diccionario de las alumnas de clase es: \", diccionario_alumnas)\n",
    "\n",
    "# haciendo uso del método copy, nos haremos una copia exacta del diccionario anterior\n",
    "diccionario_alumnas_copia = diccionario_alumnas.copy()\n",
    "print(\"La copia del diccionario de las alumnas de clase es: \", diccionario_alumnas_copia)"
   ]
  },
  {
   "cell_type": "markdown",
   "metadata": {},
   "source": [
    "## `clear()`\n",
    "\n",
    "El método `clear()` es un método incorporado en Python que se usa para eliminar todos los elementos de un diccionario. En otras palabras, el método `clear()` borra todo el contenido de un diccionario, lo que hace que el diccionario quede vacío."
   ]
  },
  {
   "cell_type": "code",
   "execution_count": 60,
   "metadata": {},
   "outputs": [
    {
     "name": "stdout",
     "output_type": "stream",
     "text": [
      "La copia del diccionario de las alumnas de clase es:  {'nombres': ['Lola', 'Marta', 'Lorena'], 'notas': [8, 9, 6]}\n",
      "El diccionario de las alumnas de clase después de haberlo vaciado usando el método 'clear()` es:  {}\n",
      "El diccionario de las alumnas de clase es:  {'nombres': ['Lola', 'Marta', 'Lorena'], 'notas': [8, 9, 6]}\n"
     ]
    }
   ],
   "source": [
    "# mostramos la copia del diccionario que nos hicimos en la celda anterior\n",
    "print(\"La copia del diccionario de las alumnas de clase es: \", diccionario_alumnas_copia)\n",
    "\n",
    "# vacíamos todo el contenido del diccionario usando el método clear()\n",
    "diccionario_alumnas_copia.clear()\n",
    "\n",
    "print(\"El diccionario de las alumnas de clase después de haberlo vaciado usando el método 'clear()` es: \", diccionario_alumnas_copia)\n",
    "\n",
    "# muy relacionado con el método anterior y para entender mejor el concepto de la \"copia superficial\" es que si ahora vemos el contenido del diccionario original, es que este no ha cambiado, es decir, son independientes\n",
    "print(\"El diccionario de las alumnas de clase es: \", diccionario_alumnas)\n",
    "\n"
   ]
  },
  {
   "cell_type": "markdown",
   "metadata": {},
   "source": [
    "## `update()`\n",
    "\n",
    " El método `update()` es un método incorporado en Python que se utiliza para actualizar los valores de un diccionario con los valores de otro diccionario o de un iterable de pares clave-valor. Este método modifica el diccionario original y puede ser muy útil cuando necesitas actualizar un diccionario con nuevos valores.\n",
    "\n",
    "\n",
    "Imaginemos que ahora queremos añadir un nuevo par de clave-valor en el diccionario, en concreto, queremos añadir una clave que nos diga si la alumna tiene hermanos o no. En esta situación podríamos simplemente volver a crear un diccionario de nuevo o usar el método `update()`. Veamos como hacerlo:"
   ]
  },
  {
   "cell_type": "code",
   "execution_count": 61,
   "metadata": {},
   "outputs": [
    {
     "name": "stdout",
     "output_type": "stream",
     "text": [
      "El diccionario original de las alumnas de clase es:  {'nombres': ['Lola', 'Marta', 'Lorena'], 'notas': [8, 9, 6]}\n",
      "El diccionario de las alumnas de clase después de añadir la nueva pareja de key-value es:  {'nombres': ['Lola', 'Marta', 'Lorena'], 'notas': [8, 9, 6], 'hermanos': ['Si', 'No', 'Si', 'Si', 'Si']}\n"
     ]
    }
   ],
   "source": [
    "print(\"El diccionario original de las alumnas de clase es: \", diccionario_alumnas)\n",
    "\n",
    "# añadimos un nuevo par de clave-valor a nuestro diccionario.\n",
    "# para eso lo primero que tenemos que crear un diccionario, con el nuevo par de clave-valor que queremos\n",
    "\n",
    "nuevo_elemento = {\"hermanos\": [\"Si\", \"No\", \"Si\", \"Si\", \"Si\"]}\n",
    "\n",
    "# utilizamos el método update para añadir la nueva pareja de key-value. FIJAOS QUE ESTE MÉTODO SOBREESCRIBE EL DICCIONARIO ORIGINAL!\n",
    "diccionario_alumnas.update(nuevo_elemento)\n",
    "print(\"El diccionario de las alumnas de clase después de añadir la nueva pareja de key-value es: \", diccionario_alumnas)\n",
    "\n"
   ]
  },
  {
   "cell_type": "markdown",
   "metadata": {},
   "source": [
    "## `get()`\n",
    "\n",
    "El método `get()` es un método incorporado en Python que se utiliza para obtener el valor de una clave en un diccionario, si lo comparamos con lo que conocemos hasta ahora sería como la indexación de las listas o las tuplas."
   ]
  },
  {
   "cell_type": "code",
   "execution_count": 62,
   "metadata": {},
   "outputs": [
    {
     "name": "stdout",
     "output_type": "stream",
     "text": [
      "El diccionario original de las alumnas de clase es:  {'nombres': ['Lola', 'Marta', 'Lorena'], 'notas': [8, 9, 6], 'hermanos': ['Si', 'No', 'Si', 'Si', 'Si']}\n",
      "Los valores de la clave 'nombres' es:  ['Lola', 'Marta', 'Lorena']\n",
      "Los valores de la clave 'nombres' es:  ['Lola', 'Marta', 'Lorena']\n"
     ]
    }
   ],
   "source": [
    "# este método nos sirve para acceder a los valores de una key específica. \n",
    "# lo primero que vamos a hacer es recordar el diccionario de las alumnas\n",
    "print(\"El diccionario original de las alumnas de clase es: \", diccionario_alumnas)\n",
    "\n",
    "# imaginemos ahora que queremos extraer solo los valores de los nombres de la clave \"nombres\". En este caso podemos usar el método `get()`\n",
    "print(\"Los valores de la clave 'nombres' es: \", diccionario_alumnas.get(\"nombres\"))\n",
    "\n",
    "# otra forma de acceder a los valores de una clave es usando la sintaxis ([]), veamos un ejemplo:\n",
    "print(\"Los valores de la clave 'nombres' es: \", diccionario_alumnas[\"nombres\"])\n",
    "\n",
    "\n"
   ]
  },
  {
   "cell_type": "markdown",
   "metadata": {},
   "source": [
    "📌 FIJAOS COMO EL OUTPUT DE LO QUE NOS DEVUELVE ES EXACTAMENTE EL MISMO! Pero entonces... ¿qué diferencia existe entre una forma y otra para acceder?\n",
    "\n",
    "A diferencia de la notación de corchetes ([]), que devuelve un error si la clave no existe en el diccionario, el método get() devuelve None si la clave no está presente en el diccionario o un valor predeterminado que se puede especificar como argumento."
   ]
  },
  {
   "cell_type": "code",
   "execution_count": 63,
   "metadata": {},
   "outputs": [
    {
     "name": "stdout",
     "output_type": "stream",
     "text": [
      "Los valores de la clave 'edad' es:  None\n"
     ]
    },
    {
     "ename": "KeyError",
     "evalue": "'edad'",
     "output_type": "error",
     "traceback": [
      "\u001b[0;31m---------------------------------------------------------------------------\u001b[0m",
      "\u001b[0;31mKeyError\u001b[0m                                  Traceback (most recent call last)",
      "\u001b[0;32m/tmp/ipykernel_322/1325725148.py\u001b[0m in \u001b[0;36m<module>\u001b[0;34m\u001b[0m\n\u001b[1;32m      3\u001b[0m \u001b[0;34m\u001b[0m\u001b[0m\n\u001b[1;32m      4\u001b[0m \u001b[0;31m# otra forma de acceder a los valores de una clave es usando la sintaxis ([]), veamos un ejemplo:\u001b[0m\u001b[0;34m\u001b[0m\u001b[0;34m\u001b[0m\u001b[0m\n\u001b[0;32m----> 5\u001b[0;31m \u001b[0mprint\u001b[0m\u001b[0;34m(\u001b[0m\u001b[0;34m\"Los valores de la clave 'edad' es: \"\u001b[0m\u001b[0;34m,\u001b[0m \u001b[0mdiccionario_alumnas\u001b[0m\u001b[0;34m[\u001b[0m\u001b[0;34m\"edad\"\u001b[0m\u001b[0;34m]\u001b[0m\u001b[0;34m)\u001b[0m\u001b[0;34m\u001b[0m\u001b[0;34m\u001b[0m\u001b[0m\n\u001b[0m",
      "\u001b[0;31mKeyError\u001b[0m: 'edad'"
     ]
    }
   ],
   "source": [
    "# en este caso vamos a buscar la clave 'edad', la cual NO existe en nuestro diccionario.\n",
    "print(\"Los valores de la clave 'edad' es: \", diccionario_alumnas.get(\"edad\"))\n",
    "\n",
    "# otra forma de acceder a los valores de una clave es usando la sintaxis ([]), veamos un ejemplo:\n",
    "print(\"Los valores de la clave 'edad' es: \", diccionario_alumnas[\"edad\"])"
   ]
  },
  {
   "cell_type": "markdown",
   "metadata": {},
   "source": [
    "Como decíamos, el método `.get()` nos devuelve un `None` en caso de que estemos buscando una clave que no está en el diccionario. Pero imaginaos que en vez de querer que nos devuelva `None`, nos devuelva otro mensaje, por ejemplo, \"la clave que estas buscando no esta en el diccionario\". Para esto, le podemos añadir un parámetro al método 'get()' en el que pogamos este mensaje o valor predeterminado"
   ]
  },
  {
   "cell_type": "code",
   "execution_count": 64,
   "metadata": {},
   "outputs": [
    {
     "name": "stdout",
     "output_type": "stream",
     "text": [
      "Los valores de la clave 'edad' es:  la clave que estas buscando no esta en el diccionario\n"
     ]
    },
    {
     "ename": "KeyError",
     "evalue": "'edad'",
     "output_type": "error",
     "traceback": [
      "\u001b[0;31m---------------------------------------------------------------------------\u001b[0m",
      "\u001b[0;31mKeyError\u001b[0m                                  Traceback (most recent call last)",
      "\u001b[0;32m/tmp/ipykernel_322/1124467818.py\u001b[0m in \u001b[0;36m<module>\u001b[0;34m\u001b[0m\n\u001b[1;32m      4\u001b[0m \u001b[0;34m\u001b[0m\u001b[0m\n\u001b[1;32m      5\u001b[0m \u001b[0;31m# sin embargo, esta segunda forma de acceder a una clave no tiene la opción de pasar este parámetro, por lo tanto, nunca podremos evitar este error.\u001b[0m\u001b[0;34m\u001b[0m\u001b[0;34m\u001b[0m\u001b[0m\n\u001b[0;32m----> 6\u001b[0;31m \u001b[0mprint\u001b[0m\u001b[0;34m(\u001b[0m\u001b[0;34m\"Los valores de la clave 'edad' es: \"\u001b[0m\u001b[0;34m,\u001b[0m \u001b[0mdiccionario_alumnas\u001b[0m\u001b[0;34m[\u001b[0m\u001b[0;34m\"edad\"\u001b[0m\u001b[0;34m]\u001b[0m\u001b[0;34m)\u001b[0m\u001b[0;34m\u001b[0m\u001b[0;34m\u001b[0m\u001b[0m\n\u001b[0m",
      "\u001b[0;31mKeyError\u001b[0m: 'edad'"
     ]
    }
   ],
   "source": [
    "# buscamos la clave 'edad', y le vamos a añadir un valor predeterminado con el mensaje de 'la clave que estas buscando no esta en el diccionario'\n",
    "# si nos fijamos en el output, en este caso ya no aparece None si no que aparece el mensaje que le hemos puesto en el método `get()`\n",
    "print(\"Los valores de la clave 'edad' es: \", diccionario_alumnas.get(\"edad\", 'la clave que estas buscando no esta en el diccionario'))\n",
    "\n",
    "# sin embargo, esta segunda forma de acceder a una clave no tiene la opción de pasar este parámetro, por lo tanto, nunca podremos evitar este error. \n",
    "print(\"Los valores de la clave 'edad' es: \", diccionario_alumnas[\"edad\"])"
   ]
  },
  {
   "cell_type": "code",
   "execution_count": 65,
   "metadata": {},
   "outputs": [
    {
     "name": "stdout",
     "output_type": "stream",
     "text": [
      "Los valores de la clave 'hermanos' es:  ['Si', 'No', 'Si', 'Si', 'Si']\n",
      "Los valores de la clave 'hermanos' es:  ['Si', 'No', 'Si', 'Si', 'Si']\n"
     ]
    }
   ],
   "source": [
    "# hagamos otros ejemplos con el método get. Saquemos los valores de la clave hermanos\n",
    "print(\"Los valores de la clave 'hermanos' es: \", diccionario_alumnas.get(\"hermanos\"))\n",
    "\n",
    "# que es lo mismo que:\n",
    "# hagamos otros ejemplos con el método get. Saquemos los valores de la clave hermanos\n",
    "print(\"Los valores de la clave 'hermanos' es: \", diccionario_alumnas[\"hermanos\"])"
   ]
  },
  {
   "cell_type": "markdown",
   "metadata": {},
   "source": [
    "En resumen, el método `get()` es una manera fácil y segura de obtener el valor de una clave en un diccionario, ya que no generará un error si la clave no está presente en el diccionario. Además, el valor predeterminado que se puede especificar como argumento es útil si desea devolver un valor personalizado en lugar de `None` si la clave no existe."
   ]
  },
  {
   "cell_type": "markdown",
   "metadata": {},
   "source": [
    "## `setdefault()`\n",
    "\n",
    "El método `setdefault()` es un método incorporado en Python que se utiliza para obtener el valor de una clave en un diccionario y, si la clave no existe, se inserta una nueva clave con un valor predeterminado."
   ]
  },
  {
   "cell_type": "code",
   "execution_count": 66,
   "metadata": {},
   "outputs": [
    {
     "name": "stdout",
     "output_type": "stream",
     "text": [
      "Los valores de la clave 'edad' es:  None\n",
      "Los valores de la clave 'edad' es:  None\n"
     ]
    }
   ],
   "source": [
    "# antes hemos visto como al usar el método 'get()' si buscabamos una clave que no existía nos devolvía None o un mensaje predeterminado. \n",
    "# veamos que como funciona el método setdefault\n",
    "\n",
    "# busquemos primero la clave 'edad', que ya sabemos que no existe en el diccionario con el método `get()`. \n",
    "# recordemos que, a este método si no le pasabamos el método predeterminado nos devuelve None\n",
    "print(\"Los valores de la clave 'edad' es: \", diccionario_alumnas.get(\"edad\"))\n",
    "\n",
    "# hagamos exactamente lo mismo pero usando el método setdefault\n",
    "print(\"Los valores de la clave 'edad' es: \", diccionario_alumnas.setdefault(\"edad\"))\n"
   ]
  },
  {
   "cell_type": "markdown",
   "metadata": {},
   "source": [
    "Como no le hemos añadido ningún parámetro al método `setdefault`, por defecto nos lo pone en `None`. Pero la parte más importante es que en este caso, este método nos devuelve el diccionario con un par de clave valor-nuevo 👇"
   ]
  },
  {
   "cell_type": "code",
   "execution_count": 67,
   "metadata": {},
   "outputs": [
    {
     "name": "stdout",
     "output_type": "stream",
     "text": [
      "El diccionario de las alumnas es {'nombres': ['Lola', 'Marta', 'Lorena'], 'notas': [8, 9, 6], 'hermanos': ['Si', 'No', 'Si', 'Si', 'Si'], 'edad': None}\n"
     ]
    }
   ],
   "source": [
    "# profundicemos más en el método setdefault y veamos que es lo que ha pasado\n",
    "# para eso printeemos el diccionario\n",
    "print(\"El diccionario de las alumnas es\", diccionario_alumnas)"
   ]
  },
  {
   "cell_type": "code",
   "execution_count": 68,
   "metadata": {},
   "outputs": [
    {
     "name": "stdout",
     "output_type": "stream",
     "text": [
      "Los valores de la clave 'curso' es:  no existe\n",
      "El contenido del diccionario es: {'nombres': ['Lola', 'Marta', 'Lorena'], 'notas': [8, 9, 6], 'hermanos': ['Si', 'No', 'Si', 'Si', 'Si'], 'edad': None, 'curso': 'no existe'}\n"
     ]
    }
   ],
   "source": [
    "# pogamos ahora otro ejemplo, imaginemos que queremos buscar la clave 'curso' que tampoco esta en nuestro diccionario\n",
    "# a diferencia que en el ejemplo anterior, ahora vamos a pasar un parámetro extra indicando que \"no existe\"\n",
    "# hagamos exactamente lo mismo pero usando el método setdefault\n",
    "print(\"Los valores de la clave 'curso' es: \", diccionario_alumnas.setdefault(\"curso\", \"no existe\"))\n",
    "\n",
    "# chequeemos ahora el diccionario\n",
    "print(\"El contenido del diccionario es:\", diccionario_alumnas)"
   ]
  },
  {
   "cell_type": "markdown",
   "metadata": {},
   "source": [
    "Ahora vemos que se nos ha creado un par de clave-valor nuevo, pero en este caso el valor nuevo no es None, si no el valor del parámetro que hemos puest, en  este caso \"no existe\". De la misma forma que le hemos puesto el string \"no existe\", podríamos pasar una  lista o cualquier tipo de tipo de dato. En este caso, buscaremos la clave \"apellidos\""
   ]
  },
  {
   "cell_type": "code",
   "execution_count": 69,
   "metadata": {},
   "outputs": [
    {
     "name": "stdout",
     "output_type": "stream",
     "text": [
      "Los valores de la clave 'apellidos' es:  ['no existe']\n",
      "El contenido del diccionario es: {'nombres': ['Lola', 'Marta', 'Lorena'], 'notas': [8, 9, 6], 'hermanos': ['Si', 'No', 'Si', 'Si', 'Si'], 'edad': None, 'curso': 'no existe', 'apellidos': ['no existe']}\n"
     ]
    }
   ],
   "source": [
    "print(\"Los valores de la clave 'apellidos' es: \", diccionario_alumnas.setdefault(\"apellidos\", [\"no existe\"]))\n",
    "\n",
    "# chequeemos ahora el diccionario\n",
    "print(\"El contenido del diccionario es:\", diccionario_alumnas)"
   ]
  },
  {
   "cell_type": "markdown",
   "metadata": {},
   "source": [
    "En resumen, tanto el método `get()` como el método `setdefault()` se utilizan para obtener valores de un diccionario en Python. Sin embargo, hay algunas diferencias clave entre estos dos métodos. La diferencia principal es lo que sucede cuando la clave no existe en el diccionario. Con el método `get()`, se devuelve el valor predeterminado que se ha pasado como segundo parámetro. Con el método `setdefault()`, se inserta una nueva clave con el valor predeterminado y se devuelve ese valor."
   ]
  },
  {
   "cell_type": "markdown",
   "metadata": {},
   "source": [
    "## `sorted()`\n",
    "\n",
    "El método `sorted()` se utiliza en Python para ordenar sus elementos, como una lista. En el caso de los diccionarios, el método `sorted()` devuelve una lista de tuplas que representan cada par clave-valor ordenado por la clave."
   ]
  },
  {
   "cell_type": "code",
   "execution_count": 70,
   "metadata": {},
   "outputs": [
    {
     "name": "stdout",
     "output_type": "stream",
     "text": [
      "Las claves del diccionario ordenado son: ['apellidos', 'curso', 'edad', 'hermanos', 'nombres', 'notas']\n"
     ]
    },
    {
     "ename": "TypeError",
     "evalue": "'<' not supported between instances of 'int' and 'str'",
     "output_type": "error",
     "traceback": [
      "\u001b[0;31m---------------------------------------------------------------------------\u001b[0m",
      "\u001b[0;31mTypeError\u001b[0m                                 Traceback (most recent call last)",
      "\u001b[0;32m/tmp/ipykernel_322/1028249886.py\u001b[0m in \u001b[0;36m<module>\u001b[0;34m\u001b[0m\n\u001b[1;32m      3\u001b[0m \u001b[0;34m\u001b[0m\u001b[0m\n\u001b[1;32m      4\u001b[0m \u001b[0;31m# ¿comó lo podríamos hacer si quisieramos ordenar por los valores? Tendríamos que usar el método '.values()' que aprendimos en esta lección\u001b[0m\u001b[0;34m\u001b[0m\u001b[0;34m\u001b[0m\u001b[0m\n\u001b[0;32m----> 5\u001b[0;31m \u001b[0mprint\u001b[0m\u001b[0;34m(\u001b[0m\u001b[0;34m\"Los values del diccionario ordenado son:\"\u001b[0m\u001b[0;34m,\u001b[0m \u001b[0msorted\u001b[0m\u001b[0;34m(\u001b[0m\u001b[0mdiccionario_alumnas\u001b[0m\u001b[0;34m.\u001b[0m\u001b[0mvalues\u001b[0m\u001b[0;34m(\u001b[0m\u001b[0;34m)\u001b[0m\u001b[0;34m)\u001b[0m\u001b[0;34m)\u001b[0m\u001b[0;34m\u001b[0m\u001b[0;34m\u001b[0m\u001b[0m\n\u001b[0m",
      "\u001b[0;31mTypeError\u001b[0m: '<' not supported between instances of 'int' and 'str'"
     ]
    }
   ],
   "source": [
    "# por defecto nos va a ordenar las keys del diccionario 👇🏽\n",
    "print(\"Las claves del diccionario ordenado son:\", sorted(diccionario_alumnas))\n",
    "\n",
    "# ¿comó lo podríamos hacer si quisieramos ordenar por los valores? Tendríamos que usar el método '.values()' que aprendimos en esta lección\n",
    "print(\"Los values del diccionario ordenado son:\", sorted(diccionario_alumnas.values()))"
   ]
  },
  {
   "cell_type": "markdown",
   "metadata": {},
   "source": [
    "Vaya... 😢Nos ha devuelto un error, y es que este error es similar al que teníamos en listas cuando intentabamos ordenar una lista que tenía números y palabras. Python no puede ordenarlo, igual que nosotras no lo podríamos hacer. Hagamos este mismo ejemplo, pero con un diccionario nuevo donde todos los valores son *strings*"
   ]
  },
  {
   "cell_type": "code",
   "execution_count": 83,
   "metadata": {},
   "outputs": [
    {
     "name": "stdout",
     "output_type": "stream",
     "text": [
      "El diccionario de las mascotas es: {'nombre': 'Poes', 'cumpleaños': '01/07', 'tipo': 'européo común', 'vacunas': 'no tiene'}\n",
      "Los valores del diccionario ordenados son: ['01/07', 'Poes', 'européo común', 'no tiene']\n",
      "Los valores del diccionario ordenados son: ['no tiene', 'européo común', 'Poes', '01/07']\n"
     ]
    }
   ],
   "source": [
    "# definimos el diccionario\n",
    "diccionario_mascotas = {'nombre': 'Poes',\n",
    "                        'cumpleaños': '01/07',\n",
    "                        'tipo': 'européo común',\n",
    "                        'vacunas': 'no tiene'}\n",
    "\n",
    "# mostramos el contenido del diccionario\n",
    "print(\"El diccionario de las mascotas es:\", diccionario_mascotas)\n",
    "\n",
    "# ordenamos los values por orden alfabético de la A a la Z\n",
    "print(\"Los valores del diccionario ordenados son:\", sorted(diccionario_mascotas.values()))\n",
    "\n",
    "# y si quisieramos ordenar de la Z-A, usaremos el método reverse = True\n",
    "print(\"Los valores del diccionario ordenados son:\", sorted(diccionario_mascotas.values(), reverse=True))"
   ]
  },
  {
   "cell_type": "markdown",
   "metadata": {},
   "source": [
    "## `pop()`\n",
    "\n",
    "En Python, el método `pop()` se puede utilizar para eliminar y devolver el valor de una clave especificada en un diccionario. El método `pop()` acepta un argumento, que es la clave del elemento que se desea eliminar. Si la clave existe en el diccionario, el método `pop()` eliminará el elemento y devolverá su valor. Si la clave no existe en el diccionario, el método `pop()` generará un error."
   ]
  },
  {
   "cell_type": "code",
   "execution_count": 72,
   "metadata": {},
   "outputs": [
    {
     "name": "stdout",
     "output_type": "stream",
     "text": [
      "El diccionario de las alumnas es {'nombres': ['Lola', 'Marta', 'Lorena'], 'notas': [8, 9, 6], 'hermanos': ['Si', 'No', 'Si', 'Si', 'Si'], 'edad': None, 'curso': 'no existe', 'apellidos': ['no existe']}\n",
      "Eliminamos la clave de 'edad' del diccionario: None\n",
      "El diccionario de las alumnas es {'nombres': ['Lola', 'Marta', 'Lorena'], 'notas': [8, 9, 6], 'hermanos': ['Si', 'No', 'Si', 'Si', 'Si'], 'curso': 'no existe', 'apellidos': ['no existe']}\n"
     ]
    }
   ],
   "source": [
    "# mostramos el contenido del diccionario\n",
    "print(\"El diccionario de las alumnas es\", diccionario_alumnas)\n",
    "\n",
    "# imaginemos ahora que queremos eliminar la clave de \"edad\" que tenía un valor de None usando el método `.pop()`\n",
    "# este método, .pop() nos devuelve el valor de la clave que estamos eliminando\n",
    "print(\"Eliminamos la clave de 'edad' del diccionario:\", diccionario_alumnas.pop(\"edad\"))\n",
    "\n",
    "# veamos como queda el diccionario después de eliminar la clave:\n",
    "print(\"El diccionario de las alumnas es\", diccionario_alumnas)\n"
   ]
  },
  {
   "cell_type": "markdown",
   "metadata": {},
   "source": [
    "## `popitem()`\n",
    "\n",
    "El método `popitem()` se puede utilizar para eliminar y devolver **el último par clave-valor agregado al diccionario**. El método `popitem()` no toma ningún argumento y, por lo general, se utiliza cuando se desea eliminar un elemento arbitrario del diccionario."
   ]
  },
  {
   "cell_type": "code",
   "execution_count": 73,
   "metadata": {},
   "outputs": [
    {
     "name": "stdout",
     "output_type": "stream",
     "text": [
      "El diccionario de las alumnas es {'nombres': ['Lola', 'Marta', 'Lorena'], 'notas': [8, 9, 6], 'hermanos': ['Si', 'No', 'Si', 'Si', 'Si'], 'curso': 'no existe', 'apellidos': ['no existe']}\n",
      "Eliminamos EL ÚLTIMO PAR DE CLAVE-VALOR  del diccionario: ('apellidos', ['no existe'])\n",
      "El diccionario de las alumnas es {'nombres': ['Lola', 'Marta', 'Lorena'], 'notas': [8, 9, 6], 'hermanos': ['Si', 'No', 'Si', 'Si', 'Si'], 'curso': 'no existe'}\n"
     ]
    }
   ],
   "source": [
    "# mostramos el contenido del diccionario\n",
    "print(\"El diccionario de las alumnas es\", diccionario_alumnas)\n",
    "\n",
    "#imaginemos que quisieramos eliminar el último par de clave-valor del diccionario usando el método 'popitem()'👇. ESTE MÉTODO NOS DEVUELVE EL PAR DE CLAVE-VALOR QUE HA ELIMINADO\n",
    "print(\"Eliminamos EL ÚLTIMO PAR DE CLAVE-VALOR  del diccionario:\", diccionario_alumnas.popitem())\n",
    "\n",
    "# veamos como queda el diccionario después de eliminar la clave:\n",
    "print(\"El diccionario de las alumnas es\", diccionario_alumnas)\n"
   ]
  },
  {
   "cell_type": "markdown",
   "metadata": {},
   "source": [
    "Por lo tanto, la principal diferencia entre los métodos `pop()` y `popitem()` en los diccionarios de Python es la forma en que se eliminan los elementos del diccionario.\n",
    "\n",
    "El método `pop()` se utiliza para eliminar y devolver el valor asociado con una clave especificada en el diccionario. El método `pop()` toma un argumento, que es la clave del elemento que se desea eliminar. Si la clave existe en el diccionario, el método `pop()` eliminará el elemento y devolverá su valor. Si la clave no existe en el diccionario, el método`pop()` generará un error. Es importante destacar que el método `pop()` permite eliminar elementos de forma selectiva, eligiendo la clave que se desea eliminar.\n",
    "\n",
    "Por otro lado, el método `popitem()` se utiliza para eliminar y devolver el último par clave-valor agregado al diccionario. El método `popitem()` no toma ningún argumento y, por lo general, se utiliza cuando se desea eliminar un elemento arbitrario del diccionario. Es importante destacar que el método `popitem()` no permite eliminar elementos de forma selectiva, y solo se utiliza para eliminar el último elemento agregado al diccionario.\n",
    "\n",
    "En resumen, la diferencia principal entre `pop()` y `popitem()` en los diccionarios de Python es que `pop()` se utiliza para eliminar un elemento específico según su clave, mientras que `popitem()` se utiliza para eliminar el último elemento agregado al diccionario, sin importar su clave."
   ]
  },
  {
   "cell_type": "markdown",
   "metadata": {},
   "source": [
    "# Algunas notas sobre los diccionarios\n",
    "\n",
    "Hasta ahora hemos visto un montón de métodos y propiedades de los diccionarios. Los diccionarios tienen una serie de peculiridades, especialmente relacionadas con la modificación de los valores. Veamoslo en detalle para poder entenderlo mejor: "
   ]
  },
  {
   "cell_type": "code",
   "execution_count": 88,
   "metadata": {},
   "outputs": [
    {
     "name": "stdout",
     "output_type": "stream",
     "text": [
      "El diccionario de la mascota es: {'nombre': 'Poes', 'cumpleaños': '01/07', 'tipo': 'européo común', 'vacunas': 'no tiene'}\n",
      "El diccionario de la mascota es: {'nombre': 'Darwin', 'cumpleaños': '01/07', 'tipo': 'européo común', 'vacunas': 'no tiene'}\n",
      "El diccionario de la mascota es: {'nombre': 'Darwin', 'cumpleaños': '01/07', 'tipo': 'européo común', 'vacunas': []}\n",
      "El valor de la clave 'vacunas' es:  []\n",
      "El valor de la clave 'vacunas' es:  <class 'list'>\n",
      "El diccionario de la mascota después de añadir una vacuna a la lista es: {'nombre': 'Darwin', 'cumpleaños': '01/07', 'tipo': 'européo común', 'vacunas': ['gripe']}\n",
      "El diccionario de la mascota después de añadir más vacunas a la lista es: {'nombre': 'Darwin', 'cumpleaños': '01/07', 'tipo': 'européo común', 'vacunas': ['gripe', 'leucemia felina']}\n"
     ]
    }
   ],
   "source": [
    "# nos hacemos una copia del diccionario original\n",
    "\n",
    "diccionario_mascotas_copia = diccionario_mascotas.copy()\n",
    "# trabajaremos con el diccionario de las mascotas que habíamos creado previamente:\n",
    "print(\"El diccionario de la mascota es:\", diccionario_mascotas_copia)\n",
    "\n",
    "# imaginemos que nos hemos equivocado con en el nombre de nuestra mascota y queremos cambiarla, \n",
    "# eso lo podremos hacer accediendo a los valores como hemos aprendido con los corchetes y reemplazarlo con el valor que queramos\n",
    "diccionario_mascotas_copia[\"nombre\"] = \"Darwin\"\n",
    "\n",
    "# veamos como ha quedado el diccionario después del cambio. AHORA NUESTRA MASCOTA SE LLAMA 'Darwin' \n",
    "print(\"El diccionario de la mascota es:\", diccionario_mascotas_copia)\n",
    "\n",
    "# incluso podemos cambiar el tipo del valor, por ejemplo de un string a una lista. En este casio, nuestra mascota puede tener varias vacunas diferentes,\n",
    "#  pero en este caso lo tenemos como un único string, cuando en relidad queremos que sea una lista a la que le vayamos añadiendo las distintas vacunas que tiene\n",
    "# seguiremos la misma lógica de antes\n",
    "diccionario_mascotas_copia[\"vacunas\"] = []\n",
    "\n",
    "\n",
    "# veamos como ha quedado el diccionario después del cambio. AHORA el valor de la clave 'vacunas es una lista'\n",
    "print(\"El diccionario de la mascota es:\", diccionario_mascotas_copia)\n",
    "\n",
    "# ¿Y si quisieramos añadir una vacuna a la lista creada en el paso anterior? Podríamos volver a definir la clave, pero en vez de pasar una lista vacía, pasar una lista con \n",
    "# las vacunas que tiene la mascota, pero esto puede ser muy tedioso. \n",
    "# otra forma de hacerlo es usando métodos de listas. Desgranemos este problema:\n",
    "\n",
    "# si accedemos al valor de la clave \"vacunas\" nos devolverá una lista\n",
    "print(\"El valor de la clave 'vacunas' es: \", diccionario_mascotas_copia['vacunas'])\n",
    "\n",
    "# si vemos el tipo de este clave será una lista\n",
    "print(\"El valor de la clave 'vacunas' es: \", type(diccionario_mascotas_copia['vacunas']))\n",
    "\n",
    "\n",
    "# como se trata de una lista podremos usar los métodos de las listas que hemos aprendido hasta ahora, en concreto el método '.append()'\n",
    "diccionario_mascotas_copia[\"vacunas\"].append(\"gripe\")\n",
    "\n",
    "# veamos como ha quedado el diccionario después del cambio. AHORA el valor de la clave 'vacunas es una lista' que contiene el elemento \"gripe\"\n",
    "print(\"El diccionario de la mascota después de añadir una vacuna a la lista es:\", diccionario_mascotas_copia)\n",
    "\n",
    "# esta operación la podremos realizar todas las veces que queramos\n",
    "# como se trata de una lista podremos usar los métodos de las listas que hemos aprendido hasta ahora, en concreto el método '.append()'\n",
    "diccionario_mascotas_copia[\"vacunas\"].append(\"leucemia felina\")\n",
    "print(\"El diccionario de la mascota después de añadir más vacunas a la lista es:\", diccionario_mascotas_copia)\n",
    "\n",
    "\n",
    "# esta operación la podemos hacer con cualquier método de listas!!! "
   ]
  },
  {
   "cell_type": "markdown",
   "metadata": {
    "id": "5PcBreuKcX1-"
   },
   "source": [
    "\n",
    "\n",
    "---\n",
    "\n",
    "\n",
    "# Ejercicios\n",
    "\n",
    "- Definir diccionarios\n",
    "\n",
    "  1. Crea el diccionario `festivos` con las fechas como claves y los nombres como valores: 01/01: Año Nuevo, 06/01: Epifanía del Señor, 15/04: Viernes Santo, 15/08: Asunción de la Virgen, 12/10: Fiesta Nacional de España, 01/11: Todos los Santos, 06/12: Día de la Constitución Española, y 08/12: Inmaculada Concepción.\n",
    "\n",
    "\n",
    "  2. Crea el diccionario `monarcas` con los países como claves y los nombres como valores: Bélgica: Philippe, Dinamarca: Margrethe II, Holanda: Beatrix, Noruega: Harald V, España: Felipe VI, Reino Unido: Carlos III.\n",
    "\n",
    "- Leer, añadir, y cambiar elementos\n",
    "\n",
    "  3. ¿Qué festivo hay el 15/04?\n",
    "\n",
    "\n",
    "  4. La reina `'Beatrix'` abdicó, ahora es el rey `'Willem-Alexander'`. Actualiza el dict.\n",
    "\n",
    "  \n",
    "  5. El rey de Luxemburgo se llama `Henri`. Añadelo al dict usando `.update()`. \n",
    "\n",
    "- Comprobar contenidos\n",
    "\n",
    "  6. ¿Cuántos países están definidos en `monarcas`?\n",
    "\n",
    "  7. ¿Es `'Monaco'` uno de ellos?\n",
    "\n",
    "  8. ¿Es verdad que nos olvidamos de poner `'Suecia'`? Compruébalo de una manera en que obtengas un `True` o `False`.\n",
    "\n",
    "- Listar los contenidos\n",
    "\n",
    "  9. Saca una **lista** de todos los países en el dict `monarcas`.\n",
    "\n",
    "  10. Saca una **lista** de los nombres de los festivos.\n",
    "\n",
    "  11. Imprime el diccionario de festivos.\n",
    "  \n",
    "  12. Imprime una **lista de tuplas** de todos los elementos que hay en festivos.\n",
    "\n",
    "- Copiar dicts, y borrar elementos\n",
    "\n",
    "  13. Copia `monarcas` a `monarcas2010`.\n",
    "\n",
    "  14. Quita España de `monarcas2010`.\n",
    "\n",
    "  15. Quita el último elemento de `monarcas2010`.\n",
    "\n",
    "- Vaciar y borrar dicts\n",
    "\n",
    "  16. Vacia el dict `monarcas2010`.\n",
    "\n",
    "\n",
    "- Obtener valores\n",
    "\n",
    "  17. ¿Qué festivo hay el 06/01?\n",
    "  \n",
    "  18. Obten el festivo que haya el 08/03, y en su defecto devuélve 'Día Internacional de la Mujer'.\n",
    "\n",
    "  19. Obten el festivo que haya el 31/11, y si no existe crea un par de clave-valor nuevo con el valor de 'Todos los Santos'.\n",
    "\n",
    "---\n",
    "\n"
   ]
  },
  {
   "cell_type": "markdown",
   "metadata": {},
   "source": [
    "  1. Crea el diccionario `festivos` con las fechas como claves y los nombres como valores: 01/01: Año Nuevo, 06/01: Epifanía del Señor, 15/04: Viernes Santo, 15/08: Asunción de la Virgen, 12/10: Fiesta Nacional de España, 01/11: Todos los Santos, 06/12: Día de la Constitución Española, y 08/12: Inmaculada Concepción.\n",
    "  "
   ]
  },
  {
   "cell_type": "code",
   "execution_count": 1,
   "metadata": {},
   "outputs": [],
   "source": [
    "festivos = {\"01/01\" : \"Año Nuevo\" , \n",
    "            \"06/01\" : \"Epifanía del Señor\" , \n",
    "            \"15/04\" : \"Viernes Santo\" , \n",
    "            \"15/08\" : \"Asunción de la Virgen\" , \n",
    "            \"12/10\" : \"Fiesta Nacional de España\" , \n",
    "            \"01/11\" : \"Todos los Santos\" , \n",
    "            \"06/12\" : \"Día de la Constitución Española\" , \n",
    "            \"08/12\" : \"Inmaculada Concepción\"}"
   ]
  },
  {
   "cell_type": "markdown",
   "metadata": {},
   "source": [
    " 2. Crea el diccionario `monarcas` con los países como claves y los nombres como valores: Bélgica: Philippe, Dinamarca: Margrethe II, Holanda: Beatrix, Noruega: Harald V, España: Felipe VI, Reino Unido: Carlos III."
   ]
  },
  {
   "cell_type": "code",
   "execution_count": 2,
   "metadata": {},
   "outputs": [],
   "source": [
    "monarcas = {\"Bélgica\" : \"Philippe\" , \n",
    "            \"Dinamarca\" : \"Margrethe II\" , \n",
    "            \"Holanda\" : \"Beatrix\" , \n",
    "            \"Noruega\" : \"Harald V\" , \n",
    "            \"España\" : \"Felipe VI\" , \n",
    "            \"Reino Unido\" : \"Carlos III\"}"
   ]
  },
  {
   "cell_type": "markdown",
   "metadata": {},
   "source": [
    "- Leer, añadir, y cambiar elementos\n",
    "\n",
    "  3. ¿Qué festivo hay el 15/04?\n",
    "\n",
    "\n",
    "  4. La reina `'Beatrix'` abdicó, ahora es el rey `'Willem-Alexander'`. Actualiza el dict.\n",
    "\n",
    "  \n",
    "  5. El rey de Luxemburgo se llama `Henri`. Añadelo al dict usando `.update()`. "
   ]
  },
  {
   "cell_type": "code",
   "execution_count": 3,
   "metadata": {},
   "outputs": [
    {
     "name": "stdout",
     "output_type": "stream",
     "text": [
      "El festivo del 15/04 es: Viernes Santo\n"
     ]
    }
   ],
   "source": [
    "festivos_1 = festivos[\"15/04\"]\n",
    "print(f\"El festivo del 15/04 es: {festivos_1}\")"
   ]
  },
  {
   "cell_type": "code",
   "execution_count": 4,
   "metadata": {},
   "outputs": [
    {
     "name": "stdout",
     "output_type": "stream",
     "text": [
      "La reina Beatrix abdicó, ahora es el rey. El diccionario queda de la siguiente forma: {'Bélgica': 'Philippe', 'Dinamarca': 'Margrethe II', 'Holanda': 'Willem-Alexander', 'Noruega': 'Harald V', 'España': 'Felipe VI', 'Reino Unido': 'Carlos III'}\n"
     ]
    }
   ],
   "source": [
    "monarcas[\"Holanda\"] = \"Willem-Alexander\"\n",
    "print(\"La reina Beatrix abdicó, ahora es el rey. El diccionario queda de la siguiente forma:\" , monarcas)"
   ]
  },
  {
   "cell_type": "code",
   "execution_count": 5,
   "metadata": {},
   "outputs": [
    {
     "name": "stdout",
     "output_type": "stream",
     "text": [
      "{'Bélgica': 'Philippe', 'Dinamarca': 'Margrethe II', 'Holanda': 'Willem-Alexander', 'Noruega': 'Harald V', 'España': 'Felipe VI', 'Reino Unido': 'Carlos III', 'Luxemburgo': 'Henri'}\n"
     ]
    }
   ],
   "source": [
    "nuevo_elemento = {\"Luxemburgo\": \"Henri\"}\n",
    "monarcas.update(nuevo_elemento)\n",
    "print(monarcas)"
   ]
  },
  {
   "cell_type": "markdown",
   "metadata": {},
   "source": [
    "- Comprobar contenidos\n",
    "\n",
    "  6. ¿Cuántos países están definidos en `monarcas`?\n",
    "\n",
    "  7. ¿Es `'Monaco'` uno de ellos?\n",
    "\n",
    "  8. ¿Es verdad que nos olvidamos de poner `'Suecia'`? Compruébalo de una manera en que obtengas un `True` o `False`."
   ]
  },
  {
   "cell_type": "code",
   "execution_count": 6,
   "metadata": {},
   "outputs": [
    {
     "name": "stdout",
     "output_type": "stream",
     "text": [
      "El número de países que hay en el diccionario es: 7\n"
     ]
    }
   ],
   "source": [
    "print(\"El número de países que hay en el diccionario es:\" , len(monarcas))"
   ]
  },
  {
   "cell_type": "code",
   "execution_count": 7,
   "metadata": {},
   "outputs": [
    {
     "name": "stdout",
     "output_type": "stream",
     "text": [
      "¿Es Mónaco uno de ellos? False\n"
     ]
    }
   ],
   "source": [
    "print(\"¿Es Mónaco uno de ellos?\" , \"Mónaco\" in monarcas)"
   ]
  },
  {
   "cell_type": "code",
   "execution_count": 8,
   "metadata": {},
   "outputs": [
    {
     "name": "stdout",
     "output_type": "stream",
     "text": [
      "Está Suecia también? True\n"
     ]
    }
   ],
   "source": [
    "print(\"Está Suecia también?\" , \"Suecia\" not in monarcas)"
   ]
  },
  {
   "cell_type": "markdown",
   "metadata": {},
   "source": [
    "- Listar los contenidos\n",
    "\n",
    "  9. Saca una **lista** de todos los países en el dict `monarcas`.\n",
    "\n",
    "  10. Saca una **lista** de los nombres de los festivos.\n",
    "\n",
    "  11. Imprime el diccionario de festivos.\n",
    "  \n",
    "  12. Imprime una **lista de tuplas** de todos los elementos que hay en festivos."
   ]
  },
  {
   "cell_type": "code",
   "execution_count": 9,
   "metadata": {},
   "outputs": [
    {
     "name": "stdout",
     "output_type": "stream",
     "text": [
      "Los países listados son los siguientes:\n",
      "['Bélgica', 'Dinamarca', 'Holanda', 'Noruega', 'España', 'Reino Unido', 'Luxemburgo']\n"
     ]
    }
   ],
   "source": [
    "lista_paises = list(monarcas.keys())\n",
    "print(\"Los países listados son los siguientes:\")\n",
    "print(lista_paises)"
   ]
  },
  {
   "cell_type": "code",
   "execution_count": 13,
   "metadata": {},
   "outputs": [
    {
     "name": "stdout",
     "output_type": "stream",
     "text": [
      "Los nombres de los festivos son:\n",
      "['Año Nuevo', 'Epifanía del Señor', 'Viernes Santo', 'Asunción de la Virgen', 'Fiesta Nacional de España', 'Todos los Santos', 'Día de la Constitución Española', 'Inmaculada Concepción']\n"
     ]
    }
   ],
   "source": [
    "lista_nombres = list(festivos.values())\n",
    "print(\"Los nombres de los festivos son:\")\n",
    "print(lista_nombres)"
   ]
  },
  {
   "cell_type": "code",
   "execution_count": 19,
   "metadata": {},
   "outputs": [
    {
     "name": "stdout",
     "output_type": "stream",
     "text": [
      "{'01/01': 'Año Nuevo', '06/01': 'Epifanía del Señor', '15/04': 'Viernes Santo', '15/08': 'Asunción de la Virgen', '12/10': 'Fiesta Nacional de España', '01/11': 'Todos los Santos', '06/12': 'Día de la Constitución Española', '08/12': 'Inmaculada Concepción'}\n"
     ]
    }
   ],
   "source": [
    "print(festivos)"
   ]
  },
  {
   "cell_type": "code",
   "execution_count": 17,
   "metadata": {},
   "outputs": [
    {
     "name": "stdout",
     "output_type": "stream",
     "text": [
      "Esta es la lista de tuplas de los festivos\n",
      "[('01/01', 'Año Nuevo'), ('06/01', 'Epifanía del Señor'), ('15/04', 'Viernes Santo'), ('15/08', 'Asunción de la Virgen'), ('12/10', 'Fiesta Nacional de España'), ('01/11', 'Todos los Santos'), ('06/12', 'Día de la Constitución Española'), ('08/12', 'Inmaculada Concepción')]\n"
     ]
    }
   ],
   "source": [
    "lista_tuplas_festivos = list(festivos.items())\n",
    "print(\"Esta es la lista de tuplas de los festivos\")\n",
    "print(lista_tuplas_festivos)"
   ]
  },
  {
   "cell_type": "markdown",
   "metadata": {},
   "source": [
    "- Copiar dicts, y borrar elementos\n",
    "\n",
    "  13. Copia `monarcas` a `monarcas2010`.\n",
    "\n",
    "  14. Quita España de `monarcas2010`.\n",
    "\n",
    "  15. Quita el último elemento de `monarcas2010`.\n",
    "\n",
    "- Vaciar y borrar dicts\n",
    "\n",
    "  16. Vacia el dict `monarcas2010`."
   ]
  },
  {
   "cell_type": "code",
   "execution_count": 20,
   "metadata": {},
   "outputs": [],
   "source": [
    "monarcas2010 = monarcas.copy()"
   ]
  },
  {
   "cell_type": "code",
   "execution_count": 22,
   "metadata": {},
   "outputs": [
    {
     "name": "stdout",
     "output_type": "stream",
     "text": [
      "Quito España de la lista Felipe VI\n"
     ]
    }
   ],
   "source": [
    "print(\"Quito España de la lista\", monarcas2010.pop(\"España\"))"
   ]
  },
  {
   "cell_type": "code",
   "execution_count": 21,
   "metadata": {},
   "outputs": [
    {
     "name": "stdout",
     "output_type": "stream",
     "text": [
      "{'Bélgica': 'Philippe', 'Dinamarca': 'Margrethe II', 'Holanda': 'Willem-Alexander', 'Noruega': 'Harald V', 'España': 'Felipe VI', 'Reino Unido': 'Carlos III', 'Luxemburgo': 'Henri'}\n"
     ]
    }
   ],
   "source": [
    "print(monarcas2010)"
   ]
  },
  {
   "cell_type": "code",
   "execution_count": 23,
   "metadata": {},
   "outputs": [
    {
     "name": "stdout",
     "output_type": "stream",
     "text": [
      "Quitamos el último país del listado ('Luxemburgo', 'Henri')\n"
     ]
    }
   ],
   "source": [
    "print(\"Quitamos el último país del listado\" , monarcas2010.popitem())"
   ]
  },
  {
   "cell_type": "code",
   "execution_count": 24,
   "metadata": {},
   "outputs": [],
   "source": [
    "monarcas2010.clear()"
   ]
  },
  {
   "cell_type": "code",
   "execution_count": 25,
   "metadata": {},
   "outputs": [
    {
     "name": "stdout",
     "output_type": "stream",
     "text": [
      "{}\n"
     ]
    }
   ],
   "source": [
    "print(monarcas2010)"
   ]
  },
  {
   "cell_type": "markdown",
   "metadata": {},
   "source": [
    "- Obtener valores\n",
    "\n",
    "  17. ¿Qué festivo hay el 06/01?\n",
    "  \n",
    "  18. Obten el festivo que haya el 08/03, y en su defecto devuélve 'Día Internacional de la Mujer'.\n",
    "\n",
    "  19. Obten el festivo que haya el 31/11, y si no existe crea un par de clave-valor nuevo con el valor de 'Todos los Santos'."
   ]
  },
  {
   "cell_type": "code",
   "execution_count": 26,
   "metadata": {},
   "outputs": [
    {
     "name": "stdout",
     "output_type": "stream",
     "text": [
      "Epifanía del Señor\n"
     ]
    }
   ],
   "source": [
    "festivos_06_01 = festivos.get(\"06/01\")\n",
    "print(festivos_06_01)"
   ]
  },
  {
   "cell_type": "code",
   "execution_count": 27,
   "metadata": {},
   "outputs": [
    {
     "name": "stdout",
     "output_type": "stream",
     "text": [
      "Día Internacional de la Mujer\n"
     ]
    }
   ],
   "source": [
    "festivos_08_03 = festivos.get(\"08/03\", \"Día Internacional de la Mujer\")\n",
    "print(festivos_08_03)"
   ]
  },
  {
   "cell_type": "code",
   "execution_count": 28,
   "metadata": {},
   "outputs": [
    {
     "name": "stdout",
     "output_type": "stream",
     "text": [
      "El festivo del 31/11 es: Todos los Santos\n",
      "Diccionario festivos después de setdefault:\n",
      "{'01/01': 'Año Nuevo', '06/01': 'Epifanía del Señor', '15/04': 'Viernes Santo', '15/08': 'Asunción de la Virgen', '12/10': 'Fiesta Nacional de España', '01/11': 'Todos los Santos', '06/12': 'Día de la Constitución Española', '08/12': 'Inmaculada Concepción', '31/11': 'Todos los Santos'}\n"
     ]
    }
   ],
   "source": [
    "festivo_31_11 = festivos.setdefault(\"31/11\" , \"Todos los Santos\")\n",
    "print(f\"El festivo del 31/11 es: {festivo_31_11}\")\n",
    "print(\"Diccionario festivos después de setdefault:\")\n",
    "print(festivos)"
   ]
  }
 ],
 "metadata": {
  "kernelspec": {
   "display_name": "Python 3 (ipykernel)",
   "language": "python",
   "name": "python3"
  },
  "language_info": {
   "codemirror_mode": {
    "name": "ipython",
    "version": 3
   },
   "file_extension": ".py",
   "mimetype": "text/x-python",
   "name": "python",
   "nbconvert_exporter": "python",
   "pygments_lexer": "ipython3",
   "version": "3.11.7"
  },
  "toc": {
   "base_numbering": 1,
   "nav_menu": {},
   "number_sections": true,
   "sideBar": true,
   "skip_h1_title": false,
   "title_cell": "Table of Contents",
   "title_sidebar": "Contents",
   "toc_cell": true,
   "toc_position": {
    "height": "calc(100% - 180px)",
    "left": "10px",
    "top": "150px",
    "width": "307.2px"
   },
   "toc_section_display": true,
   "toc_window_display": true
  },
  "vscode": {
   "interpreter": {
    "hash": "31f2aee4e71d21fbe5cf8b01ff0e069b9275f58929596ceb00d14d90e3e16cd6"
   }
  }
 },
 "nbformat": 4,
 "nbformat_minor": 2
}
