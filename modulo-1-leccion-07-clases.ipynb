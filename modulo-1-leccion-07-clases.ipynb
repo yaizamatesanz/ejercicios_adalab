{
 "cells": [
  {
   "cell_type": "markdown",
   "metadata": {
    "toc": true
   },
   "source": [
    "<h1>Table of Contents<span class=\"tocSkip\"></span></h1>\n",
    "<div class=\"toc\"><ul class=\"toc-item\"><li><span><a href=\"#¿Qué-es-la-OOP?\" data-toc-modified-id=\"¿Qué-es-la-OOP?-1\"><span class=\"toc-item-num\">1&nbsp;&nbsp;</span>¿Qué es la OOP?</a></span></li><li><span><a href=\"#Conceptos-básicos\" data-toc-modified-id=\"Conceptos-básicos-2\"><span class=\"toc-item-num\">2&nbsp;&nbsp;</span>Conceptos básicos</a></span></li><li><span><a href=\"#Herencias-de-las-clases\" data-toc-modified-id=\"Herencias-de-las-clases-3\"><span class=\"toc-item-num\">3&nbsp;&nbsp;</span>Herencias de las clases</a></span></li><li><span><a href=\"#Ejercicios\" data-toc-modified-id=\"Ejercicios-4\"><span class=\"toc-item-num\">4&nbsp;&nbsp;</span>Ejercicios</a></span></li></ul></div>"
   ]
  },
  {
   "cell_type": "markdown",
   "metadata": {},
   "source": [
    "# ¿Qué es la OOP?\n",
    "\n",
    "La Programación Orientada a Objetos (OOP,  por sus siglas en inglés) es un paradigma de programación que se basa en el concepto de \"objetos\" y su interacción para resolver problemas. En Python, como en muchos otros lenguajes de programación, puedes utilizar OOP para crear estructuras de código más organizadas, reutilizables y fáciles de mantener.\n",
    "\n",
    "En la OOP, los objetos son instancias de clases. Una clase es una plantilla o un plano que define las propiedades y comportamientos de un objeto. Las propiedades se conocen como atributos y los comportamientos se conocen como métodos.\n",
    "Por ejemplo, un objeto puede representar a una fruta con propiedades como el color, forma, sabor etc.\n",
    "\n",
    "Dicho de otro modo, la programación orientada a objetos es un enfoque para modelar cosas concretas del mundo real, como las frutas, los coches etc. La programación orientada a objetos modela las entidades del mundo real como objetos de software que tienen algunos datos asociados y pueden realizar ciertas funciones.\n",
    "\n",
    "La OOP ofrece varios beneficios, como:\n",
    "\n",
    "- **Modularidad y reutilización de código**: Los objetos encapsulan datos y comportamientos relacionados, lo que permite reutilizar código en diferentes partes del programa.\n",
    "\n",
    "- **Organización y estructura**: Las clases proporcionan una estructura clara y jerárquica para el código, lo que facilita su comprensión y mantenimiento.\n",
    "\n",
    "- **Abstracción y encapsulamiento**: Los objetos ocultan detalles internos y solo exponen una interfaz para interactuar con ellos, lo que permite manejar complejidad reduciendo la dependencia entre diferentes partes del código.\n",
    "\n",
    "- **Polimorfismo**: Permite que objetos de diferentes clases respondan de manera diferente a los mismos mensajes o llamadas a métodos, lo que facilita la implementación de comportamientos genéricos.\n",
    "\n",
    "La Programación Orientada a Objetos es un concepto clave en Python y en muchos otros lenguajes de programación. Su uso puede ayudarte a escribir código más modular, mantenible y flexible."
   ]
  },
  {
   "cell_type": "markdown",
   "metadata": {},
   "source": [
    "# Conceptos básicos\n",
    "\n",
    "\n",
    "- `Clase (Class)`: una clase es un esquema del objeto. Es un molde sobre el que crearemos los objetos o instancias con las mismas características (color, forma, sabor, etc.)\n",
    "Objeto o Instancia: es la entidad individual.\n",
    "\n",
    "    Es una fruta concreta, la mandarina que es de color naranja, redonda, con sabor dulce/ácido etc.\n",
    "\n",
    "- `Atributos`: son las características que le damos a un objeto dado. En nuestro ejemplo:\n",
    "\n",
    "    - color: naranja\n",
    "\n",
    "    - forma: redonda\n",
    "\n",
    "    - sabor: dulce/ácido\n",
    "\n",
    "\n",
    "- `Métodos`: son las funciones que definen cada objeto."
   ]
  },
  {
   "cell_type": "markdown",
   "metadata": {},
   "source": [
    "A lo largo de esta lección vamos a definir nuestra propia clase paso a paso. En este caso, vamos a crear una clase que se llame mascota, con la cual podremos definir cualquier tipo de mascota, ya sea un gato, un perro, un pez o una iguana por ejemplo. \n",
    "\n",
    "📌 **NOTA** Por convención, para que sepamos que se están trabajando con Clases, estas serán nombradas con la primera letra en mayúsculas. Por el contrario, si recordamos, en las funciones todo será en minúsculas. \n",
    "\n",
    "📌 **NOTA** Para definir clases usaremos la palabra clave `class`. \n",
    "\n",
    "\n",
    "Los pasos que deberemos seguir a la hora de crear la clase son: \n",
    "\n",
    "- 1️⃣ Creamos nuestra clase, que llamaremos Mascota.\n",
    "\n",
    "- 2️⃣ Debemos pensar en que propiedades (lo que serán los atributos que definan a una mascota en concreto) estamos interesados. Todos las propiedades o atributos en los que estamos interesados deben estar definidos en un método llamado `constructor`\n",
    "\n",
    "\n",
    "    Cada vez que se crea un nuevo objeto Mascota, `.init()` establece el estado inicial del objeto asignando los valores de las propiedades del objeto. Es decir, `.init()` inicializa cada nueva instancia de la clase.\n",
    "\n",
    "    Los atributos creados en el `__init__` son llamados atributos de instancia (*instance atributes*)\n",
    "    \n",
    "\n",
    "- 3️⃣ Instanciar un objeto, es decir, crear un nuevo objeto de la clase Mascota.\n",
    "\n",
    "- 4️⃣ Creamos diferentes métodos, es decir, las propiedades que le vamos a dar a cada uno de nuestros objetos.\n",
    "\n",
    "\n"
   ]
  },
  {
   "cell_type": "code",
   "execution_count": 1,
   "metadata": {},
   "outputs": [],
   "source": [
    "# 1️⃣ Creamos nuestra clase, que llamaremos Mascota.\n",
    "# iniciamos nuestra primera clase usando la palabra clave \"class\"\n",
    "\n",
    "\n",
    "class Mascota:\n",
    "    pass"
   ]
  },
  {
   "cell_type": "code",
   "execution_count": 2,
   "metadata": {},
   "outputs": [
    {
     "data": {
      "text/plain": [
       "<__main__.Mascota at 0x2b2e0ae4ca0>"
      ]
     },
     "execution_count": 2,
     "metadata": {},
     "output_type": "execute_result"
    }
   ],
   "source": [
    "# llamamos a la clase y la almacenamos en una variable \n",
    "felix = Mascota()\n",
    "felix"
   ]
  },
  {
   "cell_type": "markdown",
   "metadata": {},
   "source": [
    "Vale... ya hemos definido nuestra primera clase, pero de momento no tiene nada. Sigamos con los siguientes pasos, definir algunos artibutos. \n",
    "\n",
    "- ✔️ 1️⃣ Creamos nuestra clase, que llamaremos Mascota.\n",
    "\n",
    "- 2️⃣ Debemos pensar en que propiedades (lo que serán los atributos que definan a una mascota en concreto) estamos interesados. Todos las propiedades o atributos en los que estamos interesados deben estar definidos en un método llamado `constructor`\n",
    "\n",
    "\n",
    "    Cada vez que se crea un nuevo objeto Mascota, `.init()` establece el estado inicial del objeto asignando los valores de las propiedades del objeto. Es decir, `.init()` inicializa cada nueva instancia de la clase.\n",
    "\n",
    "    Los atributos creados en el `__init__` son llamados atributos de instancia (*instance atributes*)\n",
    "    \n",
    "\n",
    "- 3️⃣ Instanciar un objeto, es decir, crear un nuevo objeto de la clase Mascota.\n",
    "\n",
    "- 4️⃣ Creamos diferentes métodos, es decir, las propiedades que le vamos a dar a cada uno de nuestros objetos.\n"
   ]
  },
  {
   "cell_type": "code",
   "execution_count": 3,
   "metadata": {},
   "outputs": [],
   "source": [
    "# 2️⃣ Debemos pensar en que propiedades (lo que serán los atributos que definan a una mascota en concreto) estamos interesados. Todos las propiedades o atributos en los que estamos interesados deben estar definidos en un método llamado `constructor`\n",
    "\n",
    "class Mascota:\n",
    "\n",
    "    # podemos entender el constructor como los parámetros de las funciones. Es decir, ¿qué parámetros van a ser los que determinen las carácteristicas de nuestra mascota?\n",
    "    def __init__(self, animal, edad, raza):\n",
    "\n",
    "        # lo primero que querremos definir es que tipo de animal es. \n",
    "        self.animal = animal\n",
    "\n",
    "        # qué edad tiene\n",
    "        self.edad = edad\n",
    "\n",
    "        # y cuál es su raza\n",
    "        self.raza = raza\n",
    "\n",
    "        # al igual que en las funciones podíamos utilizar parámetros por defecto, en el caso de las clases también lo podemos hacer, como lo hacemos en la siguiente línea de código. \n",
    "        self.hogar = 'domicilio'\n",
    "\n",
    "\n",
    "        "
   ]
  },
  {
   "cell_type": "code",
   "execution_count": 4,
   "metadata": {},
   "outputs": [],
   "source": [
    "# 3️⃣ Instanciar un objeto, es decir, crear un nuevo objeto de la clase Mascota.\n",
    "# volvemos a llamar a nuestra clase. Para eso, al igual que en las funciones, lo que tenemos que hacer es llamar a nuestra clase y entre paréntesis indicar los parámetros, es decir, las variables que pusimos en el constructor. \n",
    "# en este caso, nuestra mascota será un gato\n",
    "\n",
    "felix = Mascota('gato', 1, \"gato común\")"
   ]
  },
  {
   "cell_type": "code",
   "execution_count": 5,
   "metadata": {},
   "outputs": [
    {
     "data": {
      "text/plain": [
       "<__main__.Mascota at 0x2b2e0ae66e0>"
      ]
     },
     "execution_count": 5,
     "metadata": {},
     "output_type": "execute_result"
    }
   ],
   "source": [
    "# llamamos a la función y nos devuelve el \"identificador\" de la función. \n",
    "felix"
   ]
  },
  {
   "cell_type": "markdown",
   "metadata": {},
   "source": [
    "En este punto nos podemos estar preguntando, como podemos acceder a los distintos atributos que hemos definido para nuestra mascota. Para eso tendremos que: \n",
    "\n",
    "```python\n",
    " nombre_clase.nombre_atributo\n",
    "\n",
    "# en nuestro caso, almacenamos la clase en la variable \"felix\". Si quisieramos acceder a que tipo de animal es, escribiremos felix.animal ya que así definimos ese atributo en nuestra clase\n",
    "\n",
    "felix.animal # nos devolverá que tipo de animal es nuestra mascota\n",
    "```"
   ]
  },
  {
   "cell_type": "code",
   "execution_count": 6,
   "metadata": {},
   "outputs": [
    {
     "data": {
      "text/plain": [
       "'gato'"
      ]
     },
     "execution_count": 6,
     "metadata": {},
     "output_type": "execute_result"
    }
   ],
   "source": [
    "# ¿Qué tipo de animal es nuestra mascota? \n",
    "\n",
    "felix.animal"
   ]
  },
  {
   "cell_type": "code",
   "execution_count": 7,
   "metadata": {},
   "outputs": [
    {
     "data": {
      "text/plain": [
       "'domicilio'"
      ]
     },
     "execution_count": 7,
     "metadata": {},
     "output_type": "execute_result"
    }
   ],
   "source": [
    "# ¿Cuál es el hogar de nuestra mascota? \n",
    "felix.hogar"
   ]
  },
  {
   "cell_type": "code",
   "execution_count": 8,
   "metadata": {},
   "outputs": [
    {
     "data": {
      "text/plain": [
       "'gato común'"
      ]
     },
     "execution_count": 8,
     "metadata": {},
     "output_type": "execute_result"
    }
   ],
   "source": [
    "# ¿qué raza es? \n",
    "\n",
    "felix.raza"
   ]
  },
  {
   "cell_type": "code",
   "execution_count": 9,
   "metadata": {},
   "outputs": [
    {
     "data": {
      "text/plain": [
       "1"
      ]
     },
     "execution_count": 9,
     "metadata": {},
     "output_type": "execute_result"
    }
   ],
   "source": [
    "# y ¿qué edad tiene?\n",
    "\n",
    "felix.edad"
   ]
  },
  {
   "cell_type": "markdown",
   "metadata": {},
   "source": [
    "Otra duda que nos puede surgir es ... Una vez creada la clase e instanciado el objeto, ¿podemos cambiar los valores que definimos en la clase sin tener que volver a definirla? Y la respuesta es SI!!! Lo haremos de una forma similar a como lo hacíamos en listas o diccionarios. Veamos un ejemplo: "
   ]
  },
  {
   "cell_type": "code",
   "execution_count": 10,
   "metadata": {},
   "outputs": [],
   "source": [
    "# a nuestro gato le pusimos que tenía un año de eddad, pero nos hemos equivocado, y en realidad tiene 2. Para cambiarlo tendremos que hacer 👇🏽\n",
    "\n",
    "felix.edad = 2"
   ]
  },
  {
   "cell_type": "code",
   "execution_count": 11,
   "metadata": {},
   "outputs": [
    {
     "data": {
      "text/plain": [
       "2"
      ]
     },
     "execution_count": 11,
     "metadata": {},
     "output_type": "execute_result"
    }
   ],
   "source": [
    "# si ahora vemos la edad de nuestro gato\n",
    "\n",
    "felix.edad"
   ]
  },
  {
   "cell_type": "markdown",
   "metadata": {},
   "source": [
    "Voilà! Ya hemos cambiado la edad de nuestro gato 🥳. "
   ]
  },
  {
   "cell_type": "markdown",
   "metadata": {},
   "source": [
    "Genial, ya hemos definido nuestra primera clase, establecido algunos argumentos y creado nuestra primera instancia de la clase (`felix`)\n",
    "\n",
    "- ✔️ 1️⃣ Creamos nuestra clase, que llamaremos Mascota.\n",
    "\n",
    "- ✔️ 2️⃣ Debemos pensar en que propiedades (lo que serán los atributos que definan a una mascota en concreto) estamos interesados. Todos las propiedades o atributos en los que estamos interesados deben estar definidos en un método llamado `constructor`\n",
    "\n",
    "\n",
    "    Cada vez que se crea un nuevo objeto Mascota, `.init()` establece el estado inicial del objeto asignando los valores de las propiedades del objeto. Es decir, `.init()` inicializa cada nueva instancia de la clase.\n",
    "\n",
    "    Los atributos creados en el `__init__` son llamados atributos de instancia (*instance atributes*)\n",
    "    \n",
    "\n",
    "-  ✔️ 3️⃣ Instanciar un objeto, es decir, crear un nuevo objeto de la clase Mascota.\n",
    "\n",
    "- 4️⃣ Creamos diferentes métodos, es decir, las propiedades que le vamos a dar a cada uno de nuestros objetos.\n",
    "\n",
    "\n",
    "El siguiente paso es definir distintos métodos en nuestra clase. El primero que definiremos será el de cumpleaños de nuestra mascota. \n"
   ]
  },
  {
   "cell_type": "code",
   "execution_count": 3,
   "metadata": {},
   "outputs": [],
   "source": [
    "# 4️⃣ definimos nuestro primer método\n",
    "\n",
    "class Mascota:\n",
    "\n",
    "    # podemos entender el constructor como los parámetros de las funciones. Es decir, ¿qué parámetros van a ser los que determinen las carácteristicas de nuestra mascota?\n",
    "    def __init__(self, animal, edad, raza):\n",
    "\n",
    "        # lo primero que querremos definir es que tipo de animal es. \n",
    "        self.animal = animal\n",
    "\n",
    "        # qué edad tiene\n",
    "        self.edad = edad\n",
    "\n",
    "        # y cuál es su raza\n",
    "        self.raza = raza\n",
    "\n",
    "        # al igual que en las funciones podíamos utilizar parámetros por defecto, en el caso de las clases también lo podemos hacer, como lo hacemos en la siguiente línea de código. \n",
    "        self.hogar = 'domicilio'\n",
    "\n",
    "    # definimos nuestro primer método\n",
    "    def cumple(self):\n",
    "        self.edad += 1\n",
    "        return f'la edad de nuestra mascota es de {self.edad}'\n",
    "\n",
    "    # definimos el segundo método. En este caso intentaremos clasificar a las mascotas en función de su edad. \n",
    "    def rango_edad(self):\n",
    "        if self.edad < 2:\n",
    "            return 'junior'\n",
    "        elif self.edad > 10:\n",
    "            return 'senior'\n",
    "        else:\n",
    "            return 'adulto'\n",
    "\n",
    "    # el último método que definiremos será el de la vacunación. \n",
    "    def vacunas(self, numero_vacunas):\n",
    "\n",
    "        self.numero_vacunas = numero_vacunas\n",
    "        \n",
    "        if self.animal == \"gato\":\n",
    "            if numero_vacunas < 3:\n",
    "                return \"deberías ponerle todas las vacunas\"\n",
    "            else:\n",
    "                return \"Tu gatito esta seguro\"\n",
    "\n",
    "        elif self.animal == \"perro\":\n",
    "            if numero_vacunas < 5:\n",
    "                return \"deberías ponerle todas las vacunas\"\n",
    "            else:\n",
    "                return \"tu perrete esta seguro\"\n",
    "\n",
    "        elif self.animal == \"pez\":\n",
    "            return \"Tu mascota no necesita vacunas\"\n",
    "            \n",
    "        else:\n",
    "            return \"todavía no sabemos cuantas vacunas necesita tu mascota\"\n",
    "\n"
   ]
  },
  {
   "cell_type": "markdown",
   "metadata": {},
   "source": [
    "Viendo el código anterior vemos varias cosas. \n",
    "\n",
    "- En cada método que hemos definido hemos incluido la palabra clave `self`, ¿por qué?. Lo primero que tenemos que hacer, es fijarnos que usamos el `.self` en aquellas variables que habíamos definido en el método constructor, en el `.__init__`. Esto nos servirá para poder usar los atributos definidos al inicio de nuestra clase, en cada uno de los métodos que definamos. \n",
    "\n",
    "- En los métodos podemos escribir lo que queramos. Al final podemos entenderlos como las funciones. Lo único, se deben cumplir las reglas de Python, pero podremos poner lo que queramos!\n",
    "\n",
    "- En los métodos podremos definir también variables propias de ese método, como en el caso del método para vacunas. "
   ]
  },
  {
   "cell_type": "code",
   "execution_count": 4,
   "metadata": {},
   "outputs": [],
   "source": [
    "# como hicimos cambios en la clase, la tenemos que volver a llamar\n",
    "felix = Mascota('gato', 1, \"gato común\")\n"
   ]
  },
  {
   "cell_type": "code",
   "execution_count": 5,
   "metadata": {},
   "outputs": [
    {
     "data": {
      "text/plain": [
       "'la edad de nuestra mascota es de 2'"
      ]
     },
     "execution_count": 5,
     "metadata": {},
     "output_type": "execute_result"
    }
   ],
   "source": [
    "# ha llegado el momento del cumpleaños de nuestra mascota, asi que tenemos que sumarle un año. Para eso usamos el método que usamos para sumarle un año. ¿Cómo lo hacemos? llamamos a nuestra clase (en nuestro caso felix) seguido del nombre del método con paréntesis. \n",
    "felix.cumple()"
   ]
  },
  {
   "cell_type": "code",
   "execution_count": 6,
   "metadata": {},
   "outputs": [
    {
     "data": {
      "text/plain": [
       "2"
      ]
     },
     "execution_count": 6,
     "metadata": {},
     "output_type": "execute_result"
    }
   ],
   "source": [
    "# si chequearamos ahora la edad de nuestra mascota, debería salir 2. Comprobemoslo!\n",
    "\n",
    "felix.edad"
   ]
  },
  {
   "cell_type": "markdown",
   "metadata": {},
   "source": [
    "Perfecto! Se ha cambiado la edad de nuestro gato. Y ¿qué pasa con el método de vacunas? Recordemos que este método recibía un parámetro, por lo tanto lo tendremos que especificar cuando llamemos al método. Esto lo haremos especificándolo entre paréntesis 👇🏽"
   ]
  },
  {
   "cell_type": "code",
   "execution_count": 7,
   "metadata": {},
   "outputs": [
    {
     "data": {
      "text/plain": [
       "'deberías ponerle todas las vacunas'"
      ]
     },
     "execution_count": 7,
     "metadata": {},
     "output_type": "execute_result"
    }
   ],
   "source": [
    "# en nuestro caso nuestro gato tiene dos vacunas\n",
    "felix.vacunas(2)"
   ]
  },
  {
   "cell_type": "code",
   "execution_count": 8,
   "metadata": {},
   "outputs": [
    {
     "data": {
      "text/plain": [
       "2"
      ]
     },
     "execution_count": 8,
     "metadata": {},
     "output_type": "execute_result"
    }
   ],
   "source": [
    "# al igual que en los atributos definidos en el método constructor, para saber el número de vacunas tendremos que hacer: \n",
    "\n",
    "felix.numero_vacunas"
   ]
  },
  {
   "cell_type": "code",
   "execution_count": 9,
   "metadata": {},
   "outputs": [
    {
     "data": {
      "text/plain": [
       "'adulto'"
      ]
     },
     "execution_count": 9,
     "metadata": {},
     "output_type": "execute_result"
    }
   ],
   "source": [
    "# y en que rango de edad esta nuestra mascota?  Como este método no recibe ningún parámetro propio, no tendremos que pasarle nada entre paréntesis. \n",
    "\n",
    "felix.rango_edad()"
   ]
  },
  {
   "cell_type": "markdown",
   "metadata": {},
   "source": [
    "Y con esto ya hemos definido nuestra primera clase!!! 🥳\n",
    "\n",
    "- ✔️ 1️⃣ Creamos nuestra clase, que llamaremos Mascota.\n",
    "\n",
    "- ✔️ 2️⃣ Debemos pensar en que propiedades (lo que serán los atributos que definan a una mascota en concreto) estamos interesados. Todos las propiedades o atributos en los que estamos interesados deben estar definidos en un método llamado `constructor`\n",
    "\n",
    "\n",
    "    Cada vez que se crea un nuevo objeto Mascota, `.init()` establece el estado inicial del objeto asignando los valores de las propiedades del objeto. Es decir, `.init()` inicializa cada nueva instancia de la clase.\n",
    "\n",
    "    Los atributos creados en el `__init__` son llamados atributos de instancia (*instance atributes*)\n",
    "    \n",
    "\n",
    "-  ✔️ 3️⃣ Instanciar un objeto, es decir, crear un nuevo objeto de la clase Mascota.\n",
    "\n",
    "- ✔️ 4️⃣ Creamos diferentes métodos, es decir, las propiedades que le vamos a dar a cada uno de nuestros objetos."
   ]
  },
  {
   "cell_type": "markdown",
   "metadata": {},
   "source": [
    "Instanciemos ahora otra mascota, en este caso será un pez. Pero antes de seguir, la clase la hemos definido arriba, y podríamos pensar si hay alguna forma de ver cuales son los atributos de nuestra clase sin necesidad de subir hasta el punto donde definimos la función. De nuevo la respuesta es si! Veamos como:\n"
   ]
  },
  {
   "cell_type": "code",
   "execution_count": 10,
   "metadata": {},
   "outputs": [
    {
     "data": {
      "text/plain": [
       "{'animal': 'gato',\n",
       " 'edad': 2,\n",
       " 'raza': 'gato común',\n",
       " 'hogar': 'domicilio',\n",
       " 'numero_vacunas': 2}"
      ]
     },
     "execution_count": 10,
     "metadata": {},
     "output_type": "execute_result"
    }
   ],
   "source": [
    "felix.__dict__\n"
   ]
  },
  {
   "cell_type": "markdown",
   "metadata": {},
   "source": [
    "Con esto ya se que si quiero definir una nueva instancia tendré que pasarle todos esos argumentos. "
   ]
  },
  {
   "cell_type": "code",
   "execution_count": 11,
   "metadata": {},
   "outputs": [],
   "source": [
    "pez = Mascota(\"pez\", 6, \"pez payaso\")"
   ]
  },
  {
   "cell_type": "markdown",
   "metadata": {},
   "source": [
    "Inspeccionemos ahora nuestra instancia:"
   ]
  },
  {
   "cell_type": "markdown",
   "metadata": {},
   "source": [
    "**Veamos algunos de sus métodos** "
   ]
  },
  {
   "cell_type": "code",
   "execution_count": 12,
   "metadata": {},
   "outputs": [
    {
     "data": {
      "text/plain": [
       "'adulto'"
      ]
     },
     "execution_count": 12,
     "metadata": {},
     "output_type": "execute_result"
    }
   ],
   "source": [
    "# ¿ a qué rango de edad pertenece nuestra mascota? \n",
    "\n",
    "pez.rango_edad()"
   ]
  },
  {
   "cell_type": "code",
   "execution_count": 13,
   "metadata": {},
   "outputs": [
    {
     "data": {
      "text/plain": [
       "'Tu mascota no necesita vacunas'"
      ]
     },
     "execution_count": 13,
     "metadata": {},
     "output_type": "execute_result"
    }
   ],
   "source": [
    "# y que pasa con las vacunas? \n",
    "\n",
    "pez.vacunas(0)"
   ]
  },
  {
   "cell_type": "markdown",
   "metadata": {},
   "source": [
    "**Veamos sus atributos**"
   ]
  },
  {
   "cell_type": "code",
   "execution_count": 14,
   "metadata": {},
   "outputs": [
    {
     "data": {
      "text/plain": [
       "6"
      ]
     },
     "execution_count": 14,
     "metadata": {},
     "output_type": "execute_result"
    }
   ],
   "source": [
    "# ¿qué edad tiene nuestro pez?\n",
    "\n",
    "pez.edad"
   ]
  },
  {
   "cell_type": "code",
   "execution_count": 15,
   "metadata": {},
   "outputs": [
    {
     "data": {
      "text/plain": [
       "'pez payaso'"
      ]
     },
     "execution_count": 15,
     "metadata": {},
     "output_type": "execute_result"
    }
   ],
   "source": [
    "# ¿A qué raza perteneze? \n",
    "\n",
    "pez.raza"
   ]
  },
  {
   "cell_type": "markdown",
   "metadata": {},
   "source": [
    "Repasemos\n",
    "- ✅ 1️⃣ Creamos nuestra clase, que llamaremos Macota.\n",
    "\n",
    "- ✅ 2️⃣ Debemos pensar en que propiedades (lo que serán los atributos que definan a un empleado en concreto) estamos interesados de nuestros empleados. Todos las propiedades o atributos en los que estamos interesados deben estar definidos en un método llamado constructor que se iniciará de la siguiente forma:\n",
    "\n",
    "    `.__init__` Cada vez que se crea un nuevo objeto Empleados, .init() establece el estado inicial del objeto asignando los valores de las propiedades del objeto. Es decir, .init() inicializa cada nueva instancia de la clase.\n",
    "\n",
    "    Los atributos creados en el __init__ son llamados atributos de instancia (instance atributes)\n",
    "\n",
    "- ✅ 3️⃣ Instanciar un objeto, es decir, crear un nuevo objeto de la clase Mascota. En conclusión, crear una mascota en concreto. \n",
    "\n",
    "✅ 4️⃣ Creamos diferentes métodos, es decir, las propiedades que le vamos a dar a cada uno de nuestros objetos\n",
    "\n",
    "💪🥳 Resumiendo... ENHORABUENA! HABEÍS CREADO VUESTRA PRIMERA CLASE 💪🥳\n",
    "\n",
    "- Hemos creado una clase que se llama Mascota\n",
    "\n",
    "- Hemos definido algunos atributos que caracterizan a nuestras mascotas:\n",
    "{'animal': 'gato', 'edad': 1, 'raza': 'gato común', 'hogar': 'domicilio'}\n",
    "\n",
    "    - animal\n",
    "    - edad\n",
    "    - raza\n",
    "    - hogar\n",
    "- Hemos creado algunas instancias u objetos:\n",
    "\n",
    "    - felix\n",
    "    - pez\n",
    "\n",
    "- Hemos definido algunos métodos:\n",
    "\n",
    "    - cumple\n",
    "    - rango_edades\n",
    "    - vacunas "
   ]
  },
  {
   "cell_type": "markdown",
   "metadata": {},
   "source": [
    "# Herencias de las clases\n",
    "\n",
    "Las herencias nos van a permitir crear nuevas clases a partir de clases que ya hemos definido previamente.\n",
    "\n",
    "- Clase que hereda --> CLASE HIJA, SUBCLASE o CHILD\n",
    "\n",
    "- Clase de la que hereda --> CLASE MADRE, SUPERCLASE o PARENT\n",
    "\n",
    "Las clases hijas pueden modificar los atributos y métodos de las clases madre o crear nuevos. En otras palabras, las clases hijas heredan todos los atributos y métodos de las clases padre, pero también pueden tener atributos y métodos que son exclusivos de ellas mismas.\n",
    "\n",
    "La ventaja principal... nos ayuda a reutilizar código"
   ]
  },
  {
   "cell_type": "code",
   "execution_count": 26,
   "metadata": {},
   "outputs": [],
   "source": [
    "# recordemos como era nuestra clase\n",
    "\n",
    "class Mascota:\n",
    "\n",
    "    def __init__(self, animal, edad, raza):\n",
    "\n",
    "        self.animal = animal\n",
    "\n",
    "        self.edad = edad\n",
    "\n",
    "        self.raza = raza\n",
    "\n",
    "        self.hogar = 'domicilio'\n",
    "\n",
    "    def cumple(self):\n",
    "        self.edad += 1\n",
    "        return f'la edad de nuestra mascota es de {self.edad}'\n",
    "\n",
    "    def rango_edad(self):\n",
    "        if self.edad < 2:\n",
    "            return 'junior'\n",
    "        elif self.edad > 10:\n",
    "            return 'senior'\n",
    "        else:\n",
    "            return 'adulto'\n",
    "\n",
    "    def vacunas(self, numero_vacunas):\n",
    "\n",
    "        self.numero_vacunas = numero_vacunas\n",
    "        \n",
    "        if self.animal == \"gato\":\n",
    "            if numero_vacunas < 3:\n",
    "                return \"deberías ponerle todas las vacunas\"\n",
    "            else:\n",
    "                return \"Tu gatito esta seguro\"\n",
    "\n",
    "        elif self.animal == \"perro\":\n",
    "            if numero_vacunas < 5:\n",
    "                return \"deberías ponerle todas las vacunas\"\n",
    "            else:\n",
    "                return \"tu perrete esta seguro\"\n",
    "\n",
    "        elif self.animal == \"pez\":\n",
    "            return \"Tu mascota no necesita vacunas\"\n",
    "            \n",
    "        else:\n",
    "            return \"todavía no sabemos cuantas vacunas necesita tu mascota\"\n",
    "\n"
   ]
  },
  {
   "cell_type": "markdown",
   "metadata": {},
   "source": [
    "Para indicar que una Clase hereda de otra lo que hacemos es:\n",
    "\n",
    "```python\n",
    "class NUEVA_CLASE(CLASE DE LA QUE HEREDA):\n",
    "    # pasan cosas que vamos a ver ahora\n",
    "``` "
   ]
  },
  {
   "cell_type": "code",
   "execution_count": 16,
   "metadata": {},
   "outputs": [],
   "source": [
    "# creamos una nueva clase que hereda de Mascota\n",
    "class Perros (Mascota):\n",
    "    pass"
   ]
  },
  {
   "cell_type": "code",
   "execution_count": 17,
   "metadata": {},
   "outputs": [
    {
     "ename": "TypeError",
     "evalue": "Mascota.__init__() missing 3 required positional arguments: 'animal', 'edad', and 'raza'",
     "output_type": "error",
     "traceback": [
      "\u001b[0;31m---------------------------------------------------------------------------\u001b[0m",
      "\u001b[0;31mTypeError\u001b[0m                                 Traceback (most recent call last)",
      "Cell \u001b[0;32mIn[17], line 2\u001b[0m\n\u001b[1;32m      1\u001b[0m \u001b[38;5;66;03m# llamemos ahora a nuestra clase hija\u001b[39;00m\n\u001b[0;32m----> 2\u001b[0m perro \u001b[38;5;241m=\u001b[39m Perros()\n",
      "\u001b[0;31mTypeError\u001b[0m: Mascota.__init__() missing 3 required positional arguments: 'animal', 'edad', and 'raza'"
     ]
    }
   ],
   "source": [
    "# llamemos ahora a nuestra clase hija\n",
    "perro = Perros()"
   ]
  },
  {
   "cell_type": "markdown",
   "metadata": {},
   "source": [
    "Ups... nos ha dado error. Pero esto.. ¿por qué? Si nos fijamos el error nos dice: `TypeError: Mascota.__init__() missing 3 required positional arguments: 'animal', 'edad', and 'raza'`. Como es una clase que hereda de otra clase que tiene argumentos, cuando llamemos a la clase hija los tendremos que pasar igualmente. "
   ]
  },
  {
   "cell_type": "code",
   "execution_count": 18,
   "metadata": {},
   "outputs": [],
   "source": [
    "perro = Perros(\"perro\", 15, \"coli\")"
   ]
  },
  {
   "cell_type": "markdown",
   "metadata": {},
   "source": [
    "**Si vemos ahora algunos de sus atributos**"
   ]
  },
  {
   "cell_type": "code",
   "execution_count": 19,
   "metadata": {},
   "outputs": [
    {
     "data": {
      "text/plain": [
       "'coli'"
      ]
     },
     "execution_count": 19,
     "metadata": {},
     "output_type": "execute_result"
    }
   ],
   "source": [
    "perro.raza"
   ]
  },
  {
   "cell_type": "code",
   "execution_count": 20,
   "metadata": {},
   "outputs": [
    {
     "data": {
      "text/plain": [
       "15"
      ]
     },
     "execution_count": 20,
     "metadata": {},
     "output_type": "execute_result"
    }
   ],
   "source": [
    "perro.edad"
   ]
  },
  {
   "cell_type": "code",
   "execution_count": 21,
   "metadata": {},
   "outputs": [
    {
     "data": {
      "text/plain": [
       "'perro'"
      ]
     },
     "execution_count": 21,
     "metadata": {},
     "output_type": "execute_result"
    }
   ],
   "source": [
    "perro.animal"
   ]
  },
  {
   "cell_type": "markdown",
   "metadata": {},
   "source": [
    "**También podremos llamar a los métodos definidos en la clase Mascota()**"
   ]
  },
  {
   "cell_type": "code",
   "execution_count": 22,
   "metadata": {},
   "outputs": [
    {
     "data": {
      "text/plain": [
       "'senior'"
      ]
     },
     "execution_count": 22,
     "metadata": {},
     "output_type": "execute_result"
    }
   ],
   "source": [
    "perro.rango_edad()"
   ]
  },
  {
   "cell_type": "code",
   "execution_count": 23,
   "metadata": {},
   "outputs": [
    {
     "data": {
      "text/plain": [
       "'tu perrete esta seguro'"
      ]
     },
     "execution_count": 23,
     "metadata": {},
     "output_type": "execute_result"
    }
   ],
   "source": [
    "perro.vacunas(7)"
   ]
  },
  {
   "cell_type": "code",
   "execution_count": 24,
   "metadata": {},
   "outputs": [
    {
     "data": {
      "text/plain": [
       "True"
      ]
     },
     "execution_count": 24,
     "metadata": {},
     "output_type": "execute_result"
    }
   ],
   "source": [
    "# con el método isinstance podemos saber si un objeto es herencia de una superclase\n",
    "\n",
    "isinstance(perro, Mascota)"
   ]
  },
  {
   "cell_type": "markdown",
   "metadata": {},
   "source": [
    "Es el momento de ampliar nuestra clase hija, es decir, vamos a crear métodos que no estaban en la clase madre. En este caso, crearemos un nuevo nuevo que se llama `pasear`. En este punto tendremos que hacer dos cosas: \n",
    "\n",
    "- 1️⃣ Crear el constructor (`.__init__`) que en este caso es un poco diferente, ya que inlcuiremos la palabra clave `super()` para indicar que atributos de la clase madre heredamos. En este caso, los herederemos todos. La sintaxis la tenéis en la siguiente celda. \n",
    "\n",
    "- 2️⃣ Crear el nuevo método, lo haremos de la misma forma que lo hicimos en la clase madre. "
   ]
  },
  {
   "cell_type": "code",
   "execution_count": 29,
   "metadata": {},
   "outputs": [],
   "source": [
    "class Perros(Mascota):\n",
    "\n",
    "    # creamos el constructor con el super()\n",
    "    def __init__(self, animal, edad, raza):\n",
    "        super().__init__(animal, edad, raza)\n",
    "\n",
    "    # creamos el nuevo método al que llamaremos pasear\n",
    "\n",
    "    def pasear(self, optimo_paseos = 5): \n",
    "\n",
    "        num_paseos = int(input(\"Cuántos paseos le das a tu perro?\"))\n",
    "        print(f\"Sacas {num_paseos} veces a tu perrete\")\n",
    "\n",
    "        if num_paseos < optimo_paseos:\n",
    "            return \"Saca al perrete!!!!\"\n",
    "        else:\n",
    "            return \"Que bien! Tu perrete sale mucho a la calle a correr! 🙂\"\n",
    " \n",
    "\n",
    "\n",
    "    "
   ]
  },
  {
   "cell_type": "code",
   "execution_count": 30,
   "metadata": {},
   "outputs": [],
   "source": [
    "# como hemos cambiado la clase hija, volvemos a crear la instancia\n",
    "\n",
    "perro = Perros(\"perro\", 15, \"coli\")"
   ]
  },
  {
   "cell_type": "code",
   "execution_count": 31,
   "metadata": {},
   "outputs": [
    {
     "name": "stdout",
     "output_type": "stream",
     "text": [
      "Sacas 2 veces a tu perrete\n"
     ]
    },
    {
     "data": {
      "text/plain": [
       "'Saca al perrete!!!!'"
      ]
     },
     "execution_count": 31,
     "metadata": {},
     "output_type": "execute_result"
    }
   ],
   "source": [
    "# llamemos ahora al nuevo método que hemos creado\n",
    "perro.pasear()"
   ]
  },
  {
   "cell_type": "markdown",
   "metadata": {},
   "source": [
    "**Información que nos puede resultar interesante**\n",
    "\n",
    "Si queremos ver toda la información sobre una clase podremos: "
   ]
  },
  {
   "cell_type": "code",
   "execution_count": 32,
   "metadata": {},
   "outputs": [
    {
     "name": "stdout",
     "output_type": "stream",
     "text": [
      "Help on class Perros in module __main__:\n",
      "\n",
      "class Perros(Mascota)\n",
      " |  Perros(animal, edad, raza)\n",
      " |  \n",
      " |  Method resolution order:\n",
      " |      Perros\n",
      " |      Mascota\n",
      " |      builtins.object\n",
      " |  \n",
      " |  Methods defined here:\n",
      " |  \n",
      " |  __init__(self, animal, edad, raza)\n",
      " |      Initialize self.  See help(type(self)) for accurate signature.\n",
      " |  \n",
      " |  pasear(self, optimo_paseos=5)\n",
      " |  \n",
      " |  ----------------------------------------------------------------------\n",
      " |  Methods inherited from Mascota:\n",
      " |  \n",
      " |  cumple(self)\n",
      " |      # definimos nuestro primer método\n",
      " |  \n",
      " |  rango_edad(self)\n",
      " |      # definimos el segundo método. En este caso intentaremos clasificar a las mascotas en función de su edad.\n",
      " |  \n",
      " |  vacunas(self, numero_vacunas)\n",
      " |      # el último método que definiremos será el de la vacunación.\n",
      " |  \n",
      " |  ----------------------------------------------------------------------\n",
      " |  Data descriptors inherited from Mascota:\n",
      " |  \n",
      " |  __dict__\n",
      " |      dictionary for instance variables\n",
      " |  \n",
      " |  __weakref__\n",
      " |      list of weak references to the object\n",
      "\n",
      "None\n"
     ]
    }
   ],
   "source": [
    "# ver la info de la clase\n",
    "print(help(Perros))"
   ]
  },
  {
   "cell_type": "code",
   "execution_count": 33,
   "metadata": {},
   "outputs": [
    {
     "name": "stdout",
     "output_type": "stream",
     "text": [
      "Help on class Mascota in module __main__:\n",
      "\n",
      "class Mascota(builtins.object)\n",
      " |  Mascota(animal, edad, raza)\n",
      " |  \n",
      " |  Methods defined here:\n",
      " |  \n",
      " |  __init__(self, animal, edad, raza)\n",
      " |      Initialize self.  See help(type(self)) for accurate signature.\n",
      " |  \n",
      " |  cumple(self)\n",
      " |      # definimos nuestro primer método\n",
      " |  \n",
      " |  rango_edad(self)\n",
      " |      # definimos el segundo método. En este caso intentaremos clasificar a las mascotas en función de su edad.\n",
      " |  \n",
      " |  vacunas(self, numero_vacunas)\n",
      " |      # el último método que definiremos será el de la vacunación.\n",
      " |  \n",
      " |  ----------------------------------------------------------------------\n",
      " |  Data descriptors defined here:\n",
      " |  \n",
      " |  __dict__\n",
      " |      dictionary for instance variables\n",
      " |  \n",
      " |  __weakref__\n",
      " |      list of weak references to the object\n",
      "\n",
      "None\n"
     ]
    }
   ],
   "source": [
    "print(help(Mascota))"
   ]
  },
  {
   "cell_type": "markdown",
   "metadata": {},
   "source": [
    "**Repaso**\n",
    "\n",
    "- Podemos crear clases que hereden de una clase madre usando la siguiente sintaxis:\n",
    "\n",
    "        \n",
    "    ```python\n",
    "    class NUEVA_CLASE(CLASE DE LA QUE HEREDA):\n",
    "        # pasan cosas que vamos a ver ahora\n",
    "    ``` \n",
    "\n",
    "- Tendremos que usar la palabra clave `super()` para indicar que atributos queremos heredar de la clase madre.\n",
    "\n",
    "- La clase hija mantendrá todos los métodos de la clase madre.\n",
    "\n",
    "- Podremos definir todos los métodos nuevos que queramos en la clase hija."
   ]
  },
  {
   "cell_type": "markdown",
   "metadata": {},
   "source": [
    "------------------------\n",
    "\n",
    "# Ejercicios \n",
    "\n",
    "Crea una clase llamada `Vehiculo` que representa un vehículo genérico. Esta clase tiene la capacidad de realizar acciones relacionadas con el vehículo, como encenderlo, apagarlo, acelerar, frenar y detenerlo gradualmente. Cada método en la clase tiene una descripción específica de su función. A continuación, se detallan los aspectos clave de esta clase:\n",
    "\n",
    "- **Atributos:**\n",
    "\n",
    "    - `marca`: Una cadena que representa la marca del vehículo.\n",
    "\n",
    "    - `modelo`: Una cadena que representa el modelo del vehículo.\n",
    "\n",
    "    - `año`: Un número entero que representa el año de fabricación del vehículo.\n",
    "\n",
    "    - `velocidad_actual`: Un número entero que representa la velocidad actual del vehículo en km/h.\n",
    "\n",
    "    - `encendido`: Un valor booleano que indica si el vehículo está encendido (`True`) o apagado (`False`).\n",
    "\n",
    "- **Métodos:**\n",
    "\n",
    "    -  `__init__(self, marca, modelo, año)`: El constructor de la clase que inicializa los atributos del vehículo, incluyendo la marca, el modelo, el año, la velocidad actual (inicialmente 0) y el estado del encendido (inicialmente apagado).\n",
    "\n",
    "    - `informacion(self)`: Un método que devuelve una cadena de texto con la información básica del vehículo, incluyendo la marca, el modelo y el año.\n",
    "\n",
    "    - `encender(self)`: Un método que enciende el vehículo si está apagado y devuelve un mensaje de confirmación. Si el vehículo ya está encendido, devuelve un mensaje indicando que ya está en funcionamiento.\n",
    "\n",
    "    - `apagar(self)`: Un método que apaga el vehículo si está encendido, establece la velocidad actual en 0 y devuelve un mensaje de confirmación. Si el vehículo ya está apagado, devuelve un mensaje indicando que ya está apagado.\n",
    "\n",
    "    - `acelerar(self, velocidad)`: Un método que aumenta la velocidad actual del vehículo según la cantidad de velocidad proporcionada como argumento. Si el vehículo está encendido, aumenta la velocidad y devuelve un mensaje con la nueva velocidad actual. Si el vehículo está apagado, devuelve un mensaje indicando que no se puede acelerar.\n",
    "\n",
    "    - `frenar(self, velocidad)`: Un método que reduce la velocidad actual del vehículo según la cantidad de velocidad proporcionada como argumento. Si el vehículo está encendido, reduce la velocidad y devuelve un mensaje con la nueva velocidad actual. Si el vehículo está apagado, devuelve un mensaje indicando que no se puede frenar.\n",
    "\n",
    "    - `detener(self)`: Un método que detiene gradualmente el vehículo reduciendo la velocidad en incrementos de 5 km/h hasta que alcance una velocidad de 0 km/h. Si el vehículo está encendido, detiene el vehículo y devuelve un mensaje de confirmación. Si el vehículo está apagado, devuelve un mensaje indicando que no se puede detener.\n",
    "\n",
    "\n",
    "Crea la subclase Coche que hereda de la clase base Vehiculo y representa un coche específico. Además de los atributos y métodos heredados, la clase Coche tiene un atributo adicional:\n",
    "\n",
    "\n",
    "- **Atributos:**\n",
    "    - combustible: Una cadena que representa el tipo de combustible que utiliza el coche.\n",
    "\n",
    "- **Métodos:**\n",
    "\n",
    "    - `__init__(self, marca, modelo, año, combustible)`: Constructor que inicializa los atributos de la clase base y el atributo específico del coche.\n",
    "    \n",
    "    - `informacion(self)`: Devuelve una cadena con la información del coche, incluyendo la marca, el modelo, el año y el tipo de combustible.\n",
    "\n"
   ]
  },
  {
   "cell_type": "code",
   "execution_count": 15,
   "metadata": {},
   "outputs": [
    {
     "name": "stdout",
     "output_type": "stream",
     "text": [
      "La información básica del vehículo es: ('Mercedes', 'M 600', 2019)\n",
      "El vehículo está encendido.\n",
      "El vehículo ha acelerado a 50 km/h\n",
      "El vehículo ha reducido su velocidad a 30 km/h\n",
      "Vehículo detenido.\n",
      "El vehículo está apagado.\n"
     ]
    }
   ],
   "source": [
    "class Vehiculo:\n",
    "\n",
    "    def __init__(self, marca, modelo, año):\n",
    "        \n",
    "        self.marca = marca\n",
    "        self.modelo = modelo\n",
    "        self.año = año\n",
    "        self.velocidad_actual = 0\n",
    "        self.encendido = False\n",
    "\n",
    "    def informacion_vehiculo(self):\n",
    "        return f'La información básica del vehículo es: {self.marca, self.modelo, self.año}'\n",
    " \n",
    "    def encender_vehiculo(self):\n",
    "        if not self.encendido:\n",
    "            self.encendido = True\n",
    "            return f'El vehículo está encendido.'\n",
    "        return f'Ya está encendido.'\n",
    "    \n",
    "    def apagar_vehiculo(self):\n",
    "        if self.encendido:\n",
    "            self.encendido = False\n",
    "            self.velocidad_actual = 0\n",
    "            return f'El vehículo está apagado.'\n",
    "        return f'Ya estaba apagado.'\n",
    "    \n",
    "    def acelerar_vehiculo(self, velocidad):\n",
    "        if self.encendido:\n",
    "            self.velocidad_actual += velocidad\n",
    "            return f'El vehículo ha acelerado a {self.velocidad_actual} km/h'\n",
    "        return f'No se puede acelerar. Vehículo apagado.'\n",
    "    \n",
    "    #+=: operador de incremento.\n",
    "    # Añade el valor de velocidad a self.velocidad_actual.\n",
    "    \n",
    "    def frenar_vehiculo(self, velocidad):\n",
    "        if self.encendido:\n",
    "            self.velocidad_actual = max(0, self.velocidad_actual - velocidad)\n",
    "            return f'El vehículo ha reducido su velocidad a {self.velocidad_actual} km/h'\n",
    "        return f'No se puede frenar. Vehículo apagado.'\n",
    "    \n",
    "    #max(0, ...): Asegura que la velocidad actual no caiga por debajo de 0.\n",
    "    #No existe velocidad por debajo de 0.\n",
    "    \n",
    "    def detener_vehiculo(self):\n",
    "        if self.encendido:\n",
    "            while self.velocidad_actual > 0:\n",
    "                self.velocidad_actual -= 5\n",
    "                if self.velocidad_actual < 0:\n",
    "                    self.velocidad_actual = 0\n",
    "            return 'Vehículo detenido.'\n",
    "        return 'No se puede detener, el vehículo está apagado.'\n",
    "    \n",
    "    #otra opción:  if self.encendido:\n",
    "    #                 while self.velocidad_actual > 0:\n",
    "    #                       self.velocidad_actual = max(0, self_velocidad_actual - 5)\n",
    "    #                   return 'Vehículo detenido.'\n",
    "    #               return 'No se puede detener, el vehículo está apagado.'\n",
    "\n",
    "    #otra opción: llamamos el método 'frenar':\n",
    "    #               if self.encendido:\n",
    "    #                 while self.velocidad_actual > 0:\n",
    "    #                       self.velocidad_actual = max(0, self_velocidad_actual - 5)\n",
    "    #                       self.frenar(5)\n",
    "    #               return 'No se puede detener, el vehículo está apagado.'\n",
    "\n",
    "\n",
    "    \n",
    "vehiculo_instancia = Vehiculo('Mercedes', 'M 600', 2019)\n",
    "\n",
    "print(vehiculo_instancia.informacion_vehiculo())\n",
    "print(vehiculo_instancia.encender_vehiculo())\n",
    "print(vehiculo_instancia.acelerar_vehiculo(50))\n",
    "print(vehiculo_instancia.frenar_vehiculo(20))\n",
    "print(vehiculo_instancia.detener_vehiculo())\n",
    "print(vehiculo_instancia.apagar_vehiculo())"
   ]
  },
  {
   "cell_type": "code",
   "execution_count": 11,
   "metadata": {},
   "outputs": [
    {
     "name": "stdout",
     "output_type": "stream",
     "text": [
      "La información básica del vehículo es ('Mercedes', 'M 600', 2019, 'Gasoil')\n"
     ]
    }
   ],
   "source": [
    "class Coche(Vehiculo):\n",
    "    \n",
    "    def __init__(self, marca, modelo, año, combustible):\n",
    "        super().__init__(marca, modelo, año)\n",
    "        self.combustible = combustible\n",
    "\n",
    "    def informacion_coche(self):\n",
    "         return f'La información básica del vehículo es {self.marca, self.modelo, self.año, self.combustible}'\n",
    "\n",
    "#me costó un poco sacar el return\n",
    "\n",
    "coche_info = Coche('Mercedes', 'M 600', 2019, 'Gasoil')\n",
    "\n",
    "print(coche_info.informacion_coche())"
   ]
  }
 ],
 "metadata": {
  "kernelspec": {
   "display_name": "Python 3 (ipykernel)",
   "language": "python",
   "name": "python3"
  },
  "language_info": {
   "codemirror_mode": {
    "name": "ipython",
    "version": 3
   },
   "file_extension": ".py",
   "mimetype": "text/x-python",
   "name": "python",
   "nbconvert_exporter": "python",
   "pygments_lexer": "ipython3",
   "version": "3.11.7"
  },
  "toc": {
   "base_numbering": 1,
   "nav_menu": {},
   "number_sections": true,
   "sideBar": true,
   "skip_h1_title": false,
   "title_cell": "Table of Contents",
   "title_sidebar": "Contents",
   "toc_cell": true,
   "toc_position": {},
   "toc_section_display": true,
   "toc_window_display": true
  },
  "vscode": {
   "interpreter": {
    "hash": "31f2aee4e71d21fbe5cf8b01ff0e069b9275f58929596ceb00d14d90e3e16cd6"
   }
  }
 },
 "nbformat": 4,
 "nbformat_minor": 2
}
