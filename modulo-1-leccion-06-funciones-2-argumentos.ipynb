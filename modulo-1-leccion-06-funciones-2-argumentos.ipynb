{
 "cells": [
  {
   "cell_type": "markdown",
   "metadata": {
    "toc": true
   },
   "source": [
    "<h1>Table of Contents<span class=\"tocSkip\"></span></h1>\n",
    "<div class=\"toc\"><ul class=\"toc-item\"><li><span><a href=\"#Parámetros-por-defecto\" data-toc-modified-id=\"Parámetros-por-defecto-1\"><span class=\"toc-item-num\">1&nbsp;&nbsp;</span>Parámetros por defecto</a></span></li><li><span><a href=\"#args-y-kwargs\" data-toc-modified-id=\"args-y-kwargs-2\"><span class=\"toc-item-num\">2&nbsp;&nbsp;</span><em>args</em> y <em>kwargs</em></a></span><ul class=\"toc-item\"><li><span><a href=\"#args\" data-toc-modified-id=\"args-2.1\"><span class=\"toc-item-num\">2.1&nbsp;&nbsp;</span><em>args</em></a></span></li><li><span><a href=\"#kwargs\" data-toc-modified-id=\"kwargs-2.2\"><span class=\"toc-item-num\">2.2&nbsp;&nbsp;</span><em>kwargs</em></a></span></li></ul></li><li><span><a href=\"#Recursividad\" data-toc-modified-id=\"Recursividad-3\"><span class=\"toc-item-num\">3&nbsp;&nbsp;</span>Recursividad</a></span></li><li><span><a href=\"#Ejercicios\" data-toc-modified-id=\"Ejercicios-4\"><span class=\"toc-item-num\">4&nbsp;&nbsp;</span>Ejercicios</a></span></li></ul></div>"
   ]
  },
  {
   "cell_type": "markdown",
   "metadata": {},
   "source": [
    "# Parámetros por defecto\n",
    "\n",
    "En Python, los parámetros por defecto son valores que se asignan a los argumentos de una función en caso de que no se les proporcione un valor específico al llamar a la función. Estos valores por defecto se establecen durante la definición de la función, y permiten que la función sea llamada con menos argumentos si es necesario.\n",
    "\n",
    "Cuando se utiliza un parámetro por defecto, si no se proporciona un valor para ese argumento al llamar a la función, Python asignará automáticamente el valor predeterminado especificado en la definición de la función. Esto brinda flexibilidad al permitir que los usuarios de la función omitan argumentos opcionales si no los necesitan, utilizando los valores por defecto establecidos..\n",
    "\n",
    "La sintaxis para definir un parámetro por defecto es la siguiente:\n",
    "\n",
    "```python\n",
    "def mi_funcion(parametro1, parametro2=valor_por_defecto):\n",
    "    # cuerpo de la función\n",
    "```\n",
    "\n",
    "En este ejemplo, parametro1 es un parámetro obligatorio que se debe proporcionar al llamar a la función, mientras que parametro2 tiene un valor por defecto default_valor que se utilizará si no se proporciona ningún valor para parametro2.\n",
    "\n",
    "Es importante tener en cuenta que los parámetros por defecto deben ser definidos al final de la lista de parámetros de una función. Es decir, los parámetros obligatorios deben ir primero, y los parámetros por defecto deben ir después.\n",
    "\n",
    "La utilización de parámetros por defecto en funciones puede hacer que el código sea más conciso y fácil de entender, especialmente cuando se trabaja con funciones que tienen muchos parámetros opcionales. Además, los parámetros por defecto también pueden ahorrar tiempo al llamar a una función, ya que no es necesario proporcionar valores para cada parámetro si se desea utilizar los valores por defecto.\n",
    "\n",
    "Imaginemos que queremos hacer una función de saludo. La función recibirá dos parámetros:\n",
    "\n",
    "- El nombre de la persona a la que queremos saludar.\n",
    "\n",
    "- El saludo de buenos días, que será igual siempre (este será nuestro parámetro por defecto)."
   ]
  },
  {
   "cell_type": "code",
   "execution_count": 5,
   "metadata": {},
   "outputs": [
    {
     "name": "stdout",
     "output_type": "stream",
     "text": [
      "nuestra función de saludo devuelve: Hola Alicia, buenos dias 🙂\n"
     ]
    }
   ],
   "source": [
    "# definimos la función. En este caso recibirá dos parámetros como indicamos previamente\n",
    "# Nuestro parámetro por defecto es \"saludo\", el cual será igual a \"buenos dias 🙂\". \n",
    "def buenos_dias (nombre, saludo = \"buenos dias 🙂\"):\n",
    "    frase = f'Hola {nombre}, {saludo}'\n",
    "    return frase\n",
    "\n",
    "# llamammos a la función, y le pasaremos solo un argumento, el del nombre. Si nos fijamos, no le estamos pasando el argumento que tenemos por defecto. \n",
    "saludo1 = buenos_dias(\"Alicia\")\n",
    "print(\"nuestra función de saludo devuelve:\", saludo1)"
   ]
  },
  {
   "cell_type": "markdown",
   "metadata": {},
   "source": [
    "Si nos fijamos en lo que nos devuelve la función, vemos que, nos devuelve un saludo para Alicia, seguido de un buenos dias, que es nuestro parámetro por defecto. "
   ]
  },
  {
   "cell_type": "code",
   "execution_count": 4,
   "metadata": {},
   "outputs": [
    {
     "name": "stdout",
     "output_type": "stream",
     "text": [
      "nuestra función de saludo devuelve: Hola Maria buenos dias 🙂\n"
     ]
    }
   ],
   "source": [
    "# si ahora quisieramos saludar a María lo único que tendríamos que hacer es cambiar el valor de \"Alicia\" a \"Maria\", veamos como hacerlo:\n",
    "saludo2 = buenos_dias(\"Maria\")\n",
    "print(\"nuestra función de saludo devuelve:\", saludo2)"
   ]
  },
  {
   "cell_type": "markdown",
   "metadata": {},
   "source": [
    "En el este caso vemos que, la única diferencia con el anterior (saludo1), es el nombre, mientras que el parámetro por defecto ( \"buenos dias 🙂\") se mantiene constante. Pero... ¿se puede cambiar este parámetro por defecto? La respuesta es si! Veamos como hacerlo: "
   ]
  },
  {
   "cell_type": "code",
   "execution_count": 7,
   "metadata": {},
   "outputs": [
    {
     "name": "stdout",
     "output_type": "stream",
     "text": [
      "nuestra función de saludo devuelve: Hola Lorena, hoy me he levantado con un poco de sueño 😒\n"
     ]
    }
   ],
   "source": [
    "saludo3 = buenos_dias(\"Lorena\", saludo = \"hoy me he levantado con un poco de sueño 😒\")\n",
    "print(\"nuestra función de saludo devuelve:\", saludo3)"
   ]
  },
  {
   "cell_type": "markdown",
   "metadata": {},
   "source": [
    "Si nos fijamos ahora, lo que nos devuelve la función ha cambiado un poco, y es que hemos cambiado nuestro parámetro por defecto \"buenos dias 🙂\" por \"hoy me he levantado con un poco de sueño\". Veamos otro ejemplo, imaginemos ahora que queremos crear una calculadora, esta función recibirá: \n",
    "\n",
    "- Un parámetro que será un número.\n",
    "- Un parámetro que será otro número.\n",
    "- Un tercer parámetro, que será nuestro parámetro por defecto que estableceremos en \"multiplicación\"."
   ]
  },
  {
   "cell_type": "code",
   "execution_count": 15,
   "metadata": {},
   "outputs": [
    {
     "name": "stdout",
     "output_type": "stream",
     "text": [
      "El resultado de la primera operación es: 6\n",
      "\n",
      "El resultado de la segunda operación es: 5\n",
      "\n",
      "El resultado de la tercera operación es: -1\n"
     ]
    }
   ],
   "source": [
    "def calculadora(num1,num2, operacion = \"multiplicacion\"):\n",
    "    if operacion == \"multiplicacion\":\n",
    "        return num1 * num2\n",
    "    elif operacion == \"suma\":\n",
    "        return num1 + num2\n",
    "    elif operacion == \"resta\":\n",
    "        return num1 -num2\n",
    "    else:\n",
    "        return num1/num2\n",
    "    \n",
    "# llamamos a la función con el parámetro por defecto y almacenamos los resultados en una variable llamada \"resultado\"\n",
    "resultado = calculadora(2,3)\n",
    "print(\"El resultado de la primera operación es:\", resultado)\n",
    "\n",
    "# cambiemos el parámetro por defecto a suma y almacenemos los resultados en otra variable llamada \"resultado2\"\n",
    "resultado2 = calculadora(2,3,operacion=\"suma\")\n",
    "print(\"\\nEl resultado de la segunda operación es:\", resultado2)\n",
    "\n",
    "\n",
    "# cy ahora lo haremos con una resta\n",
    "resultado3 = calculadora(2,3,operacion=\"resta\")\n",
    "print(\"\\nEl resultado de la tercera operación es:\", resultado3)\n"
   ]
  },
  {
   "cell_type": "markdown",
   "metadata": {},
   "source": [
    "Como dijimos al inicio de las clases de funciones, el orden importa. En el caso de que queramos definir parámetros por defecto, estos deben ir **siempre al final**. En caso de que no lo hagamos así nos devolverá un error. Por ejemplo, si en la función de `calculadora` pusieramos el parámetro por defecto \"operacion\" al inicio o entre medias de los otros dos parámetros nos dará un error, como podemos observar en la siguiente celda."
   ]
  },
  {
   "cell_type": "code",
   "execution_count": 1,
   "metadata": {},
   "outputs": [
    {
     "ename": "SyntaxError",
     "evalue": "non-default argument follows default argument (1763461347.py, line 1)",
     "output_type": "error",
     "traceback": [
      "\u001b[0;36m  Cell \u001b[0;32mIn[1], line 1\u001b[0;36m\u001b[0m\n\u001b[0;31m    def calculadora(operacion = \"multiplicacion\", num1,num2 ):\u001b[0m\n\u001b[0m                                                  ^\u001b[0m\n\u001b[0;31mSyntaxError\u001b[0m\u001b[0;31m:\u001b[0m non-default argument follows default argument\n"
     ]
    }
   ],
   "source": [
    "def calculadora(operacion = \"multiplicacion\", num1,num2 ):\n",
    "    if operacion == \"multiplicacion\":\n",
    "        return num1 * num2\n",
    "    elif operacion == \"suma\":\n",
    "        return num1 + num2\n",
    "    elif operacion == \"resta\":\n",
    "        return num1 -num2\n",
    "    else:\n",
    "        return num1/num2"
   ]
  },
  {
   "cell_type": "markdown",
   "metadata": {},
   "source": [
    "Si nos fijamos el error nos dice lo siguiente `SyntaxError: non-default argument follows default argument`, lo que nos esta diciendo es que los parámetros que NO son por defecto deben ir antes que los parámetros por defecto! Es importante saber que, podemos definir todos los parámetros por defecto que queramos, veámoslo con un ejemplo. En esta nueva función, `calcular_precio()`, el parámetro producto es obligatorio y debe ser proporcionado al llamar a la función. Sin embargo, los parámetros cantidad y descuento tienen valores por defecto de 1 y 0 respectivamente.\n",
    "\n",
    "- Si se llama a la función sin proporcionar los valores para cantidad y descuento, se utilizarán los valores por defecto. \n",
    "\n",
    "- De esta manera, la función ofrece la flexibilidad de ajustar los valores de cantidad y descuento según sea necesario, pero también proporciona valores por defecto para aquellos casos en los que no se proporcionen argumentos opcionales al llamar a la función."
   ]
  },
  {
   "cell_type": "code",
   "execution_count": 2,
   "metadata": {},
   "outputs": [
    {
     "name": "stdout",
     "output_type": "stream",
     "text": [
      "primer ejemplo\n",
      "Producto: camiseta\n",
      "Cantidad: 1\n",
      "Descuento: 0\n",
      "Total a pagar: $10\n",
      "--------------\n",
      "segundo ejemplo\n",
      "Producto: pantalones\n",
      "Cantidad: 2\n",
      "Descuento: 0\n",
      "Total a pagar: $20\n",
      "--------------\n",
      "segundo ejemplo\n",
      "Producto: pantalones\n",
      "Cantidad: 3\n",
      "Descuento: 0.1\n",
      "Total a pagar: $27.0\n",
      "--------------\n"
     ]
    }
   ],
   "source": [
    "def calcular_precio(producto, cantidad=1, descuento=0):\n",
    "    precio_unitario = 10  # Precio por unidad del producto\n",
    "    total = cantidad * precio_unitario * (1 - descuento)\n",
    "    print(f\"Producto: {producto}\")\n",
    "    print(f\"Cantidad: {cantidad}\")\n",
    "    print(f\"Descuento: {descuento}\")\n",
    "    print(f\"Total a pagar: ${total}\")\n",
    "    \n",
    "# en el primer ejemplo se ultilizan los valores por defecto\n",
    "print(\"primer ejemplo\")\n",
    "precio_final1 = calcular_precio(\"camiseta\")\n",
    "print(\"--------------\")\n",
    "\n",
    "# segundo ejemplo En el segundo ejemplo, se proporciona un valor específico para cantidad (2), pero se utiliza el valor por defecto para descuento. \n",
    "print(\"segundo ejemplo\")\n",
    "precio_final2 = calcular_precio(\"pantalones\", cantidad = 2)\n",
    "print(\"--------------\")\n",
    "\n",
    "# En el tercer ejemplo, se proporcionan valores específicos tanto para cantidad (3) como para descuento (0.1).\n",
    "print(\"segundo ejemplo\")\n",
    "precio_final2 = calcular_precio(\"pantalones\", cantidad = 3, descuento=0.1)\n",
    "print(\"--------------\")"
   ]
  },
  {
   "cell_type": "markdown",
   "metadata": {},
   "source": [
    "---"
   ]
  },
  {
   "cell_type": "markdown",
   "metadata": {},
   "source": [
    "# *args* y *kwargs* \n",
    "\n",
    "En Python, *args y **kwargs son convenciones de nomenclatura utilizadas para permitir una mayor flexibilidad al definir funciones con un número variable de argumentos.\n",
    "\n",
    "- `*args` se utiliza para pasar un número variable de argumentos posicionales a una función. La expresión *args desempaqueta los argumentos proporcionados y los pasa a la función como una tupla. Esto permite que la función maneje un número arbitrario de argumentos sin especificarlos individualmente al definir la función.\n",
    "\n",
    "- `**kwargs` se utiliza para pasar un número variable de argumentos clave-valor a una función. La expresión **kwargs desempaqueta los argumentos clave-valor proporcionados y los pasa a la función como un diccionario. Esto permite que la función maneje un conjunto flexible de argumentos con nombres y valores asociados.\n",
    "\n",
    "Veamos más en detalle estos nuevos conceptos que ahora nos puedes resultar un poco más ambiguos. "
   ]
  },
  {
   "cell_type": "markdown",
   "metadata": {},
   "source": [
    "## *args*\n",
    "\n",
    "En Python, *args es una sintaxis especial que se utiliza en la definición de funciones para permitir un número variable de argumentos posicionales. La expresión *args desempaqueta los argumentos posicionales pasados a la función y los recopila en una tupla. Esto permite que la función maneje un número arbitrario de argumentos sin tener que especificarlos individualmente al definir la función.\n",
    "\n",
    "Imaginemos que somos profesores y queremos calcular la media de las notas de  todas las alumnas de la clase, este año tenemos solo tres alumnas, por lo que la lógica nos dice que nuestra función debería recibir tres parámetros, donde cada uno de ellos corresponderá con la nota de una alumna. Escribamos la función: "
   ]
  },
  {
   "cell_type": "code",
   "execution_count": 3,
   "metadata": {},
   "outputs": [
    {
     "name": "stdout",
     "output_type": "stream",
     "text": [
      "la media de las notas de las alumnas es 7.0\n"
     ]
    }
   ],
   "source": [
    "# definimos una función que recibirá tres parámetros donde cada uno de ellos corresponderá a una alumna\n",
    "def media_clase1(alumna1,alumna2,alumna3):\n",
    "    return (alumna1 + alumna2 + alumna3) / 3\n",
    "\n",
    "# llamamos a la función y le pasamos las notas de las alumnas \n",
    "media1 = media_clase1(7, 9, 5)\n",
    "print(\"la media de las notas de las alumnas es\", media1)"
   ]
  },
  {
   "cell_type": "markdown",
   "metadata": {},
   "source": [
    "Esta función nos vale, si sabemos seguro que año tras año vamos a tener 3 alumnas, pero esta no es la realidad. Puede que para el siguiente curso tengamos menos o más alumnas, lo cuál haría que nuestra función ya no nos valiera. Es en estas situaciones, donde nos tenemos que plantear usar los *args*. Recordemos que, los usaremos cuando no estemos seguras de cuantos argumentos tenemos que pasar a la función; es decir, nos permite pasar una cantidad arbitraria de argumentos. \n",
    "\n",
    "> Para trabajar con *args*, cuando definamos la función este tendrá que ir acompañado siempre de un *. "
   ]
  },
  {
   "cell_type": "code",
   "execution_count": 4,
   "metadata": {},
   "outputs": [],
   "source": [
    "# definimos la función, pero en este caso le vamos a pasar unos *args. Para ello, recordemos tenemos que poner un *. \n",
    "def media_clase2 (*args):\n",
    "\n",
    "    # una vez dentro de la función, podremos hacer lo que queramos con estos args (recordad que son una tupla y podremos aplicar todos los métodos de tuplas que conocemos). En este caso, como será una tupla haremos la suma de sus valores y lo dividiremos por su len. \n",
    "    # De esta forma hemos conseguido hacer nuestra función universal para nos valga para cualquiera número de alumnas. \n",
    "    return sum(args) / len(args)"
   ]
  },
  {
   "cell_type": "code",
   "execution_count": 5,
   "metadata": {},
   "outputs": [
    {
     "data": {
      "text/plain": [
       "4.0"
      ]
     },
     "execution_count": 5,
     "metadata": {},
     "output_type": "execute_result"
    }
   ],
   "source": [
    "# como le hemos especificado que es un args, ahora ya le podremos pasar todos los argumentos que queramos a nuestra función. \n",
    "media2 = media_clase2(1,2,3,4,5,6,7)\n",
    "media2"
   ]
  },
  {
   "cell_type": "markdown",
   "metadata": {},
   "source": [
    "Este tipo de argumentos, se pueden combinar con parámetros normales como los que hemos estado viendo hasta ahora. Pero recordemos que el orden importa como siempre en las funciones. Cosas importantes cuando nos enfrentamos a este tipo de argumentos: \n",
    "\n",
    "- Los parámetros normales deben ir siempre primero, mientras que los parámetros por defecto irán después de los *args*. \n",
    "\n",
    "- Los parámetros por defecto deben ir siempre en último lugar. \n",
    "\n",
    "\n",
    "Veamos un ejemplo añadiendo un parámmetro por defecto a la función de media_clase2. En esta versión actualizada de la función media_clase2, se ha agregado un parámetro adicional llamado \"peso\", que tiene un valor predeterminado de 1. Este parámetro permite asignar un peso a cada calificación antes de calcular la media. "
   ]
  },
  {
   "cell_type": "code",
   "execution_count": 10,
   "metadata": {},
   "outputs": [
    {
     "name": "stdout",
     "output_type": "stream",
     "text": [
      "La nota media de las alumnas de la clase es (sin cambiar el valor por defecto): 7.5\n",
      "La nota media de las alumnas de la clase es (cambiando el valor por defecto): 6.0\n"
     ]
    }
   ],
   "source": [
    "def media_clase3(*args, peso=1):\n",
    "    \n",
    "    # calculamos la suma de todas las notas que le pasemos a la función\n",
    "    total = sum(args)\n",
    "    \n",
    "    # calculamos la media de las notas de todas las alumnas que tenemos en clase\n",
    "    media = total / len(args)\n",
    "    \n",
    "    # multiplicamos la media por el peso que hemos asignado. En este caso toma el valor de 1, ya que lo establecimos así en el parámetro por defecto. \n",
    "    media_con_peso = media * peso\n",
    "    \n",
    "    # nuestra función devuelve la media multiplicada por el peso. \n",
    "    return media_con_peso\n",
    "\n",
    "\n",
    "# Ejemplo 1: Calificaciones sin cambiar el valor del argumento peso, es decir, tomará su valor por defecto. \n",
    "media_sin_peso = media_clase3(7, 8, 9, 6, 7.5)\n",
    "print(\"La nota media de las alumnas de la clase es (sin cambiar el valor por defecto):\", media_sin_peso)  \n",
    "\n",
    "# Ejemplo 2: Calificaciones con peso\n",
    "media_con_peso = media_clase3(7, 8, 9, 6, 7.5, peso=0.8)\n",
    "print(\"La nota media de las alumnas de la clase es (cambiando el valor por defecto):\", media_con_peso)  # Resultado: 5.68\n",
    "\n"
   ]
  },
  {
   "cell_type": "markdown",
   "metadata": {},
   "source": [
    "## *kwargs* \n",
    "\n",
    "En Python, **kwargs** es una convención utilizada para referirse a los parámetros de palabras clave (keyword arguments) en una función. Permite pasar un número variable de argumentos como pares clave-valor a una función, a diferencia de los *args* que son tuplas. La palabra clave \"kwargs\" en sí misma es solo un nombre comúnmente utilizado, pero podéis elegir cualquier otro nombre válido para el parámetro.\n",
    "\n",
    "📌 **NOTA**: si recordamos en el caso de los *args* había que poner un * delante, en este caso habrá que poner `**`\n",
    "\n",
    "\n",
    "Este enfoque es útil cuando deseamos permitir que los usuarios de la función pasen un número variable de argumentos de palabras clave, lo que brinda flexibilidad y extensibilidad. Podemos acceder a los valores de los argumentos de palabras clave dentro de la función utilizando las claves correspondientes en el diccionario *kwargs*. Es importante destacar que el uso de *kwargs* es opcional y no es necesario en todas las funciones. Sin embargo, puede ser una herramienta útil cuando necesitas crear funciones más flexibles y genéricas que acepten múltiples argumentos de palabras clave.\n",
    "\n",
    "\n",
    "Hasta ahora, en nuestras funciones hemos estado calculando la media de todas las alumnas de la clase, pero puede que nos interese también calcular la media de cada alumna. "
   ]
  },
  {
   "cell_type": "code",
   "execution_count": 14,
   "metadata": {},
   "outputs": [],
   "source": [
    "# lo primero que hacemos es crear nuestro diccionario, donde las keys serán los nombres, los apellidos y notas. \n",
    "alumnas = { \"nombre\":[\"Lorena\", \"Laura\", \"Loreto\"], \n",
    "            \"apellidos\": [\"López\", \"Rodriguez\", \"Luengo\"], \n",
    "            \"notas\": [[7,8,5,10],[8,6,9,10], [6,7,7,10] ]}"
   ]
  },
  {
   "cell_type": "code",
   "execution_count": 15,
   "metadata": {},
   "outputs": [
    {
     "data": {
      "text/plain": [
       "['Lorena', 'Laura', 'Loreto']"
      ]
     },
     "execution_count": 15,
     "metadata": {},
     "output_type": "execute_result"
    }
   ],
   "source": [
    "# antes de empezar recordemos como acceder a cada elemento de nuestro diccionario. Imaginemos que queremos acceder al nombre de \"loreto\".\n",
    "# Empezamos llamando al diccionario y a la key que nos interesa, en este caso la de \"nombre\"\n",
    "\n",
    "alumnas[\"nombre\"]"
   ]
  },
  {
   "cell_type": "code",
   "execution_count": 16,
   "metadata": {},
   "outputs": [
    {
     "data": {
      "text/plain": [
       "'Loreto'"
      ]
     },
     "execution_count": 16,
     "metadata": {},
     "output_type": "execute_result"
    }
   ],
   "source": [
    "# el paso anterior nos devuelve una lista, si queremos acceder a \"loreto\", lo único que tenemos que hacer es acceder usando de la indexación de las listas\n",
    "alumnas[\"nombre\"][2]"
   ]
  },
  {
   "cell_type": "code",
   "execution_count": 19,
   "metadata": {},
   "outputs": [
    {
     "name": "stdout",
     "output_type": "stream",
     "text": [
      "La media de las notas de las alumnas es: \n",
      "las media de Lorena López de Data Analytics de  son: 7.5\n",
      "las media de Laura Rodriguez de Data Analytics de  son: 8.25\n",
      "las media de Loreto Luengo de Data Analytics de  son: 7.5\n"
     ]
    }
   ],
   "source": [
    "# iniciamos la función, la cual recibirá un parámetro por defecto y los kwargs, con los ** correspondientes\n",
    "# fijaos como el orden aquí sigue importando, e igual que en los args, los kwargs siempre irán al final. \n",
    "\n",
    "def notas_alumnas(bootcamp = \"Data Analytics\", **kwargs ):\n",
    "\n",
    "    # iniciamos un contador para ir iterando por cada elemento de diccionario\n",
    "    contador = 0\n",
    "\n",
    "    # usamos un while para determinar el número de veces que tenemos que iterar\n",
    "    while contador < len(kwargs): \n",
    "\n",
    "        # sacamos la media para cada una de las alumnas. Siguiendo la lógica de las celdas anteriores. Accederemos a la key sobre la que queremos calcular la media. Luego tendremos que indicar el índice del que queremos calcular la media. Para eso usaremos el contador. \n",
    "        media = sum(kwargs[\"notas\"][contador]) / len(kwargs[\"notas\"][contador])\n",
    "\n",
    "        # hacemos un print para saber que alumna es la que corresponde cada media calculada en el paso anterior\n",
    "        print(f'las media de {kwargs[\"nombre\"][contador]} {kwargs[\"apellidos\"][contador]} de {bootcamp} de  son: {media}')\n",
    "        \n",
    "       # sumamos 1 al contador para que en la siguiente iteración podamos acceder al elemento que esta en el indice 1, luego accederemos al elemento en posición 2, etc. \n",
    "        contador += 1\n",
    " \n",
    " \n",
    "## llamamos a la función:\n",
    "print(\"La media de las notas de las alumnas es: \")\n",
    "notas_alumnas(**alumnas)\n",
    "\n"
   ]
  },
  {
   "cell_type": "markdown",
   "metadata": {},
   "source": [
    "Este tipo de argumentos, se pueden combinar con parámetros normales como los que hemos estado viendo hasta ahora. Pero recordemos que el orden importa como siempre en las funciones. Cosas importantes cuando nos enfrentamos a este tipo de argumentos: \n",
    "\n",
    "- Los parámetros normales deben ir siempre primero. \n",
    "\n",
    "- Los *kwargs* deben ir antes de los *kwargs* "
   ]
  },
  {
   "cell_type": "markdown",
   "metadata": {},
   "source": [
    "Veamos otro ejemplo conn *kwargs*. Imaginemos ahora que estamos a final de mes y tenemos que ir a la compra. Sin embargo, no nos podemos permitir comprar nada cuyo valor sea mayor de 3 euros. Aquellos productos que podamos comprar, los apendearemos a una lista la cuál queremos que nos devuelva la función para saber que es lo que podemos comprar. "
   ]
  },
  {
   "cell_type": "code",
   "execution_count": null,
   "metadata": {},
   "outputs": [],
   "source": [
    "# lo primero que hacemos es definir un diccionario, donde tendremos nuestra lista y el precio unitario de cada uno de los productos que queremos comprar. \n",
    "\n",
    "diccionario = { \n",
    "              , \n",
    "              , \n",
    "              }"
   ]
  },
  {
   "cell_type": "code",
   "execution_count": 28,
   "metadata": {},
   "outputs": [],
   "source": [
    "def comprar_fin_mes (**kwargs):\n",
    "\n",
    "    print(kwargs)\n",
    "    # creamos nuestra lista vacía donde apendearemos los resultados que queremos\n",
    "    lista_compra = []\n",
    "\n",
    "    # empezamos iterando por el diccionario usando el método .items(), ya que los kwargs los unirá todos los parámetros en un diccionario\n",
    "    for k,v in kwargs.items():\n",
    "        # establecemos la condición. Si el valor de cada key es menor que 3\n",
    "        if v < 3:\n",
    "            # si se cumple la condicón lo añadimos a la lista vacía que hemos creado anteriormente\n",
    "            lista_compra.append(k)\n",
    "        \n",
    "        #en caso de que no se cumpla la condición\n",
    "        else:\n",
    "            # hacemos un print de los productos que no podemos comprar\n",
    "            print(f\"este mes no podremos comprar {k}\")\n",
    "\n",
    "    # por último, queremos que nuestra función nos devuelva la lista de la compra\n",
    "    return lista_compra"
   ]
  },
  {
   "cell_type": "code",
   "execution_count": 33,
   "metadata": {},
   "outputs": [
    {
     "name": "stdout",
     "output_type": "stream",
     "text": [
      "{'brocoli': 1.5, 'chorizo': 4.5, 'zanahoria': 1.3, 'jamon': 7.9}\n",
      "este mes no podremos comprar chorizo\n",
      "este mes no podremos comprar jamon\n",
      "Este mes podremos comprar: ['brocoli', 'zanahoria']\n",
      "------------------\n",
      "{'brocoli': 1.5, 'leche': 0.9, 'papel_higienico': 3.9, 'avellanas': 5.9}\n",
      "este mes no podremos comprar papel_higienico\n",
      "este mes no podremos comprar avellanas\n",
      "Este mes podremos comprar: ['brocoli', 'leche']\n"
     ]
    }
   ],
   "source": [
    "# llamamaos a la función y guardamos su return en una variable. \n",
    "# fijaos que en este caso le hemos pasado lor argumentos de una forma un poco diferente. Fijaos que lo que ha hecho Python es convertir cada par de argumentos pasados en un par de key-value de un diccionario\n",
    "que_comprar_enero = comprar_fin_mes(brocoli=  1.50, chorizo = 4.5, zanahoria = 1.30, jamon = 7.90)\n",
    "print(\"Este mes podremos comprar:\",  que_comprar_enero)\n",
    "\n",
    "print(\"------------------\")\n",
    "\n",
    "# mostremos otro ejemplo\n",
    "que_comprar_febrero = comprar_fin_mes(brocoli=  1.50, leche = 0.90, papel_higienico = 3.90, avellanas = 5.90 )\n",
    "print(\"Este mes podremos comprar:\",  que_comprar_febrero)"
   ]
  },
  {
   "cell_type": "markdown",
   "metadata": {},
   "source": [
    "**¿Qué ventaja tienen los *kwargs* frente a los *args*?**\n",
    "\n",
    "\n",
    "Como hemos visto, la principal diferencia entre args y kwargs radica en la forma en que los argumentos son pasados a una función y cómo se accede a ellos dentro de la función.\n",
    "\n",
    "- *args* permite pasar un número variable de argumentos posicionales a una función. Estos argumentos se recopilan en una tupla dentro de la función y se accede a ellos por su índice. Esto es útil cuando necesitas manejar una cantidad variable de valores sin necesidad de especificar sus nombres o claves.\n",
    "\n",
    "- *kwargs* permite pasar un número variable de argumentos de palabras clave a una función. Estos argumentos se recopilan en un diccionario dentro de la función y se accede a ellos por su clave. Esto es útil cuando necesitas manejar una cantidad variable de valores y quieres asignarles nombres o claves significativas para un mejor manejo y comprensión.\n",
    "\n",
    "Algunas ventajas de usar *kwargs* frente a *args*:\n",
    "\n",
    "- Claridad y legibilidad: Al utilizar *kwargs*, podemos pasar argumentos de palabras clave explícitos que proporcionan información clara sobre el propósito de cada argumento. Esto hace que el código sea más legible y comprensible, especialmente cuando se trabaja con funciones que tienen muchos argumentos.\n",
    "\n",
    "- Flexibilidad en la interfaz de la función: Al permitir argumentos de palabras clave, puedes extender la funcionalidad de una función sin necesidad de modificar su definición. Puedes agregar nuevos argumentos de palabras clave a medida que sea necesario sin afectar el código existente que llama a la función.\n",
    "\n",
    "- Evita errores de posición: Con *kwargs*, no tienes que preocuparte por el orden de los argumentos pasados a la función, ya que se accede a ellos por sus claves en lugar de sus posiciones. Esto ayuda a prevenir errores comunes cuando se invierten los argumentos posicionales.\n",
    "\n",
    "En resumen, el uso de *kwargs* frente a *args* brinda una mayor flexibilidad y claridad en la interfaz de la función al permitir el paso de argumentos de palabras clave y acceder a ellos por sus nombres significativos. Esto facilita la lectura, el mantenimiento y la extensión del código en el futuro. Sin embargo, la elección entre args y kwargs dependerá del contexto y los requisitos específicos de la función que estés implementando.\n",
    "\n",
    "\n",
    "\n",
    "**¿Cuando usaremos args y cuando args?**\n",
    "\n",
    "- args:\n",
    "\n",
    "    - Cuando deseas permitir un número variable de argumentos posicionales.\n",
    "\n",
    "    - Cuando no necesitas asignar nombres o claves específicas a los argumentos pasados.\n",
    "\n",
    "    - Cuando los argumentos se pueden tratar como una secuencia y el orden es importante.\n",
    "    \n",
    "    - Ejemplo: Si estás escribiendo una función que realiza cálculos matemáticos y quieres permitir que los usuarios pasen cualquier cantidad de números para realizar una operación, pero no necesitas asignar nombres a cada número, puedes utilizar args.\n",
    "\n",
    "- kwargs:\n",
    "\n",
    "    - Cuando deseas permitir un número variable de argumentos de palabras clave.\n",
    "\n",
    "    - Cuando necesitas asignar nombres o claves específicas a los argumentos pasados.\n",
    "\n",
    "    - Cuando los argumentos se pueden tratar como pares clave-valor y el orden no es relevante.\n",
    "\n",
    "    - Ejemplo: Si estás escribiendo una función que crea un perfil de usuario y deseas permitir que los usuarios proporcionen información adicional como nombre, edad, dirección, etc., utilizando argumentos con nombres descriptivos (nombre=\"John\", edad=25, direccion=\"Calle Principal\"), puedes utilizar kwargs.\n",
    "\n",
    "En general, *args* es útil cuando necesitas manejar una secuencia variable de argumentos sin asignar nombres específicos, mientras que kwargs es útil cuando necesitas manejar un diccionario de argumentos de palabras clave con nombres específicos y valores asociados.\n",
    "\n",
    "A veces, también es posible combinar *args* y *kwargs* en una misma función si necesitas flexibilidad tanto en los argumentos posicionales como en los de palabras clave.\n",
    "\n",
    "Es importante tener en cuenta el contexto y los requisitos específicos de tu función al decidir si usar *args*, *kwargs* o ambos, para garantizar una interfaz clara y comprensible para los usuarios de la función."
   ]
  },
  {
   "cell_type": "markdown",
   "metadata": {},
   "source": [
    "**Repaso**\n",
    "- Argumentos arbitrarios se especifican con `*` y son recogidos en una tupla o lista.\n",
    "\n",
    "- Argumentos arbitrarios no tienen límite en cuántos argumentos pueden recoger.\n",
    "\n",
    "- Argumentos arbitrarios clave se especifican con `**` y son recogidos en un diccionario.\n",
    "\n",
    "- Podemos combinar todos los tipos de argumentos."
   ]
  },
  {
   "cell_type": "markdown",
   "metadata": {},
   "source": [
    "**SI JUNTAMOS ARGS CON KWARGS**\n",
    "\n",
    "⚠️ El orden importa!!!! ⚠️\n",
    "\n",
    "```python\n",
    "def (*args, **kwargs):\n",
    "```\n",
    "\n",
    "En este caso trabajemos con la cantidad de cada una de las cosas que queremos comprar (que serán los *args*) de lascosas que tenemos que comprar (que serán los  *kwargs*). Al final, querremos saber lo que nos va a costar la compra basándonos en la cantidad y el precio de cada uno de los elementos. "
   ]
  },
  {
   "cell_type": "code",
   "execution_count": 38,
   "metadata": {},
   "outputs": [
    {
     "name": "stdout",
     "output_type": "stream",
     "text": [
      "el precio de brocoli es: 1.5\n",
      "cantidad alimento 2\n",
      "----------------------\n",
      "el precio de leche es: 0.9\n",
      "cantidad alimento 3\n",
      "----------------------\n",
      "La compra nos costará:  5.7\n"
     ]
    }
   ],
   "source": [
    "# iniciamos nuestra función\n",
    "def precio_total(*args, **kwargs):\n",
    "\n",
    "    # creamos una lista donde iremos añadiendo lo que tendremos que pagar por cada uno de los productos en función de la cantidad deseada\n",
    "    total = []\n",
    "\n",
    "    # iniciamos un contador para poder ir iternado por cada elemento de nuestra lista\n",
    "    count = 0\n",
    "\n",
    "    # empezamos a iterar por nuestro diccionario\n",
    "    for k, v in kwargs.items():\n",
    "\n",
    "        # printemos el precio de cada uno de los alimentos de nuestro diccionario\n",
    "        print(f\"el precio de {k} es: {kwargs[k]}\")\n",
    "\n",
    "        # printemos la cantidad de lo que queremos \n",
    "        print(\"cantidad alimento\", args[count])\n",
    "\n",
    "        print(\"----------------------\")\n",
    "\n",
    "        # añadimos a la lista vacía el precio de cada uno de los productos teniendo en cuenta la cantidad que queremos\n",
    "        total.append(kwargs[k] * args[count])\n",
    "\n",
    "        # sumamos uno a nuestro contador pora poder acceder al siguiente elemento de la lista\n",
    "        count += 1\n",
    "\n",
    "    # queremos que la función nos devuelva el total, la suma, de toda la compra\n",
    "    return sum(total)\n",
    "\n",
    "# llamamos a la función, recordemos, debemos poner * para los args y ** para los kwargs!!\n",
    "\n",
    "total_compra = total_compra = precio_total(2,3, brocoli=  1.50, leche = 0.90)\n",
    "print(\"La compra nos costará: \", total_compra)"
   ]
  },
  {
   "cell_type": "markdown",
   "metadata": {},
   "source": [
    "# Recursividad\n",
    "\n",
    "Una función recursiva es una función que se llama a sí misma durante su propia ejecución. Esto permite que la función se repita o resuelva un problema más pequeño dentro de sí misma hasta que se cumpla una condición de terminación.\n",
    "\n",
    "![recursividad](https://github.com/Adalab/data_imagenes/blob/main/Modulo-1/python/recursividad.png?raw=true). \n",
    "\n",
    "Para que una función recursiva funcione correctamente, debe tener dos componentes esenciales:\n",
    "\n",
    "- Caso base: Es la condición que indica cuándo la función debe dejar de llamarse a sí misma y finalizar la recursión.\n",
    "- Caso recursivo: Es el caso en el que la función se llama a sí misma para resolver un problema más pequeño y se acerca al caso base.\n",
    "\n",
    "Un ejemplo clásico de una función recursiva: una cuenta atrás."
   ]
  },
  {
   "cell_type": "code",
   "execution_count": 34,
   "metadata": {},
   "outputs": [
    {
     "name": "stdout",
     "output_type": "stream",
     "text": [
      "10\n",
      "9\n",
      "8\n",
      "7\n",
      "6\n",
      "5\n",
      "4\n",
      "3\n",
      "2\n",
      "1\n"
     ]
    }
   ],
   "source": [
    "# definimos la función, la cuál recibirá un parémtro, el número en el que queremo iniciar la cuenta atrás\n",
    "def cuenta_atras(inicio):\n",
    "\n",
    "    # printemos el número por el que que empezamos la cuenta atrás\n",
    "    print(inicio)\n",
    "\n",
    "    # definimos una nueva variable, que será el siguiente número que corresponde con el número de inicio menos 1\n",
    "    siguiente = inicio - 1\n",
    "\n",
    "    # establecemos la condición de que si el siguiente número es mayor que 0, sigamos ejecutando la cuenta atrás\n",
    "    if siguiente > 0:\n",
    "\n",
    "        # en caso de que se cumpla la condición, llamamos a la función de nuevo para que nos vuelva a restar 1 y siga la cuenta atrás. \n",
    "        cuenta_atras(siguiente)\n",
    "        \n",
    "# llamamaos a la función\n",
    "cuenta_atras(10)"
   ]
  },
  {
   "cell_type": "markdown",
   "metadata": {},
   "source": [
    "----------------------------\n",
    "# Ejercicios\n",
    "\n",
    "1. Crea una función que tome un número arbitrario de cadenas de texto como argumentos y devuelva una cadena de texto que sea la concatenación de todas ellas. \n",
    "\n",
    "2. Crea una función que tome un número arbitrario de argumentos y devuelva el producto de todos ellos.\n",
    "\n",
    "3. Crea una función que tome un número arbitrario de diccionarios como argumentos y devuelva el valor mínimo entre todos los valores de los diccionarios.\n",
    "\n",
    "4. Crea una función que tome un número arbitrario de listas y devuelva un diccionario donde las listas originales se combinan usando los índices como claves.\n",
    "\n",
    "5. Crea una función que tome el tipo de figura geométrica (por ejemplo, \"cuadrado\", \"triángulo\", \"círculo\") como argumento de palabra clave y los argumentos necesarios para calcular el área de esa figura. La función debe devolver el área calculada. Soluciona este ejercicio con *kwargs* Por ejemplo: \n",
    "\n",
    "    ```python\n",
    "    # esta función calcula el area de un cuadrado, para hacerlo solo necesitamos saber su lado  \n",
    "    area_figura(tipo=\"cuadrado\", lado=5)\n",
    "\n",
    "    # si quisieramos calcular la de un triángulo necesitaríamos su base y su altura, y si quisieramos calcular de un círculo necesitaríamos su radio. \n",
    "    ```\n",
    "\n",
    "6. Crea una función que tome argumentos de palabra clave para los ingredientes y pasos de una receta y devuelva una descripción completa de la receta. Resuelvelo con *kwargs*.  Esta función toma como entrada una serie de detalles sobre la receta, como el nombre de la receta, los ingredientes necesarios y los pasos para prepararla. Luego, la función genera y devuelve una descripción detallada de la receta en forma de cadena de texto. Los parámetros que debe recibir la función son:\n",
    "\n",
    "    - nombre_receta: Un argumento de palabra clave que representa el nombre de la receta.\n",
    "\n",
    "    - ingredientes: Un argumento de palabra clave que es un diccionario donde las claves son los nombres de los ingredientes y los valores son las cantidades necesarias de cada ingrediente.\n",
    "    \n",
    "    - pasos: Un argumento de palabra clave que contiene los pasos necesarios para preparar la receta en forma de una cadena de texto.\n",
    "\n",
    "    Al final tendremos que ver algo como esto: \n",
    "    ```python\n",
    "    '''\n",
    "    Receta: Pastel de Chocolate\n",
    "    Ingredientes:\n",
    "        - 200g de chocolate\n",
    "        - 150g de harina\n",
    "        - 100g de azúcar\n",
    "    Pasos:\n",
    "        1. Mezclar el chocolate con la harina.\n",
    "        2. Agregar el azúcar y mezclar bien.\n",
    "    '''\n",
    "    ```\n",
    "7. Crea una función que tome argumentos de palabra clave para los ingresos y gastos de una empresa y genere un informe financiero. Resyelvelo con *kwargs*. La función calcula y presenta un informe financiero simple. Este informe incluye detalles sobre los ingresos, los gastos y el balance de una entidad financiera, como una empresa o una persona. La función toma como entrada los ingresos y los gastos, y calcula el balance restando los gastos de los ingresos. Luego, genera una descripción del informe financiero en forma de cadena de texto. Los parámetros que recibe la función son: \n",
    "\n",
    "    - ingresos: Un argumento de palabra clave que representa la cantidad total de ingresos (dinero ganado) que se desea informar. Por defecto, se establece en 0 si no se proporciona ningún valor.\n",
    "\n",
    "    - gastos: Un argumento de palabra clave que representa la cantidad total de gastos (dinero gastado) que se desea informar. Por defecto, se establece en 0 si no se proporciona ningún valor.\n",
    "\n",
    "\n",
    "    Al final tendremos algo como esto:\n",
    "\n",
    "    ```python\n",
    "    '''\n",
    "    Ingresos: $50000\n",
    "    Gastos: $35000\n",
    "    Balance: $15000\n",
    "    '''\n",
    "    ```"
   ]
  },
  {
   "cell_type": "markdown",
   "metadata": {},
   "source": [
    "1. Crea una función que tome un número arbitrario de cadenas de texto como argumentos y devuelva una cadena de texto que sea la concatenación de todas ellas. \n",
    "\n"
   ]
  },
  {
   "cell_type": "code",
   "execution_count": 43,
   "metadata": {},
   "outputs": [
    {
     "name": "stdout",
     "output_type": "stream",
     "text": [
      "La concatenación de las cadenas de texto es: Hola, ¿cómo estás?\n"
     ]
    }
   ],
   "source": [
    "def concatena_cadenas(*args):\n",
    "    return ''.join(args)\n",
    "\n",
    "resultado_cadena = concatena_cadenas(\"Hola, \", \"¿cómo \", \"estás?\")\n",
    "\n",
    "print(f\"La concatenación de las cadenas de texto es:\", resultado_cadena)"
   ]
  },
  {
   "cell_type": "markdown",
   "metadata": {},
   "source": [
    "2. Crea una función que tome un número arbitrario de argumentos y devuelva el producto de todos ellos."
   ]
  },
  {
   "cell_type": "code",
   "execution_count": 53,
   "metadata": {},
   "outputs": [
    {
     "name": "stdout",
     "output_type": "stream",
     "text": [
      "El producto de todos ellos es: 60\n"
     ]
    }
   ],
   "source": [
    "def producto(*args):\n",
    "\n",
    "    resultado_total = 1\n",
    "    for numero_arbitrario in args:\n",
    "        resultado_total *= numero_arbitrario\n",
    "    return resultado_total\n",
    "\n",
    "resultado_producto = producto(5, 6, 2)\n",
    "\n",
    "print(f\"El producto de todos ellos es:\", resultado_producto)"
   ]
  },
  {
   "cell_type": "markdown",
   "metadata": {},
   "source": [
    "3. Crea una función que tome un número arbitrario de diccionarios como argumentos y devuelva el valor mínimo entre todos los valores de los diccionarios."
   ]
  },
  {
   "cell_type": "code",
   "execution_count": 41,
   "metadata": {},
   "outputs": [
    {
     "name": "stdout",
     "output_type": "stream",
     "text": [
      "El número más bajo del total de los diccionarios es: 3\n"
     ]
    }
   ],
   "source": [
    "def minimo_valores(*dicts):\n",
    "    dic_valores = []\n",
    "    for diccionario in dicts:\n",
    "        dic_valores.extend(diccionario.values())\n",
    "    return min(dic_valores)\n",
    "\n",
    "dic1 = {'a': 5, 'b': 10}\n",
    "dic2 = {'c': 3, 'd': 8}\n",
    "\n",
    "resultado_dic = minimo_valores(dic1, dic2)\n",
    "\n",
    "print(f\"El número más bajo del total de los diccionarios es:\", resultado_dic)"
   ]
  },
  {
   "cell_type": "markdown",
   "metadata": {},
   "source": [
    "4. Crea una función que tome un número arbitrario de listas y devuelva un diccionario donde las listas originales se combinan usando los índices como claves."
   ]
  },
  {
   "cell_type": "code",
   "execution_count": 54,
   "metadata": {},
   "outputs": [
    {
     "name": "stdout",
     "output_type": "stream",
     "text": [
      "{0: [1, 'a'], 1: [2, 'b'], 2: [3, 'c']}\n"
     ]
    }
   ],
   "source": [
    "def combinacion_listas(*listas):\n",
    "    listas_combinado = {}\n",
    "    for index_dic in range(len(listas[0])):\n",
    "        listas_combinado[index_dic] = [lista[index_dic] for lista in listas if index_dic < len(lista)]\n",
    "    return listas_combinado\n",
    "\n",
    "lista1 = [1, 2, 3]\n",
    "lista2 = ['a', 'b', 'c']\n",
    "resultado_dict = combinacion_listas(lista1, lista2)\n",
    "\n",
    "print(resultado_dict)"
   ]
  },
  {
   "cell_type": "markdown",
   "metadata": {},
   "source": [
    "5. Crea una función que tome el tipo de figura geométrica (por ejemplo, \"cuadrado\", \"triángulo\", \"círculo\") como argumento de palabra clave y los argumentos necesarios para calcular el área de esa figura. La función debe devolver el área calculada. Soluciona este ejercicio con *kwargs* Por ejemplo: \n",
    "\n",
    "    ```python\n",
    "    # esta función calcula el area de un cuadrado, para hacerlo solo necesitamos saber su lado  \n",
    "    area_figura(tipo=\"cuadrado\", lado=5)\n",
    "\n",
    "    # si quisieramos calcular la de un triángulo necesitaríamos su base y su altura, y si quisieramos calcular de un círculo necesitaríamos su radio. \n",
    "    ```"
   ]
  },
  {
   "cell_type": "code",
   "execution_count": 50,
   "metadata": {},
   "outputs": [
    {
     "name": "stdout",
     "output_type": "stream",
     "text": [
      "25\n",
      "63\n",
      "12.5664\n"
     ]
    }
   ],
   "source": [
    "def area_figura(**kwargs):\n",
    "    tipo_figura = kwargs.get(\"tipo\", \" \")\n",
    "\n",
    "    if tipo_figura == \"cuadrado\":\n",
    "        lado_figura = kwargs.get(\"lado_figura\", 0)\n",
    "        return lado_figura * lado_figura\n",
    "    elif tipo_figura == \"triángulo\":\n",
    "        base_figura = kwargs.get(\"base_figura\", 0)\n",
    "        altura_figura = kwargs.get(\"altura_figura\", 0)\n",
    "        return (base_figura * altura_figura)\n",
    "    elif tipo_figura == \"círculo\":\n",
    "        radio_figura =kwargs.get(\"radio_figura\", 0)\n",
    "        return 3.1416 * (radio_figura ** 2)\n",
    "    else:\n",
    "        return \"No se puede calcular.\"\n",
    "\n",
    "print(area_figura (tipo = \"cuadrado\", lado_figura = 5))\n",
    "print(area_figura (tipo = \"triángulo\", base_figura = 7, altura_figura = 9))\n",
    "print(area_figura (tipo = \"círculo\", radio_figura = 2))\n",
    "\n",
    "#Usar **kwargs en vez de args hace que el código sea más flexible y más fácil de entender."
   ]
  },
  {
   "cell_type": "markdown",
   "metadata": {},
   "source": [
    "6. Crea una función que tome argumentos de palabra clave para los ingredientes y pasos de una receta y devuelva una descripción completa de la receta. Resuelvelo con *kwargs*.  Esta función toma como entrada una serie de detalles sobre la receta, como el nombre de la receta, los ingredientes necesarios y los pasos para prepararla. Luego, la función genera y devuelve una descripción detallada de la receta en forma de cadena de texto. Los parámetros que debe recibir la función son:\n",
    "\n",
    "    - nombre_receta: Un argumento de palabra clave que representa el nombre de la receta.\n",
    "\n",
    "    - ingredientes: Un argumento de palabra clave que es un diccionario donde las claves son los nombres de los ingredientes y los valores son las cantidades necesarias de cada ingrediente.\n",
    "    \n",
    "    - pasos: Un argumento de palabra clave que contiene los pasos necesarios para preparar la receta en forma de una cadena de texto.\n",
    "\n",
    "    Al final tendremos que ver algo como esto: \n",
    "    ```python\n",
    "    '''\n",
    "    Receta: Pastel de Chocolate\n",
    "    Ingredientes:\n",
    "        - 200g de chocolate\n",
    "        - 150g de harina\n",
    "        - 100g de azúcar\n",
    "    Pasos:\n",
    "        1. Mezclar el chocolate con la harina.\n",
    "        2. Agregar el azúcar y mezclar bien.\n",
    "    '''\n",
    "    ```"
   ]
  },
  {
   "cell_type": "code",
   "execution_count": 56,
   "metadata": {},
   "outputs": [
    {
     "name": "stdout",
     "output_type": "stream",
     "text": [
      "Receta: Pastel de Chocolate\n",
      "Ingredientes\n",
      "Pasos:\n",
      "1. Mezclar el chocolate con la harina.\n",
      "2. Agregar el azúcar y mezclar bien.\n",
      "\n"
     ]
    }
   ],
   "source": [
    "def descripcion_receta(**kwargs):\n",
    "    nombre_receta = kwargs.get(\"nombre_receta\", \"Receta desconocida\")\n",
    "    ingredientes_receta = kwargs.get(\"ingredientes_receta\", {})\n",
    "    pasos_receta = kwargs.get(\"pasos_receta\", \" \")\n",
    "\n",
    "    descripcion_receta = f\"Receta: {nombre_receta}\\nIngredientes\\n\"\n",
    "    for ingrediente, cantidad in ingredientes_receta.items():\n",
    "        descripcion_receta += f\"  - {cantidad} de {ingredientes_receta}\"\n",
    "    descripcion_receta += f\"Pasos:\\n{pasos}\\n\"\n",
    "    return descripcion_receta\n",
    "\n",
    "ingredientes = {'chocolate': '200g', 'harina': '150g', 'azúcar': '100g'}\n",
    "pasos = \"1. Mezclar el chocolate con la harina.\\n2. Agregar el azúcar y mezclar bien.\"\n",
    "\n",
    "print(descripcion_receta(nombre_receta = \"Pastel de Chocolate\", ingredientes = ingredientes, pasos = pasos))"
   ]
  },
  {
   "cell_type": "markdown",
   "metadata": {},
   "source": [
    "7. Crea una función que tome argumentos de palabra clave para los ingresos y gastos de una empresa y genere un informe financiero. Resyelvelo con *kwargs*. La función calcula y presenta un informe financiero simple. Este informe incluye detalles sobre los ingresos, los gastos y el balance de una entidad financiera, como una empresa o una persona. La función toma como entrada los ingresos y los gastos, y calcula el balance restando los gastos de los ingresos. Luego, genera una descripción del informe financiero en forma de cadena de texto. Los parámetros que recibe la función son: \n",
    "\n",
    "    - ingresos: Un argumento de palabra clave que representa la cantidad total de ingresos (dinero ganado) que se desea informar. Por defecto, se establece en 0 si no se proporciona ningún valor.\n",
    "\n",
    "    - gastos: Un argumento de palabra clave que representa la cantidad total de gastos (dinero gastado) que se desea informar. Por defecto, se establece en 0 si no se proporciona ningún valor.\n",
    "\n",
    "\n",
    "    Al final tendremos algo como esto:\n",
    "\n",
    "    ```python\n",
    "    '''\n",
    "    Ingresos: $50000\n",
    "    Gastos: $35000\n",
    "    Balance: $15000\n",
    "    '''\n",
    "    ```"
   ]
  },
  {
   "cell_type": "code",
   "execution_count": 58,
   "metadata": {},
   "outputs": [
    {
     "ename": "SyntaxError",
     "evalue": "invalid syntax (204971192.py, line 6)",
     "output_type": "error",
     "traceback": [
      "\u001b[0;36m  Cell \u001b[0;32mIn[58], line 6\u001b[0;36m\u001b[0m\n\u001b[0;31m    Informe financiero:\u001b[0m\n\u001b[0m            ^\u001b[0m\n\u001b[0;31mSyntaxError\u001b[0m\u001b[0;31m:\u001b[0m invalid syntax\n"
     ]
    }
   ],
   "source": [
    "def informe_financiero(**kwargs):\n",
    "    ingresos = kwargs.get(ingresos, 0)\n",
    "    gastos = kwargs.get(gastos, 0)\n",
    "    balance = ingresos - gastos\n",
    ":\n",
    "\n",
    "\n",
    "\n",
    "print(f\"El balance del informe financiero de  es:\" )\n",
    "\n",
    "\n",
    "\n",
    "    \n",
    "\n"
   ]
  }
 ],
 "metadata": {
  "kernelspec": {
   "display_name": "Python 3 (ipykernel)",
   "language": "python",
   "name": "python3"
  },
  "language_info": {
   "codemirror_mode": {
    "name": "ipython",
    "version": 3
   },
   "file_extension": ".py",
   "mimetype": "text/x-python",
   "name": "python",
   "nbconvert_exporter": "python",
   "pygments_lexer": "ipython3",
   "version": "3.11.7"
  },
  "toc": {
   "base_numbering": 1,
   "nav_menu": {},
   "number_sections": true,
   "sideBar": true,
   "skip_h1_title": false,
   "title_cell": "Table of Contents",
   "title_sidebar": "Contents",
   "toc_cell": true,
   "toc_position": {},
   "toc_section_display": true,
   "toc_window_display": true
  },
  "vscode": {
   "interpreter": {
    "hash": "31f2aee4e71d21fbe5cf8b01ff0e069b9275f58929596ceb00d14d90e3e16cd6"
   }
  }
 },
 "nbformat": 4,
 "nbformat_minor": 2
}
